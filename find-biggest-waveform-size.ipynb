{
 "cells": [
  {
   "cell_type": "code",
   "execution_count": 1,
   "id": "8982801f",
   "metadata": {},
   "outputs": [],
   "source": [
    "import torchaudio\n",
    "import pandas as pd"
   ]
  },
  {
   "cell_type": "code",
   "execution_count": 3,
   "id": "b33df273",
   "metadata": {},
   "outputs": [],
   "source": [
    "df_speech = pd.read_excel('./cleanSpeech.xlsx')"
   ]
  },
  {
   "cell_type": "code",
   "execution_count": 4,
   "id": "40fb0a65",
   "metadata": {},
   "outputs": [],
   "source": [
    "df_noise = pd.read_excel('./noises.xlsx')"
   ]
  },
  {
   "cell_type": "code",
   "execution_count": 15,
   "id": "6daa8671",
   "metadata": {},
   "outputs": [],
   "source": [
    "def find_longest(df):\n",
    "    wave_max = 0\n",
    "    for i in range(len(df)):\n",
    "        sample_wav_file = df['filename'][i]\n",
    "        waveform, _ = torchaudio.load(sample_wav_file)\n",
    "        \n",
    "        length_wave = len(waveform[0])\n",
    "        if length_wave > wave_max:\n",
    "            wave_max = length_wave\n",
    "    \n",
    "    return wave_max"
   ]
  },
  {
   "cell_type": "code",
   "execution_count": 16,
   "id": "f3ebceab",
   "metadata": {},
   "outputs": [
    {
     "data": {
      "text/plain": [
       "254880"
      ]
     },
     "execution_count": 16,
     "metadata": {},
     "output_type": "execute_result"
    }
   ],
   "source": [
    "max_speech = find_longest(df_speech)\n",
    "max_speech"
   ]
  },
  {
   "cell_type": "code",
   "execution_count": 17,
   "id": "7e06273e",
   "metadata": {},
   "outputs": [
    {
     "data": {
      "text/plain": [
       "254880"
      ]
     },
     "execution_count": 17,
     "metadata": {},
     "output_type": "execute_result"
    }
   ],
   "source": [
    "max_noise = find_longest(df_noise)\n",
    "max_noise"
   ]
  },
  {
   "cell_type": "code",
   "execution_count": null,
   "id": "0c922df6",
   "metadata": {},
   "outputs": [],
   "source": []
  }
 ],
 "metadata": {
  "kernelspec": {
   "display_name": "Python 3 (ipykernel)",
   "language": "python",
   "name": "python3"
  },
  "language_info": {
   "codemirror_mode": {
    "name": "ipython",
    "version": 3
   },
   "file_extension": ".py",
   "mimetype": "text/x-python",
   "name": "python",
   "nbconvert_exporter": "python",
   "pygments_lexer": "ipython3",
   "version": "3.10.9"
  }
 },
 "nbformat": 4,
 "nbformat_minor": 5
}
