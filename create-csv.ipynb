{
 "cells": [
  {
   "cell_type": "code",
   "execution_count": 1,
   "id": "819fda18",
   "metadata": {
    "ExecuteTime": {
     "end_time": "2023-08-10T16:31:41.165877900Z",
     "start_time": "2023-08-10T16:31:41.144877900Z"
    }
   },
   "outputs": [],
   "source": [
    "import os\n",
    "import csv"
   ]
  },
  {
   "cell_type": "code",
   "execution_count": 2,
   "id": "25ebf638",
   "metadata": {},
   "outputs": [],
   "source": [
    "def get_split(root, path):\n",
    "    \n",
    "    content = os.listdir(root)\n",
    "    path_content = [path+el for el in content if el.endswith('.wav')]\n",
    "    \n",
    "    content_length = len(path_content)\n",
    "    path_content_train = [[path+content[el]] for el in range(0, int(content_length*0.6))]\n",
    "    path_content_val = [[path+content[el]] for el in range(int(content_length*0.6), \n",
    "                                                     int(content_length*0.8))]\n",
    "    path_content_test = [[path+content[el]] for el in range(int(content_length*0.8), \n",
    "                                                      content_length)]\n",
    "    \n",
    "    assert content_length == len(path_content_train)+len(path_content_val)+len(path_content_test),\\\n",
    "    'Something is missing...'\n",
    "    \n",
    "    return path_content_train, path_content_val, path_content_test"
   ]
  },
  {
   "cell_type": "code",
   "execution_count": 3,
   "id": "b7fdc40b",
   "metadata": {},
   "outputs": [],
   "source": [
    "def get_csv(root, path, name):\n",
    "    \n",
    "    train, val, test = get_split(root, path)\n",
    "    header = ['filename']\n",
    "    train_name = 'Train.csv'\n",
    "    val_name = 'Val.csv'\n",
    "    test_name = 'Test.csv'\n",
    "    \n",
    "    with open(name+train_name, 'w', newline='') as f:\n",
    "        writer = csv.writer(f)\n",
    "        writer.writerow(header)\n",
    "        writer.writerows(train)\n",
    "        f.close()\n",
    "        \n",
    "    with open(name+val_name, 'w', newline='') as f:\n",
    "        writer = csv.writer(f)\n",
    "        writer.writerow(header)\n",
    "        writer.writerows(val)\n",
    "        f.close()\n",
    "        \n",
    "    with open(name+test_name, 'w', newline='') as f:\n",
    "        writer = csv.writer(f)\n",
    "        writer.writerow(header)\n",
    "        writer.writerows(test)\n",
    "        f.close()"
   ]
  },
  {
   "cell_type": "code",
   "execution_count": 5,
   "id": "a4046955",
   "metadata": {},
   "outputs": [],
   "source": [
    "get_csv('./CleanSpeech_training/','./CleanSpeech_training/', 'CleanSpeech')"
   ]
  },
  {
   "cell_type": "code",
   "execution_count": 5,
   "id": "e978d58c",
   "metadata": {},
   "outputs": [],
   "source": [
    "get_csv('./Noise_training/','./Noise_training/', 'Noise')"
   ]
  },
  {
   "cell_type": "code",
   "execution_count": 11,
   "id": "a652f6e6",
   "metadata": {
    "ExecuteTime": {
     "end_time": "2023-08-10T16:35:20.077280800Z",
     "start_time": "2023-08-10T16:35:19.245333900Z"
    }
   },
   "outputs": [],
   "source": [
    "import pandas as pd"
   ]
  },
  {
   "cell_type": "code",
   "execution_count": 7,
   "id": "ef7a5841",
   "metadata": {},
   "outputs": [
    {
     "data": {
      "text/html": [
       "<div>\n",
       "<style scoped>\n",
       "    .dataframe tbody tr th:only-of-type {\n",
       "        vertical-align: middle;\n",
       "    }\n",
       "\n",
       "    .dataframe tbody tr th {\n",
       "        vertical-align: top;\n",
       "    }\n",
       "\n",
       "    .dataframe thead th {\n",
       "        text-align: right;\n",
       "    }\n",
       "</style>\n",
       "<table border=\"1\" class=\"dataframe\">\n",
       "  <thead>\n",
       "    <tr style=\"text-align: right;\">\n",
       "      <th></th>\n",
       "      <th>filename</th>\n",
       "    </tr>\n",
       "  </thead>\n",
       "  <tbody>\n",
       "    <tr>\n",
       "      <th>0</th>\n",
       "      <td>./CleanSpeech_training/clnsp1.wav</td>\n",
       "    </tr>\n",
       "    <tr>\n",
       "      <th>1</th>\n",
       "      <td>./CleanSpeech_training/clnsp10.wav</td>\n",
       "    </tr>\n",
       "    <tr>\n",
       "      <th>2</th>\n",
       "      <td>./CleanSpeech_training/clnsp100.wav</td>\n",
       "    </tr>\n",
       "    <tr>\n",
       "      <th>3</th>\n",
       "      <td>./CleanSpeech_training/clnsp1000.wav</td>\n",
       "    </tr>\n",
       "    <tr>\n",
       "      <th>4</th>\n",
       "      <td>./CleanSpeech_training/clnsp10000.wav</td>\n",
       "    </tr>\n",
       "    <tr>\n",
       "      <th>...</th>\n",
       "      <td>...</td>\n",
       "    </tr>\n",
       "    <tr>\n",
       "      <th>6142</th>\n",
       "      <td>./CleanSpeech_training/clnsp6304.wav</td>\n",
       "    </tr>\n",
       "    <tr>\n",
       "      <th>6143</th>\n",
       "      <td>./CleanSpeech_training/clnsp6305.wav</td>\n",
       "    </tr>\n",
       "    <tr>\n",
       "      <th>6144</th>\n",
       "      <td>./CleanSpeech_training/clnsp6306.wav</td>\n",
       "    </tr>\n",
       "    <tr>\n",
       "      <th>6145</th>\n",
       "      <td>./CleanSpeech_training/clnsp6307.wav</td>\n",
       "    </tr>\n",
       "    <tr>\n",
       "      <th>6146</th>\n",
       "      <td>./CleanSpeech_training/clnsp6308.wav</td>\n",
       "    </tr>\n",
       "  </tbody>\n",
       "</table>\n",
       "<p>6147 rows × 1 columns</p>\n",
       "</div>"
      ],
      "text/plain": [
       "                                   filename\n",
       "0         ./CleanSpeech_training/clnsp1.wav\n",
       "1        ./CleanSpeech_training/clnsp10.wav\n",
       "2       ./CleanSpeech_training/clnsp100.wav\n",
       "3      ./CleanSpeech_training/clnsp1000.wav\n",
       "4     ./CleanSpeech_training/clnsp10000.wav\n",
       "...                                     ...\n",
       "6142   ./CleanSpeech_training/clnsp6304.wav\n",
       "6143   ./CleanSpeech_training/clnsp6305.wav\n",
       "6144   ./CleanSpeech_training/clnsp6306.wav\n",
       "6145   ./CleanSpeech_training/clnsp6307.wav\n",
       "6146   ./CleanSpeech_training/clnsp6308.wav\n",
       "\n",
       "[6147 rows x 1 columns]"
      ]
     },
     "execution_count": 7,
     "metadata": {},
     "output_type": "execute_result"
    }
   ],
   "source": [
    "df = pd.read_csv('./CleanSpeechTrain.csv')\n",
    "df"
   ]
  },
  {
   "cell_type": "code",
   "execution_count": 11,
   "id": "80e6ec09",
   "metadata": {},
   "outputs": [],
   "source": [
    "get_csv('./RuDevicesAudiobooks/0/0/','./RuDevicesAudiobooks/', 'CleanSpeech')"
   ]
  },
  {
   "cell_type": "code",
   "execution_count": 15,
   "id": "47c2d756",
   "metadata": {
    "ExecuteTime": {
     "end_time": "2023-08-10T16:37:06.612892800Z",
     "start_time": "2023-08-10T16:37:06.597880700Z"
    }
   },
   "outputs": [],
   "source": [
    "def get_single_csv(root, path, name):\n",
    "    content = os.listdir(root)\n",
    "    path_content = [[path+el] for el in content if el.endswith('.wav')]\n",
    "\n",
    "    header = ['filename']\n",
    "    train_name = 'Lanius.csv'\n",
    "\n",
    "    with open(name+train_name, 'w', newline='') as f:\n",
    "        writer = csv.writer(f)\n",
    "        writer.writerow(header)\n",
    "        writer.writerows(path_content)\n",
    "        f.close()\n",
    "\n",
    "    # return path_content"
   ]
  },
  {
   "cell_type": "code",
   "execution_count": 16,
   "outputs": [],
   "source": [
    "get_single_csv('./lanius-clean/', './lanius-clean/', 'CleanSpeech')"
   ],
   "metadata": {
    "collapsed": false,
    "ExecuteTime": {
     "end_time": "2023-08-10T16:37:06.997163800Z",
     "start_time": "2023-08-10T16:37:06.972165400Z"
    }
   }
  },
  {
   "cell_type": "code",
   "execution_count": 18,
   "outputs": [],
   "source": [
    "get_single_csv('./lanius-noisy/', './lanius-noisy/', 'NoisySpeech')"
   ],
   "metadata": {
    "collapsed": false,
    "ExecuteTime": {
     "end_time": "2023-08-10T16:38:05.714334200Z",
     "start_time": "2023-08-10T16:38:05.708301700Z"
    }
   }
  },
  {
   "cell_type": "code",
   "execution_count": null,
   "outputs": [],
   "source": [],
   "metadata": {
    "collapsed": false
   }
  }
 ],
 "metadata": {
  "kernelspec": {
   "display_name": "Python 3 (ipykernel)",
   "language": "python",
   "name": "python3"
  },
  "language_info": {
   "codemirror_mode": {
    "name": "ipython",
    "version": 3
   },
   "file_extension": ".py",
   "mimetype": "text/x-python",
   "name": "python",
   "nbconvert_exporter": "python",
   "pygments_lexer": "ipython3",
   "version": "3.10.9"
  }
 },
 "nbformat": 4,
 "nbformat_minor": 5
}
