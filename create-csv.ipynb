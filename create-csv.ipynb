{
 "cells": [
  {
   "cell_type": "code",
   "execution_count": 3,
   "id": "819fda18",
   "metadata": {},
   "outputs": [],
   "source": [
    "import os\n",
    "import csv"
   ]
  },
  {
   "cell_type": "code",
   "execution_count": 18,
   "id": "25ebf638",
   "metadata": {},
   "outputs": [],
   "source": [
    "def get_split(root, path):\n",
    "    \n",
    "    content = os.listdir(root)\n",
    "    path_content = [path+el for el in content]\n",
    "    \n",
    "    content_length = len(path_content)\n",
    "    path_content_train = [path+content[el] for el in range(0, int(content_length*0.6))]\n",
    "    path_content_val = [path+content[el] for el in range(int(content_length*0.6), \n",
    "                                                     int(content_length*0.8))]\n",
    "    path_content_test = [path+content[el] for el in range(int(content_length*0.8), \n",
    "                                                      content_length)]\n",
    "    \n",
    "    assert content_length == len(path_content_train)+len(path_content_val)+len(path_content_test),\\\n",
    "    'Something is missing...'\n",
    "    \n",
    "    return path_content_train, path_content_val, path_content_test"
   ]
  },
  {
   "cell_type": "code",
   "execution_count": 24,
   "id": "b7fdc40b",
   "metadata": {},
   "outputs": [],
   "source": [
    "def get_csv(root, path, name):\n",
    "    \n",
    "    train, val, test = get_split(root, path)\n",
    "    train_name = 'Train.csv'\n",
    "    val_name = 'Val.csv'\n",
    "    test_name = 'Test.csv'\n",
    "    \n",
    "    with open(name+train_name, 'w') as f:\n",
    "        writer = csv.writer(f)\n",
    "        writer.writerow(train)\n",
    "        f.close()\n",
    "        \n",
    "    with open(name+val_name, 'w') as f:\n",
    "        writer = csv.writer(f)\n",
    "        writer.writerow(val)\n",
    "        f.close()\n",
    "        \n",
    "    with open(name+test_name, 'w') as f:\n",
    "        writer = csv.writer(f)\n",
    "        writer.writerow(test)\n",
    "        f.close()"
   ]
  },
  {
   "cell_type": "code",
   "execution_count": 25,
   "id": "a4046955",
   "metadata": {},
   "outputs": [],
   "source": [
    "get_csv('./ms-snsd/CleanSpeech_training/','./CleanSpeech_training/', 'CleanSpeech')"
   ]
  },
  {
   "cell_type": "code",
   "execution_count": 26,
   "id": "e978d58c",
   "metadata": {},
   "outputs": [],
   "source": [
    "get_csv('./ms-snsd/Noise_training/','./Noise_training/', 'Noise')"
   ]
  },
  {
   "cell_type": "code",
   "execution_count": null,
   "id": "a652f6e6",
   "metadata": {},
   "outputs": [],
   "source": []
  }
 ],
 "metadata": {
  "kernelspec": {
   "display_name": "Python 3 (ipykernel)",
   "language": "python",
   "name": "python3"
  },
  "language_info": {
   "codemirror_mode": {
    "name": "ipython",
    "version": 3
   },
   "file_extension": ".py",
   "mimetype": "text/x-python",
   "name": "python",
   "nbconvert_exporter": "python",
   "pygments_lexer": "ipython3",
   "version": "3.10.9"
  }
 },
 "nbformat": 4,
 "nbformat_minor": 5
}
