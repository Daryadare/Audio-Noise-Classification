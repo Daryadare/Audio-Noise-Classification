{
 "cells": [
  {
   "cell_type": "code",
   "execution_count": 1,
   "id": "819fda18",
   "metadata": {},
   "outputs": [],
   "source": [
    "import os\n",
    "import csv"
   ]
  },
  {
   "cell_type": "code",
   "execution_count": 2,
   "id": "25ebf638",
   "metadata": {},
   "outputs": [],
   "source": [
    "def get_split(root, path):\n",
    "    \n",
    "    content = os.listdir(root)\n",
    "    path_content = [path+el for el in content]\n",
    "    \n",
    "    content_length = len(path_content)\n",
    "    path_content_train = [[path+content[el]] for el in range(0, int(content_length*0.6))]\n",
    "    path_content_val = [[path+content[el]] for el in range(int(content_length*0.6), \n",
    "                                                     int(content_length*0.8))]\n",
    "    path_content_test = [[path+content[el]] for el in range(int(content_length*0.8), \n",
    "                                                      content_length)]\n",
    "    \n",
    "    assert content_length == len(path_content_train)+len(path_content_val)+len(path_content_test),\\\n",
    "    'Something is missing...'\n",
    "    \n",
    "    return path_content_train, path_content_val, path_content_test"
   ]
  },
  {
   "cell_type": "code",
   "execution_count": 3,
   "id": "b7fdc40b",
   "metadata": {},
   "outputs": [],
   "source": [
    "def get_csv(root, path, name):\n",
    "    \n",
    "    train, val, test = get_split(root, path)\n",
    "    header = ['filename']\n",
    "    train_name = 'Train.csv'\n",
    "    val_name = 'Val.csv'\n",
    "    test_name = 'Test.csv'\n",
    "    \n",
    "    with open(name+train_name, 'w', newline='') as f:\n",
    "        writer = csv.writer(f)\n",
    "        writer.writerow(header)\n",
    "        writer.writerows(train)\n",
    "        f.close()\n",
    "        \n",
    "    with open(name+val_name, 'w', newline='') as f:\n",
    "        writer = csv.writer(f)\n",
    "        writer.writerow(header)\n",
    "        writer.writerows(val)\n",
    "        f.close()\n",
    "        \n",
    "    with open(name+test_name, 'w', newline='') as f:\n",
    "        writer = csv.writer(f)\n",
    "        writer.writerow(header)\n",
    "        writer.writerows(test)\n",
    "        f.close()"
   ]
  },
  {
   "cell_type": "code",
   "execution_count": 4,
   "id": "a4046955",
   "metadata": {},
   "outputs": [],
   "source": [
    "get_csv('./ms-snsd/CleanSpeech_training/','./CleanSpeech_training/', 'CleanSpeech')"
   ]
  },
  {
   "cell_type": "code",
   "execution_count": 5,
   "id": "e978d58c",
   "metadata": {},
   "outputs": [],
   "source": [
    "get_csv('./ms-snsd/Noise_training/','./Noise_training/', 'Noise')"
   ]
  },
  {
   "cell_type": "code",
   "execution_count": 6,
   "id": "a652f6e6",
   "metadata": {},
   "outputs": [],
   "source": [
    "import pandas as pd"
   ]
  },
  {
   "cell_type": "code",
   "execution_count": 7,
   "id": "ef7a5841",
   "metadata": {},
   "outputs": [
    {
     "data": {
      "text/html": [
       "<div>\n",
       "<style scoped>\n",
       "    .dataframe tbody tr th:only-of-type {\n",
       "        vertical-align: middle;\n",
       "    }\n",
       "\n",
       "    .dataframe tbody tr th {\n",
       "        vertical-align: top;\n",
       "    }\n",
       "\n",
       "    .dataframe thead th {\n",
       "        text-align: right;\n",
       "    }\n",
       "</style>\n",
       "<table border=\"1\" class=\"dataframe\">\n",
       "  <thead>\n",
       "    <tr style=\"text-align: right;\">\n",
       "      <th></th>\n",
       "      <th>filename</th>\n",
       "    </tr>\n",
       "  </thead>\n",
       "  <tbody>\n",
       "    <tr>\n",
       "      <th>0</th>\n",
       "      <td>./CleanSpeech_training/clnsp1.wav</td>\n",
       "    </tr>\n",
       "    <tr>\n",
       "      <th>1</th>\n",
       "      <td>./CleanSpeech_training/clnsp10.wav</td>\n",
       "    </tr>\n",
       "    <tr>\n",
       "      <th>2</th>\n",
       "      <td>./CleanSpeech_training/clnsp100.wav</td>\n",
       "    </tr>\n",
       "    <tr>\n",
       "      <th>3</th>\n",
       "      <td>./CleanSpeech_training/clnsp101.wav</td>\n",
       "    </tr>\n",
       "    <tr>\n",
       "      <th>4</th>\n",
       "      <td>./CleanSpeech_training/clnsp102.wav</td>\n",
       "    </tr>\n",
       "    <tr>\n",
       "      <th>...</th>\n",
       "      <td>...</td>\n",
       "    </tr>\n",
       "    <tr>\n",
       "      <th>166</th>\n",
       "      <td>./CleanSpeech_training/clnsp249.wav</td>\n",
       "    </tr>\n",
       "    <tr>\n",
       "      <th>167</th>\n",
       "      <td>./CleanSpeech_training/clnsp25.wav</td>\n",
       "    </tr>\n",
       "    <tr>\n",
       "      <th>168</th>\n",
       "      <td>./CleanSpeech_training/clnsp250.wav</td>\n",
       "    </tr>\n",
       "    <tr>\n",
       "      <th>169</th>\n",
       "      <td>./CleanSpeech_training/clnsp251.wav</td>\n",
       "    </tr>\n",
       "    <tr>\n",
       "      <th>170</th>\n",
       "      <td>./CleanSpeech_training/clnsp252.wav</td>\n",
       "    </tr>\n",
       "  </tbody>\n",
       "</table>\n",
       "<p>171 rows × 1 columns</p>\n",
       "</div>"
      ],
      "text/plain": [
       "                                filename\n",
       "0      ./CleanSpeech_training/clnsp1.wav\n",
       "1     ./CleanSpeech_training/clnsp10.wav\n",
       "2    ./CleanSpeech_training/clnsp100.wav\n",
       "3    ./CleanSpeech_training/clnsp101.wav\n",
       "4    ./CleanSpeech_training/clnsp102.wav\n",
       "..                                   ...\n",
       "166  ./CleanSpeech_training/clnsp249.wav\n",
       "167   ./CleanSpeech_training/clnsp25.wav\n",
       "168  ./CleanSpeech_training/clnsp250.wav\n",
       "169  ./CleanSpeech_training/clnsp251.wav\n",
       "170  ./CleanSpeech_training/clnsp252.wav\n",
       "\n",
       "[171 rows x 1 columns]"
      ]
     },
     "execution_count": 7,
     "metadata": {},
     "output_type": "execute_result"
    }
   ],
   "source": [
    "df = pd.read_csv('./CleanSpeechTrain.csv')\n",
    "df"
   ]
  },
  {
   "cell_type": "code",
   "execution_count": null,
   "id": "80e6ec09",
   "metadata": {},
   "outputs": [],
   "source": []
  }
 ],
 "metadata": {
  "kernelspec": {
   "display_name": "Python 3 (ipykernel)",
   "language": "python",
   "name": "python3"
  },
  "language_info": {
   "codemirror_mode": {
    "name": "ipython",
    "version": 3
   },
   "file_extension": ".py",
   "mimetype": "text/x-python",
   "name": "python",
   "nbconvert_exporter": "python",
   "pygments_lexer": "ipython3",
   "version": "3.10.9"
  }
 },
 "nbformat": 4,
 "nbformat_minor": 5
}
