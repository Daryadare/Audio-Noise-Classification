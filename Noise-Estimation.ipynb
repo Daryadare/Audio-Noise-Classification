{
 "cells": [
  {
   "cell_type": "code",
   "execution_count": 1,
   "metadata": {
    "collapsed": false,
    "jupyter": {
     "outputs_hidden": false
    },
    "tags": []
   },
   "outputs": [
    {
     "name": "stdout",
     "output_type": "stream",
     "text": [
      "Requirement already satisfied: wandb in /opt/conda/lib/python3.10/site-packages (0.15.8)\n",
      "Requirement already satisfied: sentry-sdk>=1.0.0 in /opt/conda/lib/python3.10/site-packages (from wandb) (1.29.2)\n",
      "Requirement already satisfied: docker-pycreds>=0.4.0 in /opt/conda/lib/python3.10/site-packages (from wandb) (0.4.0)\n",
      "Requirement already satisfied: protobuf!=4.21.0,<5,>=3.19.0 in /opt/conda/lib/python3.10/site-packages (from wandb) (3.19.6)\n",
      "Requirement already satisfied: appdirs>=1.4.3 in /opt/conda/lib/python3.10/site-packages (from wandb) (1.4.4)\n",
      "Requirement already satisfied: requests<3,>=2.0.0 in /opt/conda/lib/python3.10/site-packages (from wandb) (2.28.2)\n",
      "Requirement already satisfied: setuptools in /opt/conda/lib/python3.10/site-packages (from wandb) (67.6.1)\n",
      "Requirement already satisfied: setproctitle in /opt/conda/lib/python3.10/site-packages (from wandb) (1.3.2)\n",
      "Requirement already satisfied: psutil>=5.0.0 in /opt/conda/lib/python3.10/site-packages (from wandb) (5.9.4)\n",
      "Requirement already satisfied: Click!=8.0.0,>=7.1 in /opt/conda/lib/python3.10/site-packages (from wandb) (8.1.3)\n",
      "Requirement already satisfied: PyYAML in /opt/conda/lib/python3.10/site-packages (from wandb) (6.0)\n",
      "Requirement already satisfied: pathtools in /opt/conda/lib/python3.10/site-packages (from wandb) (0.1.2)\n",
      "Requirement already satisfied: GitPython!=3.1.29,>=1.0.0 in /opt/conda/lib/python3.10/site-packages (from wandb) (3.1.31)\n",
      "Requirement already satisfied: six>=1.4.0 in /opt/conda/lib/python3.10/site-packages (from docker-pycreds>=0.4.0->wandb) (1.16.0)\n",
      "Requirement already satisfied: gitdb<5,>=4.0.1 in /opt/conda/lib/python3.10/site-packages (from GitPython!=3.1.29,>=1.0.0->wandb) (4.0.10)\n",
      "Requirement already satisfied: charset-normalizer<4,>=2 in /opt/conda/lib/python3.10/site-packages (from requests<3,>=2.0.0->wandb) (3.1.0)\n",
      "Requirement already satisfied: urllib3<1.27,>=1.21.1 in /opt/conda/lib/python3.10/site-packages (from requests<3,>=2.0.0->wandb) (1.26.15)\n",
      "Requirement already satisfied: certifi>=2017.4.17 in /opt/conda/lib/python3.10/site-packages (from requests<3,>=2.0.0->wandb) (2022.12.7)\n",
      "Requirement already satisfied: idna<4,>=2.5 in /opt/conda/lib/python3.10/site-packages (from requests<3,>=2.0.0->wandb) (3.4)\n",
      "Requirement already satisfied: smmap<6,>=3.0.1 in /opt/conda/lib/python3.10/site-packages (from gitdb<5,>=4.0.1->GitPython!=3.1.29,>=1.0.0->wandb) (5.0.0)\n"
     ]
    }
   ],
   "source": [
    "!pip install wandb"
   ]
  },
  {
   "cell_type": "code",
   "execution_count": 2,
   "metadata": {
    "tags": []
   },
   "outputs": [
    {
     "name": "stdout",
     "output_type": "stream",
     "text": [
      "Collecting git+https://github.com/ildoonet/pytorch-gradual-warmup-lr.git\n",
      "  Cloning https://github.com/ildoonet/pytorch-gradual-warmup-lr.git to /tmp/pip-req-build-t61ljfy9\n",
      "  Running command git clone --filter=blob:none --quiet https://github.com/ildoonet/pytorch-gradual-warmup-lr.git /tmp/pip-req-build-t61ljfy9\n",
      "  Resolved https://github.com/ildoonet/pytorch-gradual-warmup-lr.git to commit 6b5e8953a80aef5b324104dc0c2e9b8c34d622bd\n",
      "  Preparing metadata (setup.py) ... \u001b[?25ldone\n",
      "\u001b[?25h"
     ]
    }
   ],
   "source": [
    "!pip install git+https://github.com/ildoonet/pytorch-gradual-warmup-lr.git"
   ]
  },
  {
   "cell_type": "code",
   "execution_count": 3,
   "metadata": {
    "ExecuteTime": {
     "end_time": "2023-07-21T12:18:30.759697600Z",
     "start_time": "2023-07-21T12:18:26.611326600Z"
    },
    "collapsed": false,
    "jupyter": {
     "outputs_hidden": false
    },
    "tags": []
   },
   "outputs": [],
   "source": [
    "import pandas as pd\n",
    "import numpy as np\n",
    "import random\n",
    "\n",
    "from tqdm import tqdm\n",
    "import wandb\n",
    "\n",
    "import torch\n",
    "import torch.nn as nn\n",
    "import torch.nn.functional as F\n",
    "from torch.utils.data import Dataset, DataLoader\n",
    "import torch.optim as optim\n",
    "from torch.optim.lr_scheduler import StepLR, CosineAnnealingLR\n",
    "from warmup_scheduler import GradualWarmupScheduler\n",
    "\n",
    "import torchaudio\n",
    "import torchaudio.transforms as T\n",
    "from torchaudio.transforms import AmplitudeToDB, Vol\n",
    "\n",
    "device = torch.device('cuda') if torch.cuda.is_available() else torch.device('cpu')"
   ]
  },
  {
   "cell_type": "code",
   "execution_count": 4,
   "metadata": {
    "ExecuteTime": {
     "end_time": "2023-07-21T10:29:57.808377200Z",
     "start_time": "2023-07-21T10:29:53.438631300Z"
    },
    "collapsed": false,
    "jupyter": {
     "outputs_hidden": false
    },
    "tags": []
   },
   "outputs": [
    {
     "name": "stderr",
     "output_type": "stream",
     "text": [
      "\u001b[34m\u001b[1mwandb\u001b[0m: Currently logged in as: \u001b[33mdarya-dare\u001b[0m. Use \u001b[1m`wandb login --relogin`\u001b[0m to force relogin\n"
     ]
    },
    {
     "data": {
      "text/plain": [
       "True"
      ]
     },
     "execution_count": 4,
     "metadata": {},
     "output_type": "execute_result"
    }
   ],
   "source": [
    "wandb.login()"
   ]
  },
  {
   "cell_type": "markdown",
   "metadata": {},
   "source": [
    "### Custom Dataset"
   ]
  },
  {
   "cell_type": "code",
   "execution_count": 5,
   "metadata": {
    "ExecuteTime": {
     "end_time": "2023-07-21T12:18:34.545339Z",
     "start_time": "2023-07-21T12:18:34.525573800Z"
    },
    "tags": []
   },
   "outputs": [],
   "source": [
    "class AudioDataset(Dataset):\n",
    "\n",
    "    def __init__(self, path_speech, path_noise, eps_value=1e-6,\\\n",
    "                 mel_nframes=300, sample_rate=16000, n_fft=480,\\\n",
    "                 hop_length=160, n_mels=40):\n",
    "\n",
    "        self.speech = pd.read_csv(path_speech)\n",
    "        self.noise = pd.read_csv(path_noise)\n",
    "        self.eps_value = eps_value\n",
    "        self.mel_nframes = mel_nframes\n",
    "        self.sample_rate = sample_rate\n",
    "        self.n_fft = n_fft\n",
    "        self.hop_length = hop_length\n",
    "        self.n_mels = n_mels\n",
    "        self.mel_spectrogram = T.MelSpectrogram(sample_rate=self.sample_rate,\n",
    "                                                n_fft=self.n_fft,\n",
    "                                                hop_length=self.hop_length,\n",
    "                                                center=True,\n",
    "                                                pad_mode=\"reflect\",\n",
    "                                                power=2.0,\n",
    "                                                norm='slaney',\n",
    "                                                n_mels=self.n_mels)\n",
    "\n",
    "    def __len__(self):\n",
    "\n",
    "        return len(self.noise)\n",
    "\n",
    "    def get_same_shape(self, waveform):\n",
    "\n",
    "        melsp = torch.log(self.mel_spectrogram(waveform) + self.eps_value)\n",
    "        has_mel_nframes = melsp.size(2) if melsp.size(2) < self.mel_nframes\\\n",
    "         else self.mel_nframes\n",
    "\n",
    "        image_tens = torch.full((1, self.n_mels, self.mel_nframes), melsp.min())\n",
    "        image_tens[0, :, :has_mel_nframes] = melsp[:, :, :has_mel_nframes]\n",
    "\n",
    "        return image_tens\n",
    "\n",
    "    def load_item(self, df, idx, w_type):\n",
    "\n",
    "        sample_wav_file = df['filename'][idx]\n",
    "        wave, _ = torchaudio.load(sample_wav_file)\n",
    "        wave = wave.float()\n",
    "\n",
    "        if w_type==1:\n",
    "            wave_noise = wave.numpy()\n",
    "            wave_noise_no_silence = [float(el) for el in wave_noise[0] if abs(el) >= 0.001]\n",
    "            wave = torch.tensor([wave_noise_no_silence])\n",
    "\n",
    "        wave_melsp = self.get_same_shape(wave)\n",
    "\n",
    "        return wave_melsp\n",
    "\n",
    "    def __getitem__(self, idx):\n",
    "\n",
    "        wave_speech = self.load_item(self.speech, idx, w_type=0)\n",
    "\n",
    "        luck = random.random()\n",
    "        if luck > 0.5:\n",
    "            wave_noise = self.load_item(self.noise, idx, w_type=1)\n",
    "\n",
    "            wave_out = wave_speech + wave_noise\n",
    "            label = 1\n",
    "\n",
    "        else:\n",
    "            wave_out = wave_speech\n",
    "            label = 0\n",
    "\n",
    "        return wave_out, torch.tensor(label)"
   ]
  },
  {
   "cell_type": "code",
   "execution_count": 6,
   "metadata": {
    "ExecuteTime": {
     "end_time": "2023-07-21T10:30:00.869003500Z",
     "start_time": "2023-07-21T10:30:00.638750700Z"
    },
    "collapsed": false,
    "jupyter": {
     "outputs_hidden": false
    },
    "tags": []
   },
   "outputs": [],
   "source": [
    "audio_dataset_train = AudioDataset('./CleanSpeechTrain.csv',\n",
    "                                   './NoiseTrain.csv')\n",
    "\n",
    "audio_dataset_val = AudioDataset('./CleanSpeechVal.csv',\n",
    "                                   './NoiseVal.csv')\n",
    "\n",
    "audio_dataset_test = AudioDataset('./CleanSpeechTest.csv',\n",
    "                                   './NoiseTest.csv')"
   ]
  },
  {
   "cell_type": "markdown",
   "metadata": {},
   "source": [
    "#### Data Loader"
   ]
  },
  {
   "cell_type": "code",
   "execution_count": 7,
   "metadata": {
    "ExecuteTime": {
     "end_time": "2023-07-21T10:30:02.467908200Z",
     "start_time": "2023-07-21T10:30:02.417128300Z"
    },
    "collapsed": false,
    "jupyter": {
     "outputs_hidden": false
    },
    "tags": []
   },
   "outputs": [],
   "source": [
    "train_loader = DataLoader(dataset=audio_dataset_train,\n",
    "                          batch_size=64, drop_last=True, num_workers=6)\n",
    "\n",
    "val_loader = DataLoader(dataset=audio_dataset_val,\n",
    "                        batch_size=64, drop_last=True, num_workers=6)\n",
    "\n",
    "test_loader = DataLoader(dataset=audio_dataset_test,\n",
    "                         batch_size=64, drop_last=True, num_workers=6)"
   ]
  },
  {
   "cell_type": "markdown",
   "metadata": {},
   "source": [
    "### Train functions"
   ]
  },
  {
   "cell_type": "code",
   "execution_count": 8,
   "metadata": {
    "tags": []
   },
   "outputs": [],
   "source": [
    "def compute_acc_loss(model, loader, loss):\n",
    "\n",
    "    model.eval()\n",
    "\n",
    "    correct_samples = 0\n",
    "    total_samples = 0\n",
    "    loss_accum = 0\n",
    "    num_batches = 0\n",
    "\n",
    "    for i, (x, y) in enumerate(loader):\n",
    "\n",
    "        x_gpu = x.to(device)\n",
    "        y_gpu = y.to(device)\n",
    "        \n",
    "        prediction = model(x_gpu).squeeze(1)\n",
    "        loss_value = loss(prediction, y_gpu.float())\n",
    "        \n",
    "        correct_samples += torch.sum(prediction.round()==y_gpu)\n",
    "        total_samples += y.size(0)\n",
    "        loss_accum += loss_value.item()\n",
    "        \n",
    "        num_batches += 1\n",
    "\n",
    "    return float(correct_samples)/total_samples, loss_accum/num_batches"
   ]
  },
  {
   "cell_type": "code",
   "execution_count": 9,
   "metadata": {
    "ExecuteTime": {
     "end_time": "2023-07-21T10:30:05.909594300Z",
     "start_time": "2023-07-21T10:30:05.878809600Z"
    },
    "collapsed": false,
    "jupyter": {
     "outputs_hidden": false
    },
    "tags": []
   },
   "outputs": [],
   "source": [
    "def train(model, train_loader, val_loader, loss,\n",
    "          optimizer, warmup_scheduler, num_epochs):\n",
    "\n",
    "    wandb.init(\n",
    "        project='Noise-Estimation',\n",
    "        config={'learning_rate': 1e-5,\n",
    "                'model': 'ResNet101',\n",
    "                'dataset': 'original',\n",
    "                'loss': 'BCELoss',\n",
    "                'optimizer': 'SGD',\n",
    "                'scheduler': 'WarmUp and CosineAnnealing',\n",
    "                'T_max': 60,\n",
    "                'total_epochs': 60,\n",
    "                'epochs': 150,\n",
    "                'batch_size': 64}\n",
    "    )\n",
    "\n",
    "    loss_history = []\n",
    "    train_history = []\n",
    "    val_history = []\n",
    "\n",
    "    for epoch in range(num_epochs):\n",
    "        model.train()\n",
    "\n",
    "        loss_accum = 0\n",
    "        correct_samples = 0\n",
    "        total_samples = 0\n",
    "        num_batches = 0\n",
    "\n",
    "        with tqdm(total=len(train_loader),\n",
    "                  desc=f'Epoch {epoch+1}',\n",
    "                  leave=True) as pb:\n",
    "\n",
    "            for i, (x, y) in enumerate(train_loader):\n",
    "\n",
    "                x_gpu = x.to(device)\n",
    "                y_gpu = y.to(device)\n",
    "\n",
    "                optimizer.zero_grad()\n",
    "                prediction = model(x_gpu).squeeze(1)\n",
    "\n",
    "                loss_value = loss(prediction, y_gpu.float())\n",
    "                loss_value.backward()\n",
    "                optimizer.step()\n",
    "\n",
    "                correct_samples += torch.sum(prediction.round()==y_gpu)\n",
    "                total_samples += y.size(0)\n",
    "                loss_accum += loss_value\n",
    "\n",
    "                pb.update()\n",
    "                pb.set_description( f'Epoch {epoch+1}:'\n",
    "                                    f' Average epoch loss: {loss_accum / num_batches:.3f}'\n",
    "                                    f' Train accuracy:'\n",
    "                                    f' {correct_samples/total_samples:.2f},'\n",
    "                                    )\n",
    "                num_batches += 1\n",
    "\n",
    "            ave_loss = loss_accum / num_batches\n",
    "            train_accuracy = float(correct_samples) / total_samples\n",
    "            val_accuracy, val_loss = compute_acc_loss(model, val_loader, loss)\n",
    "\n",
    "            if warmup_scheduler:\n",
    "                warmup_scheduler.step()\n",
    "\n",
    "            loss_history.append(float(ave_loss))\n",
    "            train_history.append(train_accuracy)\n",
    "            val_history.append(val_accuracy)\n",
    "\n",
    "            wandb.log({'Epoch': epoch+1, 'loss': ave_loss,\n",
    "                       'train_acc': train_accuracy,\n",
    "                       'val_loss': val_loss,\n",
    "                       'val_acc': val_accuracy,})\n",
    "\n",
    "            pb.set_description( f'Epoch {epoch+1}:'\n",
    "                                f' Average epoch loss: {ave_loss:.3f}'\n",
    "                                f' Train accuracy: {train_accuracy:.2f}'\n",
    "                                f' Val loss: {val_loss:.3f}'\n",
    "                                f' Val accuracy: {val_accuracy:.2f}'\n",
    "                                )\n",
    "\n",
    "    wandb.finish()\n",
    "    return loss_history, train_history, val_history"
   ]
  },
  {
   "cell_type": "markdown",
   "metadata": {},
   "source": [
    "### ResNet50"
   ]
  },
  {
   "cell_type": "code",
   "execution_count": 10,
   "metadata": {
    "tags": []
   },
   "outputs": [
    {
     "name": "stdout",
     "output_type": "stream",
     "text": [
      "Adjusting learning rate of group 0 to 1.0000e-02.\n"
     ]
    }
   ],
   "source": [
    "from ResNet import ResNet50\n",
    "\n",
    "model_rn = ResNet50(1, device)\n",
    "model_rn.type(torch.cuda.FloatTensor)\n",
    "model_rn.to(device)\n",
    "\n",
    "loss = nn.BCELoss().type(torch.cuda.FloatTensor)\n",
    "optimizer = optim.SGD(model_rn.parameters(), lr=1e-2)\n",
    "\n",
    "cosine_scheduler = optim.lr_scheduler.CosineAnnealingLR(optimizer, T_max=20, verbose=True)\n",
    "warmup_scheduler = GradualWarmupScheduler(optimizer, multiplier=1, total_epoch=20,\n",
    "                                          after_scheduler=cosine_scheduler)"
   ]
  },
  {
   "cell_type": "code",
   "execution_count": 11,
   "metadata": {
    "tags": []
   },
   "outputs": [
    {
     "data": {
      "text/html": [
       "Tracking run with wandb version 0.15.8"
      ],
      "text/plain": [
       "<IPython.core.display.HTML object>"
      ]
     },
     "metadata": {},
     "output_type": "display_data"
    },
    {
     "data": {
      "text/html": [
       "Run data is saved locally in <code>/home/jovyan/project/wandb/run-20230821_092154-8dzzepkh</code>"
      ],
      "text/plain": [
       "<IPython.core.display.HTML object>"
      ]
     },
     "metadata": {},
     "output_type": "display_data"
    },
    {
     "data": {
      "text/html": [
       "Syncing run <strong><a href='https://wandb.ai/darya-dare/Noise-Estimation/runs/8dzzepkh' target=\"_blank\">distinctive-surf-112</a></strong> to <a href='https://wandb.ai/darya-dare/Noise-Estimation' target=\"_blank\">Weights & Biases</a> (<a href='https://wandb.me/run' target=\"_blank\">docs</a>)<br/>"
      ],
      "text/plain": [
       "<IPython.core.display.HTML object>"
      ]
     },
     "metadata": {},
     "output_type": "display_data"
    },
    {
     "data": {
      "text/html": [
       " View project at <a href='https://wandb.ai/darya-dare/Noise-Estimation' target=\"_blank\">https://wandb.ai/darya-dare/Noise-Estimation</a>"
      ],
      "text/plain": [
       "<IPython.core.display.HTML object>"
      ]
     },
     "metadata": {},
     "output_type": "display_data"
    },
    {
     "data": {
      "text/html": [
       " View run at <a href='https://wandb.ai/darya-dare/Noise-Estimation/runs/8dzzepkh' target=\"_blank\">https://wandb.ai/darya-dare/Noise-Estimation/runs/8dzzepkh</a>"
      ],
      "text/plain": [
       "<IPython.core.display.HTML object>"
      ]
     },
     "metadata": {},
     "output_type": "display_data"
    },
    {
     "name": "stderr",
     "output_type": "stream",
     "text": [
      "Epoch 1: Average epoch loss: 0.688 Train accuracy: 0.50 Val loss: 0.682 Val accuracy: 0.51: 100%|██████████| 48/48 [00:38<00:00,  1.23it/s]\n",
      "Epoch 2: Average epoch loss: 0.616 Train accuracy: 0.67 Val loss: 0.375 Val accuracy: 0.96: 100%|██████████| 48/48 [00:41<00:00,  1.17it/s]\n",
      "Epoch 3: Average epoch loss: 0.500 Train accuracy: 0.85 Val loss: 0.359 Val accuracy: 0.76: 100%|██████████| 48/48 [00:41<00:00,  1.17it/s]\n",
      "Epoch 4: Average epoch loss: 0.320 Train accuracy: 0.93 Val loss: 0.501 Val accuracy: 0.60: 100%|██████████| 48/48 [00:39<00:00,  1.21it/s]\n",
      "Epoch 5: Average epoch loss: 0.175 Train accuracy: 0.97 Val loss: 0.139 Val accuracy: 0.99: 100%|██████████| 48/48 [00:38<00:00,  1.25it/s]\n",
      "Epoch 6: Average epoch loss: 0.108 Train accuracy: 0.98 Val loss: 0.102 Val accuracy: 1.00: 100%|██████████| 48/48 [00:39<00:00,  1.22it/s]\n",
      "Epoch 7: Average epoch loss: 0.060 Train accuracy: 0.99 Val loss: 0.043 Val accuracy: 1.00: 100%|██████████| 48/48 [00:40<00:00,  1.20it/s]\n",
      "Epoch 8: Average epoch loss: 0.038 Train accuracy: 0.99 Val loss: 0.018 Val accuracy: 1.00: 100%|██████████| 48/48 [00:40<00:00,  1.19it/s]\n",
      "Epoch 9: Average epoch loss: 0.032 Train accuracy: 1.00 Val loss: 0.051 Val accuracy: 0.99: 100%|██████████| 48/48 [00:40<00:00,  1.19it/s]\n",
      "Epoch 10: Average epoch loss: 0.017 Train accuracy: 1.00 Val loss: 0.006 Val accuracy: 1.00: 100%|██████████| 48/48 [00:39<00:00,  1.22it/s]\n",
      "Epoch 11: Average epoch loss: 0.014 Train accuracy: 1.00 Val loss: 0.016 Val accuracy: 1.00: 100%|██████████| 48/48 [00:41<00:00,  1.17it/s]\n",
      "Epoch 12: Average epoch loss: 0.011 Train accuracy: 1.00 Val loss: 0.010 Val accuracy: 1.00: 100%|██████████| 48/48 [00:39<00:00,  1.20it/s]\n",
      "Epoch 13: Average epoch loss: 0.004 Train accuracy: 1.00 Val loss: 0.002 Val accuracy: 1.00: 100%|██████████| 48/48 [00:40<00:00,  1.18it/s]\n",
      "Epoch 14: Average epoch loss: 0.003 Train accuracy: 1.00 Val loss: 0.002 Val accuracy: 1.00: 100%|██████████| 48/48 [00:39<00:00,  1.22it/s]\n",
      "Epoch 15: Average epoch loss: 0.003 Train accuracy: 1.00 Val loss: 0.002 Val accuracy: 1.00: 100%|██████████| 48/48 [00:41<00:00,  1.15it/s]\n",
      "Epoch 16: Average epoch loss: 0.003 Train accuracy: 1.00 Val loss: 0.002 Val accuracy: 1.00: 100%|██████████| 48/48 [00:39<00:00,  1.22it/s]\n",
      "Epoch 17: Average epoch loss: 0.003 Train accuracy: 1.00 Val loss: 0.001 Val accuracy: 1.00: 100%|██████████| 48/48 [00:40<00:00,  1.19it/s]\n",
      "Epoch 18: Average epoch loss: 0.002 Train accuracy: 1.00 Val loss: 0.001 Val accuracy: 1.00: 100%|██████████| 48/48 [00:37<00:00,  1.26it/s]\n",
      "Epoch 19: Average epoch loss: 0.002 Train accuracy: 1.00 Val loss: 0.001 Val accuracy: 1.00: 100%|██████████| 48/48 [00:38<00:00,  1.24it/s]\n",
      "Epoch 20: Average epoch loss: 0.001 Train accuracy: 1.00 Val loss: 0.001 Val accuracy: 1.00: 100%|██████████| 48/48 [00:39<00:00,  1.20it/s]\n",
      "Epoch 21:   0%|          | 0/48 [00:00<?, ?it/s]\n"
     ]
    },
    {
     "ename": "KeyboardInterrupt",
     "evalue": "",
     "output_type": "error",
     "traceback": [
      "\u001b[0;31m---------------------------------------------------------------------------\u001b[0m",
      "\u001b[0;31mKeyboardInterrupt\u001b[0m                         Traceback (most recent call last)",
      "Cell \u001b[0;32mIn[11], line 1\u001b[0m\n\u001b[0;32m----> 1\u001b[0m loss_history, train_history, val_history \u001b[38;5;241m=\u001b[39m \u001b[43mtrain\u001b[49m\u001b[43m(\u001b[49m\u001b[43mmodel_rn\u001b[49m\u001b[43m,\u001b[49m\u001b[43m \u001b[49m\u001b[43mtrain_loader\u001b[49m\u001b[43m,\u001b[49m\n\u001b[1;32m      2\u001b[0m \u001b[43m                                                 \u001b[49m\u001b[43mval_loader\u001b[49m\u001b[43m,\u001b[49m\u001b[43m \u001b[49m\u001b[43mloss\u001b[49m\u001b[43m,\u001b[49m\n\u001b[1;32m      3\u001b[0m \u001b[43m                                                 \u001b[49m\u001b[43moptimizer\u001b[49m\u001b[43m,\u001b[49m\u001b[43m \u001b[49m\u001b[43mwarmup_scheduler\u001b[49m\u001b[43m,\u001b[49m\n\u001b[1;32m      4\u001b[0m \u001b[43m                                                 \u001b[49m\u001b[43mnum_epochs\u001b[49m\u001b[38;5;241;43m=\u001b[39;49m\u001b[38;5;241;43m50\u001b[39;49m\u001b[43m)\u001b[49m\n",
      "Cell \u001b[0;32mIn[9], line 34\u001b[0m, in \u001b[0;36mtrain\u001b[0;34m(model, train_loader, val_loader, loss, optimizer, warmup_scheduler, num_epochs)\u001b[0m\n\u001b[1;32m     28\u001b[0m num_batches \u001b[38;5;241m=\u001b[39m \u001b[38;5;241m0\u001b[39m\n\u001b[1;32m     30\u001b[0m \u001b[38;5;28;01mwith\u001b[39;00m tqdm(total\u001b[38;5;241m=\u001b[39m\u001b[38;5;28mlen\u001b[39m(train_loader),\n\u001b[1;32m     31\u001b[0m           desc\u001b[38;5;241m=\u001b[39m\u001b[38;5;124mf\u001b[39m\u001b[38;5;124m'\u001b[39m\u001b[38;5;124mEpoch \u001b[39m\u001b[38;5;132;01m{\u001b[39;00mepoch\u001b[38;5;241m+\u001b[39m\u001b[38;5;241m1\u001b[39m\u001b[38;5;132;01m}\u001b[39;00m\u001b[38;5;124m'\u001b[39m,\n\u001b[1;32m     32\u001b[0m           leave\u001b[38;5;241m=\u001b[39m\u001b[38;5;28;01mTrue\u001b[39;00m) \u001b[38;5;28;01mas\u001b[39;00m pb:\n\u001b[0;32m---> 34\u001b[0m     \u001b[38;5;28;01mfor\u001b[39;00m i, (x, y) \u001b[38;5;129;01min\u001b[39;00m \u001b[38;5;28menumerate\u001b[39m(train_loader):\n\u001b[1;32m     36\u001b[0m         x_gpu \u001b[38;5;241m=\u001b[39m x\u001b[38;5;241m.\u001b[39mto(device)\n\u001b[1;32m     37\u001b[0m         y_gpu \u001b[38;5;241m=\u001b[39m y\u001b[38;5;241m.\u001b[39mto(device)\n",
      "File \u001b[0;32m/opt/conda/lib/python3.10/site-packages/torch/utils/data/dataloader.py:628\u001b[0m, in \u001b[0;36m_BaseDataLoaderIter.__next__\u001b[0;34m(self)\u001b[0m\n\u001b[1;32m    625\u001b[0m \u001b[38;5;28;01mif\u001b[39;00m \u001b[38;5;28mself\u001b[39m\u001b[38;5;241m.\u001b[39m_sampler_iter \u001b[38;5;129;01mis\u001b[39;00m \u001b[38;5;28;01mNone\u001b[39;00m:\n\u001b[1;32m    626\u001b[0m     \u001b[38;5;66;03m# TODO(https://github.com/pytorch/pytorch/issues/76750)\u001b[39;00m\n\u001b[1;32m    627\u001b[0m     \u001b[38;5;28mself\u001b[39m\u001b[38;5;241m.\u001b[39m_reset()  \u001b[38;5;66;03m# type: ignore[call-arg]\u001b[39;00m\n\u001b[0;32m--> 628\u001b[0m data \u001b[38;5;241m=\u001b[39m \u001b[38;5;28;43mself\u001b[39;49m\u001b[38;5;241;43m.\u001b[39;49m\u001b[43m_next_data\u001b[49m\u001b[43m(\u001b[49m\u001b[43m)\u001b[49m\n\u001b[1;32m    629\u001b[0m \u001b[38;5;28mself\u001b[39m\u001b[38;5;241m.\u001b[39m_num_yielded \u001b[38;5;241m+\u001b[39m\u001b[38;5;241m=\u001b[39m \u001b[38;5;241m1\u001b[39m\n\u001b[1;32m    630\u001b[0m \u001b[38;5;28;01mif\u001b[39;00m \u001b[38;5;28mself\u001b[39m\u001b[38;5;241m.\u001b[39m_dataset_kind \u001b[38;5;241m==\u001b[39m _DatasetKind\u001b[38;5;241m.\u001b[39mIterable \u001b[38;5;129;01mand\u001b[39;00m \\\n\u001b[1;32m    631\u001b[0m         \u001b[38;5;28mself\u001b[39m\u001b[38;5;241m.\u001b[39m_IterableDataset_len_called \u001b[38;5;129;01mis\u001b[39;00m \u001b[38;5;129;01mnot\u001b[39;00m \u001b[38;5;28;01mNone\u001b[39;00m \u001b[38;5;129;01mand\u001b[39;00m \\\n\u001b[1;32m    632\u001b[0m         \u001b[38;5;28mself\u001b[39m\u001b[38;5;241m.\u001b[39m_num_yielded \u001b[38;5;241m>\u001b[39m \u001b[38;5;28mself\u001b[39m\u001b[38;5;241m.\u001b[39m_IterableDataset_len_called:\n",
      "File \u001b[0;32m/opt/conda/lib/python3.10/site-packages/torch/utils/data/dataloader.py:1316\u001b[0m, in \u001b[0;36m_MultiProcessingDataLoaderIter._next_data\u001b[0;34m(self)\u001b[0m\n\u001b[1;32m   1313\u001b[0m     \u001b[38;5;28;01mreturn\u001b[39;00m \u001b[38;5;28mself\u001b[39m\u001b[38;5;241m.\u001b[39m_process_data(data)\n\u001b[1;32m   1315\u001b[0m \u001b[38;5;28;01massert\u001b[39;00m \u001b[38;5;129;01mnot\u001b[39;00m \u001b[38;5;28mself\u001b[39m\u001b[38;5;241m.\u001b[39m_shutdown \u001b[38;5;129;01mand\u001b[39;00m \u001b[38;5;28mself\u001b[39m\u001b[38;5;241m.\u001b[39m_tasks_outstanding \u001b[38;5;241m>\u001b[39m \u001b[38;5;241m0\u001b[39m\n\u001b[0;32m-> 1316\u001b[0m idx, data \u001b[38;5;241m=\u001b[39m \u001b[38;5;28;43mself\u001b[39;49m\u001b[38;5;241;43m.\u001b[39;49m\u001b[43m_get_data\u001b[49m\u001b[43m(\u001b[49m\u001b[43m)\u001b[49m\n\u001b[1;32m   1317\u001b[0m \u001b[38;5;28mself\u001b[39m\u001b[38;5;241m.\u001b[39m_tasks_outstanding \u001b[38;5;241m-\u001b[39m\u001b[38;5;241m=\u001b[39m \u001b[38;5;241m1\u001b[39m\n\u001b[1;32m   1318\u001b[0m \u001b[38;5;28;01mif\u001b[39;00m \u001b[38;5;28mself\u001b[39m\u001b[38;5;241m.\u001b[39m_dataset_kind \u001b[38;5;241m==\u001b[39m _DatasetKind\u001b[38;5;241m.\u001b[39mIterable:\n\u001b[1;32m   1319\u001b[0m     \u001b[38;5;66;03m# Check for _IterableDatasetStopIteration\u001b[39;00m\n",
      "File \u001b[0;32m/opt/conda/lib/python3.10/site-packages/torch/utils/data/dataloader.py:1282\u001b[0m, in \u001b[0;36m_MultiProcessingDataLoaderIter._get_data\u001b[0;34m(self)\u001b[0m\n\u001b[1;32m   1278\u001b[0m     \u001b[38;5;66;03m# In this case, `self._data_queue` is a `queue.Queue`,. But we don't\u001b[39;00m\n\u001b[1;32m   1279\u001b[0m     \u001b[38;5;66;03m# need to call `.task_done()` because we don't use `.join()`.\u001b[39;00m\n\u001b[1;32m   1280\u001b[0m \u001b[38;5;28;01melse\u001b[39;00m:\n\u001b[1;32m   1281\u001b[0m     \u001b[38;5;28;01mwhile\u001b[39;00m \u001b[38;5;28;01mTrue\u001b[39;00m:\n\u001b[0;32m-> 1282\u001b[0m         success, data \u001b[38;5;241m=\u001b[39m \u001b[38;5;28;43mself\u001b[39;49m\u001b[38;5;241;43m.\u001b[39;49m\u001b[43m_try_get_data\u001b[49m\u001b[43m(\u001b[49m\u001b[43m)\u001b[49m\n\u001b[1;32m   1283\u001b[0m         \u001b[38;5;28;01mif\u001b[39;00m success:\n\u001b[1;32m   1284\u001b[0m             \u001b[38;5;28;01mreturn\u001b[39;00m data\n",
      "File \u001b[0;32m/opt/conda/lib/python3.10/site-packages/torch/utils/data/dataloader.py:1120\u001b[0m, in \u001b[0;36m_MultiProcessingDataLoaderIter._try_get_data\u001b[0;34m(self, timeout)\u001b[0m\n\u001b[1;32m   1107\u001b[0m \u001b[38;5;28;01mdef\u001b[39;00m \u001b[38;5;21m_try_get_data\u001b[39m(\u001b[38;5;28mself\u001b[39m, timeout\u001b[38;5;241m=\u001b[39m_utils\u001b[38;5;241m.\u001b[39mMP_STATUS_CHECK_INTERVAL):\n\u001b[1;32m   1108\u001b[0m     \u001b[38;5;66;03m# Tries to fetch data from `self._data_queue` once for a given timeout.\u001b[39;00m\n\u001b[1;32m   1109\u001b[0m     \u001b[38;5;66;03m# This can also be used as inner loop of fetching without timeout, with\u001b[39;00m\n\u001b[0;32m   (...)\u001b[0m\n\u001b[1;32m   1117\u001b[0m     \u001b[38;5;66;03m# Returns a 2-tuple:\u001b[39;00m\n\u001b[1;32m   1118\u001b[0m     \u001b[38;5;66;03m#   (bool: whether successfully get data, any: data if successful else None)\u001b[39;00m\n\u001b[1;32m   1119\u001b[0m     \u001b[38;5;28;01mtry\u001b[39;00m:\n\u001b[0;32m-> 1120\u001b[0m         data \u001b[38;5;241m=\u001b[39m \u001b[38;5;28;43mself\u001b[39;49m\u001b[38;5;241;43m.\u001b[39;49m\u001b[43m_data_queue\u001b[49m\u001b[38;5;241;43m.\u001b[39;49m\u001b[43mget\u001b[49m\u001b[43m(\u001b[49m\u001b[43mtimeout\u001b[49m\u001b[38;5;241;43m=\u001b[39;49m\u001b[43mtimeout\u001b[49m\u001b[43m)\u001b[49m\n\u001b[1;32m   1121\u001b[0m         \u001b[38;5;28;01mreturn\u001b[39;00m (\u001b[38;5;28;01mTrue\u001b[39;00m, data)\n\u001b[1;32m   1122\u001b[0m     \u001b[38;5;28;01mexcept\u001b[39;00m \u001b[38;5;167;01mException\u001b[39;00m \u001b[38;5;28;01mas\u001b[39;00m e:\n\u001b[1;32m   1123\u001b[0m         \u001b[38;5;66;03m# At timeout and error, we manually check whether any worker has\u001b[39;00m\n\u001b[1;32m   1124\u001b[0m         \u001b[38;5;66;03m# failed. Note that this is the only mechanism for Windows to detect\u001b[39;00m\n\u001b[1;32m   1125\u001b[0m         \u001b[38;5;66;03m# worker failures.\u001b[39;00m\n",
      "File \u001b[0;32m/opt/conda/lib/python3.10/multiprocessing/queues.py:113\u001b[0m, in \u001b[0;36mQueue.get\u001b[0;34m(self, block, timeout)\u001b[0m\n\u001b[1;32m    111\u001b[0m \u001b[38;5;28;01mif\u001b[39;00m block:\n\u001b[1;32m    112\u001b[0m     timeout \u001b[38;5;241m=\u001b[39m deadline \u001b[38;5;241m-\u001b[39m time\u001b[38;5;241m.\u001b[39mmonotonic()\n\u001b[0;32m--> 113\u001b[0m     \u001b[38;5;28;01mif\u001b[39;00m \u001b[38;5;129;01mnot\u001b[39;00m \u001b[38;5;28;43mself\u001b[39;49m\u001b[38;5;241;43m.\u001b[39;49m\u001b[43m_poll\u001b[49m\u001b[43m(\u001b[49m\u001b[43mtimeout\u001b[49m\u001b[43m)\u001b[49m:\n\u001b[1;32m    114\u001b[0m         \u001b[38;5;28;01mraise\u001b[39;00m Empty\n\u001b[1;32m    115\u001b[0m \u001b[38;5;28;01melif\u001b[39;00m \u001b[38;5;129;01mnot\u001b[39;00m \u001b[38;5;28mself\u001b[39m\u001b[38;5;241m.\u001b[39m_poll():\n",
      "File \u001b[0;32m/opt/conda/lib/python3.10/multiprocessing/connection.py:257\u001b[0m, in \u001b[0;36m_ConnectionBase.poll\u001b[0;34m(self, timeout)\u001b[0m\n\u001b[1;32m    255\u001b[0m \u001b[38;5;28mself\u001b[39m\u001b[38;5;241m.\u001b[39m_check_closed()\n\u001b[1;32m    256\u001b[0m \u001b[38;5;28mself\u001b[39m\u001b[38;5;241m.\u001b[39m_check_readable()\n\u001b[0;32m--> 257\u001b[0m \u001b[38;5;28;01mreturn\u001b[39;00m \u001b[38;5;28;43mself\u001b[39;49m\u001b[38;5;241;43m.\u001b[39;49m\u001b[43m_poll\u001b[49m\u001b[43m(\u001b[49m\u001b[43mtimeout\u001b[49m\u001b[43m)\u001b[49m\n",
      "File \u001b[0;32m/opt/conda/lib/python3.10/multiprocessing/connection.py:424\u001b[0m, in \u001b[0;36mConnection._poll\u001b[0;34m(self, timeout)\u001b[0m\n\u001b[1;32m    423\u001b[0m \u001b[38;5;28;01mdef\u001b[39;00m \u001b[38;5;21m_poll\u001b[39m(\u001b[38;5;28mself\u001b[39m, timeout):\n\u001b[0;32m--> 424\u001b[0m     r \u001b[38;5;241m=\u001b[39m \u001b[43mwait\u001b[49m\u001b[43m(\u001b[49m\u001b[43m[\u001b[49m\u001b[38;5;28;43mself\u001b[39;49m\u001b[43m]\u001b[49m\u001b[43m,\u001b[49m\u001b[43m \u001b[49m\u001b[43mtimeout\u001b[49m\u001b[43m)\u001b[49m\n\u001b[1;32m    425\u001b[0m     \u001b[38;5;28;01mreturn\u001b[39;00m \u001b[38;5;28mbool\u001b[39m(r)\n",
      "File \u001b[0;32m/opt/conda/lib/python3.10/multiprocessing/connection.py:931\u001b[0m, in \u001b[0;36mwait\u001b[0;34m(object_list, timeout)\u001b[0m\n\u001b[1;32m    928\u001b[0m     deadline \u001b[38;5;241m=\u001b[39m time\u001b[38;5;241m.\u001b[39mmonotonic() \u001b[38;5;241m+\u001b[39m timeout\n\u001b[1;32m    930\u001b[0m \u001b[38;5;28;01mwhile\u001b[39;00m \u001b[38;5;28;01mTrue\u001b[39;00m:\n\u001b[0;32m--> 931\u001b[0m     ready \u001b[38;5;241m=\u001b[39m \u001b[43mselector\u001b[49m\u001b[38;5;241;43m.\u001b[39;49m\u001b[43mselect\u001b[49m\u001b[43m(\u001b[49m\u001b[43mtimeout\u001b[49m\u001b[43m)\u001b[49m\n\u001b[1;32m    932\u001b[0m     \u001b[38;5;28;01mif\u001b[39;00m ready:\n\u001b[1;32m    933\u001b[0m         \u001b[38;5;28;01mreturn\u001b[39;00m [key\u001b[38;5;241m.\u001b[39mfileobj \u001b[38;5;28;01mfor\u001b[39;00m (key, events) \u001b[38;5;129;01min\u001b[39;00m ready]\n",
      "File \u001b[0;32m/opt/conda/lib/python3.10/selectors.py:416\u001b[0m, in \u001b[0;36m_PollLikeSelector.select\u001b[0;34m(self, timeout)\u001b[0m\n\u001b[1;32m    414\u001b[0m ready \u001b[38;5;241m=\u001b[39m []\n\u001b[1;32m    415\u001b[0m \u001b[38;5;28;01mtry\u001b[39;00m:\n\u001b[0;32m--> 416\u001b[0m     fd_event_list \u001b[38;5;241m=\u001b[39m \u001b[38;5;28;43mself\u001b[39;49m\u001b[38;5;241;43m.\u001b[39;49m\u001b[43m_selector\u001b[49m\u001b[38;5;241;43m.\u001b[39;49m\u001b[43mpoll\u001b[49m\u001b[43m(\u001b[49m\u001b[43mtimeout\u001b[49m\u001b[43m)\u001b[49m\n\u001b[1;32m    417\u001b[0m \u001b[38;5;28;01mexcept\u001b[39;00m \u001b[38;5;167;01mInterruptedError\u001b[39;00m:\n\u001b[1;32m    418\u001b[0m     \u001b[38;5;28;01mreturn\u001b[39;00m ready\n",
      "\u001b[0;31mKeyboardInterrupt\u001b[0m: "
     ]
    }
   ],
   "source": [
    "loss_history, train_history, val_history = train(model_rn, train_loader,\n",
    "                                                 val_loader, loss,\n",
    "                                                 optimizer, warmup_scheduler,\n",
    "                                                 num_epochs=50)"
   ]
  },
  {
   "cell_type": "markdown",
   "metadata": {},
   "source": [
    "### Testing ResNet50"
   ]
  },
  {
   "cell_type": "code",
   "execution_count": 12,
   "metadata": {
    "tags": []
   },
   "outputs": [
    {
     "name": "stdout",
     "output_type": "stream",
     "text": [
      "BCResNet model test accuracy: 1.00\n",
      "BCResNet model test loss: 0.001\n"
     ]
    }
   ],
   "source": [
    "rn_test_accuracy, rn_test_loss = compute_acc_loss(model_rn, test_loader, loss)\n",
    "print(f'BCResNet model test accuracy: {rn_test_accuracy:.2f}')\n",
    "print(f'BCResNet model test loss: {rn_test_loss:.3f}')"
   ]
  },
  {
   "cell_type": "code",
   "execution_count": 17,
   "metadata": {
    "tags": []
   },
   "outputs": [],
   "source": [
    "torch.save(model_rn.state_dict(), 'weights_rn50.pth')"
   ]
  },
  {
   "cell_type": "code",
   "execution_count": 18,
   "metadata": {
    "tags": []
   },
   "outputs": [],
   "source": [
    "torch.save(optimizer.state_dict(), 'optimizer_rn50.pth')"
   ]
  },
  {
   "cell_type": "markdown",
   "metadata": {},
   "source": [
    "### Testing ResNet50 on the phone audio recordings (in Russian)"
   ]
  },
  {
   "cell_type": "code",
   "execution_count": 16,
   "metadata": {
    "tags": []
   },
   "outputs": [
    {
     "name": "stdout",
     "output_type": "stream",
     "text": [
      "BCResNet model test accuracy: 0.33\n",
      "BCResNet model test loss: 5.397\n"
     ]
    }
   ],
   "source": [
    "rn_phone_test_accuracy, rn_phone_test_loss = compute_acc_loss(model_rn, phone_loader, loss)\n",
    "print(f'BCResNet model test accuracy: {rn_phone_test_accuracy:.2f}')\n",
    "print(f'BCResNet model test loss: {rn_phone_test_loss:.3f}')"
   ]
  },
  {
   "cell_type": "markdown",
   "metadata": {},
   "source": [
    "### ResNet101"
   ]
  },
  {
   "cell_type": "code",
   "execution_count": 10,
   "metadata": {
    "tags": []
   },
   "outputs": [
    {
     "name": "stdout",
     "output_type": "stream",
     "text": [
      "Adjusting learning rate of group 0 to 1.0000e-05.\n"
     ]
    }
   ],
   "source": [
    "from ResNet import ResNet101\n",
    "\n",
    "model_rn = ResNet101(1, device)\n",
    "model_rn.type(torch.cuda.FloatTensor)\n",
    "model_rn.to(device)\n",
    "\n",
    "loss = nn.BCELoss().type(torch.cuda.FloatTensor)\n",
    "optimizer = optim.SGD(model_rn.parameters(), lr=1e-5)\n",
    "\n",
    "cosine_scheduler = optim.lr_scheduler.CosineAnnealingLR(optimizer, T_max=60, verbose=True)\n",
    "warmup_scheduler = GradualWarmupScheduler(optimizer, multiplier=1, total_epoch=60,\n",
    "                                          after_scheduler=cosine_scheduler)"
   ]
  },
  {
   "cell_type": "code",
   "execution_count": 11,
   "metadata": {
    "tags": []
   },
   "outputs": [
    {
     "data": {
      "text/html": [
       "Tracking run with wandb version 0.15.8"
      ],
      "text/plain": [
       "<IPython.core.display.HTML object>"
      ]
     },
     "metadata": {},
     "output_type": "display_data"
    },
    {
     "data": {
      "text/html": [
       "Run data is saved locally in <code>/home/jovyan/project/wandb/run-20230822_180826-bxhskgpo</code>"
      ],
      "text/plain": [
       "<IPython.core.display.HTML object>"
      ]
     },
     "metadata": {},
     "output_type": "display_data"
    },
    {
     "data": {
      "text/html": [
       "Syncing run <strong><a href='https://wandb.ai/darya-dare/Noise-Estimation/runs/bxhskgpo' target=\"_blank\">still-universe-126</a></strong> to <a href='https://wandb.ai/darya-dare/Noise-Estimation' target=\"_blank\">Weights & Biases</a> (<a href='https://wandb.me/run' target=\"_blank\">docs</a>)<br/>"
      ],
      "text/plain": [
       "<IPython.core.display.HTML object>"
      ]
     },
     "metadata": {},
     "output_type": "display_data"
    },
    {
     "data": {
      "text/html": [
       " View project at <a href='https://wandb.ai/darya-dare/Noise-Estimation' target=\"_blank\">https://wandb.ai/darya-dare/Noise-Estimation</a>"
      ],
      "text/plain": [
       "<IPython.core.display.HTML object>"
      ]
     },
     "metadata": {},
     "output_type": "display_data"
    },
    {
     "data": {
      "text/html": [
       " View run at <a href='https://wandb.ai/darya-dare/Noise-Estimation/runs/bxhskgpo' target=\"_blank\">https://wandb.ai/darya-dare/Noise-Estimation/runs/bxhskgpo</a>"
      ],
      "text/plain": [
       "<IPython.core.display.HTML object>"
      ]
     },
     "metadata": {},
     "output_type": "display_data"
    },
    {
     "name": "stderr",
     "output_type": "stream",
     "text": [
      "Epoch 1: Average epoch loss: 0.697 Train accuracy: 0.53 Val loss: 0.697 Val accuracy: 0.53: 100%|██████████| 48/48 [00:42<00:00,  1.13it/s]\n",
      "Epoch 2: Average epoch loss: 0.695 Train accuracy: 0.54 Val loss: 0.696 Val accuracy: 0.56: 100%|██████████| 48/48 [00:41<00:00,  1.15it/s]\n",
      "Epoch 3: Average epoch loss: 0.691 Train accuracy: 0.56 Val loss: 0.695 Val accuracy: 0.54: 100%|██████████| 48/48 [00:40<00:00,  1.17it/s]\n",
      "Epoch 4: Average epoch loss: 0.698 Train accuracy: 0.53 Val loss: 0.695 Val accuracy: 0.55: 100%|██████████| 48/48 [00:43<00:00,  1.09it/s]\n",
      "Epoch 5: Average epoch loss: 0.692 Train accuracy: 0.56 Val loss: 0.691 Val accuracy: 0.55: 100%|██████████| 48/48 [00:44<00:00,  1.08it/s]\n",
      "Epoch 6: Average epoch loss: 0.689 Train accuracy: 0.57 Val loss: 0.693 Val accuracy: 0.55: 100%|██████████| 48/48 [00:42<00:00,  1.13it/s]\n",
      "Epoch 7: Average epoch loss: 0.690 Train accuracy: 0.56 Val loss: 0.689 Val accuracy: 0.57: 100%|██████████| 48/48 [00:43<00:00,  1.11it/s]\n",
      "Epoch 8: Average epoch loss: 0.687 Train accuracy: 0.57 Val loss: 0.689 Val accuracy: 0.56: 100%|██████████| 48/48 [00:43<00:00,  1.12it/s]\n",
      "Epoch 9: Average epoch loss: 0.686 Train accuracy: 0.57 Val loss: 0.680 Val accuracy: 0.59: 100%|██████████| 48/48 [00:43<00:00,  1.11it/s]\n",
      "Epoch 10: Average epoch loss: 0.680 Train accuracy: 0.60 Val loss: 0.675 Val accuracy: 0.63: 100%|██████████| 48/48 [00:42<00:00,  1.14it/s]\n",
      "Epoch 11: Average epoch loss: 0.678 Train accuracy: 0.60 Val loss: 0.680 Val accuracy: 0.59: 100%|██████████| 48/48 [00:43<00:00,  1.12it/s]\n",
      "Epoch 12: Average epoch loss: 0.674 Train accuracy: 0.62 Val loss: 0.670 Val accuracy: 0.64: 100%|██████████| 48/48 [00:43<00:00,  1.11it/s]\n",
      "Epoch 13: Average epoch loss: 0.673 Train accuracy: 0.62 Val loss: 0.671 Val accuracy: 0.64: 100%|██████████| 48/48 [00:42<00:00,  1.12it/s]\n",
      "Epoch 14: Average epoch loss: 0.670 Train accuracy: 0.64 Val loss: 0.662 Val accuracy: 0.65: 100%|██████████| 48/48 [00:42<00:00,  1.12it/s]\n",
      "Epoch 15: Average epoch loss: 0.665 Train accuracy: 0.66 Val loss: 0.660 Val accuracy: 0.67: 100%|██████████| 48/48 [00:43<00:00,  1.11it/s]\n",
      "Epoch 16: Average epoch loss: 0.660 Train accuracy: 0.67 Val loss: 0.664 Val accuracy: 0.65: 100%|██████████| 48/48 [00:43<00:00,  1.10it/s]\n",
      "Epoch 17: Average epoch loss: 0.659 Train accuracy: 0.66 Val loss: 0.653 Val accuracy: 0.69: 100%|██████████| 48/48 [00:44<00:00,  1.08it/s]\n",
      "Epoch 18: Average epoch loss: 0.654 Train accuracy: 0.68 Val loss: 0.652 Val accuracy: 0.66: 100%|██████████| 48/48 [00:43<00:00,  1.11it/s]\n",
      "Epoch 19: Average epoch loss: 0.653 Train accuracy: 0.68 Val loss: 0.647 Val accuracy: 0.68: 100%|██████████| 48/48 [00:43<00:00,  1.09it/s]\n",
      "Epoch 20: Average epoch loss: 0.649 Train accuracy: 0.68 Val loss: 0.644 Val accuracy: 0.68: 100%|██████████| 48/48 [00:43<00:00,  1.10it/s]\n",
      "Epoch 21: Average epoch loss: 0.645 Train accuracy: 0.68 Val loss: 0.639 Val accuracy: 0.70: 100%|██████████| 48/48 [00:41<00:00,  1.15it/s]\n",
      "Epoch 22: Average epoch loss: 0.643 Train accuracy: 0.68 Val loss: 0.634 Val accuracy: 0.71: 100%|██████████| 48/48 [00:43<00:00,  1.11it/s]\n",
      "Epoch 23: Average epoch loss: 0.640 Train accuracy: 0.68 Val loss: 0.633 Val accuracy: 0.68: 100%|██████████| 48/48 [00:44<00:00,  1.09it/s]\n",
      "Epoch 24: Average epoch loss: 0.637 Train accuracy: 0.67 Val loss: 0.623 Val accuracy: 0.72: 100%|██████████| 48/48 [00:43<00:00,  1.11it/s]\n",
      "Epoch 25: Average epoch loss: 0.634 Train accuracy: 0.68 Val loss: 0.619 Val accuracy: 0.71: 100%|██████████| 48/48 [00:44<00:00,  1.09it/s]\n",
      "Epoch 26: Average epoch loss: 0.631 Train accuracy: 0.67 Val loss: 0.626 Val accuracy: 0.71: 100%|██████████| 48/48 [00:43<00:00,  1.10it/s]\n",
      "Epoch 27: Average epoch loss: 0.628 Train accuracy: 0.67 Val loss: 0.618 Val accuracy: 0.68: 100%|██████████| 48/48 [00:43<00:00,  1.11it/s]\n",
      "Epoch 28: Average epoch loss: 0.626 Train accuracy: 0.66 Val loss: 0.614 Val accuracy: 0.67: 100%|██████████| 48/48 [00:42<00:00,  1.13it/s]\n",
      "Epoch 29: Average epoch loss: 0.623 Train accuracy: 0.66 Val loss: 0.608 Val accuracy: 0.68: 100%|██████████| 48/48 [00:43<00:00,  1.10it/s]\n",
      "Epoch 30: Average epoch loss: 0.621 Train accuracy: 0.67 Val loss: 0.620 Val accuracy: 0.67: 100%|██████████| 48/48 [00:41<00:00,  1.14it/s]\n",
      "Epoch 31: Average epoch loss: 0.621 Train accuracy: 0.66 Val loss: 0.604 Val accuracy: 0.71: 100%|██████████| 48/48 [00:41<00:00,  1.16it/s]\n",
      "Epoch 32: Average epoch loss: 0.617 Train accuracy: 0.67 Val loss: 0.607 Val accuracy: 0.67: 100%|██████████| 48/48 [00:44<00:00,  1.09it/s]\n",
      "Epoch 33: Average epoch loss: 0.612 Train accuracy: 0.68 Val loss: 0.611 Val accuracy: 0.68: 100%|██████████| 48/48 [00:42<00:00,  1.12it/s]\n",
      "Epoch 34: Average epoch loss: 0.612 Train accuracy: 0.67 Val loss: 0.595 Val accuracy: 0.67: 100%|██████████| 48/48 [00:42<00:00,  1.13it/s]\n",
      "Epoch 35: Average epoch loss: 0.607 Train accuracy: 0.69 Val loss: 0.603 Val accuracy: 0.70: 100%|██████████| 48/48 [00:43<00:00,  1.10it/s]\n",
      "Epoch 36: Average epoch loss: 0.607 Train accuracy: 0.69 Val loss: 0.588 Val accuracy: 0.72: 100%|██████████| 48/48 [00:42<00:00,  1.14it/s]\n",
      "Epoch 37: Average epoch loss: 0.601 Train accuracy: 0.71 Val loss: 0.583 Val accuracy: 0.71: 100%|██████████| 48/48 [00:44<00:00,  1.08it/s]\n",
      "Epoch 38: Average epoch loss: 0.597 Train accuracy: 0.72 Val loss: 0.589 Val accuracy: 0.71: 100%|██████████| 48/48 [00:43<00:00,  1.10it/s]\n",
      "Epoch 39: Average epoch loss: 0.598 Train accuracy: 0.71 Val loss: 0.597 Val accuracy: 0.70: 100%|██████████| 48/48 [00:42<00:00,  1.13it/s]\n",
      "Epoch 40: Average epoch loss: 0.594 Train accuracy: 0.72 Val loss: 0.589 Val accuracy: 0.74: 100%|██████████| 48/48 [00:41<00:00,  1.15it/s]\n",
      "Epoch 41: Average epoch loss: 0.593 Train accuracy: 0.72 Val loss: 0.601 Val accuracy: 0.74: 100%|██████████| 48/48 [00:42<00:00,  1.12it/s]\n",
      "Epoch 42: Average epoch loss: 0.589 Train accuracy: 0.74 Val loss: 0.575 Val accuracy: 0.76: 100%|██████████| 48/48 [00:45<00:00,  1.06it/s]\n",
      "Epoch 43: Average epoch loss: 0.587 Train accuracy: 0.75 Val loss: 0.581 Val accuracy: 0.76: 100%|██████████| 48/48 [00:44<00:00,  1.08it/s]\n",
      "Epoch 44: Average epoch loss: 0.582 Train accuracy: 0.77 Val loss: 0.571 Val accuracy: 0.77: 100%|██████████| 48/48 [00:42<00:00,  1.13it/s]\n",
      "Epoch 45: Average epoch loss: 0.577 Train accuracy: 0.79 Val loss: 0.577 Val accuracy: 0.78: 100%|██████████| 48/48 [00:42<00:00,  1.13it/s]\n",
      "Epoch 46: Average epoch loss: 0.575 Train accuracy: 0.78 Val loss: 0.572 Val accuracy: 0.81: 100%|██████████| 48/48 [00:43<00:00,  1.10it/s]\n",
      "Epoch 47: Average epoch loss: 0.572 Train accuracy: 0.81 Val loss: 0.578 Val accuracy: 0.82: 100%|██████████| 48/48 [00:42<00:00,  1.13it/s]\n",
      "Epoch 48: Average epoch loss: 0.567 Train accuracy: 0.82 Val loss: 0.524 Val accuracy: 0.85: 100%|██████████| 48/48 [00:43<00:00,  1.10it/s]\n",
      "Epoch 49: Average epoch loss: 0.561 Train accuracy: 0.85 Val loss: 0.548 Val accuracy: 0.84: 100%|██████████| 48/48 [00:43<00:00,  1.10it/s]\n",
      "Epoch 50: Average epoch loss: 0.559 Train accuracy: 0.85 Val loss: 0.570 Val accuracy: 0.86: 100%|██████████| 48/48 [00:42<00:00,  1.12it/s]\n",
      "Epoch 51: Average epoch loss: 0.555 Train accuracy: 0.86 Val loss: 0.550 Val accuracy: 0.88: 100%|██████████| 48/48 [00:42<00:00,  1.12it/s]\n",
      "Epoch 52: Average epoch loss: 0.553 Train accuracy: 0.87 Val loss: 0.547 Val accuracy: 0.87: 100%|██████████| 48/48 [00:44<00:00,  1.08it/s]\n",
      "Epoch 53: Average epoch loss: 0.549 Train accuracy: 0.88 Val loss: 0.532 Val accuracy: 0.89: 100%|██████████| 48/48 [00:41<00:00,  1.16it/s]\n",
      "Epoch 54: Average epoch loss: 0.548 Train accuracy: 0.87 Val loss: 0.563 Val accuracy: 0.86: 100%|██████████| 48/48 [00:44<00:00,  1.09it/s]\n",
      "Epoch 55: Average epoch loss: 0.547 Train accuracy: 0.88 Val loss: 0.523 Val accuracy: 0.90: 100%|██████████| 48/48 [00:42<00:00,  1.12it/s]\n",
      "Epoch 56: Average epoch loss: 0.545 Train accuracy: 0.87 Val loss: 0.529 Val accuracy: 0.91: 100%|██████████| 48/48 [00:43<00:00,  1.10it/s]\n",
      "Epoch 57: Average epoch loss: 0.537 Train accuracy: 0.90 Val loss: 0.518 Val accuracy: 0.91: 100%|██████████| 48/48 [00:43<00:00,  1.11it/s]\n",
      "Epoch 58: Average epoch loss: 0.534 Train accuracy: 0.90 Val loss: 0.539 Val accuracy: 0.92: 100%|██████████| 48/48 [00:43<00:00,  1.11it/s]\n",
      "Epoch 59: Average epoch loss: 0.534 Train accuracy: 0.89 Val loss: 0.532 Val accuracy: 0.91: 100%|██████████| 48/48 [00:43<00:00,  1.10it/s]\n",
      "Epoch 60: Average epoch loss: 0.528 Train accuracy: 0.90 Val loss: 0.527 Val accuracy: 0.90: 100%|██████████| 48/48 [00:43<00:00,  1.11it/s]\n",
      "Epoch 61: Average epoch loss: 0.525 Train accuracy: 0.90 Val loss: 0.523 Val accuracy: 0.91: 100%|██████████| 48/48 [00:43<00:00,  1.10it/s]\n",
      "Epoch 62: Average epoch loss: 0.522 Train accuracy: 0.91 Val loss: 0.520 Val accuracy: 0.91: 100%|██████████| 48/48 [00:42<00:00,  1.14it/s]\n"
     ]
    },
    {
     "name": "stdout",
     "output_type": "stream",
     "text": [
      "Adjusting learning rate of group 0 to 9.9931e-06.\n"
     ]
    },
    {
     "name": "stderr",
     "output_type": "stream",
     "text": [
      "Epoch 63: Average epoch loss: 0.517 Train accuracy: 0.92 Val loss: 0.497 Val accuracy: 0.92: 100%|██████████| 48/48 [00:42<00:00,  1.13it/s]\n"
     ]
    },
    {
     "name": "stdout",
     "output_type": "stream",
     "text": [
      "Adjusting learning rate of group 0 to 9.9726e-06.\n"
     ]
    },
    {
     "name": "stderr",
     "output_type": "stream",
     "text": [
      "Epoch 64: Average epoch loss: 0.519 Train accuracy: 0.90 Val loss: 0.494 Val accuracy: 0.93: 100%|██████████| 48/48 [00:42<00:00,  1.12it/s]\n"
     ]
    },
    {
     "name": "stdout",
     "output_type": "stream",
     "text": [
      "Adjusting learning rate of group 0 to 9.9384e-06.\n"
     ]
    },
    {
     "name": "stderr",
     "output_type": "stream",
     "text": [
      "Epoch 65: Average epoch loss: 0.510 Train accuracy: 0.91 Val loss: 0.514 Val accuracy: 0.90: 100%|██████████| 48/48 [00:45<00:00,  1.07it/s]\n"
     ]
    },
    {
     "name": "stdout",
     "output_type": "stream",
     "text": [
      "Adjusting learning rate of group 0 to 9.8907e-06.\n"
     ]
    },
    {
     "name": "stderr",
     "output_type": "stream",
     "text": [
      "Epoch 66: Average epoch loss: 0.511 Train accuracy: 0.91 Val loss: 0.508 Val accuracy: 0.92: 100%|██████████| 48/48 [00:45<00:00,  1.06it/s]\n"
     ]
    },
    {
     "name": "stdout",
     "output_type": "stream",
     "text": [
      "Adjusting learning rate of group 0 to 9.8296e-06.\n"
     ]
    },
    {
     "name": "stderr",
     "output_type": "stream",
     "text": [
      "Epoch 67: Average epoch loss: 0.513 Train accuracy: 0.90 Val loss: 0.517 Val accuracy: 0.90: 100%|██████████| 48/48 [00:42<00:00,  1.12it/s]\n"
     ]
    },
    {
     "name": "stdout",
     "output_type": "stream",
     "text": [
      "Adjusting learning rate of group 0 to 9.7553e-06.\n"
     ]
    },
    {
     "name": "stderr",
     "output_type": "stream",
     "text": [
      "Epoch 68: Average epoch loss: 0.506 Train accuracy: 0.90 Val loss: 0.483 Val accuracy: 0.92: 100%|██████████| 48/48 [00:43<00:00,  1.10it/s]\n"
     ]
    },
    {
     "name": "stdout",
     "output_type": "stream",
     "text": [
      "Adjusting learning rate of group 0 to 9.6679e-06.\n"
     ]
    },
    {
     "name": "stderr",
     "output_type": "stream",
     "text": [
      "Epoch 69: Average epoch loss: 0.505 Train accuracy: 0.89 Val loss: 0.503 Val accuracy: 0.89: 100%|██████████| 48/48 [00:44<00:00,  1.07it/s]\n"
     ]
    },
    {
     "name": "stdout",
     "output_type": "stream",
     "text": [
      "Adjusting learning rate of group 0 to 9.5677e-06.\n"
     ]
    },
    {
     "name": "stderr",
     "output_type": "stream",
     "text": [
      "Epoch 70: Average epoch loss: 0.507 Train accuracy: 0.89 Val loss: 0.488 Val accuracy: 0.91: 100%|██████████| 48/48 [00:43<00:00,  1.09it/s]\n"
     ]
    },
    {
     "name": "stdout",
     "output_type": "stream",
     "text": [
      "Adjusting learning rate of group 0 to 9.4550e-06.\n"
     ]
    },
    {
     "name": "stderr",
     "output_type": "stream",
     "text": [
      "Epoch 71: Average epoch loss: 0.502 Train accuracy: 0.90 Val loss: 0.498 Val accuracy: 0.91: 100%|██████████| 48/48 [00:43<00:00,  1.11it/s]\n"
     ]
    },
    {
     "name": "stdout",
     "output_type": "stream",
     "text": [
      "Adjusting learning rate of group 0 to 9.3301e-06.\n"
     ]
    },
    {
     "name": "stderr",
     "output_type": "stream",
     "text": [
      "Epoch 72: Average epoch loss: 0.503 Train accuracy: 0.89 Val loss: 0.477 Val accuracy: 0.93: 100%|██████████| 48/48 [00:42<00:00,  1.12it/s]\n"
     ]
    },
    {
     "name": "stdout",
     "output_type": "stream",
     "text": [
      "Adjusting learning rate of group 0 to 9.1934e-06.\n"
     ]
    },
    {
     "name": "stderr",
     "output_type": "stream",
     "text": [
      "Epoch 73: Average epoch loss: 0.498 Train accuracy: 0.90 Val loss: 0.503 Val accuracy: 0.88: 100%|██████████| 48/48 [00:42<00:00,  1.12it/s]\n"
     ]
    },
    {
     "name": "stdout",
     "output_type": "stream",
     "text": [
      "Adjusting learning rate of group 0 to 9.0451e-06.\n"
     ]
    },
    {
     "name": "stderr",
     "output_type": "stream",
     "text": [
      "Epoch 74: Average epoch loss: 0.498 Train accuracy: 0.90 Val loss: 0.509 Val accuracy: 0.89: 100%|██████████| 48/48 [00:42<00:00,  1.12it/s]\n"
     ]
    },
    {
     "name": "stdout",
     "output_type": "stream",
     "text": [
      "Adjusting learning rate of group 0 to 8.8857e-06.\n"
     ]
    },
    {
     "name": "stderr",
     "output_type": "stream",
     "text": [
      "Epoch 75: Average epoch loss: 0.494 Train accuracy: 0.90 Val loss: 0.494 Val accuracy: 0.89: 100%|██████████| 48/48 [00:41<00:00,  1.14it/s]\n"
     ]
    },
    {
     "name": "stdout",
     "output_type": "stream",
     "text": [
      "Adjusting learning rate of group 0 to 8.7157e-06.\n"
     ]
    },
    {
     "name": "stderr",
     "output_type": "stream",
     "text": [
      "Epoch 76: Average epoch loss: 0.494 Train accuracy: 0.89 Val loss: 0.499 Val accuracy: 0.89: 100%|██████████| 48/48 [00:42<00:00,  1.14it/s]\n"
     ]
    },
    {
     "name": "stdout",
     "output_type": "stream",
     "text": [
      "Adjusting learning rate of group 0 to 8.5355e-06.\n"
     ]
    },
    {
     "name": "stderr",
     "output_type": "stream",
     "text": [
      "Epoch 77: Average epoch loss: 0.492 Train accuracy: 0.89 Val loss: 0.489 Val accuracy: 0.89: 100%|██████████| 48/48 [00:41<00:00,  1.15it/s]\n"
     ]
    },
    {
     "name": "stdout",
     "output_type": "stream",
     "text": [
      "Adjusting learning rate of group 0 to 8.3457e-06.\n"
     ]
    },
    {
     "name": "stderr",
     "output_type": "stream",
     "text": [
      "Epoch 78: Average epoch loss: 0.490 Train accuracy: 0.89 Val loss: 0.486 Val accuracy: 0.91: 100%|██████████| 48/48 [00:43<00:00,  1.10it/s]\n"
     ]
    },
    {
     "name": "stdout",
     "output_type": "stream",
     "text": [
      "Adjusting learning rate of group 0 to 8.1466e-06.\n"
     ]
    },
    {
     "name": "stderr",
     "output_type": "stream",
     "text": [
      "Epoch 79: Average epoch loss: 0.485 Train accuracy: 0.89 Val loss: 0.477 Val accuracy: 0.89: 100%|██████████| 48/48 [00:42<00:00,  1.13it/s]\n"
     ]
    },
    {
     "name": "stdout",
     "output_type": "stream",
     "text": [
      "Adjusting learning rate of group 0 to 7.9389e-06.\n"
     ]
    },
    {
     "name": "stderr",
     "output_type": "stream",
     "text": [
      "Epoch 80: Average epoch loss: 0.481 Train accuracy: 0.90 Val loss: 0.472 Val accuracy: 0.90: 100%|██████████| 48/48 [00:44<00:00,  1.08it/s]\n"
     ]
    },
    {
     "name": "stdout",
     "output_type": "stream",
     "text": [
      "Adjusting learning rate of group 0 to 7.7232e-06.\n"
     ]
    },
    {
     "name": "stderr",
     "output_type": "stream",
     "text": [
      "Epoch 81: Average epoch loss: 0.477 Train accuracy: 0.90 Val loss: 0.466 Val accuracy: 0.91: 100%|██████████| 48/48 [00:41<00:00,  1.15it/s]\n"
     ]
    },
    {
     "name": "stdout",
     "output_type": "stream",
     "text": [
      "Adjusting learning rate of group 0 to 7.5000e-06.\n"
     ]
    },
    {
     "name": "stderr",
     "output_type": "stream",
     "text": [
      "Epoch 82: Average epoch loss: 0.473 Train accuracy: 0.90 Val loss: 0.476 Val accuracy: 0.90: 100%|██████████| 48/48 [00:42<00:00,  1.13it/s]\n"
     ]
    },
    {
     "name": "stdout",
     "output_type": "stream",
     "text": [
      "Adjusting learning rate of group 0 to 7.2700e-06.\n"
     ]
    },
    {
     "name": "stderr",
     "output_type": "stream",
     "text": [
      "Epoch 83: Average epoch loss: 0.475 Train accuracy: 0.89 Val loss: 0.467 Val accuracy: 0.91: 100%|██████████| 48/48 [00:42<00:00,  1.13it/s]\n"
     ]
    },
    {
     "name": "stdout",
     "output_type": "stream",
     "text": [
      "Adjusting learning rate of group 0 to 7.0337e-06.\n"
     ]
    },
    {
     "name": "stderr",
     "output_type": "stream",
     "text": [
      "Epoch 84: Average epoch loss: 0.473 Train accuracy: 0.89 Val loss: 0.472 Val accuracy: 0.90: 100%|██████████| 48/48 [00:42<00:00,  1.14it/s]\n"
     ]
    },
    {
     "name": "stdout",
     "output_type": "stream",
     "text": [
      "Adjusting learning rate of group 0 to 6.7918e-06.\n"
     ]
    },
    {
     "name": "stderr",
     "output_type": "stream",
     "text": [
      "Epoch 85: Average epoch loss: 0.468 Train accuracy: 0.91 Val loss: 0.462 Val accuracy: 0.89: 100%|██████████| 48/48 [00:43<00:00,  1.11it/s]\n"
     ]
    },
    {
     "name": "stdout",
     "output_type": "stream",
     "text": [
      "Adjusting learning rate of group 0 to 6.5451e-06.\n"
     ]
    },
    {
     "name": "stderr",
     "output_type": "stream",
     "text": [
      "Epoch 86: Average epoch loss: 0.472 Train accuracy: 0.90 Val loss: 0.465 Val accuracy: 0.91: 100%|██████████| 48/48 [00:43<00:00,  1.11it/s]\n"
     ]
    },
    {
     "name": "stdout",
     "output_type": "stream",
     "text": [
      "Adjusting learning rate of group 0 to 6.2941e-06.\n"
     ]
    },
    {
     "name": "stderr",
     "output_type": "stream",
     "text": [
      "Epoch 87: Average epoch loss: 0.463 Train accuracy: 0.91 Val loss: 0.442 Val accuracy: 0.92: 100%|██████████| 48/48 [00:41<00:00,  1.15it/s]\n"
     ]
    },
    {
     "name": "stdout",
     "output_type": "stream",
     "text": [
      "Adjusting learning rate of group 0 to 6.0396e-06.\n"
     ]
    },
    {
     "name": "stderr",
     "output_type": "stream",
     "text": [
      "Epoch 88: Average epoch loss: 0.460 Train accuracy: 0.90 Val loss: 0.454 Val accuracy: 0.90: 100%|██████████| 48/48 [00:43<00:00,  1.09it/s]\n"
     ]
    },
    {
     "name": "stdout",
     "output_type": "stream",
     "text": [
      "Adjusting learning rate of group 0 to 5.7822e-06.\n"
     ]
    },
    {
     "name": "stderr",
     "output_type": "stream",
     "text": [
      "Epoch 89: Average epoch loss: 0.460 Train accuracy: 0.90 Val loss: 0.482 Val accuracy: 0.89: 100%|██████████| 48/48 [00:42<00:00,  1.14it/s]\n"
     ]
    },
    {
     "name": "stdout",
     "output_type": "stream",
     "text": [
      "Adjusting learning rate of group 0 to 5.5226e-06.\n"
     ]
    },
    {
     "name": "stderr",
     "output_type": "stream",
     "text": [
      "Epoch 90: Average epoch loss: 0.455 Train accuracy: 0.91 Val loss: 0.449 Val accuracy: 0.91: 100%|██████████| 48/48 [00:43<00:00,  1.11it/s]\n"
     ]
    },
    {
     "name": "stdout",
     "output_type": "stream",
     "text": [
      "Adjusting learning rate of group 0 to 5.2617e-06.\n"
     ]
    },
    {
     "name": "stderr",
     "output_type": "stream",
     "text": [
      "Epoch 91: Average epoch loss: 0.453 Train accuracy: 0.91 Val loss: 0.456 Val accuracy: 0.90: 100%|██████████| 48/48 [00:42<00:00,  1.14it/s]\n"
     ]
    },
    {
     "name": "stdout",
     "output_type": "stream",
     "text": [
      "Adjusting learning rate of group 0 to 5.0000e-06.\n"
     ]
    },
    {
     "name": "stderr",
     "output_type": "stream",
     "text": [
      "Epoch 92: Average epoch loss: 0.453 Train accuracy: 0.90 Val loss: 0.446 Val accuracy: 0.91: 100%|██████████| 48/48 [00:43<00:00,  1.11it/s]\n"
     ]
    },
    {
     "name": "stdout",
     "output_type": "stream",
     "text": [
      "Adjusting learning rate of group 0 to 4.7383e-06.\n"
     ]
    },
    {
     "name": "stderr",
     "output_type": "stream",
     "text": [
      "Epoch 93: Average epoch loss: 0.452 Train accuracy: 0.91 Val loss: 0.444 Val accuracy: 0.91: 100%|██████████| 48/48 [00:42<00:00,  1.12it/s]\n"
     ]
    },
    {
     "name": "stdout",
     "output_type": "stream",
     "text": [
      "Adjusting learning rate of group 0 to 4.4774e-06.\n"
     ]
    },
    {
     "name": "stderr",
     "output_type": "stream",
     "text": [
      "Epoch 94: Average epoch loss: 0.451 Train accuracy: 0.91 Val loss: 0.458 Val accuracy: 0.90: 100%|██████████| 48/48 [00:42<00:00,  1.12it/s]\n"
     ]
    },
    {
     "name": "stdout",
     "output_type": "stream",
     "text": [
      "Adjusting learning rate of group 0 to 4.2178e-06.\n"
     ]
    },
    {
     "name": "stderr",
     "output_type": "stream",
     "text": [
      "Epoch 95: Average epoch loss: 0.452 Train accuracy: 0.91 Val loss: 0.445 Val accuracy: 0.90: 100%|██████████| 48/48 [00:43<00:00,  1.11it/s]\n"
     ]
    },
    {
     "name": "stdout",
     "output_type": "stream",
     "text": [
      "Adjusting learning rate of group 0 to 3.9604e-06.\n"
     ]
    },
    {
     "name": "stderr",
     "output_type": "stream",
     "text": [
      "Epoch 96: Average epoch loss: 0.452 Train accuracy: 0.90 Val loss: 0.454 Val accuracy: 0.90: 100%|██████████| 48/48 [00:43<00:00,  1.11it/s]\n"
     ]
    },
    {
     "name": "stdout",
     "output_type": "stream",
     "text": [
      "Adjusting learning rate of group 0 to 3.7059e-06.\n"
     ]
    },
    {
     "name": "stderr",
     "output_type": "stream",
     "text": [
      "Epoch 97: Average epoch loss: 0.449 Train accuracy: 0.91 Val loss: 0.452 Val accuracy: 0.91: 100%|██████████| 48/48 [00:43<00:00,  1.09it/s]\n"
     ]
    },
    {
     "name": "stdout",
     "output_type": "stream",
     "text": [
      "Adjusting learning rate of group 0 to 3.4549e-06.\n"
     ]
    },
    {
     "name": "stderr",
     "output_type": "stream",
     "text": [
      "Epoch 98: Average epoch loss: 0.451 Train accuracy: 0.90 Val loss: 0.460 Val accuracy: 0.89: 100%|██████████| 48/48 [00:43<00:00,  1.10it/s]\n"
     ]
    },
    {
     "name": "stdout",
     "output_type": "stream",
     "text": [
      "Adjusting learning rate of group 0 to 3.2082e-06.\n"
     ]
    },
    {
     "name": "stderr",
     "output_type": "stream",
     "text": [
      "Epoch 99: Average epoch loss: 0.454 Train accuracy: 0.90 Val loss: 0.456 Val accuracy: 0.90: 100%|██████████| 48/48 [00:43<00:00,  1.10it/s]\n"
     ]
    },
    {
     "name": "stdout",
     "output_type": "stream",
     "text": [
      "Adjusting learning rate of group 0 to 2.9663e-06.\n"
     ]
    },
    {
     "name": "stderr",
     "output_type": "stream",
     "text": [
      "Epoch 100: Average epoch loss: 0.446 Train accuracy: 0.91 Val loss: 0.457 Val accuracy: 0.88: 100%|██████████| 48/48 [00:43<00:00,  1.11it/s]\n"
     ]
    },
    {
     "name": "stdout",
     "output_type": "stream",
     "text": [
      "Adjusting learning rate of group 0 to 2.7300e-06.\n"
     ]
    },
    {
     "name": "stderr",
     "output_type": "stream",
     "text": [
      "Epoch 101: Average epoch loss: 0.446 Train accuracy: 0.91 Val loss: 0.441 Val accuracy: 0.90: 100%|██████████| 48/48 [00:43<00:00,  1.10it/s]\n"
     ]
    },
    {
     "name": "stdout",
     "output_type": "stream",
     "text": [
      "Adjusting learning rate of group 0 to 2.5000e-06.\n"
     ]
    },
    {
     "name": "stderr",
     "output_type": "stream",
     "text": [
      "Epoch 102: Average epoch loss: 0.444 Train accuracy: 0.91 Val loss: 0.450 Val accuracy: 0.91: 100%|██████████| 48/48 [00:42<00:00,  1.13it/s]\n"
     ]
    },
    {
     "name": "stdout",
     "output_type": "stream",
     "text": [
      "Adjusting learning rate of group 0 to 2.2768e-06.\n"
     ]
    },
    {
     "name": "stderr",
     "output_type": "stream",
     "text": [
      "Epoch 103: Average epoch loss: 0.446 Train accuracy: 0.91 Val loss: 0.443 Val accuracy: 0.91: 100%|██████████| 48/48 [00:44<00:00,  1.09it/s]\n"
     ]
    },
    {
     "name": "stdout",
     "output_type": "stream",
     "text": [
      "Adjusting learning rate of group 0 to 2.0611e-06.\n"
     ]
    },
    {
     "name": "stderr",
     "output_type": "stream",
     "text": [
      "Epoch 104: Average epoch loss: 0.445 Train accuracy: 0.90 Val loss: 0.429 Val accuracy: 0.92: 100%|██████████| 48/48 [00:43<00:00,  1.11it/s]\n"
     ]
    },
    {
     "name": "stdout",
     "output_type": "stream",
     "text": [
      "Adjusting learning rate of group 0 to 1.8534e-06.\n"
     ]
    },
    {
     "name": "stderr",
     "output_type": "stream",
     "text": [
      "Epoch 105: Average epoch loss: 0.437 Train accuracy: 0.92 Val loss: 0.435 Val accuracy: 0.91: 100%|██████████| 48/48 [00:42<00:00,  1.14it/s]\n"
     ]
    },
    {
     "name": "stdout",
     "output_type": "stream",
     "text": [
      "Adjusting learning rate of group 0 to 1.6543e-06.\n"
     ]
    },
    {
     "name": "stderr",
     "output_type": "stream",
     "text": [
      "Epoch 106: Average epoch loss: 0.442 Train accuracy: 0.91 Val loss: 0.449 Val accuracy: 0.89: 100%|██████████| 48/48 [00:43<00:00,  1.11it/s]\n"
     ]
    },
    {
     "name": "stdout",
     "output_type": "stream",
     "text": [
      "Adjusting learning rate of group 0 to 1.4645e-06.\n"
     ]
    },
    {
     "name": "stderr",
     "output_type": "stream",
     "text": [
      "Epoch 107: Average epoch loss: 0.443 Train accuracy: 0.91 Val loss: 0.439 Val accuracy: 0.91: 100%|██████████| 48/48 [00:42<00:00,  1.12it/s]\n"
     ]
    },
    {
     "name": "stdout",
     "output_type": "stream",
     "text": [
      "Adjusting learning rate of group 0 to 1.2843e-06.\n"
     ]
    },
    {
     "name": "stderr",
     "output_type": "stream",
     "text": [
      "Epoch 108: Average epoch loss: 0.441 Train accuracy: 0.91 Val loss: 0.439 Val accuracy: 0.90: 100%|██████████| 48/48 [00:42<00:00,  1.13it/s]\n"
     ]
    },
    {
     "name": "stdout",
     "output_type": "stream",
     "text": [
      "Adjusting learning rate of group 0 to 1.1143e-06.\n"
     ]
    },
    {
     "name": "stderr",
     "output_type": "stream",
     "text": [
      "Epoch 109: Average epoch loss: 0.444 Train accuracy: 0.91 Val loss: 0.441 Val accuracy: 0.90: 100%|██████████| 48/48 [00:44<00:00,  1.08it/s]\n"
     ]
    },
    {
     "name": "stdout",
     "output_type": "stream",
     "text": [
      "Adjusting learning rate of group 0 to 9.5492e-07.\n"
     ]
    },
    {
     "name": "stderr",
     "output_type": "stream",
     "text": [
      "Epoch 110: Average epoch loss: 0.443 Train accuracy: 0.91 Val loss: 0.450 Val accuracy: 0.90: 100%|██████████| 48/48 [00:43<00:00,  1.11it/s]\n"
     ]
    },
    {
     "name": "stdout",
     "output_type": "stream",
     "text": [
      "Adjusting learning rate of group 0 to 8.0665e-07.\n"
     ]
    },
    {
     "name": "stderr",
     "output_type": "stream",
     "text": [
      "Epoch 111: Average epoch loss: 0.448 Train accuracy: 0.90 Val loss: 0.449 Val accuracy: 0.89: 100%|██████████| 48/48 [00:44<00:00,  1.09it/s]\n"
     ]
    },
    {
     "name": "stdout",
     "output_type": "stream",
     "text": [
      "Adjusting learning rate of group 0 to 6.6987e-07.\n"
     ]
    },
    {
     "name": "stderr",
     "output_type": "stream",
     "text": [
      "Epoch 112: Average epoch loss: 0.443 Train accuracy: 0.91 Val loss: 0.440 Val accuracy: 0.90: 100%|██████████| 48/48 [00:44<00:00,  1.08it/s]\n"
     ]
    },
    {
     "name": "stdout",
     "output_type": "stream",
     "text": [
      "Adjusting learning rate of group 0 to 5.4497e-07.\n"
     ]
    },
    {
     "name": "stderr",
     "output_type": "stream",
     "text": [
      "Epoch 113: Average epoch loss: 0.442 Train accuracy: 0.91 Val loss: 0.442 Val accuracy: 0.90: 100%|██████████| 48/48 [00:43<00:00,  1.11it/s]\n"
     ]
    },
    {
     "name": "stdout",
     "output_type": "stream",
     "text": [
      "Adjusting learning rate of group 0 to 4.3227e-07.\n"
     ]
    },
    {
     "name": "stderr",
     "output_type": "stream",
     "text": [
      "Epoch 114: Average epoch loss: 0.442 Train accuracy: 0.90 Val loss: 0.443 Val accuracy: 0.91: 100%|██████████| 48/48 [00:43<00:00,  1.11it/s]\n"
     ]
    },
    {
     "name": "stdout",
     "output_type": "stream",
     "text": [
      "Adjusting learning rate of group 0 to 3.3210e-07.\n"
     ]
    },
    {
     "name": "stderr",
     "output_type": "stream",
     "text": [
      "Epoch 115: Average epoch loss: 0.442 Train accuracy: 0.91 Val loss: 0.441 Val accuracy: 0.90: 100%|██████████| 48/48 [00:42<00:00,  1.14it/s]\n"
     ]
    },
    {
     "name": "stdout",
     "output_type": "stream",
     "text": [
      "Adjusting learning rate of group 0 to 2.4472e-07.\n"
     ]
    },
    {
     "name": "stderr",
     "output_type": "stream",
     "text": [
      "Epoch 116: Average epoch loss: 0.445 Train accuracy: 0.91 Val loss: 0.450 Val accuracy: 0.90: 100%|██████████| 48/48 [00:42<00:00,  1.14it/s]\n"
     ]
    },
    {
     "name": "stdout",
     "output_type": "stream",
     "text": [
      "Adjusting learning rate of group 0 to 1.7037e-07.\n"
     ]
    },
    {
     "name": "stderr",
     "output_type": "stream",
     "text": [
      "Epoch 117: Average epoch loss: 0.441 Train accuracy: 0.91 Val loss: 0.446 Val accuracy: 0.90: 100%|██████████| 48/48 [00:42<00:00,  1.13it/s]\n"
     ]
    },
    {
     "name": "stdout",
     "output_type": "stream",
     "text": [
      "Adjusting learning rate of group 0 to 1.0926e-07.\n"
     ]
    },
    {
     "name": "stderr",
     "output_type": "stream",
     "text": [
      "Epoch 118: Average epoch loss: 0.444 Train accuracy: 0.90 Val loss: 0.452 Val accuracy: 0.90: 100%|██████████| 48/48 [00:42<00:00,  1.12it/s]\n"
     ]
    },
    {
     "name": "stdout",
     "output_type": "stream",
     "text": [
      "Adjusting learning rate of group 0 to 6.1558e-08.\n"
     ]
    },
    {
     "name": "stderr",
     "output_type": "stream",
     "text": [
      "Epoch 119: Average epoch loss: 0.444 Train accuracy: 0.91 Val loss: 0.438 Val accuracy: 0.92: 100%|██████████| 48/48 [00:42<00:00,  1.12it/s]\n"
     ]
    },
    {
     "name": "stdout",
     "output_type": "stream",
     "text": [
      "Adjusting learning rate of group 0 to 2.7391e-08.\n"
     ]
    },
    {
     "name": "stderr",
     "output_type": "stream",
     "text": [
      "Epoch 120: Average epoch loss: 0.444 Train accuracy: 0.90 Val loss: 0.436 Val accuracy: 0.90: 100%|██████████| 48/48 [00:44<00:00,  1.08it/s]\n"
     ]
    },
    {
     "name": "stdout",
     "output_type": "stream",
     "text": [
      "Adjusting learning rate of group 0 to 6.8523e-09.\n"
     ]
    },
    {
     "name": "stderr",
     "output_type": "stream",
     "text": [
      "Epoch 121: Average epoch loss: 0.443 Train accuracy: 0.91 Val loss: 0.436 Val accuracy: 0.91: 100%|██████████| 48/48 [00:43<00:00,  1.09it/s]\n"
     ]
    },
    {
     "name": "stdout",
     "output_type": "stream",
     "text": [
      "Adjusting learning rate of group 0 to 0.0000e+00.\n"
     ]
    },
    {
     "name": "stderr",
     "output_type": "stream",
     "text": [
      "Epoch 122: Average epoch loss: 0.442 Train accuracy: 0.90 Val loss: 0.436 Val accuracy: 0.90: 100%|██████████| 48/48 [00:42<00:00,  1.13it/s]\n"
     ]
    },
    {
     "name": "stdout",
     "output_type": "stream",
     "text": [
      "Adjusting learning rate of group 0 to 6.8523e-09.\n"
     ]
    },
    {
     "name": "stderr",
     "output_type": "stream",
     "text": [
      "Epoch 123: Average epoch loss: 0.440 Train accuracy: 0.92 Val loss: 0.434 Val accuracy: 0.92: 100%|██████████| 48/48 [00:41<00:00,  1.16it/s]\n"
     ]
    },
    {
     "name": "stdout",
     "output_type": "stream",
     "text": [
      "Adjusting learning rate of group 0 to 2.7391e-08.\n"
     ]
    },
    {
     "name": "stderr",
     "output_type": "stream",
     "text": [
      "Epoch 124: Average epoch loss: 0.442 Train accuracy: 0.91 Val loss: 0.438 Val accuracy: 0.91: 100%|██████████| 48/48 [00:42<00:00,  1.12it/s]\n"
     ]
    },
    {
     "name": "stdout",
     "output_type": "stream",
     "text": [
      "Adjusting learning rate of group 0 to 6.1558e-08.\n"
     ]
    },
    {
     "name": "stderr",
     "output_type": "stream",
     "text": [
      "Epoch 125: Average epoch loss: 0.440 Train accuracy: 0.92 Val loss: 0.431 Val accuracy: 0.92: 100%|██████████| 48/48 [00:43<00:00,  1.11it/s]\n"
     ]
    },
    {
     "name": "stdout",
     "output_type": "stream",
     "text": [
      "Adjusting learning rate of group 0 to 1.0926e-07.\n"
     ]
    },
    {
     "name": "stderr",
     "output_type": "stream",
     "text": [
      "Epoch 126: Average epoch loss: 0.440 Train accuracy: 0.91 Val loss: 0.439 Val accuracy: 0.91: 100%|██████████| 48/48 [00:42<00:00,  1.12it/s]\n"
     ]
    },
    {
     "name": "stdout",
     "output_type": "stream",
     "text": [
      "Adjusting learning rate of group 0 to 1.7037e-07.\n"
     ]
    },
    {
     "name": "stderr",
     "output_type": "stream",
     "text": [
      "Epoch 127: Average epoch loss: 0.443 Train accuracy: 0.91 Val loss: 0.418 Val accuracy: 0.92: 100%|██████████| 48/48 [00:42<00:00,  1.12it/s]\n"
     ]
    },
    {
     "name": "stdout",
     "output_type": "stream",
     "text": [
      "Adjusting learning rate of group 0 to 2.4472e-07.\n"
     ]
    },
    {
     "name": "stderr",
     "output_type": "stream",
     "text": [
      "Epoch 128: Average epoch loss: 0.443 Train accuracy: 0.90 Val loss: 0.440 Val accuracy: 0.90: 100%|██████████| 48/48 [00:44<00:00,  1.07it/s]\n"
     ]
    },
    {
     "name": "stdout",
     "output_type": "stream",
     "text": [
      "Adjusting learning rate of group 0 to 3.3210e-07.\n"
     ]
    },
    {
     "name": "stderr",
     "output_type": "stream",
     "text": [
      "Epoch 129: Average epoch loss: 0.440 Train accuracy: 0.91 Val loss: 0.441 Val accuracy: 0.90: 100%|██████████| 48/48 [00:42<00:00,  1.12it/s]\n"
     ]
    },
    {
     "name": "stdout",
     "output_type": "stream",
     "text": [
      "Adjusting learning rate of group 0 to 4.3227e-07.\n"
     ]
    },
    {
     "name": "stderr",
     "output_type": "stream",
     "text": [
      "Epoch 130: Average epoch loss: 0.443 Train accuracy: 0.90 Val loss: 0.439 Val accuracy: 0.90: 100%|██████████| 48/48 [00:43<00:00,  1.09it/s]\n"
     ]
    },
    {
     "name": "stdout",
     "output_type": "stream",
     "text": [
      "Adjusting learning rate of group 0 to 5.4497e-07.\n"
     ]
    },
    {
     "name": "stderr",
     "output_type": "stream",
     "text": [
      "Epoch 131: Average epoch loss: 0.445 Train accuracy: 0.90 Val loss: 0.441 Val accuracy: 0.91: 100%|██████████| 48/48 [00:43<00:00,  1.09it/s]\n"
     ]
    },
    {
     "name": "stdout",
     "output_type": "stream",
     "text": [
      "Adjusting learning rate of group 0 to 6.6987e-07.\n"
     ]
    },
    {
     "name": "stderr",
     "output_type": "stream",
     "text": [
      "Epoch 132: Average epoch loss: 0.444 Train accuracy: 0.91 Val loss: 0.434 Val accuracy: 0.90: 100%|██████████| 48/48 [00:43<00:00,  1.11it/s]\n"
     ]
    },
    {
     "name": "stdout",
     "output_type": "stream",
     "text": [
      "Adjusting learning rate of group 0 to 8.0665e-07.\n"
     ]
    },
    {
     "name": "stderr",
     "output_type": "stream",
     "text": [
      "Epoch 133: Average epoch loss: 0.441 Train accuracy: 0.91 Val loss: 0.435 Val accuracy: 0.90: 100%|██████████| 48/48 [00:42<00:00,  1.13it/s]\n"
     ]
    },
    {
     "name": "stdout",
     "output_type": "stream",
     "text": [
      "Adjusting learning rate of group 0 to 9.5492e-07.\n"
     ]
    },
    {
     "name": "stderr",
     "output_type": "stream",
     "text": [
      "Epoch 134: Average epoch loss: 0.443 Train accuracy: 0.90 Val loss: 0.431 Val accuracy: 0.90: 100%|██████████| 48/48 [00:42<00:00,  1.12it/s]\n"
     ]
    },
    {
     "name": "stdout",
     "output_type": "stream",
     "text": [
      "Adjusting learning rate of group 0 to 1.1143e-06.\n"
     ]
    },
    {
     "name": "stderr",
     "output_type": "stream",
     "text": [
      "Epoch 135: Average epoch loss: 0.445 Train accuracy: 0.90 Val loss: 0.447 Val accuracy: 0.90: 100%|██████████| 48/48 [00:43<00:00,  1.11it/s]\n"
     ]
    },
    {
     "name": "stdout",
     "output_type": "stream",
     "text": [
      "Adjusting learning rate of group 0 to 1.2843e-06.\n"
     ]
    },
    {
     "name": "stderr",
     "output_type": "stream",
     "text": [
      "Epoch 136: Average epoch loss: 0.445 Train accuracy: 0.90 Val loss: 0.447 Val accuracy: 0.89: 100%|██████████| 48/48 [00:43<00:00,  1.11it/s]\n"
     ]
    },
    {
     "name": "stdout",
     "output_type": "stream",
     "text": [
      "Adjusting learning rate of group 0 to 1.4645e-06.\n"
     ]
    },
    {
     "name": "stderr",
     "output_type": "stream",
     "text": [
      "Epoch 137: Average epoch loss: 0.443 Train accuracy: 0.91 Val loss: 0.446 Val accuracy: 0.89: 100%|██████████| 48/48 [00:43<00:00,  1.09it/s]\n"
     ]
    },
    {
     "name": "stdout",
     "output_type": "stream",
     "text": [
      "Adjusting learning rate of group 0 to 1.6543e-06.\n"
     ]
    },
    {
     "name": "stderr",
     "output_type": "stream",
     "text": [
      "Epoch 138: Average epoch loss: 0.445 Train accuracy: 0.90 Val loss: 0.432 Val accuracy: 0.92: 100%|██████████| 48/48 [00:44<00:00,  1.09it/s]\n"
     ]
    },
    {
     "name": "stdout",
     "output_type": "stream",
     "text": [
      "Adjusting learning rate of group 0 to 1.8534e-06.\n"
     ]
    },
    {
     "name": "stderr",
     "output_type": "stream",
     "text": [
      "Epoch 139: Average epoch loss: 0.438 Train accuracy: 0.91 Val loss: 0.432 Val accuracy: 0.91: 100%|██████████| 48/48 [00:44<00:00,  1.08it/s]\n"
     ]
    },
    {
     "name": "stdout",
     "output_type": "stream",
     "text": [
      "Adjusting learning rate of group 0 to 2.0611e-06.\n"
     ]
    },
    {
     "name": "stderr",
     "output_type": "stream",
     "text": [
      "Epoch 140: Average epoch loss: 0.442 Train accuracy: 0.90 Val loss: 0.442 Val accuracy: 0.91: 100%|██████████| 48/48 [00:42<00:00,  1.12it/s]\n"
     ]
    },
    {
     "name": "stdout",
     "output_type": "stream",
     "text": [
      "Adjusting learning rate of group 0 to 2.2768e-06.\n"
     ]
    },
    {
     "name": "stderr",
     "output_type": "stream",
     "text": [
      "Epoch 141: Average epoch loss: 0.433 Train accuracy: 0.92 Val loss: 0.432 Val accuracy: 0.91: 100%|██████████| 48/48 [00:42<00:00,  1.14it/s]\n"
     ]
    },
    {
     "name": "stdout",
     "output_type": "stream",
     "text": [
      "Adjusting learning rate of group 0 to 2.5000e-06.\n"
     ]
    },
    {
     "name": "stderr",
     "output_type": "stream",
     "text": [
      "Epoch 142: Average epoch loss: 0.432 Train accuracy: 0.92 Val loss: 0.429 Val accuracy: 0.91: 100%|██████████| 48/48 [00:41<00:00,  1.15it/s]\n"
     ]
    },
    {
     "name": "stdout",
     "output_type": "stream",
     "text": [
      "Adjusting learning rate of group 0 to 2.7300e-06.\n"
     ]
    },
    {
     "name": "stderr",
     "output_type": "stream",
     "text": [
      "Epoch 143: Average epoch loss: 0.437 Train accuracy: 0.91 Val loss: 0.434 Val accuracy: 0.91: 100%|██████████| 48/48 [00:42<00:00,  1.13it/s]\n"
     ]
    },
    {
     "name": "stdout",
     "output_type": "stream",
     "text": [
      "Adjusting learning rate of group 0 to 2.9663e-06.\n"
     ]
    },
    {
     "name": "stderr",
     "output_type": "stream",
     "text": [
      "Epoch 144: Average epoch loss: 0.438 Train accuracy: 0.91 Val loss: 0.441 Val accuracy: 0.89: 100%|██████████| 48/48 [00:42<00:00,  1.14it/s]\n"
     ]
    },
    {
     "name": "stdout",
     "output_type": "stream",
     "text": [
      "Adjusting learning rate of group 0 to 3.2082e-06.\n"
     ]
    },
    {
     "name": "stderr",
     "output_type": "stream",
     "text": [
      "Epoch 145: Average epoch loss: 0.435 Train accuracy: 0.91 Val loss: 0.437 Val accuracy: 0.89: 100%|██████████| 48/48 [00:43<00:00,  1.10it/s]\n"
     ]
    },
    {
     "name": "stdout",
     "output_type": "stream",
     "text": [
      "Adjusting learning rate of group 0 to 3.4549e-06.\n"
     ]
    },
    {
     "name": "stderr",
     "output_type": "stream",
     "text": [
      "Epoch 146: Average epoch loss: 0.437 Train accuracy: 0.90 Val loss: 0.435 Val accuracy: 0.90: 100%|██████████| 48/48 [00:43<00:00,  1.10it/s]\n"
     ]
    },
    {
     "name": "stdout",
     "output_type": "stream",
     "text": [
      "Adjusting learning rate of group 0 to 3.7059e-06.\n"
     ]
    },
    {
     "name": "stderr",
     "output_type": "stream",
     "text": [
      "Epoch 147: Average epoch loss: 0.431 Train accuracy: 0.92 Val loss: 0.428 Val accuracy: 0.91: 100%|██████████| 48/48 [00:40<00:00,  1.18it/s]\n"
     ]
    },
    {
     "name": "stdout",
     "output_type": "stream",
     "text": [
      "Adjusting learning rate of group 0 to 3.9604e-06.\n"
     ]
    },
    {
     "name": "stderr",
     "output_type": "stream",
     "text": [
      "Epoch 148: Average epoch loss: 0.440 Train accuracy: 0.89 Val loss: 0.421 Val accuracy: 0.93: 100%|██████████| 48/48 [00:45<00:00,  1.06it/s]\n"
     ]
    },
    {
     "name": "stdout",
     "output_type": "stream",
     "text": [
      "Adjusting learning rate of group 0 to 4.2178e-06.\n"
     ]
    },
    {
     "name": "stderr",
     "output_type": "stream",
     "text": [
      "Epoch 149: Average epoch loss: 0.435 Train accuracy: 0.90 Val loss: 0.417 Val accuracy: 0.93: 100%|██████████| 48/48 [00:44<00:00,  1.09it/s]\n"
     ]
    },
    {
     "name": "stdout",
     "output_type": "stream",
     "text": [
      "Adjusting learning rate of group 0 to 4.4774e-06.\n"
     ]
    },
    {
     "name": "stderr",
     "output_type": "stream",
     "text": [
      "Epoch 150: Average epoch loss: 0.427 Train accuracy: 0.92 Val loss: 0.420 Val accuracy: 0.92: 100%|██████████| 48/48 [00:43<00:00,  1.10it/s]"
     ]
    },
    {
     "name": "stdout",
     "output_type": "stream",
     "text": [
      "Adjusting learning rate of group 0 to 4.7383e-06.\n"
     ]
    },
    {
     "name": "stderr",
     "output_type": "stream",
     "text": [
      "\n"
     ]
    },
    {
     "data": {
      "text/html": [
       "Waiting for W&B process to finish... <strong style=\"color:green\">(success).</strong>"
      ],
      "text/plain": [
       "<IPython.core.display.HTML object>"
      ]
     },
     "metadata": {},
     "output_type": "display_data"
    },
    {
     "data": {
      "text/html": [
       "<style>\n",
       "    table.wandb td:nth-child(1) { padding: 0 10px; text-align: left ; width: auto;} td:nth-child(2) {text-align: left ; width: 100%}\n",
       "    .wandb-row { display: flex; flex-direction: row; flex-wrap: wrap; justify-content: flex-start; width: 100% }\n",
       "    .wandb-col { display: flex; flex-direction: column; flex-basis: 100%; flex: 1; padding: 10px; }\n",
       "    </style>\n",
       "<div class=\"wandb-row\"><div class=\"wandb-col\"><h3>Run history:</h3><br/><table class=\"wandb\"><tr><td>Epoch</td><td>▁▁▁▁▂▂▂▂▂▃▃▃▃▃▃▄▄▄▄▄▅▅▅▅▅▅▆▆▆▆▆▆▇▇▇▇▇███</td></tr><tr><td>loss</td><td>███▇▇▇▆▆▆▆▅▅▅▄▄▄▃▃▃▃▃▂▂▂▂▂▂▁▁▁▁▁▁▁▁▁▁▁▁▁</td></tr><tr><td>train_acc</td><td>▁▁▂▃▄▄▄▃▄▄▅▅▆▇▇█████▇███████████████████</td></tr><tr><td>val_acc</td><td>▁▁▁▃▃▃▄▃▃▄▄▅▆▇▇████▇▇█████▇█████████████</td></tr><tr><td>val_loss</td><td>███▇▇▇▆▆▆▅▅▅▅▅▅▄▄▃▃▃▃▂▂▂▂▂▂▁▁▂▂▂▁▁▁▁▁▁▁▁</td></tr></table><br/></div><div class=\"wandb-col\"><h3>Run summary:</h3><br/><table class=\"wandb\"><tr><td>Epoch</td><td>150</td></tr><tr><td>loss</td><td>0.42662</td></tr><tr><td>train_acc</td><td>0.91992</td></tr><tr><td>val_acc</td><td>0.91504</td></tr><tr><td>val_loss</td><td>0.42042</td></tr></table><br/></div></div>"
      ],
      "text/plain": [
       "<IPython.core.display.HTML object>"
      ]
     },
     "metadata": {},
     "output_type": "display_data"
    },
    {
     "data": {
      "text/html": [
       " View run <strong style=\"color:#cdcd00\">still-universe-126</strong> at: <a href='https://wandb.ai/darya-dare/Noise-Estimation/runs/bxhskgpo' target=\"_blank\">https://wandb.ai/darya-dare/Noise-Estimation/runs/bxhskgpo</a><br/>Synced 6 W&B file(s), 0 media file(s), 0 artifact file(s) and 0 other file(s)"
      ],
      "text/plain": [
       "<IPython.core.display.HTML object>"
      ]
     },
     "metadata": {},
     "output_type": "display_data"
    },
    {
     "data": {
      "text/html": [
       "Find logs at: <code>./wandb/run-20230822_180826-bxhskgpo/logs</code>"
      ],
      "text/plain": [
       "<IPython.core.display.HTML object>"
      ]
     },
     "metadata": {},
     "output_type": "display_data"
    }
   ],
   "source": [
    "loss_history, train_history, val_history = train(model_rn, train_loader,\n",
    "                                                 val_loader, loss,\n",
    "                                                 optimizer, warmup_scheduler,\n",
    "                                                 num_epochs=150)"
   ]
  },
  {
   "cell_type": "markdown",
   "metadata": {
    "tags": []
   },
   "source": [
    "### Testing Resnet101"
   ]
  },
  {
   "cell_type": "code",
   "execution_count": 12,
   "metadata": {
    "tags": []
   },
   "outputs": [
    {
     "name": "stdout",
     "output_type": "stream",
     "text": [
      "BCResNet model test accuracy: 0.91\n",
      "BCResNet model test loss: 0.425\n"
     ]
    }
   ],
   "source": [
    "rn_test_accuracy, rn_test_loss = compute_acc_loss(model_rn, test_loader, loss)\n",
    "print(f'BCResNet model test accuracy: {rn_test_accuracy:.2f}')\n",
    "print(f'BCResNet model test loss: {rn_test_loss:.3f}')"
   ]
  },
  {
   "cell_type": "markdown",
   "metadata": {},
   "source": [
    "### Testing ResNet101 on the phone audio recordings (in Russian)"
   ]
  },
  {
   "cell_type": "code",
   "execution_count": 18,
   "metadata": {
    "tags": []
   },
   "outputs": [
    {
     "name": "stdout",
     "output_type": "stream",
     "text": [
      "BCResNet model test accuracy: 0.50\n",
      "BCResNet model test loss: 0.747\n"
     ]
    }
   ],
   "source": [
    "rn_phone_test_accuracy, rn_phone_test_loss = compute_acc_loss(model_rn, phone_loader, loss)\n",
    "print(f'BCResNet model test accuracy: {rn_phone_test_accuracy:.2f}')\n",
    "print(f'BCResNet model test loss: {rn_phone_test_loss:.3f}')"
   ]
  },
  {
   "cell_type": "markdown",
   "metadata": {},
   "source": [
    "### ResNet152"
   ]
  },
  {
   "cell_type": "code",
   "execution_count": 10,
   "metadata": {
    "tags": []
   },
   "outputs": [
    {
     "name": "stdout",
     "output_type": "stream",
     "text": [
      "Adjusting learning rate of group 0 to 1.0000e-03.\n"
     ]
    }
   ],
   "source": [
    "from ResNet import ResNet152\n",
    "\n",
    "model_rn = ResNet152(1, device)\n",
    "model_rn.type(torch.cuda.FloatTensor)\n",
    "model_rn.to(device)\n",
    "\n",
    "loss = nn.BCELoss().type(torch.cuda.FloatTensor)\n",
    "optimizer = optim.SGD(model_rn.parameters(), lr=1e-3)\n",
    "\n",
    "cosine_scheduler = optim.lr_scheduler.CosineAnnealingLR(optimizer, T_max=40, verbose=True)\n",
    "warmup_scheduler = GradualWarmupScheduler(optimizer, multiplier=1, total_epoch=40,\n",
    "                                          after_scheduler=cosine_scheduler)"
   ]
  },
  {
   "cell_type": "code",
   "execution_count": 11,
   "metadata": {
    "tags": []
   },
   "outputs": [
    {
     "data": {
      "text/html": [
       "Tracking run with wandb version 0.15.8"
      ],
      "text/plain": [
       "<IPython.core.display.HTML object>"
      ]
     },
     "metadata": {},
     "output_type": "display_data"
    },
    {
     "data": {
      "text/html": [
       "Run data is saved locally in <code>/home/jovyan/project/wandb/run-20230821_124827-2lg230eg</code>"
      ],
      "text/plain": [
       "<IPython.core.display.HTML object>"
      ]
     },
     "metadata": {},
     "output_type": "display_data"
    },
    {
     "data": {
      "text/html": [
       "Syncing run <strong><a href='https://wandb.ai/darya-dare/Noise-Estimation/runs/2lg230eg' target=\"_blank\">sage-dragon-120</a></strong> to <a href='https://wandb.ai/darya-dare/Noise-Estimation' target=\"_blank\">Weights & Biases</a> (<a href='https://wandb.me/run' target=\"_blank\">docs</a>)<br/>"
      ],
      "text/plain": [
       "<IPython.core.display.HTML object>"
      ]
     },
     "metadata": {},
     "output_type": "display_data"
    },
    {
     "data": {
      "text/html": [
       " View project at <a href='https://wandb.ai/darya-dare/Noise-Estimation' target=\"_blank\">https://wandb.ai/darya-dare/Noise-Estimation</a>"
      ],
      "text/plain": [
       "<IPython.core.display.HTML object>"
      ]
     },
     "metadata": {},
     "output_type": "display_data"
    },
    {
     "data": {
      "text/html": [
       " View run at <a href='https://wandb.ai/darya-dare/Noise-Estimation/runs/2lg230eg' target=\"_blank\">https://wandb.ai/darya-dare/Noise-Estimation/runs/2lg230eg</a>"
      ],
      "text/plain": [
       "<IPython.core.display.HTML object>"
      ]
     },
     "metadata": {},
     "output_type": "display_data"
    },
    {
     "name": "stderr",
     "output_type": "stream",
     "text": [
      "Epoch 1: Average epoch loss: 0.798 Train accuracy: 0.48 Val loss: 0.803 Val accuracy: 0.47: 100%|██████████| 96/96 [00:49<00:00,  1.94it/s]\n",
      "Epoch 2: Average epoch loss: 0.721 Train accuracy: 0.44 Val loss: 0.507 Val accuracy: 0.60: 100%|██████████| 96/96 [00:48<00:00,  1.98it/s]\n",
      "Epoch 3: Average epoch loss: 0.657 Train accuracy: 0.52 Val loss: 0.475 Val accuracy: 0.53: 100%|██████████| 96/96 [00:48<00:00,  1.99it/s]\n",
      "Epoch 4: Average epoch loss: 0.636 Train accuracy: 0.58 Val loss: 0.387 Val accuracy: 0.61: 100%|██████████| 96/96 [00:47<00:00,  2.00it/s]\n",
      "Epoch 5: Average epoch loss: 0.607 Train accuracy: 0.71 Val loss: 0.420 Val accuracy: 0.94: 100%|██████████| 96/96 [00:48<00:00,  1.99it/s]\n",
      "Epoch 6: Average epoch loss: 0.623 Train accuracy: 0.62 Val loss: 0.420 Val accuracy: 0.82: 100%|██████████| 96/96 [00:48<00:00,  1.98it/s]\n",
      "Epoch 7: Average epoch loss: 0.640 Train accuracy: 0.59 Val loss: 0.614 Val accuracy: 0.68: 100%|██████████| 96/96 [00:49<00:00,  1.94it/s]\n",
      "Epoch 8: Average epoch loss: 0.623 Train accuracy: 0.63 Val loss: 0.468 Val accuracy: 0.82: 100%|██████████| 96/96 [00:47<00:00,  2.01it/s]\n",
      "Epoch 9: Average epoch loss: 0.654 Train accuracy: 0.51 Val loss: 0.716 Val accuracy: 0.32: 100%|██████████| 96/96 [00:48<00:00,  2.00it/s]\n",
      "Epoch 10: Average epoch loss: 0.650 Train accuracy: 0.57 Val loss: 0.594 Val accuracy: 0.67: 100%|██████████| 96/96 [00:47<00:00,  2.01it/s]\n",
      "Epoch 11: Average epoch loss: 0.643 Train accuracy: 0.61 Val loss: 0.618 Val accuracy: 0.66: 100%|██████████| 96/96 [00:47<00:00,  2.01it/s]\n",
      "Epoch 12: Average epoch loss: 0.603 Train accuracy: 0.68 Val loss: 0.529 Val accuracy: 0.82: 100%|██████████| 96/96 [00:47<00:00,  2.02it/s]\n",
      "Epoch 13: Average epoch loss: 0.574 Train accuracy: 0.73 Val loss: 0.566 Val accuracy: 0.71: 100%|██████████| 96/96 [00:47<00:00,  2.01it/s]\n",
      "Epoch 14: Average epoch loss: 0.578 Train accuracy: 0.70 Val loss: 0.588 Val accuracy: 0.69: 100%|██████████| 96/96 [00:47<00:00,  2.03it/s]\n",
      "Epoch 15: Average epoch loss: 0.563 Train accuracy: 0.71 Val loss: 0.507 Val accuracy: 0.72: 100%|██████████| 96/96 [00:47<00:00,  2.01it/s]\n",
      "Epoch 16: Average epoch loss: 0.549 Train accuracy: 0.72 Val loss: 0.446 Val accuracy: 0.83: 100%|██████████| 96/96 [00:48<00:00,  1.98it/s]\n",
      "Epoch 17: Average epoch loss: 0.516 Train accuracy: 0.77 Val loss: 0.519 Val accuracy: 0.74: 100%|██████████| 96/96 [00:49<00:00,  1.95it/s]\n",
      "Epoch 18: Average epoch loss: 0.481 Train accuracy: 0.80 Val loss: 0.322 Val accuracy: 0.87: 100%|██████████| 96/96 [00:48<00:00,  1.99it/s]\n",
      "Epoch 19: Average epoch loss: 0.418 Train accuracy: 0.84 Val loss: 0.216 Val accuracy: 0.98: 100%|██████████| 96/96 [00:48<00:00,  1.99it/s]\n",
      "Epoch 20: Average epoch loss: 0.339 Train accuracy: 0.89 Val loss: 0.332 Val accuracy: 0.85: 100%|██████████| 96/96 [00:47<00:00,  2.02it/s]\n",
      "Epoch 21: Average epoch loss: 0.290 Train accuracy: 0.91 Val loss: 0.310 Val accuracy: 0.86: 100%|██████████| 96/96 [00:48<00:00,  1.97it/s]\n",
      "Epoch 22: Average epoch loss: 0.271 Train accuracy: 0.91 Val loss: 0.164 Val accuracy: 0.97: 100%|██████████| 96/96 [00:47<00:00,  2.02it/s]\n",
      "Epoch 23: Average epoch loss: 0.199 Train accuracy: 0.94 Val loss: 0.125 Val accuracy: 0.98: 100%|██████████| 96/96 [00:47<00:00,  2.01it/s]\n",
      "Epoch 24: Average epoch loss: 0.147 Train accuracy: 0.97 Val loss: 0.081 Val accuracy: 0.99: 100%|██████████| 96/96 [00:47<00:00,  2.01it/s]\n",
      "Epoch 25: Average epoch loss: 0.114 Train accuracy: 0.98 Val loss: 0.096 Val accuracy: 0.98: 100%|██████████| 96/96 [00:48<00:00,  1.99it/s]\n",
      "Epoch 26: Average epoch loss: 0.104 Train accuracy: 0.98 Val loss: 0.066 Val accuracy: 0.99: 100%|██████████| 96/96 [00:47<00:00,  2.01it/s]\n",
      "Epoch 27: Average epoch loss: 0.091 Train accuracy: 0.98 Val loss: 0.040 Val accuracy: 1.00: 100%|██████████| 96/96 [00:48<00:00,  1.98it/s]\n",
      "Epoch 28: Average epoch loss: 0.066 Train accuracy: 0.99 Val loss: 0.033 Val accuracy: 1.00: 100%|██████████| 96/96 [00:47<00:00,  2.01it/s]\n",
      "Epoch 29: Average epoch loss: 0.057 Train accuracy: 0.99 Val loss: 0.040 Val accuracy: 0.99: 100%|██████████| 96/96 [00:48<00:00,  1.97it/s]\n",
      "Epoch 30: Average epoch loss: 0.058 Train accuracy: 0.99 Val loss: 0.044 Val accuracy: 0.99: 100%|██████████| 96/96 [00:48<00:00,  1.99it/s]\n",
      "Epoch 31: Average epoch loss: 0.044 Train accuracy: 0.99 Val loss: 0.030 Val accuracy: 0.99: 100%|██████████| 96/96 [00:48<00:00,  1.96it/s]\n",
      "Epoch 32: Average epoch loss: 0.040 Train accuracy: 0.99 Val loss: 0.020 Val accuracy: 1.00: 100%|██████████| 96/96 [00:47<00:00,  2.01it/s]\n",
      "Epoch 33: Average epoch loss: 0.025 Train accuracy: 0.99 Val loss: 0.010 Val accuracy: 1.00: 100%|██████████| 96/96 [00:48<00:00,  2.00it/s]\n",
      "Epoch 34: Average epoch loss: 0.021 Train accuracy: 1.00 Val loss: 0.013 Val accuracy: 1.00: 100%|██████████| 96/96 [00:47<00:00,  2.02it/s]\n",
      "Epoch 35: Average epoch loss: 0.019 Train accuracy: 1.00 Val loss: 0.011 Val accuracy: 1.00: 100%|██████████| 96/96 [00:47<00:00,  2.03it/s]\n",
      "Epoch 36: Average epoch loss: 0.020 Train accuracy: 1.00 Val loss: 0.011 Val accuracy: 1.00: 100%|██████████| 96/96 [00:48<00:00,  1.99it/s]\n",
      "Epoch 37: Average epoch loss: 0.015 Train accuracy: 1.00 Val loss: 0.007 Val accuracy: 1.00: 100%|██████████| 96/96 [00:48<00:00,  1.96it/s]\n",
      "Epoch 38: Average epoch loss: 0.018 Train accuracy: 1.00 Val loss: 0.008 Val accuracy: 1.00: 100%|██████████| 96/96 [00:47<00:00,  2.02it/s]\n",
      "Epoch 39: Average epoch loss: 0.015 Train accuracy: 1.00 Val loss: 0.007 Val accuracy: 1.00: 100%|██████████| 96/96 [00:48<00:00,  1.98it/s]\n",
      "Epoch 40: Average epoch loss: 0.015 Train accuracy: 1.00 Val loss: 0.005 Val accuracy: 1.00: 100%|██████████| 96/96 [00:47<00:00,  2.04it/s]\n",
      "Epoch 41: Average epoch loss: 0.014 Train accuracy: 1.00 Val loss: 0.007 Val accuracy: 1.00: 100%|██████████| 96/96 [00:48<00:00,  1.99it/s]\n",
      "Epoch 42: Average epoch loss: 0.013 Train accuracy: 1.00 Val loss: 0.006 Val accuracy: 1.00: 100%|██████████| 96/96 [00:47<00:00,  2.02it/s]\n"
     ]
    },
    {
     "name": "stdout",
     "output_type": "stream",
     "text": [
      "Adjusting learning rate of group 0 to 9.9846e-04.\n"
     ]
    },
    {
     "name": "stderr",
     "output_type": "stream",
     "text": [
      "Epoch 43: Average epoch loss: 0.019 Train accuracy: 0.99 Val loss: 0.010 Val accuracy: 1.00: 100%|██████████| 96/96 [00:48<00:00,  1.97it/s]\n"
     ]
    },
    {
     "name": "stdout",
     "output_type": "stream",
     "text": [
      "Adjusting learning rate of group 0 to 9.9384e-04.\n"
     ]
    },
    {
     "name": "stderr",
     "output_type": "stream",
     "text": [
      "Epoch 44: Average epoch loss: 0.021 Train accuracy: 0.99 Val loss: 0.008 Val accuracy: 1.00: 100%|██████████| 96/96 [00:47<00:00,  2.01it/s]\n"
     ]
    },
    {
     "name": "stdout",
     "output_type": "stream",
     "text": [
      "Adjusting learning rate of group 0 to 9.8618e-04.\n"
     ]
    },
    {
     "name": "stderr",
     "output_type": "stream",
     "text": [
      "Epoch 45: Average epoch loss: 0.014 Train accuracy: 1.00 Val loss: 0.010 Val accuracy: 1.00: 100%|██████████| 96/96 [00:47<00:00,  2.00it/s]\n"
     ]
    },
    {
     "name": "stdout",
     "output_type": "stream",
     "text": [
      "Adjusting learning rate of group 0 to 9.7553e-04.\n"
     ]
    },
    {
     "name": "stderr",
     "output_type": "stream",
     "text": [
      "Epoch 46: Average epoch loss: 0.012 Train accuracy: 1.00 Val loss: 0.009 Val accuracy: 1.00: 100%|██████████| 96/96 [00:48<00:00,  1.99it/s]\n"
     ]
    },
    {
     "name": "stdout",
     "output_type": "stream",
     "text": [
      "Adjusting learning rate of group 0 to 9.6194e-04.\n"
     ]
    },
    {
     "name": "stderr",
     "output_type": "stream",
     "text": [
      "Epoch 47: Average epoch loss: 0.016 Train accuracy: 1.00 Val loss: 0.007 Val accuracy: 1.00: 100%|██████████| 96/96 [00:48<00:00,  1.96it/s]\n"
     ]
    },
    {
     "name": "stdout",
     "output_type": "stream",
     "text": [
      "Adjusting learning rate of group 0 to 9.4550e-04.\n"
     ]
    },
    {
     "name": "stderr",
     "output_type": "stream",
     "text": [
      "Epoch 48: Average epoch loss: 0.011 Train accuracy: 1.00 Val loss: 0.004 Val accuracy: 1.00: 100%|██████████| 96/96 [00:48<00:00,  1.99it/s]\n"
     ]
    },
    {
     "name": "stdout",
     "output_type": "stream",
     "text": [
      "Adjusting learning rate of group 0 to 9.2632e-04.\n"
     ]
    },
    {
     "name": "stderr",
     "output_type": "stream",
     "text": [
      "Epoch 49: Average epoch loss: 0.008 Train accuracy: 1.00 Val loss: 0.004 Val accuracy: 1.00: 100%|██████████| 96/96 [00:49<00:00,  1.95it/s]\n"
     ]
    },
    {
     "name": "stdout",
     "output_type": "stream",
     "text": [
      "Adjusting learning rate of group 0 to 9.0451e-04.\n"
     ]
    },
    {
     "name": "stderr",
     "output_type": "stream",
     "text": [
      "Epoch 50: Average epoch loss: 0.008 Train accuracy: 1.00 Val loss: 0.003 Val accuracy: 1.00: 100%|██████████| 96/96 [00:48<00:00,  1.99it/s]\n"
     ]
    },
    {
     "name": "stdout",
     "output_type": "stream",
     "text": [
      "Adjusting learning rate of group 0 to 8.8020e-04.\n"
     ]
    },
    {
     "name": "stderr",
     "output_type": "stream",
     "text": [
      "Epoch 51: Average epoch loss: 0.008 Train accuracy: 1.00 Val loss: 0.002 Val accuracy: 1.00: 100%|██████████| 96/96 [00:48<00:00,  1.99it/s]\n"
     ]
    },
    {
     "name": "stdout",
     "output_type": "stream",
     "text": [
      "Adjusting learning rate of group 0 to 8.5355e-04.\n"
     ]
    },
    {
     "name": "stderr",
     "output_type": "stream",
     "text": [
      "Epoch 52: Average epoch loss: 0.010 Train accuracy: 1.00 Val loss: 0.006 Val accuracy: 1.00: 100%|██████████| 96/96 [00:47<00:00,  2.02it/s]\n"
     ]
    },
    {
     "name": "stdout",
     "output_type": "stream",
     "text": [
      "Adjusting learning rate of group 0 to 8.2472e-04.\n"
     ]
    },
    {
     "name": "stderr",
     "output_type": "stream",
     "text": [
      "Epoch 53: Average epoch loss: 0.009 Train accuracy: 1.00 Val loss: 0.005 Val accuracy: 1.00: 100%|██████████| 96/96 [00:47<00:00,  2.01it/s]\n"
     ]
    },
    {
     "name": "stdout",
     "output_type": "stream",
     "text": [
      "Adjusting learning rate of group 0 to 7.9389e-04.\n"
     ]
    },
    {
     "name": "stderr",
     "output_type": "stream",
     "text": [
      "Epoch 54: Average epoch loss: 0.011 Train accuracy: 1.00 Val loss: 0.004 Val accuracy: 1.00: 100%|██████████| 96/96 [00:47<00:00,  2.03it/s]\n"
     ]
    },
    {
     "name": "stdout",
     "output_type": "stream",
     "text": [
      "Adjusting learning rate of group 0 to 7.6125e-04.\n"
     ]
    },
    {
     "name": "stderr",
     "output_type": "stream",
     "text": [
      "Epoch 55: Average epoch loss: 0.007 Train accuracy: 1.00 Val loss: 0.003 Val accuracy: 1.00: 100%|██████████| 96/96 [00:47<00:00,  2.01it/s]\n"
     ]
    },
    {
     "name": "stdout",
     "output_type": "stream",
     "text": [
      "Adjusting learning rate of group 0 to 7.2700e-04.\n"
     ]
    },
    {
     "name": "stderr",
     "output_type": "stream",
     "text": [
      "Epoch 56: Average epoch loss: 0.008 Train accuracy: 1.00 Val loss: 0.004 Val accuracy: 1.00: 100%|██████████| 96/96 [00:48<00:00,  1.97it/s]\n"
     ]
    },
    {
     "name": "stdout",
     "output_type": "stream",
     "text": [
      "Adjusting learning rate of group 0 to 6.9134e-04.\n"
     ]
    },
    {
     "name": "stderr",
     "output_type": "stream",
     "text": [
      "Epoch 57: Average epoch loss: 0.010 Train accuracy: 1.00 Val loss: 0.004 Val accuracy: 1.00: 100%|██████████| 96/96 [00:47<00:00,  2.02it/s]\n"
     ]
    },
    {
     "name": "stdout",
     "output_type": "stream",
     "text": [
      "Adjusting learning rate of group 0 to 6.5451e-04.\n"
     ]
    },
    {
     "name": "stderr",
     "output_type": "stream",
     "text": [
      "Epoch 58: Average epoch loss: 0.006 Train accuracy: 1.00 Val loss: 0.002 Val accuracy: 1.00: 100%|██████████| 96/96 [00:48<00:00,  2.00it/s]\n"
     ]
    },
    {
     "name": "stdout",
     "output_type": "stream",
     "text": [
      "Adjusting learning rate of group 0 to 6.1672e-04.\n"
     ]
    },
    {
     "name": "stderr",
     "output_type": "stream",
     "text": [
      "Epoch 59:   0%|          | 0/96 [00:01<?, ?it/s]\n"
     ]
    },
    {
     "ename": "KeyboardInterrupt",
     "evalue": "",
     "output_type": "error",
     "traceback": [
      "\u001b[0;31m---------------------------------------------------------------------------\u001b[0m",
      "\u001b[0;31mKeyboardInterrupt\u001b[0m                         Traceback (most recent call last)",
      "Cell \u001b[0;32mIn[11], line 1\u001b[0m\n\u001b[0;32m----> 1\u001b[0m loss_history, train_history, val_history \u001b[38;5;241m=\u001b[39m \u001b[43mtrain\u001b[49m\u001b[43m(\u001b[49m\u001b[43mmodel_rn\u001b[49m\u001b[43m,\u001b[49m\u001b[43m \u001b[49m\u001b[43mtrain_loader\u001b[49m\u001b[43m,\u001b[49m\n\u001b[1;32m      2\u001b[0m \u001b[43m                                                 \u001b[49m\u001b[43mval_loader\u001b[49m\u001b[43m,\u001b[49m\u001b[43m \u001b[49m\u001b[43mloss\u001b[49m\u001b[43m,\u001b[49m\n\u001b[1;32m      3\u001b[0m \u001b[43m                                                 \u001b[49m\u001b[43moptimizer\u001b[49m\u001b[43m,\u001b[49m\u001b[43m \u001b[49m\u001b[43mwarmup_scheduler\u001b[49m\u001b[43m,\u001b[49m\n\u001b[1;32m      4\u001b[0m \u001b[43m                                                 \u001b[49m\u001b[43mnum_epochs\u001b[49m\u001b[38;5;241;43m=\u001b[39;49m\u001b[38;5;241;43m80\u001b[39;49m\u001b[43m)\u001b[49m\n",
      "Cell \u001b[0;32mIn[9], line 34\u001b[0m, in \u001b[0;36mtrain\u001b[0;34m(model, train_loader, val_loader, loss, optimizer, warmup_scheduler, num_epochs)\u001b[0m\n\u001b[1;32m     28\u001b[0m num_batches \u001b[38;5;241m=\u001b[39m \u001b[38;5;241m0\u001b[39m\n\u001b[1;32m     30\u001b[0m \u001b[38;5;28;01mwith\u001b[39;00m tqdm(total\u001b[38;5;241m=\u001b[39m\u001b[38;5;28mlen\u001b[39m(train_loader),\n\u001b[1;32m     31\u001b[0m           desc\u001b[38;5;241m=\u001b[39m\u001b[38;5;124mf\u001b[39m\u001b[38;5;124m'\u001b[39m\u001b[38;5;124mEpoch \u001b[39m\u001b[38;5;132;01m{\u001b[39;00mepoch\u001b[38;5;241m+\u001b[39m\u001b[38;5;241m1\u001b[39m\u001b[38;5;132;01m}\u001b[39;00m\u001b[38;5;124m'\u001b[39m,\n\u001b[1;32m     32\u001b[0m           leave\u001b[38;5;241m=\u001b[39m\u001b[38;5;28;01mTrue\u001b[39;00m) \u001b[38;5;28;01mas\u001b[39;00m pb:\n\u001b[0;32m---> 34\u001b[0m     \u001b[38;5;28;01mfor\u001b[39;00m i, (x, y) \u001b[38;5;129;01min\u001b[39;00m \u001b[38;5;28menumerate\u001b[39m(train_loader):\n\u001b[1;32m     36\u001b[0m         x_gpu \u001b[38;5;241m=\u001b[39m x\u001b[38;5;241m.\u001b[39mto(device)\n\u001b[1;32m     37\u001b[0m         y_gpu \u001b[38;5;241m=\u001b[39m y\u001b[38;5;241m.\u001b[39mto(device)\n",
      "File \u001b[0;32m/opt/conda/lib/python3.10/site-packages/torch/utils/data/dataloader.py:628\u001b[0m, in \u001b[0;36m_BaseDataLoaderIter.__next__\u001b[0;34m(self)\u001b[0m\n\u001b[1;32m    625\u001b[0m \u001b[38;5;28;01mif\u001b[39;00m \u001b[38;5;28mself\u001b[39m\u001b[38;5;241m.\u001b[39m_sampler_iter \u001b[38;5;129;01mis\u001b[39;00m \u001b[38;5;28;01mNone\u001b[39;00m:\n\u001b[1;32m    626\u001b[0m     \u001b[38;5;66;03m# TODO(https://github.com/pytorch/pytorch/issues/76750)\u001b[39;00m\n\u001b[1;32m    627\u001b[0m     \u001b[38;5;28mself\u001b[39m\u001b[38;5;241m.\u001b[39m_reset()  \u001b[38;5;66;03m# type: ignore[call-arg]\u001b[39;00m\n\u001b[0;32m--> 628\u001b[0m data \u001b[38;5;241m=\u001b[39m \u001b[38;5;28;43mself\u001b[39;49m\u001b[38;5;241;43m.\u001b[39;49m\u001b[43m_next_data\u001b[49m\u001b[43m(\u001b[49m\u001b[43m)\u001b[49m\n\u001b[1;32m    629\u001b[0m \u001b[38;5;28mself\u001b[39m\u001b[38;5;241m.\u001b[39m_num_yielded \u001b[38;5;241m+\u001b[39m\u001b[38;5;241m=\u001b[39m \u001b[38;5;241m1\u001b[39m\n\u001b[1;32m    630\u001b[0m \u001b[38;5;28;01mif\u001b[39;00m \u001b[38;5;28mself\u001b[39m\u001b[38;5;241m.\u001b[39m_dataset_kind \u001b[38;5;241m==\u001b[39m _DatasetKind\u001b[38;5;241m.\u001b[39mIterable \u001b[38;5;129;01mand\u001b[39;00m \\\n\u001b[1;32m    631\u001b[0m         \u001b[38;5;28mself\u001b[39m\u001b[38;5;241m.\u001b[39m_IterableDataset_len_called \u001b[38;5;129;01mis\u001b[39;00m \u001b[38;5;129;01mnot\u001b[39;00m \u001b[38;5;28;01mNone\u001b[39;00m \u001b[38;5;129;01mand\u001b[39;00m \\\n\u001b[1;32m    632\u001b[0m         \u001b[38;5;28mself\u001b[39m\u001b[38;5;241m.\u001b[39m_num_yielded \u001b[38;5;241m>\u001b[39m \u001b[38;5;28mself\u001b[39m\u001b[38;5;241m.\u001b[39m_IterableDataset_len_called:\n",
      "File \u001b[0;32m/opt/conda/lib/python3.10/site-packages/torch/utils/data/dataloader.py:1316\u001b[0m, in \u001b[0;36m_MultiProcessingDataLoaderIter._next_data\u001b[0;34m(self)\u001b[0m\n\u001b[1;32m   1313\u001b[0m     \u001b[38;5;28;01mreturn\u001b[39;00m \u001b[38;5;28mself\u001b[39m\u001b[38;5;241m.\u001b[39m_process_data(data)\n\u001b[1;32m   1315\u001b[0m \u001b[38;5;28;01massert\u001b[39;00m \u001b[38;5;129;01mnot\u001b[39;00m \u001b[38;5;28mself\u001b[39m\u001b[38;5;241m.\u001b[39m_shutdown \u001b[38;5;129;01mand\u001b[39;00m \u001b[38;5;28mself\u001b[39m\u001b[38;5;241m.\u001b[39m_tasks_outstanding \u001b[38;5;241m>\u001b[39m \u001b[38;5;241m0\u001b[39m\n\u001b[0;32m-> 1316\u001b[0m idx, data \u001b[38;5;241m=\u001b[39m \u001b[38;5;28;43mself\u001b[39;49m\u001b[38;5;241;43m.\u001b[39;49m\u001b[43m_get_data\u001b[49m\u001b[43m(\u001b[49m\u001b[43m)\u001b[49m\n\u001b[1;32m   1317\u001b[0m \u001b[38;5;28mself\u001b[39m\u001b[38;5;241m.\u001b[39m_tasks_outstanding \u001b[38;5;241m-\u001b[39m\u001b[38;5;241m=\u001b[39m \u001b[38;5;241m1\u001b[39m\n\u001b[1;32m   1318\u001b[0m \u001b[38;5;28;01mif\u001b[39;00m \u001b[38;5;28mself\u001b[39m\u001b[38;5;241m.\u001b[39m_dataset_kind \u001b[38;5;241m==\u001b[39m _DatasetKind\u001b[38;5;241m.\u001b[39mIterable:\n\u001b[1;32m   1319\u001b[0m     \u001b[38;5;66;03m# Check for _IterableDatasetStopIteration\u001b[39;00m\n",
      "File \u001b[0;32m/opt/conda/lib/python3.10/site-packages/torch/utils/data/dataloader.py:1282\u001b[0m, in \u001b[0;36m_MultiProcessingDataLoaderIter._get_data\u001b[0;34m(self)\u001b[0m\n\u001b[1;32m   1278\u001b[0m     \u001b[38;5;66;03m# In this case, `self._data_queue` is a `queue.Queue`,. But we don't\u001b[39;00m\n\u001b[1;32m   1279\u001b[0m     \u001b[38;5;66;03m# need to call `.task_done()` because we don't use `.join()`.\u001b[39;00m\n\u001b[1;32m   1280\u001b[0m \u001b[38;5;28;01melse\u001b[39;00m:\n\u001b[1;32m   1281\u001b[0m     \u001b[38;5;28;01mwhile\u001b[39;00m \u001b[38;5;28;01mTrue\u001b[39;00m:\n\u001b[0;32m-> 1282\u001b[0m         success, data \u001b[38;5;241m=\u001b[39m \u001b[38;5;28;43mself\u001b[39;49m\u001b[38;5;241;43m.\u001b[39;49m\u001b[43m_try_get_data\u001b[49m\u001b[43m(\u001b[49m\u001b[43m)\u001b[49m\n\u001b[1;32m   1283\u001b[0m         \u001b[38;5;28;01mif\u001b[39;00m success:\n\u001b[1;32m   1284\u001b[0m             \u001b[38;5;28;01mreturn\u001b[39;00m data\n",
      "File \u001b[0;32m/opt/conda/lib/python3.10/site-packages/torch/utils/data/dataloader.py:1120\u001b[0m, in \u001b[0;36m_MultiProcessingDataLoaderIter._try_get_data\u001b[0;34m(self, timeout)\u001b[0m\n\u001b[1;32m   1107\u001b[0m \u001b[38;5;28;01mdef\u001b[39;00m \u001b[38;5;21m_try_get_data\u001b[39m(\u001b[38;5;28mself\u001b[39m, timeout\u001b[38;5;241m=\u001b[39m_utils\u001b[38;5;241m.\u001b[39mMP_STATUS_CHECK_INTERVAL):\n\u001b[1;32m   1108\u001b[0m     \u001b[38;5;66;03m# Tries to fetch data from `self._data_queue` once for a given timeout.\u001b[39;00m\n\u001b[1;32m   1109\u001b[0m     \u001b[38;5;66;03m# This can also be used as inner loop of fetching without timeout, with\u001b[39;00m\n\u001b[0;32m   (...)\u001b[0m\n\u001b[1;32m   1117\u001b[0m     \u001b[38;5;66;03m# Returns a 2-tuple:\u001b[39;00m\n\u001b[1;32m   1118\u001b[0m     \u001b[38;5;66;03m#   (bool: whether successfully get data, any: data if successful else None)\u001b[39;00m\n\u001b[1;32m   1119\u001b[0m     \u001b[38;5;28;01mtry\u001b[39;00m:\n\u001b[0;32m-> 1120\u001b[0m         data \u001b[38;5;241m=\u001b[39m \u001b[38;5;28;43mself\u001b[39;49m\u001b[38;5;241;43m.\u001b[39;49m\u001b[43m_data_queue\u001b[49m\u001b[38;5;241;43m.\u001b[39;49m\u001b[43mget\u001b[49m\u001b[43m(\u001b[49m\u001b[43mtimeout\u001b[49m\u001b[38;5;241;43m=\u001b[39;49m\u001b[43mtimeout\u001b[49m\u001b[43m)\u001b[49m\n\u001b[1;32m   1121\u001b[0m         \u001b[38;5;28;01mreturn\u001b[39;00m (\u001b[38;5;28;01mTrue\u001b[39;00m, data)\n\u001b[1;32m   1122\u001b[0m     \u001b[38;5;28;01mexcept\u001b[39;00m \u001b[38;5;167;01mException\u001b[39;00m \u001b[38;5;28;01mas\u001b[39;00m e:\n\u001b[1;32m   1123\u001b[0m         \u001b[38;5;66;03m# At timeout and error, we manually check whether any worker has\u001b[39;00m\n\u001b[1;32m   1124\u001b[0m         \u001b[38;5;66;03m# failed. Note that this is the only mechanism for Windows to detect\u001b[39;00m\n\u001b[1;32m   1125\u001b[0m         \u001b[38;5;66;03m# worker failures.\u001b[39;00m\n",
      "File \u001b[0;32m/opt/conda/lib/python3.10/multiprocessing/queues.py:113\u001b[0m, in \u001b[0;36mQueue.get\u001b[0;34m(self, block, timeout)\u001b[0m\n\u001b[1;32m    111\u001b[0m \u001b[38;5;28;01mif\u001b[39;00m block:\n\u001b[1;32m    112\u001b[0m     timeout \u001b[38;5;241m=\u001b[39m deadline \u001b[38;5;241m-\u001b[39m time\u001b[38;5;241m.\u001b[39mmonotonic()\n\u001b[0;32m--> 113\u001b[0m     \u001b[38;5;28;01mif\u001b[39;00m \u001b[38;5;129;01mnot\u001b[39;00m \u001b[38;5;28;43mself\u001b[39;49m\u001b[38;5;241;43m.\u001b[39;49m\u001b[43m_poll\u001b[49m\u001b[43m(\u001b[49m\u001b[43mtimeout\u001b[49m\u001b[43m)\u001b[49m:\n\u001b[1;32m    114\u001b[0m         \u001b[38;5;28;01mraise\u001b[39;00m Empty\n\u001b[1;32m    115\u001b[0m \u001b[38;5;28;01melif\u001b[39;00m \u001b[38;5;129;01mnot\u001b[39;00m \u001b[38;5;28mself\u001b[39m\u001b[38;5;241m.\u001b[39m_poll():\n",
      "File \u001b[0;32m/opt/conda/lib/python3.10/multiprocessing/connection.py:257\u001b[0m, in \u001b[0;36m_ConnectionBase.poll\u001b[0;34m(self, timeout)\u001b[0m\n\u001b[1;32m    255\u001b[0m \u001b[38;5;28mself\u001b[39m\u001b[38;5;241m.\u001b[39m_check_closed()\n\u001b[1;32m    256\u001b[0m \u001b[38;5;28mself\u001b[39m\u001b[38;5;241m.\u001b[39m_check_readable()\n\u001b[0;32m--> 257\u001b[0m \u001b[38;5;28;01mreturn\u001b[39;00m \u001b[38;5;28;43mself\u001b[39;49m\u001b[38;5;241;43m.\u001b[39;49m\u001b[43m_poll\u001b[49m\u001b[43m(\u001b[49m\u001b[43mtimeout\u001b[49m\u001b[43m)\u001b[49m\n",
      "File \u001b[0;32m/opt/conda/lib/python3.10/multiprocessing/connection.py:424\u001b[0m, in \u001b[0;36mConnection._poll\u001b[0;34m(self, timeout)\u001b[0m\n\u001b[1;32m    423\u001b[0m \u001b[38;5;28;01mdef\u001b[39;00m \u001b[38;5;21m_poll\u001b[39m(\u001b[38;5;28mself\u001b[39m, timeout):\n\u001b[0;32m--> 424\u001b[0m     r \u001b[38;5;241m=\u001b[39m \u001b[43mwait\u001b[49m\u001b[43m(\u001b[49m\u001b[43m[\u001b[49m\u001b[38;5;28;43mself\u001b[39;49m\u001b[43m]\u001b[49m\u001b[43m,\u001b[49m\u001b[43m \u001b[49m\u001b[43mtimeout\u001b[49m\u001b[43m)\u001b[49m\n\u001b[1;32m    425\u001b[0m     \u001b[38;5;28;01mreturn\u001b[39;00m \u001b[38;5;28mbool\u001b[39m(r)\n",
      "File \u001b[0;32m/opt/conda/lib/python3.10/multiprocessing/connection.py:931\u001b[0m, in \u001b[0;36mwait\u001b[0;34m(object_list, timeout)\u001b[0m\n\u001b[1;32m    928\u001b[0m     deadline \u001b[38;5;241m=\u001b[39m time\u001b[38;5;241m.\u001b[39mmonotonic() \u001b[38;5;241m+\u001b[39m timeout\n\u001b[1;32m    930\u001b[0m \u001b[38;5;28;01mwhile\u001b[39;00m \u001b[38;5;28;01mTrue\u001b[39;00m:\n\u001b[0;32m--> 931\u001b[0m     ready \u001b[38;5;241m=\u001b[39m \u001b[43mselector\u001b[49m\u001b[38;5;241;43m.\u001b[39;49m\u001b[43mselect\u001b[49m\u001b[43m(\u001b[49m\u001b[43mtimeout\u001b[49m\u001b[43m)\u001b[49m\n\u001b[1;32m    932\u001b[0m     \u001b[38;5;28;01mif\u001b[39;00m ready:\n\u001b[1;32m    933\u001b[0m         \u001b[38;5;28;01mreturn\u001b[39;00m [key\u001b[38;5;241m.\u001b[39mfileobj \u001b[38;5;28;01mfor\u001b[39;00m (key, events) \u001b[38;5;129;01min\u001b[39;00m ready]\n",
      "File \u001b[0;32m/opt/conda/lib/python3.10/selectors.py:416\u001b[0m, in \u001b[0;36m_PollLikeSelector.select\u001b[0;34m(self, timeout)\u001b[0m\n\u001b[1;32m    414\u001b[0m ready \u001b[38;5;241m=\u001b[39m []\n\u001b[1;32m    415\u001b[0m \u001b[38;5;28;01mtry\u001b[39;00m:\n\u001b[0;32m--> 416\u001b[0m     fd_event_list \u001b[38;5;241m=\u001b[39m \u001b[38;5;28;43mself\u001b[39;49m\u001b[38;5;241;43m.\u001b[39;49m\u001b[43m_selector\u001b[49m\u001b[38;5;241;43m.\u001b[39;49m\u001b[43mpoll\u001b[49m\u001b[43m(\u001b[49m\u001b[43mtimeout\u001b[49m\u001b[43m)\u001b[49m\n\u001b[1;32m    417\u001b[0m \u001b[38;5;28;01mexcept\u001b[39;00m \u001b[38;5;167;01mInterruptedError\u001b[39;00m:\n\u001b[1;32m    418\u001b[0m     \u001b[38;5;28;01mreturn\u001b[39;00m ready\n",
      "\u001b[0;31mKeyboardInterrupt\u001b[0m: "
     ]
    }
   ],
   "source": [
    "loss_history, train_history, val_history = train(model_rn, train_loader,\n",
    "                                                 val_loader, loss,\n",
    "                                                 optimizer, warmup_scheduler,\n",
    "                                                 num_epochs=80)"
   ]
  },
  {
   "cell_type": "markdown",
   "metadata": {},
   "source": [
    "### Testing ResNet152"
   ]
  },
  {
   "cell_type": "code",
   "execution_count": 14,
   "metadata": {
    "tags": []
   },
   "outputs": [
    {
     "name": "stdout",
     "output_type": "stream",
     "text": [
      "ResNet152 model test accuracy: 1.00\n",
      "ResNet152 model test loss: 0.002\n"
     ]
    }
   ],
   "source": [
    "rn_test_accuracy, rn_test_loss = compute_acc_loss(model_rn, test_loader, loss)\n",
    "print(f'ResNet152 model test accuracy: {rn_test_accuracy:.2f}')\n",
    "print(f'ResNet152 model test loss: {rn_test_loss:.3f}')"
   ]
  },
  {
   "cell_type": "markdown",
   "metadata": {},
   "source": [
    "### Saving ResNet152 weights and optimizer"
   ]
  },
  {
   "cell_type": "code",
   "execution_count": 23,
   "metadata": {
    "tags": []
   },
   "outputs": [],
   "source": [
    "torch.save(model_rn.state_dict(), 'weights_rn152.pth')"
   ]
  },
  {
   "cell_type": "code",
   "execution_count": 24,
   "metadata": {
    "tags": []
   },
   "outputs": [],
   "source": [
    "torch.save(optimizer.state_dict(), 'optimizer_rn152.pth')"
   ]
  },
  {
   "cell_type": "markdown",
   "metadata": {},
   "source": [
    "### Testing ResNet152 on the phone audio recordings (in Russian)"
   ]
  },
  {
   "cell_type": "code",
   "execution_count": 12,
   "metadata": {
    "tags": []
   },
   "outputs": [
    {
     "name": "stdout",
     "output_type": "stream",
     "text": [
      "BCResNet model test accuracy: 1.00\n",
      "BCResNet model test loss: 0.002\n"
     ]
    }
   ],
   "source": [
    "rn_test_accuracy, rn_test_loss = compute_acc_loss(model_rn, test_loader, loss)\n",
    "print(f'BCResNet model test accuracy: {rn_test_accuracy:.2f}')\n",
    "print(f'BCResNet model test loss: {rn_test_loss:.3f}')"
   ]
  },
  {
   "cell_type": "markdown",
   "metadata": {},
   "source": [
    "### Custom Test (in English) vor ResNet Model"
   ]
  },
  {
   "cell_type": "code",
   "execution_count": 18,
   "metadata": {
    "tags": []
   },
   "outputs": [
    {
     "name": "stdout",
     "output_type": "stream",
     "text": [
      "VGG model test accuracy: 1.00\n",
      "VGG model test loss: 0.017\n"
     ]
    }
   ],
   "source": [
    "rn_test_accuracy, rn_test_loss = compute_acc_loss(model_rn, test_loader, loss)\n",
    "print(f'VGG model test accuracy: {rn_test_accuracy:.2f}')\n",
    "print(f'VGG model test loss: {rn_test_loss:.3f}')"
   ]
  },
  {
   "cell_type": "markdown",
   "metadata": {},
   "source": [
    "### Custom Test (in Russian) vor ResNet Model"
   ]
  },
  {
   "cell_type": "code",
   "execution_count": 22,
   "metadata": {
    "tags": []
   },
   "outputs": [
    {
     "name": "stdout",
     "output_type": "stream",
     "text": [
      "VGG model test accuracy: 1.00\n",
      "VGG model test loss: 0.007\n"
     ]
    }
   ],
   "source": [
    "rn_test_accuracy, rn_test_loss = compute_acc_loss(model_rn, rtest_loader, loss)\n",
    "print(f'VGG model test accuracy: {rn_test_accuracy:.2f}')\n",
    "print(f'VGG model test loss: {rn_test_loss:.3f}')"
   ]
  },
  {
   "cell_type": "markdown",
   "metadata": {
    "tags": []
   },
   "source": [
    "### MHAttKWS"
   ]
  },
  {
   "cell_type": "code",
   "execution_count": 17,
   "metadata": {
    "ExecuteTime": {
     "end_time": "2023-07-21T10:30:10.548611100Z",
     "start_time": "2023-07-21T10:30:10.498046600Z"
    },
    "collapsed": false,
    "jupyter": {
     "outputs_hidden": false
    },
    "tags": []
   },
   "outputs": [
    {
     "name": "stdout",
     "output_type": "stream",
     "text": [
      "Adjusting learning rate of group 0 to 1.0000e-02.\n"
     ]
    }
   ],
   "source": [
    "from BCResNet import MHAttKWS\n",
    "model_mhat = MHAttKWS(num_classes=1)\n",
    "model_mhat.type(torch.cuda.FloatTensor)\n",
    "model_mhat.to(device)\n",
    "\n",
    "loss = nn.BCEWithLogitsLoss().type(torch.cuda.FloatTensor)\n",
    "optimizer = optim.SGD(model_mhat.parameters(), lr=1e-2)\n",
    "cosine_scheduler = optim.lr_scheduler.CosineAnnealingLR(optimizer, T_max=40, verbose=True)\n",
    "warmup_scheduler = GradualWarmupScheduler(optimizer, multiplier=1, total_epoch=40,\n",
    "                                          after_scheduler=cosine_scheduler)"
   ]
  },
  {
   "cell_type": "code",
   "execution_count": 18,
   "metadata": {
    "ExecuteTime": {
     "end_time": "2023-07-21T10:39:56.639791700Z",
     "start_time": "2023-07-21T10:30:11.929000800Z"
    },
    "collapsed": false,
    "jupyter": {
     "outputs_hidden": false
    },
    "tags": []
   },
   "outputs": [
    {
     "data": {
      "text/html": [
       "Finishing last run (ID:bhga0x1j) before initializing another..."
      ],
      "text/plain": [
       "<IPython.core.display.HTML object>"
      ]
     },
     "metadata": {},
     "output_type": "display_data"
    },
    {
     "data": {
      "text/html": [
       "Waiting for W&B process to finish... <strong style=\"color:green\">(success).</strong>"
      ],
      "text/plain": [
       "<IPython.core.display.HTML object>"
      ]
     },
     "metadata": {},
     "output_type": "display_data"
    },
    {
     "data": {
      "application/vnd.jupyter.widget-view+json": {
       "model_id": "747477f35cdb43738da100d5b7c7cc96",
       "version_major": 2,
       "version_minor": 0
      },
      "text/plain": [
       "VBox(children=(Label(value='0.003 MB of 0.003 MB uploaded (0.000 MB deduped)\\r'), FloatProgress(value=1.0, max…"
      ]
     },
     "metadata": {},
     "output_type": "display_data"
    },
    {
     "data": {
      "text/html": [
       "<style>\n",
       "    table.wandb td:nth-child(1) { padding: 0 10px; text-align: left ; width: auto;} td:nth-child(2) {text-align: left ; width: 100%}\n",
       "    .wandb-row { display: flex; flex-direction: row; flex-wrap: wrap; justify-content: flex-start; width: 100% }\n",
       "    .wandb-col { display: flex; flex-direction: column; flex-basis: 100%; flex: 1; padding: 10px; }\n",
       "    </style>\n",
       "<div class=\"wandb-row\"><div class=\"wandb-col\"><h3>Run history:</h3><br/><table class=\"wandb\"><tr><td>Epoch</td><td>▁▂▃▄▅▆▇█</td></tr><tr><td>loss</td><td>█▄▄▃▂▁▁▁</td></tr><tr><td>train_acc</td><td>█▃▄▅▄▂▇▁</td></tr><tr><td>val_acc</td><td>█▁▁▄▅▅▃▃</td></tr></table><br/></div><div class=\"wandb-col\"><h3>Run summary:</h3><br/><table class=\"wandb\"><tr><td>Epoch</td><td>8</td></tr><tr><td>loss</td><td>0.69293</td></tr><tr><td>train_acc</td><td>0.49574</td></tr><tr><td>val_acc</td><td>0.499</td></tr></table><br/></div></div>"
      ],
      "text/plain": [
       "<IPython.core.display.HTML object>"
      ]
     },
     "metadata": {},
     "output_type": "display_data"
    },
    {
     "data": {
      "text/html": [
       " View run <strong style=\"color:#cdcd00\">morning-fire-55</strong> at: <a href='https://wandb.ai/darya-dare/Noise-Estimation/runs/bhga0x1j' target=\"_blank\">https://wandb.ai/darya-dare/Noise-Estimation/runs/bhga0x1j</a><br/>Synced 6 W&B file(s), 0 media file(s), 0 artifact file(s) and 0 other file(s)"
      ],
      "text/plain": [
       "<IPython.core.display.HTML object>"
      ]
     },
     "metadata": {},
     "output_type": "display_data"
    },
    {
     "data": {
      "text/html": [
       "Find logs at: <code>./wandb/run-20230803_090921-bhga0x1j/logs</code>"
      ],
      "text/plain": [
       "<IPython.core.display.HTML object>"
      ]
     },
     "metadata": {},
     "output_type": "display_data"
    },
    {
     "data": {
      "text/html": [
       "Successfully finished last run (ID:bhga0x1j). Initializing new run:<br/>"
      ],
      "text/plain": [
       "<IPython.core.display.HTML object>"
      ]
     },
     "metadata": {},
     "output_type": "display_data"
    },
    {
     "data": {
      "application/vnd.jupyter.widget-view+json": {
       "model_id": "a61da269f441455bb27b71f8d763473f",
       "version_major": 2,
       "version_minor": 0
      },
      "text/plain": [
       "VBox(children=(Label(value='Waiting for wandb.init()...\\r'), FloatProgress(value=0.016669311265771588, max=1.0…"
      ]
     },
     "metadata": {},
     "output_type": "display_data"
    },
    {
     "data": {
      "text/html": [
       "wandb version 0.15.8 is available!  To upgrade, please run:\n",
       " $ pip install wandb --upgrade"
      ],
      "text/plain": [
       "<IPython.core.display.HTML object>"
      ]
     },
     "metadata": {},
     "output_type": "display_data"
    },
    {
     "data": {
      "text/html": [
       "Tracking run with wandb version 0.15.7"
      ],
      "text/plain": [
       "<IPython.core.display.HTML object>"
      ]
     },
     "metadata": {},
     "output_type": "display_data"
    },
    {
     "data": {
      "text/html": [
       "Run data is saved locally in <code>/home/jovyan/project/wandb/run-20230803_091820-b8v7ct87</code>"
      ],
      "text/plain": [
       "<IPython.core.display.HTML object>"
      ]
     },
     "metadata": {},
     "output_type": "display_data"
    },
    {
     "data": {
      "text/html": [
       "Syncing run <strong><a href='https://wandb.ai/darya-dare/Noise-Estimation/runs/b8v7ct87' target=\"_blank\">resilient-valley-56</a></strong> to <a href='https://wandb.ai/darya-dare/Noise-Estimation' target=\"_blank\">Weights & Biases</a> (<a href='https://wandb.me/run' target=\"_blank\">docs</a>)<br/>"
      ],
      "text/plain": [
       "<IPython.core.display.HTML object>"
      ]
     },
     "metadata": {},
     "output_type": "display_data"
    },
    {
     "data": {
      "text/html": [
       " View project at <a href='https://wandb.ai/darya-dare/Noise-Estimation' target=\"_blank\">https://wandb.ai/darya-dare/Noise-Estimation</a>"
      ],
      "text/plain": [
       "<IPython.core.display.HTML object>"
      ]
     },
     "metadata": {},
     "output_type": "display_data"
    },
    {
     "data": {
      "text/html": [
       " View run at <a href='https://wandb.ai/darya-dare/Noise-Estimation/runs/b8v7ct87' target=\"_blank\">https://wandb.ai/darya-dare/Noise-Estimation/runs/b8v7ct87</a>"
      ],
      "text/plain": [
       "<IPython.core.display.HTML object>"
      ]
     },
     "metadata": {},
     "output_type": "display_data"
    },
    {
     "name": "stderr",
     "output_type": "stream",
     "text": [
      "Epoch 1: Average epoch loss: 0.693 Train accuracy: 0.49, Val accuracy: 0.50: 100%|██████████| 61/61 [00:54<00:00,  1.12it/s]\n",
      "Epoch 2: Average epoch loss: 0.693 Train accuracy: 0.49, Val accuracy: 0.51: 100%|██████████| 61/61 [00:52<00:00,  1.16it/s]\n",
      "Epoch 3: Average epoch loss: 0.695 Train accuracy: 0.52, Val accuracy: 0.50: 100%|██████████| 61/61 [00:53<00:00,  1.13it/s]\n",
      "Epoch 4: Average epoch loss: 0.694 Train accuracy: 0.51, Val accuracy: 0.52: 100%|██████████| 61/61 [00:52<00:00,  1.15it/s]\n",
      "Epoch 5: Average epoch loss: 0.694 Train accuracy: 0.50, Val accuracy: 0.47: 100%|██████████| 61/61 [00:54<00:00,  1.13it/s]\n",
      "Epoch 6: Average epoch loss: 0.693 Train accuracy: 0.49, Val accuracy: 0.51: 100%|██████████| 61/61 [00:54<00:00,  1.12it/s]\n",
      "Epoch 7: Average epoch loss: 0.694 Train accuracy: 0.50, Val accuracy: 0.53: 100%|██████████| 61/61 [00:52<00:00,  1.16it/s]\n",
      "Epoch 8: Average epoch loss: 0.693 Train accuracy: 0.49, Val accuracy: 0.49: 100%|██████████| 61/61 [00:55<00:00,  1.11it/s]\n",
      "Epoch 9: Average epoch loss: 0.694 Train accuracy: 0.50, Val accuracy: 0.48: 100%|██████████| 61/61 [00:53<00:00,  1.14it/s]\n",
      "Epoch 10: Average epoch loss: 0.694 Train accuracy: 0.51, Val accuracy: 0.48: 100%|██████████| 61/61 [00:54<00:00,  1.13it/s]\n",
      "Epoch 11: Average epoch loss: 0.693 Train accuracy: 0.50, Val accuracy: 0.52: 100%|██████████| 61/61 [00:52<00:00,  1.16it/s]\n",
      "Epoch 12: Average epoch loss: 0.694 Train accuracy: 0.51, Val accuracy: 0.50: 100%|██████████| 61/61 [00:53<00:00,  1.14it/s]\n",
      "Epoch 13: Average epoch loss: 0.694 Train accuracy: 0.51, Val accuracy: 0.53: 100%|██████████| 61/61 [00:52<00:00,  1.16it/s]\n",
      "Epoch 14: Average epoch loss: 0.693 Train accuracy: 0.50, Val accuracy: 0.49: 100%|██████████| 61/61 [00:53<00:00,  1.14it/s]\n",
      "Epoch 15: Average epoch loss: 0.693 Train accuracy: 0.49, Val accuracy: 0.52: 100%|██████████| 61/61 [00:54<00:00,  1.12it/s]\n",
      "Epoch 16: Average epoch loss: 0.693 Train accuracy: 0.50, Val accuracy: 0.47: 100%|██████████| 61/61 [00:54<00:00,  1.12it/s]\n",
      "Epoch 17: Average epoch loss: 0.693 Train accuracy: 0.49, Val accuracy: 0.48: 100%|██████████| 61/61 [00:56<00:00,  1.08it/s]\n",
      "Epoch 18: Average epoch loss: 0.693 Train accuracy: 0.49, Val accuracy: 0.49: 100%|██████████| 61/61 [00:55<00:00,  1.11it/s]\n",
      "Epoch 19: Average epoch loss: 0.692 Train accuracy: 0.49, Val accuracy: 0.49: 100%|██████████| 61/61 [00:54<00:00,  1.13it/s]\n",
      "Epoch 20: Average epoch loss: 0.693 Train accuracy: 0.51, Val accuracy: 0.48: 100%|██████████| 61/61 [00:54<00:00,  1.12it/s]\n",
      "Epoch 21: Average epoch loss: 0.693 Train accuracy: 0.50, Val accuracy: 0.51: 100%|██████████| 61/61 [00:52<00:00,  1.15it/s]\n",
      "Epoch 22: Average epoch loss: 0.693 Train accuracy: 0.50, Val accuracy: 0.51: 100%|██████████| 61/61 [00:53<00:00,  1.14it/s]\n",
      "Epoch 23: Average epoch loss: 0.693 Train accuracy: 0.50, Val accuracy: 0.51: 100%|██████████| 61/61 [00:53<00:00,  1.13it/s]\n",
      "Epoch 24: Average epoch loss: 0.693 Train accuracy: 0.51, Val accuracy: 0.49: 100%|██████████| 61/61 [00:52<00:00,  1.16it/s]\n",
      "Epoch 25: Average epoch loss: 0.693 Train accuracy: 0.51, Val accuracy: 0.50: 100%|██████████| 61/61 [00:53<00:00,  1.15it/s]\n",
      "Epoch 26: Average epoch loss: 0.693 Train accuracy: 0.51, Val accuracy: 0.50: 100%|██████████| 61/61 [00:52<00:00,  1.16it/s]\n",
      "Epoch 27: Average epoch loss: 0.692 Train accuracy: 0.51, Val accuracy: 0.49: 100%|██████████| 61/61 [00:52<00:00,  1.17it/s]\n",
      "Epoch 28: Average epoch loss: 0.692 Train accuracy: 0.50, Val accuracy: 0.50: 100%|██████████| 61/61 [00:53<00:00,  1.14it/s]\n",
      "Epoch 29: Average epoch loss: 0.692 Train accuracy: 0.49, Val accuracy: 0.52: 100%|██████████| 61/61 [00:53<00:00,  1.15it/s]\n",
      "Epoch 30: Average epoch loss: 0.692 Train accuracy: 0.51, Val accuracy: 0.49: 100%|██████████| 61/61 [00:52<00:00,  1.15it/s]\n",
      "Epoch 31: Average epoch loss: 0.692 Train accuracy: 0.50, Val accuracy: 0.51: 100%|██████████| 61/61 [00:52<00:00,  1.16it/s]\n",
      "Epoch 32: Average epoch loss: 0.692 Train accuracy: 0.51, Val accuracy: 0.50: 100%|██████████| 61/61 [00:51<00:00,  1.18it/s]\n",
      "Epoch 33: Average epoch loss: 0.692 Train accuracy: 0.50, Val accuracy: 0.49: 100%|██████████| 61/61 [00:52<00:00,  1.16it/s]\n",
      "Epoch 34: Average epoch loss: 0.692 Train accuracy: 0.51, Val accuracy: 0.51: 100%|██████████| 61/61 [00:52<00:00,  1.16it/s]\n",
      "Epoch 35: Average epoch loss: 0.692 Train accuracy: 0.50, Val accuracy: 0.52: 100%|██████████| 61/61 [00:51<00:00,  1.18it/s]\n",
      "Epoch 36: Average epoch loss: 0.691 Train accuracy: 0.51, Val accuracy: 0.48: 100%|██████████| 61/61 [00:52<00:00,  1.17it/s]\n",
      "Epoch 37: Average epoch loss: 0.691 Train accuracy: 0.51, Val accuracy: 0.50: 100%|██████████| 61/61 [00:54<00:00,  1.12it/s]\n",
      "Epoch 38: Average epoch loss: 0.692 Train accuracy: 0.47, Val accuracy: 0.48: 100%|██████████| 61/61 [00:55<00:00,  1.10it/s]\n",
      "Epoch 39: Average epoch loss: 0.691 Train accuracy: 0.49, Val accuracy: 0.50: 100%|██████████| 61/61 [00:53<00:00,  1.14it/s]\n",
      "Epoch 40: Average epoch loss: 0.691 Train accuracy: 0.50, Val accuracy: 0.50: 100%|██████████| 61/61 [00:53<00:00,  1.14it/s]\n",
      "Epoch 41: Average epoch loss: 0.690 Train accuracy: 0.51, Val accuracy: 0.50: 100%|██████████| 61/61 [00:52<00:00,  1.16it/s]\n",
      "Epoch 42: Average epoch loss: 0.690 Train accuracy: 0.48, Val accuracy: 0.49: 100%|██████████| 61/61 [00:55<00:00,  1.10it/s]\n"
     ]
    },
    {
     "name": "stdout",
     "output_type": "stream",
     "text": [
      "Adjusting learning rate of group 0 to 9.9846e-03.\n"
     ]
    },
    {
     "name": "stderr",
     "output_type": "stream",
     "text": [
      "Epoch 43: Average epoch loss: 0.690 Train accuracy: 0.50, Val accuracy: 0.51: 100%|██████████| 61/61 [00:52<00:00,  1.15it/s]\n"
     ]
    },
    {
     "name": "stdout",
     "output_type": "stream",
     "text": [
      "Adjusting learning rate of group 0 to 9.9384e-03.\n"
     ]
    },
    {
     "name": "stderr",
     "output_type": "stream",
     "text": [
      "Epoch 44: Average epoch loss: 0.690 Train accuracy: 0.51, Val accuracy: 0.49: 100%|██████████| 61/61 [00:54<00:00,  1.13it/s]\n"
     ]
    },
    {
     "name": "stdout",
     "output_type": "stream",
     "text": [
      "Adjusting learning rate of group 0 to 9.8618e-03.\n"
     ]
    },
    {
     "name": "stderr",
     "output_type": "stream",
     "text": [
      "Epoch 45: Average epoch loss: 0.689 Train accuracy: 0.49, Val accuracy: 0.50: 100%|██████████| 61/61 [00:53<00:00,  1.13it/s]\n"
     ]
    },
    {
     "name": "stdout",
     "output_type": "stream",
     "text": [
      "Adjusting learning rate of group 0 to 9.7553e-03.\n"
     ]
    },
    {
     "name": "stderr",
     "output_type": "stream",
     "text": [
      "Epoch 46: Average epoch loss: 0.689 Train accuracy: 0.50, Val accuracy: 0.51: 100%|██████████| 61/61 [00:52<00:00,  1.16it/s]\n"
     ]
    },
    {
     "name": "stdout",
     "output_type": "stream",
     "text": [
      "Adjusting learning rate of group 0 to 9.6194e-03.\n"
     ]
    },
    {
     "name": "stderr",
     "output_type": "stream",
     "text": [
      "Epoch 47: Average epoch loss: 0.688 Train accuracy: 0.50, Val accuracy: 0.48: 100%|██████████| 61/61 [00:54<00:00,  1.13it/s]\n"
     ]
    },
    {
     "name": "stdout",
     "output_type": "stream",
     "text": [
      "Adjusting learning rate of group 0 to 9.4550e-03.\n"
     ]
    },
    {
     "name": "stderr",
     "output_type": "stream",
     "text": [
      "Epoch 48: Average epoch loss: 0.688 Train accuracy: 0.50, Val accuracy: 0.50: 100%|██████████| 61/61 [00:54<00:00,  1.11it/s]\n"
     ]
    },
    {
     "name": "stdout",
     "output_type": "stream",
     "text": [
      "Adjusting learning rate of group 0 to 9.2632e-03.\n"
     ]
    },
    {
     "name": "stderr",
     "output_type": "stream",
     "text": [
      "Epoch 49: Average epoch loss: 0.687 Train accuracy: 0.49, Val accuracy: 0.51: 100%|██████████| 61/61 [00:54<00:00,  1.11it/s]\n"
     ]
    },
    {
     "name": "stdout",
     "output_type": "stream",
     "text": [
      "Adjusting learning rate of group 0 to 9.0451e-03.\n"
     ]
    },
    {
     "name": "stderr",
     "output_type": "stream",
     "text": [
      "Epoch 50: Average epoch loss: 0.687 Train accuracy: 0.50, Val accuracy: 0.49: 100%|██████████| 61/61 [00:53<00:00,  1.14it/s]"
     ]
    },
    {
     "name": "stdout",
     "output_type": "stream",
     "text": [
      "Adjusting learning rate of group 0 to 8.8020e-03.\n"
     ]
    },
    {
     "name": "stderr",
     "output_type": "stream",
     "text": [
      "\n"
     ]
    },
    {
     "data": {
      "text/html": [
       "Waiting for W&B process to finish... <strong style=\"color:green\">(success).</strong>"
      ],
      "text/plain": [
       "<IPython.core.display.HTML object>"
      ]
     },
     "metadata": {},
     "output_type": "display_data"
    },
    {
     "data": {
      "application/vnd.jupyter.widget-view+json": {
       "model_id": "418944c090594459b0e5288fc48f70eb",
       "version_major": 2,
       "version_minor": 0
      },
      "text/plain": [
       "VBox(children=(Label(value='0.003 MB of 0.003 MB uploaded (0.000 MB deduped)\\r'), FloatProgress(value=1.0, max…"
      ]
     },
     "metadata": {},
     "output_type": "display_data"
    },
    {
     "data": {
      "text/html": [
       "<style>\n",
       "    table.wandb td:nth-child(1) { padding: 0 10px; text-align: left ; width: auto;} td:nth-child(2) {text-align: left ; width: 100%}\n",
       "    .wandb-row { display: flex; flex-direction: row; flex-wrap: wrap; justify-content: flex-start; width: 100% }\n",
       "    .wandb-col { display: flex; flex-direction: column; flex-basis: 100%; flex: 1; padding: 10px; }\n",
       "    </style>\n",
       "<div class=\"wandb-row\"><div class=\"wandb-col\"><h3>Run history:</h3><br/><table class=\"wandb\"><tr><td>Epoch</td><td>▁▁▁▁▂▂▂▂▂▃▃▃▃▃▃▄▄▄▄▄▅▅▅▅▅▅▆▆▆▆▆▆▇▇▇▇▇███</td></tr><tr><td>loss</td><td>▇▇█▇▆▇▆▇▇▇▇▆▆▆▆▆▆▆▆▆▆▆▆▆▆▆▆▅▅▅▅▅▄▄▄▄▃▂▂▁</td></tr><tr><td>train_acc</td><td>▄▄█▆▄▅▄▆▅▇▇▅▅▃▄▃▆▆▆▇▇▆▅▄▆▇▆▇▇▇▁▄█▃▆▇▆▅▆▅</td></tr><tr><td>val_acc</td><td>▅▆▅▇▅█▄▂█▅█▄▁▂▃▄▆▆▆▄▅▃▅█▅▅▄▆▃▄▂▅▅▃▅▃▅▂▅▃</td></tr></table><br/></div><div class=\"wandb-col\"><h3>Run summary:</h3><br/><table class=\"wandb\"><tr><td>Epoch</td><td>50</td></tr><tr><td>loss</td><td>0.68664</td></tr><tr><td>train_acc</td><td>0.49902</td></tr><tr><td>val_acc</td><td>0.488</td></tr></table><br/></div></div>"
      ],
      "text/plain": [
       "<IPython.core.display.HTML object>"
      ]
     },
     "metadata": {},
     "output_type": "display_data"
    },
    {
     "data": {
      "text/html": [
       " View run <strong style=\"color:#cdcd00\">resilient-valley-56</strong> at: <a href='https://wandb.ai/darya-dare/Noise-Estimation/runs/b8v7ct87' target=\"_blank\">https://wandb.ai/darya-dare/Noise-Estimation/runs/b8v7ct87</a><br/>Synced 6 W&B file(s), 0 media file(s), 0 artifact file(s) and 0 other file(s)"
      ],
      "text/plain": [
       "<IPython.core.display.HTML object>"
      ]
     },
     "metadata": {},
     "output_type": "display_data"
    },
    {
     "data": {
      "text/html": [
       "Find logs at: <code>./wandb/run-20230803_091820-b8v7ct87/logs</code>"
      ],
      "text/plain": [
       "<IPython.core.display.HTML object>"
      ]
     },
     "metadata": {},
     "output_type": "display_data"
    }
   ],
   "source": [
    "loss_history, train_history, val_history = train(model_mhat, train_loader,\n",
    "                                                 val_loader, loss,\n",
    "                                                 optimizer, warmup_scheduler,\n",
    "                                                 num_epochs=50)"
   ]
  },
  {
   "cell_type": "markdown",
   "metadata": {
    "jupyter": {
     "outputs_hidden": false
    }
   },
   "source": [
    "### BCResNet: scale=1"
   ]
  },
  {
   "cell_type": "code",
   "execution_count": 10,
   "metadata": {
    "tags": []
   },
   "outputs": [
    {
     "name": "stdout",
     "output_type": "stream",
     "text": [
      "Adjusting learning rate of group 0 to 1.0000e-03.\n"
     ]
    }
   ],
   "source": [
    "from BCResNet import BCResNet\n",
    "model_bcrn = BCResNet(num_labels=1)\n",
    "model_bcrn.type(torch.cuda.FloatTensor)\n",
    "model_bcrn.to(device)\n",
    "\n",
    "loss = nn.BCELoss().type(torch.cuda.FloatTensor)\n",
    "optimizer = optim.SGD(model_bcrn.parameters(), lr=1e-3)\n",
    "\n",
    "cosine_scheduler = optim.lr_scheduler.CosineAnnealingLR(optimizer, T_max=25, verbose=True)\n",
    "warmup_scheduler = GradualWarmupScheduler(optimizer, multiplier=1, total_epoch=25,\n",
    "                                          after_scheduler=cosine_scheduler)"
   ]
  },
  {
   "cell_type": "code",
   "execution_count": 11,
   "metadata": {
    "tags": []
   },
   "outputs": [
    {
     "data": {
      "text/html": [
       "Tracking run with wandb version 0.15.8"
      ],
      "text/plain": [
       "<IPython.core.display.HTML object>"
      ]
     },
     "metadata": {},
     "output_type": "display_data"
    },
    {
     "data": {
      "text/html": [
       "Run data is saved locally in <code>/home/jovyan/project/wandb/run-20230818_093935-0torf1f2</code>"
      ],
      "text/plain": [
       "<IPython.core.display.HTML object>"
      ]
     },
     "metadata": {},
     "output_type": "display_data"
    },
    {
     "data": {
      "text/html": [
       "Syncing run <strong><a href='https://wandb.ai/darya-dare/Noise-Estimation/runs/0torf1f2' target=\"_blank\">sweet-bush-90</a></strong> to <a href='https://wandb.ai/darya-dare/Noise-Estimation' target=\"_blank\">Weights & Biases</a> (<a href='https://wandb.me/run' target=\"_blank\">docs</a>)<br/>"
      ],
      "text/plain": [
       "<IPython.core.display.HTML object>"
      ]
     },
     "metadata": {},
     "output_type": "display_data"
    },
    {
     "data": {
      "text/html": [
       " View project at <a href='https://wandb.ai/darya-dare/Noise-Estimation' target=\"_blank\">https://wandb.ai/darya-dare/Noise-Estimation</a>"
      ],
      "text/plain": [
       "<IPython.core.display.HTML object>"
      ]
     },
     "metadata": {},
     "output_type": "display_data"
    },
    {
     "data": {
      "text/html": [
       " View run at <a href='https://wandb.ai/darya-dare/Noise-Estimation/runs/0torf1f2' target=\"_blank\">https://wandb.ai/darya-dare/Noise-Estimation/runs/0torf1f2</a>"
      ],
      "text/plain": [
       "<IPython.core.display.HTML object>"
      ]
     },
     "metadata": {},
     "output_type": "display_data"
    },
    {
     "name": "stderr",
     "output_type": "stream",
     "text": [
      "Epoch 1: Average epoch loss: 0.692 Train accuracy: 0.52 Val loss: 0.697 Val accuracy: 0.48: 100%|██████████| 48/48 [00:37<00:00,  1.29it/s]\n",
      "Epoch 2: Average epoch loss: 0.695 Train accuracy: 0.48 Val loss: 0.695 Val accuracy: 0.51: 100%|██████████| 48/48 [00:38<00:00,  1.25it/s]\n",
      "Epoch 3: Average epoch loss: 0.691 Train accuracy: 0.52 Val loss: 0.697 Val accuracy: 0.49: 100%|██████████| 48/48 [00:39<00:00,  1.23it/s]\n",
      "Epoch 4: Average epoch loss: 0.691 Train accuracy: 0.52 Val loss: 0.698 Val accuracy: 0.48: 100%|██████████| 48/48 [00:39<00:00,  1.22it/s]\n",
      "Epoch 5: Average epoch loss: 0.693 Train accuracy: 0.50 Val loss: 0.695 Val accuracy: 0.51: 100%|██████████| 48/48 [00:38<00:00,  1.24it/s]\n",
      "Epoch 6: Average epoch loss: 0.691 Train accuracy: 0.52 Val loss: 0.694 Val accuracy: 0.50: 100%|██████████| 48/48 [00:38<00:00,  1.25it/s]\n",
      "Epoch 7: Average epoch loss: 0.691 Train accuracy: 0.51 Val loss: 0.694 Val accuracy: 0.50: 100%|██████████| 48/48 [00:38<00:00,  1.25it/s]\n",
      "Epoch 8: Average epoch loss: 0.691 Train accuracy: 0.51 Val loss: 0.693 Val accuracy: 0.51: 100%|██████████| 48/48 [00:38<00:00,  1.24it/s]\n",
      "Epoch 9: Average epoch loss: 0.688 Train accuracy: 0.54 Val loss: 0.698 Val accuracy: 0.45: 100%|██████████| 48/48 [00:38<00:00,  1.26it/s]\n",
      "Epoch 10: Average epoch loss: 0.687 Train accuracy: 0.55 Val loss: 0.695 Val accuracy: 0.47: 100%|██████████| 48/48 [00:38<00:00,  1.25it/s]\n",
      "Epoch 11: Average epoch loss: 0.687 Train accuracy: 0.56 Val loss: 0.691 Val accuracy: 0.49: 100%|██████████| 48/48 [00:38<00:00,  1.25it/s]\n",
      "Epoch 12: Average epoch loss: 0.685 Train accuracy: 0.58 Val loss: 0.689 Val accuracy: 0.50: 100%|██████████| 48/48 [00:38<00:00,  1.24it/s]\n",
      "Epoch 13: Average epoch loss: 0.684 Train accuracy: 0.58 Val loss: 0.686 Val accuracy: 0.52: 100%|██████████| 48/48 [00:39<00:00,  1.23it/s]\n",
      "Epoch 14: Average epoch loss: 0.682 Train accuracy: 0.59 Val loss: 0.686 Val accuracy: 0.50: 100%|██████████| 48/48 [00:38<00:00,  1.23it/s]\n",
      "Epoch 15: Average epoch loss: 0.679 Train accuracy: 0.62 Val loss: 0.687 Val accuracy: 0.48: 100%|██████████| 48/48 [00:38<00:00,  1.25it/s]\n",
      "Epoch 16: Average epoch loss: 0.678 Train accuracy: 0.62 Val loss: 0.683 Val accuracy: 0.50: 100%|██████████| 48/48 [00:38<00:00,  1.25it/s]\n",
      "Epoch 17: Average epoch loss: 0.676 Train accuracy: 0.64 Val loss: 0.678 Val accuracy: 0.52: 100%|██████████| 48/48 [00:37<00:00,  1.29it/s]\n",
      "Epoch 18: Average epoch loss: 0.673 Train accuracy: 0.67 Val loss: 0.676 Val accuracy: 0.52: 100%|██████████| 48/48 [00:38<00:00,  1.26it/s]\n",
      "Epoch 19: Average epoch loss: 0.669 Train accuracy: 0.70 Val loss: 0.677 Val accuracy: 0.51: 100%|██████████| 48/48 [00:39<00:00,  1.20it/s]\n",
      "Epoch 20: Average epoch loss: 0.667 Train accuracy: 0.69 Val loss: 0.675 Val accuracy: 0.49: 100%|██████████| 48/48 [00:38<00:00,  1.25it/s]\n",
      "Epoch 21: Average epoch loss: 0.661 Train accuracy: 0.73 Val loss: 0.668 Val accuracy: 0.55: 100%|██████████| 48/48 [00:38<00:00,  1.25it/s]\n",
      "Epoch 22: Average epoch loss: 0.658 Train accuracy: 0.75 Val loss: 0.670 Val accuracy: 0.53: 100%|██████████| 48/48 [00:37<00:00,  1.27it/s]\n",
      "Epoch 23: Average epoch loss: 0.656 Train accuracy: 0.74 Val loss: 0.663 Val accuracy: 0.58: 100%|██████████| 48/48 [00:38<00:00,  1.26it/s]\n",
      "Epoch 24: Average epoch loss: 0.650 Train accuracy: 0.77 Val loss: 0.652 Val accuracy: 0.74: 100%|██████████| 48/48 [00:38<00:00,  1.23it/s]\n",
      "Epoch 25: Average epoch loss: 0.643 Train accuracy: 0.80 Val loss: 0.653 Val accuracy: 0.71: 100%|██████████| 48/48 [00:38<00:00,  1.25it/s]\n",
      "Epoch 26: Average epoch loss: 0.639 Train accuracy: 0.80 Val loss: 0.648 Val accuracy: 0.76: 100%|██████████| 48/48 [00:38<00:00,  1.26it/s]\n",
      "Epoch 27: Average epoch loss: 0.632 Train accuracy: 0.82 Val loss: 0.634 Val accuracy: 0.87: 100%|██████████| 48/48 [00:38<00:00,  1.24it/s]\n"
     ]
    },
    {
     "name": "stdout",
     "output_type": "stream",
     "text": [
      "Adjusting learning rate of group 0 to 9.9606e-04.\n"
     ]
    },
    {
     "name": "stderr",
     "output_type": "stream",
     "text": [
      "Epoch 28: Average epoch loss: 0.627 Train accuracy: 0.83 Val loss: 0.632 Val accuracy: 0.87: 100%|██████████| 48/48 [00:37<00:00,  1.26it/s]\n"
     ]
    },
    {
     "name": "stdout",
     "output_type": "stream",
     "text": [
      "Adjusting learning rate of group 0 to 9.8429e-04.\n"
     ]
    },
    {
     "name": "stderr",
     "output_type": "stream",
     "text": [
      "Epoch 29: Average epoch loss: 0.618 Train accuracy: 0.84 Val loss: 0.625 Val accuracy: 0.88: 100%|██████████| 48/48 [00:38<00:00,  1.25it/s]\n"
     ]
    },
    {
     "name": "stdout",
     "output_type": "stream",
     "text": [
      "Adjusting learning rate of group 0 to 9.6489e-04.\n"
     ]
    },
    {
     "name": "stderr",
     "output_type": "stream",
     "text": [
      "Epoch 30: Average epoch loss: 0.612 Train accuracy: 0.85 Val loss: 0.618 Val accuracy: 0.91: 100%|██████████| 48/48 [00:37<00:00,  1.27it/s]\n"
     ]
    },
    {
     "name": "stdout",
     "output_type": "stream",
     "text": [
      "Adjusting learning rate of group 0 to 9.3815e-04.\n"
     ]
    },
    {
     "name": "stderr",
     "output_type": "stream",
     "text": [
      "Epoch 31: Average epoch loss: 0.602 Train accuracy: 0.86 Val loss: 0.605 Val accuracy: 0.96: 100%|██████████| 48/48 [00:38<00:00,  1.24it/s]\n"
     ]
    },
    {
     "name": "stdout",
     "output_type": "stream",
     "text": [
      "Adjusting learning rate of group 0 to 9.0451e-04.\n"
     ]
    },
    {
     "name": "stderr",
     "output_type": "stream",
     "text": [
      "Epoch 32: Average epoch loss: 0.593 Train accuracy: 0.87 Val loss: 0.596 Val accuracy: 0.96: 100%|██████████| 48/48 [00:37<00:00,  1.27it/s]\n"
     ]
    },
    {
     "name": "stdout",
     "output_type": "stream",
     "text": [
      "Adjusting learning rate of group 0 to 8.6448e-04.\n"
     ]
    },
    {
     "name": "stderr",
     "output_type": "stream",
     "text": [
      "Epoch 33: Average epoch loss: 0.585 Train accuracy: 0.88 Val loss: 0.587 Val accuracy: 0.97: 100%|██████████| 48/48 [00:39<00:00,  1.23it/s]\n"
     ]
    },
    {
     "name": "stdout",
     "output_type": "stream",
     "text": [
      "Adjusting learning rate of group 0 to 8.1871e-04.\n"
     ]
    },
    {
     "name": "stderr",
     "output_type": "stream",
     "text": [
      "Epoch 34: Average epoch loss: 0.575 Train accuracy: 0.89 Val loss: 0.575 Val accuracy: 0.98: 100%|██████████| 48/48 [00:37<00:00,  1.29it/s]\n"
     ]
    },
    {
     "name": "stdout",
     "output_type": "stream",
     "text": [
      "Adjusting learning rate of group 0 to 7.6791e-04.\n"
     ]
    },
    {
     "name": "stderr",
     "output_type": "stream",
     "text": [
      "Epoch 35: Average epoch loss: 0.568 Train accuracy: 0.90 Val loss: 0.567 Val accuracy: 0.97: 100%|██████████| 48/48 [00:38<00:00,  1.26it/s]\n"
     ]
    },
    {
     "name": "stdout",
     "output_type": "stream",
     "text": [
      "Adjusting learning rate of group 0 to 7.1289e-04.\n"
     ]
    },
    {
     "name": "stderr",
     "output_type": "stream",
     "text": [
      "Epoch 36: Average epoch loss: 0.560 Train accuracy: 0.90 Val loss: 0.556 Val accuracy: 0.98: 100%|██████████| 48/48 [00:38<00:00,  1.25it/s]\n"
     ]
    },
    {
     "name": "stdout",
     "output_type": "stream",
     "text": [
      "Adjusting learning rate of group 0 to 6.5451e-04.\n"
     ]
    },
    {
     "name": "stderr",
     "output_type": "stream",
     "text": [
      "Epoch 37: Average epoch loss: 0.555 Train accuracy: 0.90 Val loss: 0.548 Val accuracy: 0.98: 100%|██████████| 48/48 [00:38<00:00,  1.26it/s]\n"
     ]
    },
    {
     "name": "stdout",
     "output_type": "stream",
     "text": [
      "Adjusting learning rate of group 0 to 5.9369e-04.\n"
     ]
    },
    {
     "name": "stderr",
     "output_type": "stream",
     "text": [
      "Epoch 38: Average epoch loss: 0.548 Train accuracy: 0.90 Val loss: 0.527 Val accuracy: 0.99: 100%|██████████| 48/48 [00:39<00:00,  1.21it/s]\n"
     ]
    },
    {
     "name": "stdout",
     "output_type": "stream",
     "text": [
      "Adjusting learning rate of group 0 to 5.3140e-04.\n"
     ]
    },
    {
     "name": "stderr",
     "output_type": "stream",
     "text": [
      "Epoch 39: Average epoch loss: 0.540 Train accuracy: 0.91 Val loss: 0.532 Val accuracy: 0.99: 100%|██████████| 48/48 [00:37<00:00,  1.30it/s]\n"
     ]
    },
    {
     "name": "stdout",
     "output_type": "stream",
     "text": [
      "Adjusting learning rate of group 0 to 4.6860e-04.\n"
     ]
    },
    {
     "name": "stderr",
     "output_type": "stream",
     "text": [
      "Epoch 40: Average epoch loss: 0.532 Train accuracy: 0.91 Val loss: 0.510 Val accuracy: 0.99: 100%|██████████| 48/48 [00:38<00:00,  1.26it/s]\n"
     ]
    },
    {
     "name": "stdout",
     "output_type": "stream",
     "text": [
      "Adjusting learning rate of group 0 to 4.0631e-04.\n"
     ]
    },
    {
     "name": "stderr",
     "output_type": "stream",
     "text": [
      "Epoch 41: Average epoch loss: 0.522 Train accuracy: 0.93 Val loss: 0.524 Val accuracy: 0.98: 100%|██████████| 48/48 [00:37<00:00,  1.30it/s]\n"
     ]
    },
    {
     "name": "stdout",
     "output_type": "stream",
     "text": [
      "Adjusting learning rate of group 0 to 3.4549e-04.\n"
     ]
    },
    {
     "name": "stderr",
     "output_type": "stream",
     "text": [
      "Epoch 42: Average epoch loss: 0.520 Train accuracy: 0.92 Val loss: 0.514 Val accuracy: 0.99: 100%|██████████| 48/48 [00:37<00:00,  1.27it/s]\n"
     ]
    },
    {
     "name": "stdout",
     "output_type": "stream",
     "text": [
      "Adjusting learning rate of group 0 to 2.8711e-04.\n"
     ]
    },
    {
     "name": "stderr",
     "output_type": "stream",
     "text": [
      "Epoch 43: Average epoch loss: 0.516 Train accuracy: 0.93 Val loss: 0.512 Val accuracy: 0.99: 100%|██████████| 48/48 [00:38<00:00,  1.26it/s]\n"
     ]
    },
    {
     "name": "stdout",
     "output_type": "stream",
     "text": [
      "Adjusting learning rate of group 0 to 2.3209e-04.\n"
     ]
    },
    {
     "name": "stderr",
     "output_type": "stream",
     "text": [
      "Epoch 44: Average epoch loss: 0.514 Train accuracy: 0.92 Val loss: 0.504 Val accuracy: 0.99: 100%|██████████| 48/48 [00:39<00:00,  1.22it/s]\n"
     ]
    },
    {
     "name": "stdout",
     "output_type": "stream",
     "text": [
      "Adjusting learning rate of group 0 to 1.8129e-04.\n"
     ]
    },
    {
     "name": "stderr",
     "output_type": "stream",
     "text": [
      "Epoch 45: Average epoch loss: 0.508 Train accuracy: 0.93 Val loss: 0.495 Val accuracy: 0.99: 100%|██████████| 48/48 [00:38<00:00,  1.25it/s]\n"
     ]
    },
    {
     "name": "stdout",
     "output_type": "stream",
     "text": [
      "Adjusting learning rate of group 0 to 1.3552e-04.\n"
     ]
    },
    {
     "name": "stderr",
     "output_type": "stream",
     "text": [
      "Epoch 46: Average epoch loss: 0.507 Train accuracy: 0.92 Val loss: 0.504 Val accuracy: 0.98: 100%|██████████| 48/48 [00:38<00:00,  1.25it/s]\n"
     ]
    },
    {
     "name": "stdout",
     "output_type": "stream",
     "text": [
      "Adjusting learning rate of group 0 to 9.5492e-05.\n"
     ]
    },
    {
     "name": "stderr",
     "output_type": "stream",
     "text": [
      "Epoch 47: Average epoch loss: 0.507 Train accuracy: 0.92 Val loss: 0.493 Val accuracy: 0.99: 100%|██████████| 48/48 [00:38<00:00,  1.24it/s]\n"
     ]
    },
    {
     "name": "stdout",
     "output_type": "stream",
     "text": [
      "Adjusting learning rate of group 0 to 6.1847e-05.\n"
     ]
    },
    {
     "name": "stderr",
     "output_type": "stream",
     "text": [
      "Epoch 48: Average epoch loss: 0.507 Train accuracy: 0.92 Val loss: 0.487 Val accuracy: 0.99: 100%|██████████| 48/48 [00:38<00:00,  1.24it/s]\n"
     ]
    },
    {
     "name": "stdout",
     "output_type": "stream",
     "text": [
      "Adjusting learning rate of group 0 to 3.5112e-05.\n"
     ]
    },
    {
     "name": "stderr",
     "output_type": "stream",
     "text": [
      "Epoch 49: Average epoch loss: 0.502 Train accuracy: 0.93 Val loss: 0.509 Val accuracy: 0.99: 100%|██████████| 48/48 [00:38<00:00,  1.26it/s]\n"
     ]
    },
    {
     "name": "stdout",
     "output_type": "stream",
     "text": [
      "Adjusting learning rate of group 0 to 1.5708e-05.\n"
     ]
    },
    {
     "name": "stderr",
     "output_type": "stream",
     "text": [
      "Epoch 50: Average epoch loss: 0.503 Train accuracy: 0.93 Val loss: 0.491 Val accuracy: 0.99: 100%|██████████| 48/48 [00:39<00:00,  1.22it/s]\n"
     ]
    },
    {
     "name": "stdout",
     "output_type": "stream",
     "text": [
      "Adjusting learning rate of group 0 to 3.9426e-06.\n"
     ]
    },
    {
     "name": "stderr",
     "output_type": "stream",
     "text": [
      "Epoch 51: Average epoch loss: 0.503 Train accuracy: 0.93 Val loss: 0.504 Val accuracy: 0.99: 100%|██████████| 48/48 [00:37<00:00,  1.27it/s]\n"
     ]
    },
    {
     "name": "stdout",
     "output_type": "stream",
     "text": [
      "Adjusting learning rate of group 0 to 0.0000e+00.\n"
     ]
    },
    {
     "name": "stderr",
     "output_type": "stream",
     "text": [
      "Epoch 52: Average epoch loss: 0.503 Train accuracy: 0.93 Val loss: 0.486 Val accuracy: 0.99: 100%|██████████| 48/48 [00:38<00:00,  1.25it/s]\n"
     ]
    },
    {
     "name": "stdout",
     "output_type": "stream",
     "text": [
      "Adjusting learning rate of group 0 to 3.9426e-06.\n"
     ]
    },
    {
     "name": "stderr",
     "output_type": "stream",
     "text": [
      "Epoch 53: Average epoch loss: 0.503 Train accuracy: 0.93 Val loss: 0.483 Val accuracy: 0.99: 100%|██████████| 48/48 [00:39<00:00,  1.21it/s]\n"
     ]
    },
    {
     "name": "stdout",
     "output_type": "stream",
     "text": [
      "Adjusting learning rate of group 0 to 1.5708e-05.\n"
     ]
    },
    {
     "name": "stderr",
     "output_type": "stream",
     "text": [
      "Epoch 54: Average epoch loss: 0.500 Train accuracy: 0.93 Val loss: 0.492 Val accuracy: 0.99: 100%|██████████| 48/48 [00:37<00:00,  1.29it/s]\n"
     ]
    },
    {
     "name": "stdout",
     "output_type": "stream",
     "text": [
      "Adjusting learning rate of group 0 to 3.5112e-05.\n"
     ]
    },
    {
     "name": "stderr",
     "output_type": "stream",
     "text": [
      "Epoch 55: Average epoch loss: 0.505 Train accuracy: 0.92 Val loss: 0.490 Val accuracy: 0.99: 100%|██████████| 48/48 [00:38<00:00,  1.25it/s]\n"
     ]
    },
    {
     "name": "stdout",
     "output_type": "stream",
     "text": [
      "Adjusting learning rate of group 0 to 6.1847e-05.\n"
     ]
    },
    {
     "name": "stderr",
     "output_type": "stream",
     "text": [
      "Epoch 56: Average epoch loss: 0.501 Train accuracy: 0.93 Val loss: 0.485 Val accuracy: 0.99: 100%|██████████| 48/48 [00:37<00:00,  1.27it/s]\n"
     ]
    },
    {
     "name": "stdout",
     "output_type": "stream",
     "text": [
      "Adjusting learning rate of group 0 to 9.5492e-05.\n"
     ]
    },
    {
     "name": "stderr",
     "output_type": "stream",
     "text": [
      "Epoch 57: Average epoch loss: 0.500 Train accuracy: 0.93 Val loss: 0.487 Val accuracy: 0.99: 100%|██████████| 48/48 [00:40<00:00,  1.20it/s]\n"
     ]
    },
    {
     "name": "stdout",
     "output_type": "stream",
     "text": [
      "Adjusting learning rate of group 0 to 1.3552e-04.\n"
     ]
    },
    {
     "name": "stderr",
     "output_type": "stream",
     "text": [
      "Epoch 58: Average epoch loss: 0.497 Train accuracy: 0.93 Val loss: 0.493 Val accuracy: 0.99: 100%|██████████| 48/48 [00:39<00:00,  1.21it/s]\n"
     ]
    },
    {
     "name": "stdout",
     "output_type": "stream",
     "text": [
      "Adjusting learning rate of group 0 to 1.8129e-04.\n"
     ]
    },
    {
     "name": "stderr",
     "output_type": "stream",
     "text": [
      "Epoch 59: Average epoch loss: 0.496 Train accuracy: 0.93 Val loss: 0.476 Val accuracy: 0.99: 100%|██████████| 48/48 [00:39<00:00,  1.22it/s]\n"
     ]
    },
    {
     "name": "stdout",
     "output_type": "stream",
     "text": [
      "Adjusting learning rate of group 0 to 2.3209e-04.\n"
     ]
    },
    {
     "name": "stderr",
     "output_type": "stream",
     "text": [
      "Epoch 60: Average epoch loss: 0.494 Train accuracy: 0.93 Val loss: 0.483 Val accuracy: 0.99: 100%|██████████| 48/48 [00:37<00:00,  1.29it/s]\n"
     ]
    },
    {
     "name": "stdout",
     "output_type": "stream",
     "text": [
      "Adjusting learning rate of group 0 to 2.8711e-04.\n"
     ]
    },
    {
     "name": "stderr",
     "output_type": "stream",
     "text": [
      "Epoch 61: Average epoch loss: 0.488 Train accuracy: 0.93 Val loss: 0.471 Val accuracy: 0.99: 100%|██████████| 48/48 [00:35<00:00,  1.33it/s]\n"
     ]
    },
    {
     "name": "stdout",
     "output_type": "stream",
     "text": [
      "Adjusting learning rate of group 0 to 3.4549e-04.\n"
     ]
    },
    {
     "name": "stderr",
     "output_type": "stream",
     "text": [
      "Epoch 62: Average epoch loss: 0.486 Train accuracy: 0.93 Val loss: 0.471 Val accuracy: 0.99: 100%|██████████| 48/48 [00:37<00:00,  1.28it/s]\n"
     ]
    },
    {
     "name": "stdout",
     "output_type": "stream",
     "text": [
      "Adjusting learning rate of group 0 to 4.0631e-04.\n"
     ]
    },
    {
     "name": "stderr",
     "output_type": "stream",
     "text": [
      "Epoch 63: Average epoch loss: 0.479 Train accuracy: 0.93 Val loss: 0.459 Val accuracy: 0.99: 100%|██████████| 48/48 [00:38<00:00,  1.26it/s]\n"
     ]
    },
    {
     "name": "stdout",
     "output_type": "stream",
     "text": [
      "Adjusting learning rate of group 0 to 4.6860e-04.\n"
     ]
    },
    {
     "name": "stderr",
     "output_type": "stream",
     "text": [
      "Epoch 64: Average epoch loss: 0.474 Train accuracy: 0.94 Val loss: 0.451 Val accuracy: 0.99: 100%|██████████| 48/48 [00:39<00:00,  1.21it/s]\n"
     ]
    },
    {
     "name": "stdout",
     "output_type": "stream",
     "text": [
      "Adjusting learning rate of group 0 to 5.3140e-04.\n"
     ]
    },
    {
     "name": "stderr",
     "output_type": "stream",
     "text": [
      "Epoch 65: Average epoch loss: 0.461 Train accuracy: 0.94 Val loss: 0.429 Val accuracy: 1.00: 100%|██████████| 48/48 [00:38<00:00,  1.24it/s]\n"
     ]
    },
    {
     "name": "stdout",
     "output_type": "stream",
     "text": [
      "Adjusting learning rate of group 0 to 5.9369e-04.\n"
     ]
    },
    {
     "name": "stderr",
     "output_type": "stream",
     "text": [
      "Epoch 66: Average epoch loss: 0.458 Train accuracy: 0.95 Val loss: 0.430 Val accuracy: 0.99: 100%|██████████| 48/48 [00:38<00:00,  1.25it/s]\n"
     ]
    },
    {
     "name": "stdout",
     "output_type": "stream",
     "text": [
      "Adjusting learning rate of group 0 to 6.5451e-04.\n"
     ]
    },
    {
     "name": "stderr",
     "output_type": "stream",
     "text": [
      "Epoch 67: Average epoch loss: 0.443 Train accuracy: 0.94 Val loss: 0.419 Val accuracy: 1.00: 100%|██████████| 48/48 [00:39<00:00,  1.22it/s]\n"
     ]
    },
    {
     "name": "stdout",
     "output_type": "stream",
     "text": [
      "Adjusting learning rate of group 0 to 7.1289e-04.\n"
     ]
    },
    {
     "name": "stderr",
     "output_type": "stream",
     "text": [
      "Epoch 68: Average epoch loss: 0.431 Train accuracy: 0.94 Val loss: 0.405 Val accuracy: 1.00: 100%|██████████| 48/48 [00:37<00:00,  1.27it/s]\n"
     ]
    },
    {
     "name": "stdout",
     "output_type": "stream",
     "text": [
      "Adjusting learning rate of group 0 to 7.6791e-04.\n"
     ]
    },
    {
     "name": "stderr",
     "output_type": "stream",
     "text": [
      "Epoch 69: Average epoch loss: 0.419 Train accuracy: 0.95 Val loss: 0.391 Val accuracy: 0.99: 100%|██████████| 48/48 [00:38<00:00,  1.24it/s]\n"
     ]
    },
    {
     "name": "stdout",
     "output_type": "stream",
     "text": [
      "Adjusting learning rate of group 0 to 8.1871e-04.\n"
     ]
    },
    {
     "name": "stderr",
     "output_type": "stream",
     "text": [
      "Epoch 70: Average epoch loss: 0.403 Train accuracy: 0.95 Val loss: 0.370 Val accuracy: 0.99: 100%|██████████| 48/48 [00:36<00:00,  1.30it/s]\n"
     ]
    },
    {
     "name": "stdout",
     "output_type": "stream",
     "text": [
      "Adjusting learning rate of group 0 to 8.6448e-04.\n"
     ]
    },
    {
     "name": "stderr",
     "output_type": "stream",
     "text": [
      "Epoch 71: Average epoch loss: 0.390 Train accuracy: 0.95 Val loss: 0.339 Val accuracy: 1.00: 100%|██████████| 48/48 [00:37<00:00,  1.27it/s]\n"
     ]
    },
    {
     "name": "stdout",
     "output_type": "stream",
     "text": [
      "Adjusting learning rate of group 0 to 9.0451e-04.\n"
     ]
    },
    {
     "name": "stderr",
     "output_type": "stream",
     "text": [
      "Epoch 72: Average epoch loss: 0.370 Train accuracy: 0.96 Val loss: 0.331 Val accuracy: 1.00: 100%|██████████| 48/48 [00:37<00:00,  1.27it/s]\n"
     ]
    },
    {
     "name": "stdout",
     "output_type": "stream",
     "text": [
      "Adjusting learning rate of group 0 to 9.3815e-04.\n"
     ]
    },
    {
     "name": "stderr",
     "output_type": "stream",
     "text": [
      "Epoch 73: Average epoch loss: 0.354 Train accuracy: 0.97 Val loss: 0.312 Val accuracy: 1.00: 100%|██████████| 48/48 [00:37<00:00,  1.28it/s]\n"
     ]
    },
    {
     "name": "stdout",
     "output_type": "stream",
     "text": [
      "Adjusting learning rate of group 0 to 9.6489e-04.\n"
     ]
    },
    {
     "name": "stderr",
     "output_type": "stream",
     "text": [
      "Epoch 74: Average epoch loss: 0.338 Train accuracy: 0.97 Val loss: 0.301 Val accuracy: 1.00: 100%|██████████| 48/48 [00:38<00:00,  1.25it/s]\n"
     ]
    },
    {
     "name": "stdout",
     "output_type": "stream",
     "text": [
      "Adjusting learning rate of group 0 to 9.8429e-04.\n"
     ]
    },
    {
     "name": "stderr",
     "output_type": "stream",
     "text": [
      "Epoch 75: Average epoch loss: 0.322 Train accuracy: 0.97 Val loss: 0.269 Val accuracy: 1.00: 100%|██████████| 48/48 [00:38<00:00,  1.24it/s]\n"
     ]
    },
    {
     "name": "stdout",
     "output_type": "stream",
     "text": [
      "Adjusting learning rate of group 0 to 9.9606e-04.\n"
     ]
    },
    {
     "name": "stderr",
     "output_type": "stream",
     "text": [
      "Epoch 76: Average epoch loss: 0.308 Train accuracy: 0.96 Val loss: 0.259 Val accuracy: 1.00: 100%|██████████| 48/48 [00:38<00:00,  1.26it/s]\n"
     ]
    },
    {
     "name": "stdout",
     "output_type": "stream",
     "text": [
      "Adjusting learning rate of group 0 to 1.0000e-03.\n"
     ]
    },
    {
     "name": "stderr",
     "output_type": "stream",
     "text": [
      "Epoch 77: Average epoch loss: 0.281 Train accuracy: 0.98 Val loss: 0.224 Val accuracy: 1.00: 100%|██████████| 48/48 [00:37<00:00,  1.29it/s]\n"
     ]
    },
    {
     "name": "stdout",
     "output_type": "stream",
     "text": [
      "Adjusting learning rate of group 0 to 9.9606e-04.\n"
     ]
    },
    {
     "name": "stderr",
     "output_type": "stream",
     "text": [
      "Epoch 78: Average epoch loss: 0.266 Train accuracy: 0.98 Val loss: 0.210 Val accuracy: 1.00: 100%|██████████| 48/48 [00:37<00:00,  1.28it/s]\n"
     ]
    },
    {
     "name": "stdout",
     "output_type": "stream",
     "text": [
      "Adjusting learning rate of group 0 to 9.8429e-04.\n"
     ]
    },
    {
     "name": "stderr",
     "output_type": "stream",
     "text": [
      "Epoch 79: Average epoch loss: 0.254 Train accuracy: 0.98 Val loss: 0.188 Val accuracy: 1.00: 100%|██████████| 48/48 [00:39<00:00,  1.22it/s]\n"
     ]
    },
    {
     "name": "stdout",
     "output_type": "stream",
     "text": [
      "Adjusting learning rate of group 0 to 9.6489e-04.\n"
     ]
    },
    {
     "name": "stderr",
     "output_type": "stream",
     "text": [
      "Epoch 80: Average epoch loss: 0.243 Train accuracy: 0.98 Val loss: 0.174 Val accuracy: 1.00: 100%|██████████| 48/48 [00:39<00:00,  1.22it/s]\n"
     ]
    },
    {
     "name": "stdout",
     "output_type": "stream",
     "text": [
      "Adjusting learning rate of group 0 to 9.3815e-04.\n"
     ]
    },
    {
     "name": "stderr",
     "output_type": "stream",
     "text": [
      "Epoch 81: Average epoch loss: 0.219 Train accuracy: 0.98 Val loss: 0.153 Val accuracy: 1.00: 100%|██████████| 48/48 [00:39<00:00,  1.22it/s]\n"
     ]
    },
    {
     "name": "stdout",
     "output_type": "stream",
     "text": [
      "Adjusting learning rate of group 0 to 9.0451e-04.\n"
     ]
    },
    {
     "name": "stderr",
     "output_type": "stream",
     "text": [
      "Epoch 82: Average epoch loss: 0.207 Train accuracy: 0.98 Val loss: 0.147 Val accuracy: 1.00: 100%|██████████| 48/48 [00:37<00:00,  1.27it/s]\n"
     ]
    },
    {
     "name": "stdout",
     "output_type": "stream",
     "text": [
      "Adjusting learning rate of group 0 to 8.6448e-04.\n"
     ]
    },
    {
     "name": "stderr",
     "output_type": "stream",
     "text": [
      "Epoch 83: Average epoch loss: 0.195 Train accuracy: 0.98 Val loss: 0.131 Val accuracy: 1.00: 100%|██████████| 48/48 [00:39<00:00,  1.21it/s]\n"
     ]
    },
    {
     "name": "stdout",
     "output_type": "stream",
     "text": [
      "Adjusting learning rate of group 0 to 8.1871e-04.\n"
     ]
    },
    {
     "name": "stderr",
     "output_type": "stream",
     "text": [
      "Epoch 84: Average epoch loss: 0.185 Train accuracy: 0.98 Val loss: 0.123 Val accuracy: 1.00: 100%|██████████| 48/48 [00:39<00:00,  1.20it/s]\n"
     ]
    },
    {
     "name": "stdout",
     "output_type": "stream",
     "text": [
      "Adjusting learning rate of group 0 to 7.6791e-04.\n"
     ]
    },
    {
     "name": "stderr",
     "output_type": "stream",
     "text": [
      "Epoch 85: Average epoch loss: 0.177 Train accuracy: 0.98 Val loss: 0.116 Val accuracy: 1.00: 100%|██████████| 48/48 [00:37<00:00,  1.28it/s]\n"
     ]
    },
    {
     "name": "stdout",
     "output_type": "stream",
     "text": [
      "Adjusting learning rate of group 0 to 7.1289e-04.\n"
     ]
    },
    {
     "name": "stderr",
     "output_type": "stream",
     "text": [
      "Epoch 86: Average epoch loss: 0.170 Train accuracy: 0.99 Val loss: 0.107 Val accuracy: 1.00: 100%|██████████| 48/48 [00:38<00:00,  1.26it/s]\n"
     ]
    },
    {
     "name": "stdout",
     "output_type": "stream",
     "text": [
      "Adjusting learning rate of group 0 to 6.5451e-04.\n"
     ]
    },
    {
     "name": "stderr",
     "output_type": "stream",
     "text": [
      "Epoch 87: Average epoch loss: 0.162 Train accuracy: 0.99 Val loss: 0.108 Val accuracy: 1.00: 100%|██████████| 48/48 [00:37<00:00,  1.28it/s]\n"
     ]
    },
    {
     "name": "stdout",
     "output_type": "stream",
     "text": [
      "Adjusting learning rate of group 0 to 5.9369e-04.\n"
     ]
    },
    {
     "name": "stderr",
     "output_type": "stream",
     "text": [
      "Epoch 88: Average epoch loss: 0.154 Train accuracy: 0.99 Val loss: 0.091 Val accuracy: 1.00: 100%|██████████| 48/48 [00:37<00:00,  1.29it/s]\n"
     ]
    },
    {
     "name": "stdout",
     "output_type": "stream",
     "text": [
      "Adjusting learning rate of group 0 to 5.3140e-04.\n"
     ]
    },
    {
     "name": "stderr",
     "output_type": "stream",
     "text": [
      "Epoch 89: Average epoch loss: 0.147 Train accuracy: 0.99 Val loss: 0.082 Val accuracy: 1.00: 100%|██████████| 48/48 [00:38<00:00,  1.24it/s]\n"
     ]
    },
    {
     "name": "stdout",
     "output_type": "stream",
     "text": [
      "Adjusting learning rate of group 0 to 4.6860e-04.\n"
     ]
    },
    {
     "name": "stderr",
     "output_type": "stream",
     "text": [
      "Epoch 90: Average epoch loss: 0.139 Train accuracy: 0.99 Val loss: 0.080 Val accuracy: 1.00: 100%|██████████| 48/48 [00:37<00:00,  1.28it/s]\n"
     ]
    },
    {
     "name": "stdout",
     "output_type": "stream",
     "text": [
      "Adjusting learning rate of group 0 to 4.0631e-04.\n"
     ]
    },
    {
     "name": "stderr",
     "output_type": "stream",
     "text": [
      "Epoch 91: Average epoch loss: 0.143 Train accuracy: 0.99 Val loss: 0.082 Val accuracy: 1.00: 100%|██████████| 48/48 [00:38<00:00,  1.23it/s]\n"
     ]
    },
    {
     "name": "stdout",
     "output_type": "stream",
     "text": [
      "Adjusting learning rate of group 0 to 3.4549e-04.\n"
     ]
    },
    {
     "name": "stderr",
     "output_type": "stream",
     "text": [
      "Epoch 92: Average epoch loss: 0.133 Train accuracy: 0.99 Val loss: 0.080 Val accuracy: 1.00: 100%|██████████| 48/48 [00:39<00:00,  1.22it/s]\n"
     ]
    },
    {
     "name": "stdout",
     "output_type": "stream",
     "text": [
      "Adjusting learning rate of group 0 to 2.8711e-04.\n"
     ]
    },
    {
     "name": "stderr",
     "output_type": "stream",
     "text": [
      "Epoch 93: Average epoch loss: 0.138 Train accuracy: 0.98 Val loss: 0.076 Val accuracy: 1.00: 100%|██████████| 48/48 [00:39<00:00,  1.21it/s]\n"
     ]
    },
    {
     "name": "stdout",
     "output_type": "stream",
     "text": [
      "Adjusting learning rate of group 0 to 2.3209e-04.\n"
     ]
    },
    {
     "name": "stderr",
     "output_type": "stream",
     "text": [
      "Epoch 94: Average epoch loss: 0.129 Train accuracy: 0.99 Val loss: 0.078 Val accuracy: 1.00: 100%|██████████| 48/48 [00:37<00:00,  1.28it/s]\n"
     ]
    },
    {
     "name": "stdout",
     "output_type": "stream",
     "text": [
      "Adjusting learning rate of group 0 to 1.8129e-04.\n"
     ]
    },
    {
     "name": "stderr",
     "output_type": "stream",
     "text": [
      "Epoch 95: Average epoch loss: 0.127 Train accuracy: 0.99 Val loss: 0.078 Val accuracy: 1.00: 100%|██████████| 48/48 [00:38<00:00,  1.26it/s]\n"
     ]
    },
    {
     "name": "stdout",
     "output_type": "stream",
     "text": [
      "Adjusting learning rate of group 0 to 1.3552e-04.\n"
     ]
    },
    {
     "name": "stderr",
     "output_type": "stream",
     "text": [
      "Epoch 96: Average epoch loss: 0.128 Train accuracy: 0.99 Val loss: 0.070 Val accuracy: 1.00: 100%|██████████| 48/48 [00:39<00:00,  1.23it/s]\n"
     ]
    },
    {
     "name": "stdout",
     "output_type": "stream",
     "text": [
      "Adjusting learning rate of group 0 to 9.5492e-05.\n"
     ]
    },
    {
     "name": "stderr",
     "output_type": "stream",
     "text": [
      "Epoch 97: Average epoch loss: 0.127 Train accuracy: 0.99 Val loss: 0.074 Val accuracy: 1.00: 100%|██████████| 48/48 [00:37<00:00,  1.27it/s]\n"
     ]
    },
    {
     "name": "stdout",
     "output_type": "stream",
     "text": [
      "Adjusting learning rate of group 0 to 6.1847e-05.\n"
     ]
    },
    {
     "name": "stderr",
     "output_type": "stream",
     "text": [
      "Epoch 98: Average epoch loss: 0.128 Train accuracy: 0.99 Val loss: 0.074 Val accuracy: 1.00: 100%|██████████| 48/48 [00:38<00:00,  1.24it/s]\n"
     ]
    },
    {
     "name": "stdout",
     "output_type": "stream",
     "text": [
      "Adjusting learning rate of group 0 to 3.5112e-05.\n"
     ]
    },
    {
     "name": "stderr",
     "output_type": "stream",
     "text": [
      "Epoch 99: Average epoch loss: 0.123 Train accuracy: 0.99 Val loss: 0.072 Val accuracy: 1.00: 100%|██████████| 48/48 [00:37<00:00,  1.28it/s]\n"
     ]
    },
    {
     "name": "stdout",
     "output_type": "stream",
     "text": [
      "Adjusting learning rate of group 0 to 1.5708e-05.\n"
     ]
    },
    {
     "name": "stderr",
     "output_type": "stream",
     "text": [
      "Epoch 100: Average epoch loss: 0.127 Train accuracy: 0.99 Val loss: 0.071 Val accuracy: 1.00: 100%|██████████| 48/48 [00:37<00:00,  1.27it/s]"
     ]
    },
    {
     "name": "stdout",
     "output_type": "stream",
     "text": [
      "Adjusting learning rate of group 0 to 3.9426e-06.\n"
     ]
    },
    {
     "name": "stderr",
     "output_type": "stream",
     "text": [
      "\n"
     ]
    },
    {
     "data": {
      "text/html": [
       "Waiting for W&B process to finish... <strong style=\"color:green\">(success).</strong>"
      ],
      "text/plain": [
       "<IPython.core.display.HTML object>"
      ]
     },
     "metadata": {},
     "output_type": "display_data"
    },
    {
     "data": {
      "application/vnd.jupyter.widget-view+json": {
       "model_id": "4c665f3434c34d85a2df776a24a9aa08",
       "version_major": 2,
       "version_minor": 0
      },
      "text/plain": [
       "VBox(children=(Label(value='0.003 MB of 0.003 MB uploaded (0.000 MB deduped)\\r'), FloatProgress(value=1.0, max…"
      ]
     },
     "metadata": {},
     "output_type": "display_data"
    },
    {
     "data": {
      "text/html": [
       "<style>\n",
       "    table.wandb td:nth-child(1) { padding: 0 10px; text-align: left ; width: auto;} td:nth-child(2) {text-align: left ; width: 100%}\n",
       "    .wandb-row { display: flex; flex-direction: row; flex-wrap: wrap; justify-content: flex-start; width: 100% }\n",
       "    .wandb-col { display: flex; flex-direction: column; flex-basis: 100%; flex: 1; padding: 10px; }\n",
       "    </style>\n",
       "<div class=\"wandb-row\"><div class=\"wandb-col\"><h3>Run history:</h3><br/><table class=\"wandb\"><tr><td>Epoch</td><td>▁▁▁▁▂▂▂▂▂▃▃▃▃▃▃▄▄▄▄▄▅▅▅▅▅▅▆▆▆▆▆▇▇▇▇▇▇███</td></tr><tr><td>loss</td><td>██████████▇▇▇▇▆▆▆▆▆▆▆▆▆▆▅▅▅▅▄▄▃▃▂▂▁▁▁▁▁▁</td></tr><tr><td>train_acc</td><td>▁▁▁▁▂▂▃▃▄▄▅▆▆▇▇▇▇▇▇▇▇▇▇▇▇▇▇▇████████████</td></tr><tr><td>val_acc</td><td>▁▁▁▁▁▁▁▂▂▂▅▆▇███████████████████████████</td></tr><tr><td>val_loss</td><td>██████████▇▇▇▇▆▆▆▆▆▆▆▆▆▆▅▅▅▅▄▄▃▂▂▂▁▁▁▁▁▁</td></tr></table><br/></div><div class=\"wandb-col\"><h3>Run summary:</h3><br/><table class=\"wandb\"><tr><td>Epoch</td><td>100</td></tr><tr><td>loss</td><td>0.12697</td></tr><tr><td>train_acc</td><td>0.98926</td></tr><tr><td>val_acc</td><td>1.0</td></tr><tr><td>val_loss</td><td>0.07119</td></tr></table><br/></div></div>"
      ],
      "text/plain": [
       "<IPython.core.display.HTML object>"
      ]
     },
     "metadata": {},
     "output_type": "display_data"
    },
    {
     "data": {
      "text/html": [
       " View run <strong style=\"color:#cdcd00\">sweet-bush-90</strong> at: <a href='https://wandb.ai/darya-dare/Noise-Estimation/runs/0torf1f2' target=\"_blank\">https://wandb.ai/darya-dare/Noise-Estimation/runs/0torf1f2</a><br/>Synced 6 W&B file(s), 0 media file(s), 0 artifact file(s) and 0 other file(s)"
      ],
      "text/plain": [
       "<IPython.core.display.HTML object>"
      ]
     },
     "metadata": {},
     "output_type": "display_data"
    },
    {
     "data": {
      "text/html": [
       "Find logs at: <code>./wandb/run-20230818_093935-0torf1f2/logs</code>"
      ],
      "text/plain": [
       "<IPython.core.display.HTML object>"
      ]
     },
     "metadata": {},
     "output_type": "display_data"
    }
   ],
   "source": [
    "loss_history, train_history, val_history = train(model_bcrn, train_loader,\n",
    "                                                 val_loader, loss,\n",
    "                                                 optimizer, warmup_scheduler, num_epochs=100)"
   ]
  },
  {
   "cell_type": "code",
   "execution_count": 23,
   "metadata": {
    "tags": []
   },
   "outputs": [],
   "source": [
    "torch.save(model_bcrn.state_dict(), 'weights_bcrn100ep.pth')"
   ]
  },
  {
   "cell_type": "code",
   "execution_count": 24,
   "metadata": {
    "tags": []
   },
   "outputs": [],
   "source": [
    "torch.save(optimizer.state_dict(), 'optimizer_bcrn100ep.pth')"
   ]
  },
  {
   "cell_type": "markdown",
   "metadata": {},
   "source": [
    "### Testing BCResNet"
   ]
  },
  {
   "cell_type": "code",
   "execution_count": 12,
   "metadata": {
    "tags": []
   },
   "outputs": [
    {
     "name": "stdout",
     "output_type": "stream",
     "text": [
      "BCResNet model test accuracy: 1.00\n",
      "BCResNet model test loss: 0.070\n"
     ]
    }
   ],
   "source": [
    "bcrn_test_accuracy, bcrn_test_loss = compute_acc_loss(model_bcrn, test_loader, loss)\n",
    "print(f'BCResNet model test accuracy: {bcrn_test_accuracy:.2f}')\n",
    "print(f'BCResNet model test loss: {bcrn_test_loss:.3f}')"
   ]
  },
  {
   "cell_type": "markdown",
   "metadata": {},
   "source": [
    "### Custom Test (in English) for BCResNet model"
   ]
  },
  {
   "cell_type": "code",
   "execution_count": 64,
   "metadata": {
    "tags": []
   },
   "outputs": [],
   "source": [
    "from BCResNet import BCResNet\n",
    "bcrn_model = BCResNet(num_labels=1)\n",
    "bcrn_model.load_state_dict(torch.load('./weights_bcrn1.pth'))\n",
    "bcrn_model.type(torch.FloatTensor)\n",
    "\n",
    "loss = nn.BCELoss().type(torch.FloatTensor)\n",
    "\n",
    "optimizer = optim.Adam(bcrn_model.parameters(),lr=1e-3)\n",
    "optimizer.load_state_dict(torch.load('./optimizer_bcrn1.pth'))"
   ]
  },
  {
   "cell_type": "code",
   "execution_count": 66,
   "metadata": {
    "tags": []
   },
   "outputs": [],
   "source": [
    "test_dataset = TestDataset('./CleanSpeechCustomTest.csv',\n",
    "                            './NoiseTest.csv')"
   ]
  },
  {
   "cell_type": "code",
   "execution_count": 67,
   "metadata": {
    "tags": []
   },
   "outputs": [],
   "source": [
    "test_loader = DataLoader(dataset=test_dataset, batch_size=4, \n",
    "                         drop_last=True)"
   ]
  },
  {
   "cell_type": "code",
   "execution_count": 68,
   "metadata": {
    "tags": []
   },
   "outputs": [
    {
     "name": "stdout",
     "output_type": "stream",
     "text": [
      "BCResNet model test accuracy: 0.90\n",
      "BCResNet model test loss: 0.000\n"
     ]
    }
   ],
   "source": [
    "bcrn_loaded_test_accuracy, vgg_loaded_test_loss = compute_acc_loss(bcrn_model, test_loader, loss)\n",
    "print(f'BCResNet model test accuracy: {vgg_loaded_test_accuracy:.2f}')\n",
    "print(f'BCResNet model test loss: {vgg_loaded_test_loss:.3f}')"
   ]
  },
  {
   "cell_type": "markdown",
   "metadata": {},
   "source": [
    "### Custom Test (in Russian) for BCResNet model"
   ]
  },
  {
   "cell_type": "code",
   "execution_count": 69,
   "metadata": {
    "tags": []
   },
   "outputs": [],
   "source": [
    "from BCResNet import BCResNet\n",
    "bcrn_model = BCResNet(num_labels=1)\n",
    "bcrn_model.load_state_dict(torch.load('./weights_bcrn1.pth'))\n",
    "bcrn_model.type(torch.FloatTensor)\n",
    "\n",
    "loss = nn.BCELoss().type(torch.FloatTensor)\n",
    "\n",
    "optimizer = optim.Adam(bcrn_model.parameters(),lr=1e-3)\n",
    "optimizer.load_state_dict(torch.load('./optimizer_bcrn1.pth'))"
   ]
  },
  {
   "cell_type": "code",
   "execution_count": 71,
   "metadata": {
    "tags": []
   },
   "outputs": [],
   "source": [
    "rtest_dataset = RTestDataset('./CleanSpeechCustomTestRus.csv',\n",
    "                             './NoiseTest.csv')"
   ]
  },
  {
   "cell_type": "code",
   "execution_count": 72,
   "metadata": {
    "tags": []
   },
   "outputs": [],
   "source": [
    "rtest_loader = DataLoader(dataset=rtest_dataset, batch_size=2, \n",
    "                          drop_last=True)"
   ]
  },
  {
   "cell_type": "code",
   "execution_count": 73,
   "metadata": {
    "tags": []
   },
   "outputs": [
    {
     "name": "stdout",
     "output_type": "stream",
     "text": [
      "BCResNet model test accuracy: 0.90\n",
      "BCResNet model test loss: 0.000\n"
     ]
    }
   ],
   "source": [
    "bcrn_loaded_test_accuracy, vgg_loaded_test_loss = compute_acc_loss(bcrn_model, rtest_loader, loss)\n",
    "print(f'BCResNet model test accuracy: {vgg_loaded_test_accuracy:.2f}')\n",
    "print(f'BCResNet model test loss: {vgg_loaded_test_loss:.3f}')"
   ]
  },
  {
   "cell_type": "markdown",
   "metadata": {},
   "source": [
    "### Testing BCResNet on phone audio recordings (in Russian)"
   ]
  },
  {
   "cell_type": "code",
   "execution_count": 13,
   "metadata": {
    "tags": []
   },
   "outputs": [],
   "source": [
    "class PhoneDataset(Dataset):\n",
    "\n",
    "    def __init__(self, path_speech, path_noise, eps_value=1e-6,\\\n",
    "                 mel_nframes=300, sample_rate=16000, n_fft=480,\\\n",
    "                 hop_length=160, n_mels=40):\n",
    "\n",
    "        self.speech = pd.read_csv(path_speech)\n",
    "        self.noise = pd.read_csv(path_noise)\n",
    "        self.eps_value = eps_value\n",
    "        self.mel_nframes = mel_nframes\n",
    "        self.sample_rate = sample_rate\n",
    "        self.n_fft = n_fft\n",
    "        self.hop_length = hop_length\n",
    "        self.n_mels = n_mels\n",
    "        self.mel_spectrogram = T.MelSpectrogram(sample_rate=self.sample_rate,\n",
    "                                                n_fft=self.n_fft,\n",
    "                                                hop_length=self.hop_length,\n",
    "                                                center=True,\n",
    "                                                pad_mode=\"reflect\",\n",
    "                                                power=2.0,\n",
    "                                                norm='slaney',\n",
    "                                                n_mels=self.n_mels)\n",
    "\n",
    "    def __len__(self):\n",
    "\n",
    "        return len(self.speech)\n",
    "\n",
    "    def get_same_shape(self, waveform):\n",
    "\n",
    "        melsp = torch.log(self.mel_spectrogram(waveform) + self.eps_value)\n",
    "        has_mel_nframes = melsp.size(2) if melsp.size(2) < self.mel_nframes\\\n",
    "         else self.mel_nframes\n",
    "\n",
    "        image_tens = torch.full((1, self.n_mels, self.mel_nframes), melsp.min())\n",
    "        image_tens[0, :, :has_mel_nframes] = melsp[:, :, :has_mel_nframes]\n",
    "\n",
    "        return image_tens\n",
    "\n",
    "    def load_item(self, df, idx):\n",
    "\n",
    "        sample_wav_file = df['filename'][idx]\n",
    "        wave, _ = torchaudio.load(sample_wav_file)\n",
    "        wave = wave.float()\n",
    "\n",
    "        wave_melsp = self.get_same_shape(wave)\n",
    "\n",
    "        return wave_melsp\n",
    "\n",
    "    def __getitem__(self, idx):\n",
    "        luck = random.random()\n",
    "        \n",
    "        if luck > 0.5:\n",
    "            wave_out = self.load_item(self.speech, idx)\n",
    "            label = 0\n",
    "        else:\n",
    "            wave_out = self.load_item(self.noise, idx)\n",
    "            label = 1\n",
    "\n",
    "        return wave_out, torch.tensor(label)"
   ]
  },
  {
   "cell_type": "code",
   "execution_count": 14,
   "metadata": {
    "tags": []
   },
   "outputs": [],
   "source": [
    "phone_dataset = PhoneDataset('./CleanSpeechCustomTest.csv',\n",
    "                            './NoiseTest.csv')"
   ]
  },
  {
   "cell_type": "code",
   "execution_count": 15,
   "metadata": {
    "tags": []
   },
   "outputs": [],
   "source": [
    "phone_loader = DataLoader(dataset=phone_dataset, batch_size=2, \n",
    "                          drop_last=True)"
   ]
  },
  {
   "cell_type": "code",
   "execution_count": 21,
   "metadata": {
    "tags": []
   },
   "outputs": [],
   "source": [
    "from BCResNet import BCResNet\n",
    "bcrn_model = BCResNet(num_labels=1)\n",
    "bcrn_model.load_state_dict(torch.load('./weights_bcrn1.pth'))\n",
    "bcrn_model.type(torch.FloatTensor)\n",
    "bcrn_model.to(device)\n",
    "\n",
    "loss = nn.BCELoss().type(torch.FloatTensor)\n",
    "\n",
    "optimizer = optim.SGD(bcrn_model.parameters(),lr=1e-3)\n",
    "optimizer.load_state_dict(torch.load('./optimizer_bcrn1.pth'))"
   ]
  },
  {
   "cell_type": "code",
   "execution_count": 22,
   "metadata": {
    "tags": []
   },
   "outputs": [
    {
     "name": "stdout",
     "output_type": "stream",
     "text": [
      "BCResNet model test accuracy: 0.67\n",
      "BCResNet model test loss: 2.592\n"
     ]
    }
   ],
   "source": [
    "bcrn_phone_test_accuracy, vgg_phone_test_loss = compute_acc_loss(bcrn_model, phone_loader, loss)\n",
    "print(f'BCResNet model test accuracy: {bcrn_phone_test_accuracy:.2f}')\n",
    "print(f'BCResNet model test loss: {vgg_phone_test_loss:.3f}')"
   ]
  },
  {
   "cell_type": "code",
   "execution_count": 22,
   "metadata": {
    "tags": []
   },
   "outputs": [
    {
     "name": "stdout",
     "output_type": "stream",
     "text": [
      "BCResNet model test accuracy: 0.50\n",
      "BCResNet model test loss: 2.750\n"
     ]
    }
   ],
   "source": [
    "bcrn_phone_test_accuracy, bcrn_phone_test_loss = compute_acc_loss(model_bcrn, phone_loader, loss)\n",
    "print(f'BCResNet model test accuracy: {bcrn_phone_test_accuracy:.2f}')\n",
    "print(f'BCResNet model test loss: {bcrn_phone_test_loss:.3f}')"
   ]
  },
  {
   "cell_type": "code",
   "execution_count": null,
   "metadata": {},
   "outputs": [],
   "source": []
  },
  {
   "cell_type": "code",
   "execution_count": 6,
   "metadata": {
    "tags": []
   },
   "outputs": [],
   "source": [
    "from BCResNet import BCResNet\n",
    "bcrn_model = BCResNet(num_labels=1)\n",
    "bcrn_model.load_state_dict(torch.load('./weights_bcrn.pth'))\n",
    "bcrn_model.type(torch.FloatTensor)\n",
    "\n",
    "loss = nn.BCELoss().type(torch.FloatTensor)\n",
    "\n",
    "optimizer = optim.Adam(bcrn_model.parameters(),lr=1e-3)\n",
    "optimizer.load_state_dict(torch.load('./optimizer_bcrn.pth'))"
   ]
  },
  {
   "cell_type": "code",
   "execution_count": 7,
   "metadata": {
    "tags": []
   },
   "outputs": [
    {
     "name": "stdout",
     "output_type": "stream",
     "text": [
      "BCResNet model test accuracy: 0.39\n",
      "BCResNet model test loss: 8.904\n"
     ]
    }
   ],
   "source": [
    "bcrn_phone_test_accuracy, vgg_phone_test_loss = compute_acc_loss(bcrn_model, phone_loader, loss)\n",
    "print(f'BCResNet model test accuracy: {bcrn_phone_test_accuracy:.2f}')\n",
    "print(f'BCResNet model test loss: {vgg_phone_test_loss:.3f}')"
   ]
  },
  {
   "cell_type": "markdown",
   "metadata": {},
   "source": [
    "### BCResNet scale=1 on the reduced dataset"
   ]
  },
  {
   "cell_type": "code",
   "execution_count": 10,
   "metadata": {
    "tags": []
   },
   "outputs": [],
   "source": [
    "audio_dataset_train = AudioDataset('./CleanSpeechTrainRN.csv',\n",
    "                                   './NoiseTrain.csv')\n",
    "\n",
    "audio_dataset_val = AudioDataset('./CleanSpeechValRN.csv',\n",
    "                                   './NoiseVal.csv')\n",
    "\n",
    "audio_dataset_test = AudioDataset('./CleanSpeechTestRN.csv',\n",
    "                                   './NoiseTest.csv')"
   ]
  },
  {
   "cell_type": "code",
   "execution_count": 11,
   "metadata": {
    "tags": []
   },
   "outputs": [],
   "source": [
    "train_loader = DataLoader(dataset=audio_dataset_train,\n",
    "                          batch_size=32, drop_last=True, num_workers=6)\n",
    "\n",
    "val_loader = DataLoader(dataset=audio_dataset_val,\n",
    "                        batch_size=32, drop_last=True, num_workers=6)\n",
    "\n",
    "test_loader = DataLoader(dataset=audio_dataset_test,\n",
    "                         batch_size=32, drop_last=True, num_workers=6)"
   ]
  },
  {
   "cell_type": "code",
   "execution_count": 10,
   "metadata": {
    "tags": []
   },
   "outputs": [
    {
     "name": "stdout",
     "output_type": "stream",
     "text": [
      "Adjusting learning rate of group 0 to 1.0000e-03.\n"
     ]
    }
   ],
   "source": [
    "from BCResNet import BCResNet\n",
    "model_bcrn = BCResNet(num_labels=1)\n",
    "model_bcrn.type(torch.cuda.FloatTensor)\n",
    "model_bcrn.to(device)\n",
    "\n",
    "loss = nn.BCELoss()\n",
    "# .type(torch.cuda.FloatTensor)\n",
    "optimizer = optim.Adam(model_bcrn.parameters(), lr=1e-3)\n",
    "\n",
    "cosine_scheduler = optim.lr_scheduler.CosineAnnealingLR(optimizer, T_max=20, verbose=True)\n",
    "warmup_scheduler = GradualWarmupScheduler(optimizer, multiplier=1, total_epoch=20,\n",
    "                                          after_scheduler=cosine_scheduler)"
   ]
  },
  {
   "cell_type": "code",
   "execution_count": 12,
   "metadata": {
    "tags": []
   },
   "outputs": [],
   "source": [
    "loss_history, train_history, val_history = train(model_bcrn, train_loader,\n",
    "                                                 val_loader, loss,\n",
    "                                                 optimizer, warmup_scheduler, num_epochs=50)"
   ]
  },
  {
   "cell_type": "code",
   "execution_count": 12,
   "metadata": {
    "tags": []
   },
   "outputs": [],
   "source": [
    "torch.save(model_bcrn.state_dict(), 'weights_bcrn.pth')"
   ]
  },
  {
   "cell_type": "code",
   "execution_count": 13,
   "metadata": {
    "tags": []
   },
   "outputs": [],
   "source": [
    "torch.save(optimizer.state_dict(), 'optimizer_bcrn.pth')"
   ]
  },
  {
   "cell_type": "code",
   "execution_count": null,
   "metadata": {},
   "outputs": [],
   "source": []
  },
  {
   "cell_type": "markdown",
   "metadata": {},
   "source": [
    "### Testing BCResNet scale=1 on the reduced dataset"
   ]
  },
  {
   "cell_type": "code",
   "execution_count": 14,
   "metadata": {
    "tags": []
   },
   "outputs": [],
   "source": [
    "from BCResNet import BCResNet\n",
    "bcrn_model = BCResNet(num_labels=1)\n",
    "bcrn_model.load_state_dict(torch.load('./weights_bcrn.pth'))\n",
    "bcrn_model.type(torch.FloatTensor)\n",
    "bcrn_model.to(device)\n",
    "\n",
    "loss = nn.BCELoss().type(torch.FloatTensor)\n",
    "\n",
    "optimizer = optim.Adam(bcrn_model.parameters(),lr=1e-3)\n",
    "optimizer.load_state_dict(torch.load('./optimizer_bcrn.pth'))"
   ]
  },
  {
   "cell_type": "code",
   "execution_count": 15,
   "metadata": {
    "tags": []
   },
   "outputs": [
    {
     "name": "stdout",
     "output_type": "stream",
     "text": [
      "BCResNet model test accuracy: 1.00\n",
      "BCResNet model test loss: 0.001\n"
     ]
    }
   ],
   "source": [
    "bcrn_test_accuracy, bcrn_test_loss = compute_acc_loss(bcrn_model, test_loader, loss)\n",
    "print(f'BCResNet model test accuracy: {bcrn_test_accuracy:.2f}')\n",
    "print(f'BCResNet model test loss: {bcrn_test_loss:.3f}')"
   ]
  },
  {
   "cell_type": "markdown",
   "metadata": {},
   "source": [
    "### Testing BCResNet scale=1 (trained on the reduced dataset) on the phone audio recordings (in Russian)"
   ]
  },
  {
   "cell_type": "code",
   "execution_count": 19,
   "metadata": {
    "tags": []
   },
   "outputs": [],
   "source": [
    "from BCResNet import BCResNet\n",
    "bcrn_model = BCResNet(num_labels=1)\n",
    "bcrn_model.load_state_dict(torch.load('./weights_bcrn.pth'))\n",
    "bcrn_model.type(torch.FloatTensor)\n",
    "bcrn_model.to(device)\n",
    "\n",
    "loss = nn.BCELoss().type(torch.FloatTensor)\n",
    "\n",
    "optimizer = optim.Adam(bcrn_model.parameters(),lr=1e-3)\n",
    "optimizer.load_state_dict(torch.load('./optimizer_bcrn.pth'))"
   ]
  },
  {
   "cell_type": "code",
   "execution_count": 20,
   "metadata": {
    "tags": []
   },
   "outputs": [
    {
     "name": "stdout",
     "output_type": "stream",
     "text": [
      "BCResNet model test accuracy: 0.46\n",
      "BCResNet model test loss: 6.423\n"
     ]
    }
   ],
   "source": [
    "bcrn_phone_test_accuracy, bcrn_phone_test_loss = compute_acc_loss(bcrn_model, phone_loader, loss)\n",
    "print(f'BCResNet model test accuracy: {bcrn_phone_test_accuracy:.2f}')\n",
    "print(f'BCResNet model test loss: {bcrn_phone_test_loss:.3f}')"
   ]
  },
  {
   "cell_type": "markdown",
   "metadata": {},
   "source": [
    "### BCResNet: scale=1, optimizer=SGD, reduced dataset "
   ]
  },
  {
   "cell_type": "code",
   "execution_count": 8,
   "metadata": {
    "tags": []
   },
   "outputs": [
    {
     "name": "stdout",
     "output_type": "stream",
     "text": [
      "Adjusting learning rate of group 0 to 1.0000e-03.\n"
     ]
    }
   ],
   "source": [
    "from BCResNet import BCResNet\n",
    "model_bcrn = BCResNet(num_labels=1)\n",
    "model_bcrn.type(torch.cuda.FloatTensor)\n",
    "model_bcrn.to(device)\n",
    "\n",
    "loss = nn.BCELoss().type(torch.cuda.FloatTensor)\n",
    "optimizer = optim.SGD(model_bcrn.parameters(), lr=1e-3)\n",
    "\n",
    "cosine_scheduler = optim.lr_scheduler.CosineAnnealingLR(optimizer, T_max=20, verbose=True)\n",
    "warmup_scheduler = GradualWarmupScheduler(optimizer, multiplier=1, total_epoch=20,\n",
    "                                          after_scheduler=cosine_scheduler)"
   ]
  },
  {
   "cell_type": "code",
   "execution_count": 12,
   "metadata": {
    "tags": []
   },
   "outputs": [
    {
     "data": {
      "text/html": [
       "Tracking run with wandb version 0.15.8"
      ],
      "text/plain": [
       "<IPython.core.display.HTML object>"
      ]
     },
     "metadata": {},
     "output_type": "display_data"
    },
    {
     "data": {
      "text/html": [
       "Run data is saved locally in <code>/home/jovyan/project/wandb/run-20230817_140821-fzmxdi5w</code>"
      ],
      "text/plain": [
       "<IPython.core.display.HTML object>"
      ]
     },
     "metadata": {},
     "output_type": "display_data"
    },
    {
     "data": {
      "text/html": [
       "Syncing run <strong><a href='https://wandb.ai/darya-dare/Noise-Estimation/runs/fzmxdi5w' target=\"_blank\">daily-star-82</a></strong> to <a href='https://wandb.ai/darya-dare/Noise-Estimation' target=\"_blank\">Weights & Biases</a> (<a href='https://wandb.me/run' target=\"_blank\">docs</a>)<br/>"
      ],
      "text/plain": [
       "<IPython.core.display.HTML object>"
      ]
     },
     "metadata": {},
     "output_type": "display_data"
    },
    {
     "data": {
      "text/html": [
       " View project at <a href='https://wandb.ai/darya-dare/Noise-Estimation' target=\"_blank\">https://wandb.ai/darya-dare/Noise-Estimation</a>"
      ],
      "text/plain": [
       "<IPython.core.display.HTML object>"
      ]
     },
     "metadata": {},
     "output_type": "display_data"
    },
    {
     "data": {
      "text/html": [
       " View run at <a href='https://wandb.ai/darya-dare/Noise-Estimation/runs/fzmxdi5w' target=\"_blank\">https://wandb.ai/darya-dare/Noise-Estimation/runs/fzmxdi5w</a>"
      ],
      "text/plain": [
       "<IPython.core.display.HTML object>"
      ]
     },
     "metadata": {},
     "output_type": "display_data"
    },
    {
     "name": "stderr",
     "output_type": "stream",
     "text": [
      "Epoch 1: Average epoch loss: 0.703 Train accuracy: 0.49 Val loss: 0.671 Val accuracy: 0.50: 100%|██████████| 96/96 [00:40<00:00,  2.36it/s]\n",
      "Epoch 2: Average epoch loss: 0.697 Train accuracy: 0.52 Val loss: 0.675 Val accuracy: 0.49: 100%|██████████| 96/96 [00:39<00:00,  2.42it/s]\n",
      "Epoch 3: Average epoch loss: 0.703 Train accuracy: 0.49 Val loss: 0.667 Val accuracy: 0.50: 100%|██████████| 96/96 [00:40<00:00,  2.35it/s]\n",
      "Epoch 4: Average epoch loss: 0.695 Train accuracy: 0.51 Val loss: 0.670 Val accuracy: 0.48: 100%|██████████| 96/96 [00:39<00:00,  2.45it/s]\n",
      "Epoch 5: Average epoch loss: 0.691 Train accuracy: 0.51 Val loss: 0.664 Val accuracy: 0.50: 100%|██████████| 96/96 [00:39<00:00,  2.44it/s]\n",
      "Epoch 6: Average epoch loss: 0.692 Train accuracy: 0.50 Val loss: 0.659 Val accuracy: 0.51: 100%|██████████| 96/96 [00:39<00:00,  2.41it/s]\n",
      "Epoch 7: Average epoch loss: 0.687 Train accuracy: 0.51 Val loss: 0.656 Val accuracy: 0.52: 100%|██████████| 96/96 [00:40<00:00,  2.34it/s]\n",
      "Epoch 8: Average epoch loss: 0.679 Train accuracy: 0.53 Val loss: 0.657 Val accuracy: 0.48: 100%|██████████| 96/96 [00:40<00:00,  2.39it/s]\n",
      "Epoch 9: Average epoch loss: 0.676 Train accuracy: 0.55 Val loss: 0.650 Val accuracy: 0.49: 100%|██████████| 96/96 [00:40<00:00,  2.39it/s]\n",
      "Epoch 10: Average epoch loss: 0.673 Train accuracy: 0.57 Val loss: 0.642 Val accuracy: 0.53: 100%|██████████| 96/96 [00:39<00:00,  2.43it/s]\n",
      "Epoch 11: Average epoch loss: 0.665 Train accuracy: 0.65 Val loss: 0.643 Val accuracy: 0.51: 100%|██████████| 96/96 [00:42<00:00,  2.27it/s]\n",
      "Epoch 12: Average epoch loss: 0.657 Train accuracy: 0.73 Val loss: 0.625 Val accuracy: 0.69: 100%|██████████| 96/96 [00:40<00:00,  2.37it/s]\n",
      "Epoch 13: Average epoch loss: 0.650 Train accuracy: 0.79 Val loss: 0.618 Val accuracy: 0.77: 100%|██████████| 96/96 [00:40<00:00,  2.35it/s]\n",
      "Epoch 14: Average epoch loss: 0.639 Train accuracy: 0.84 Val loss: 0.605 Val accuracy: 0.89: 100%|██████████| 96/96 [00:39<00:00,  2.44it/s]\n",
      "Epoch 15: Average epoch loss: 0.629 Train accuracy: 0.86 Val loss: 0.591 Val accuracy: 0.90: 100%|██████████| 96/96 [00:40<00:00,  2.36it/s]\n",
      "Epoch 16: Average epoch loss: 0.613 Train accuracy: 0.89 Val loss: 0.575 Val accuracy: 0.93: 100%|██████████| 96/96 [00:38<00:00,  2.52it/s]\n",
      "Epoch 17: Average epoch loss: 0.597 Train accuracy: 0.90 Val loss: 0.554 Val accuracy: 0.98: 100%|██████████| 96/96 [00:36<00:00,  2.61it/s]\n",
      "Epoch 18: Average epoch loss: 0.569 Train accuracy: 0.92 Val loss: 0.505 Val accuracy: 0.98: 100%|██████████| 96/96 [00:37<00:00,  2.53it/s]\n",
      "Epoch 19: Average epoch loss: 0.532 Train accuracy: 0.94 Val loss: 0.469 Val accuracy: 0.99: 100%|██████████| 96/96 [00:38<00:00,  2.52it/s]\n",
      "Epoch 20: Average epoch loss: 0.491 Train accuracy: 0.95 Val loss: 0.419 Val accuracy: 1.00: 100%|██████████| 96/96 [00:38<00:00,  2.47it/s]\n",
      "Epoch 21: Average epoch loss: 0.442 Train accuracy: 0.97 Val loss: 0.371 Val accuracy: 1.00: 100%|██████████| 96/96 [00:37<00:00,  2.56it/s]\n",
      "Epoch 22: Average epoch loss: 0.397 Train accuracy: 0.98 Val loss: 0.332 Val accuracy: 0.99: 100%|██████████| 96/96 [00:38<00:00,  2.50it/s]\n"
     ]
    },
    {
     "name": "stdout",
     "output_type": "stream",
     "text": [
      "Adjusting learning rate of group 0 to 9.9384e-04.\n"
     ]
    },
    {
     "name": "stderr",
     "output_type": "stream",
     "text": [
      "Epoch 23: Average epoch loss: 0.352 Train accuracy: 0.98 Val loss: 0.283 Val accuracy: 0.99: 100%|██████████| 96/96 [00:37<00:00,  2.54it/s]\n"
     ]
    },
    {
     "name": "stdout",
     "output_type": "stream",
     "text": [
      "Adjusting learning rate of group 0 to 9.7553e-04.\n"
     ]
    },
    {
     "name": "stderr",
     "output_type": "stream",
     "text": [
      "Epoch 24: Average epoch loss: 0.305 Train accuracy: 0.99 Val loss: 0.228 Val accuracy: 1.00: 100%|██████████| 96/96 [00:38<00:00,  2.50it/s]\n"
     ]
    },
    {
     "name": "stdout",
     "output_type": "stream",
     "text": [
      "Adjusting learning rate of group 0 to 9.4550e-04.\n"
     ]
    },
    {
     "name": "stderr",
     "output_type": "stream",
     "text": [
      "Epoch 25: Average epoch loss: 0.264 Train accuracy: 0.99 Val loss: 0.217 Val accuracy: 0.99: 100%|██████████| 96/96 [00:38<00:00,  2.52it/s]\n"
     ]
    },
    {
     "name": "stdout",
     "output_type": "stream",
     "text": [
      "Adjusting learning rate of group 0 to 9.0451e-04.\n"
     ]
    },
    {
     "name": "stderr",
     "output_type": "stream",
     "text": [
      "Epoch 26: Average epoch loss: 0.229 Train accuracy: 0.99 Val loss: 0.170 Val accuracy: 0.99: 100%|██████████| 96/96 [00:37<00:00,  2.58it/s]\n"
     ]
    },
    {
     "name": "stdout",
     "output_type": "stream",
     "text": [
      "Adjusting learning rate of group 0 to 8.5355e-04.\n"
     ]
    },
    {
     "name": "stderr",
     "output_type": "stream",
     "text": [
      "Epoch 27: Average epoch loss: 0.189 Train accuracy: 1.00 Val loss: 0.152 Val accuracy: 0.99: 100%|██████████| 96/96 [00:38<00:00,  2.48it/s]\n"
     ]
    },
    {
     "name": "stdout",
     "output_type": "stream",
     "text": [
      "Adjusting learning rate of group 0 to 7.9389e-04.\n"
     ]
    },
    {
     "name": "stderr",
     "output_type": "stream",
     "text": [
      "Epoch 28: Average epoch loss: 0.166 Train accuracy: 1.00 Val loss: 0.141 Val accuracy: 0.99: 100%|██████████| 96/96 [00:38<00:00,  2.49it/s]\n"
     ]
    },
    {
     "name": "stdout",
     "output_type": "stream",
     "text": [
      "Adjusting learning rate of group 0 to 7.2700e-04.\n"
     ]
    },
    {
     "name": "stderr",
     "output_type": "stream",
     "text": [
      "Epoch 29: Average epoch loss: 0.151 Train accuracy: 0.99 Val loss: 0.141 Val accuracy: 0.99: 100%|██████████| 96/96 [00:39<00:00,  2.42it/s]\n"
     ]
    },
    {
     "name": "stdout",
     "output_type": "stream",
     "text": [
      "Adjusting learning rate of group 0 to 6.5451e-04.\n"
     ]
    },
    {
     "name": "stderr",
     "output_type": "stream",
     "text": [
      "Epoch 30: Average epoch loss: 0.129 Train accuracy: 1.00 Val loss: 0.129 Val accuracy: 0.99: 100%|██████████| 96/96 [00:38<00:00,  2.47it/s]\n"
     ]
    },
    {
     "name": "stdout",
     "output_type": "stream",
     "text": [
      "Adjusting learning rate of group 0 to 5.7822e-04.\n"
     ]
    },
    {
     "name": "stderr",
     "output_type": "stream",
     "text": [
      "Epoch 31: Average epoch loss: 0.118 Train accuracy: 1.00 Val loss: 0.087 Val accuracy: 1.00: 100%|██████████| 96/96 [00:37<00:00,  2.53it/s]\n"
     ]
    },
    {
     "name": "stdout",
     "output_type": "stream",
     "text": [
      "Adjusting learning rate of group 0 to 5.0000e-04.\n"
     ]
    },
    {
     "name": "stderr",
     "output_type": "stream",
     "text": [
      "Epoch 32: Average epoch loss: 0.111 Train accuracy: 0.99 Val loss: 0.118 Val accuracy: 0.99: 100%|██████████| 96/96 [00:38<00:00,  2.51it/s]\n"
     ]
    },
    {
     "name": "stdout",
     "output_type": "stream",
     "text": [
      "Adjusting learning rate of group 0 to 4.2178e-04.\n"
     ]
    },
    {
     "name": "stderr",
     "output_type": "stream",
     "text": [
      "Epoch 33: Average epoch loss: 0.105 Train accuracy: 1.00 Val loss: 0.081 Val accuracy: 1.00: 100%|██████████| 96/96 [00:38<00:00,  2.50it/s]\n"
     ]
    },
    {
     "name": "stdout",
     "output_type": "stream",
     "text": [
      "Adjusting learning rate of group 0 to 3.4549e-04.\n"
     ]
    },
    {
     "name": "stderr",
     "output_type": "stream",
     "text": [
      "Epoch 34: Average epoch loss: 0.096 Train accuracy: 1.00 Val loss: 0.118 Val accuracy: 0.99: 100%|██████████| 96/96 [00:37<00:00,  2.54it/s]\n"
     ]
    },
    {
     "name": "stdout",
     "output_type": "stream",
     "text": [
      "Adjusting learning rate of group 0 to 2.7300e-04.\n"
     ]
    },
    {
     "name": "stderr",
     "output_type": "stream",
     "text": [
      "Epoch 35: Average epoch loss: 0.091 Train accuracy: 1.00 Val loss: 0.080 Val accuracy: 1.00: 100%|██████████| 96/96 [00:36<00:00,  2.61it/s]\n"
     ]
    },
    {
     "name": "stdout",
     "output_type": "stream",
     "text": [
      "Adjusting learning rate of group 0 to 2.0611e-04.\n"
     ]
    },
    {
     "name": "stderr",
     "output_type": "stream",
     "text": [
      "Epoch 36: Average epoch loss: 0.095 Train accuracy: 1.00 Val loss: 0.091 Val accuracy: 1.00: 100%|██████████| 96/96 [00:36<00:00,  2.60it/s]\n"
     ]
    },
    {
     "name": "stdout",
     "output_type": "stream",
     "text": [
      "Adjusting learning rate of group 0 to 1.4645e-04.\n"
     ]
    },
    {
     "name": "stderr",
     "output_type": "stream",
     "text": [
      "Epoch 37: Average epoch loss: 0.090 Train accuracy: 0.99 Val loss: 0.083 Val accuracy: 1.00: 100%|██████████| 96/96 [00:38<00:00,  2.50it/s]\n"
     ]
    },
    {
     "name": "stdout",
     "output_type": "stream",
     "text": [
      "Adjusting learning rate of group 0 to 9.5492e-05.\n"
     ]
    },
    {
     "name": "stderr",
     "output_type": "stream",
     "text": [
      "Epoch 38: Average epoch loss: 0.089 Train accuracy: 0.99 Val loss: 0.087 Val accuracy: 1.00: 100%|██████████| 96/96 [00:37<00:00,  2.53it/s]\n"
     ]
    },
    {
     "name": "stdout",
     "output_type": "stream",
     "text": [
      "Adjusting learning rate of group 0 to 5.4497e-05.\n"
     ]
    },
    {
     "name": "stderr",
     "output_type": "stream",
     "text": [
      "Epoch 39: Average epoch loss: 0.086 Train accuracy: 1.00 Val loss: 0.081 Val accuracy: 1.00: 100%|██████████| 96/96 [00:40<00:00,  2.39it/s]\n"
     ]
    },
    {
     "name": "stdout",
     "output_type": "stream",
     "text": [
      "Adjusting learning rate of group 0 to 2.4472e-05.\n"
     ]
    },
    {
     "name": "stderr",
     "output_type": "stream",
     "text": [
      "Epoch 40: Average epoch loss: 0.090 Train accuracy: 0.99 Val loss: 0.084 Val accuracy: 1.00: 100%|██████████| 96/96 [00:39<00:00,  2.42it/s]\n"
     ]
    },
    {
     "name": "stdout",
     "output_type": "stream",
     "text": [
      "Adjusting learning rate of group 0 to 6.1558e-06.\n"
     ]
    },
    {
     "name": "stderr",
     "output_type": "stream",
     "text": [
      "Epoch 41: Average epoch loss: 0.089 Train accuracy: 0.99 Val loss: 0.092 Val accuracy: 0.99: 100%|██████████| 96/96 [00:37<00:00,  2.56it/s]\n"
     ]
    },
    {
     "name": "stdout",
     "output_type": "stream",
     "text": [
      "Adjusting learning rate of group 0 to 0.0000e+00.\n"
     ]
    },
    {
     "name": "stderr",
     "output_type": "stream",
     "text": [
      "Epoch 42: Average epoch loss: 0.083 Train accuracy: 1.00 Val loss: 0.083 Val accuracy: 1.00: 100%|██████████| 96/96 [00:37<00:00,  2.54it/s]\n"
     ]
    },
    {
     "name": "stdout",
     "output_type": "stream",
     "text": [
      "Adjusting learning rate of group 0 to 6.1558e-06.\n"
     ]
    },
    {
     "name": "stderr",
     "output_type": "stream",
     "text": [
      "Epoch 43: Average epoch loss: 0.085 Train accuracy: 1.00 Val loss: 0.079 Val accuracy: 1.00: 100%|██████████| 96/96 [00:37<00:00,  2.56it/s]\n"
     ]
    },
    {
     "name": "stdout",
     "output_type": "stream",
     "text": [
      "Adjusting learning rate of group 0 to 2.4472e-05.\n"
     ]
    },
    {
     "name": "stderr",
     "output_type": "stream",
     "text": [
      "Epoch 44: Average epoch loss: 0.085 Train accuracy: 1.00 Val loss: 0.065 Val accuracy: 1.00: 100%|██████████| 96/96 [00:37<00:00,  2.55it/s]\n"
     ]
    },
    {
     "name": "stdout",
     "output_type": "stream",
     "text": [
      "Adjusting learning rate of group 0 to 5.4497e-05.\n"
     ]
    },
    {
     "name": "stderr",
     "output_type": "stream",
     "text": [
      "Epoch 45: Average epoch loss: 0.087 Train accuracy: 0.99 Val loss: 0.068 Val accuracy: 1.00: 100%|██████████| 96/96 [00:38<00:00,  2.50it/s]\n"
     ]
    },
    {
     "name": "stdout",
     "output_type": "stream",
     "text": [
      "Adjusting learning rate of group 0 to 9.5492e-05.\n"
     ]
    },
    {
     "name": "stderr",
     "output_type": "stream",
     "text": [
      "Epoch 46: Average epoch loss: 0.085 Train accuracy: 1.00 Val loss: 0.087 Val accuracy: 1.00: 100%|██████████| 96/96 [00:39<00:00,  2.44it/s]\n"
     ]
    },
    {
     "name": "stdout",
     "output_type": "stream",
     "text": [
      "Adjusting learning rate of group 0 to 1.4645e-04.\n"
     ]
    },
    {
     "name": "stderr",
     "output_type": "stream",
     "text": [
      "Epoch 47: Average epoch loss: 0.082 Train accuracy: 1.00 Val loss: 0.083 Val accuracy: 1.00: 100%|██████████| 96/96 [00:38<00:00,  2.51it/s]\n"
     ]
    },
    {
     "name": "stdout",
     "output_type": "stream",
     "text": [
      "Adjusting learning rate of group 0 to 2.0611e-04.\n"
     ]
    },
    {
     "name": "stderr",
     "output_type": "stream",
     "text": [
      "Epoch 48: Average epoch loss: 0.084 Train accuracy: 1.00 Val loss: 0.064 Val accuracy: 1.00: 100%|██████████| 96/96 [00:37<00:00,  2.55it/s]\n"
     ]
    },
    {
     "name": "stdout",
     "output_type": "stream",
     "text": [
      "Adjusting learning rate of group 0 to 2.7300e-04.\n"
     ]
    },
    {
     "name": "stderr",
     "output_type": "stream",
     "text": [
      "Epoch 49: Average epoch loss: 0.079 Train accuracy: 1.00 Val loss: 0.075 Val accuracy: 1.00: 100%|██████████| 96/96 [00:38<00:00,  2.46it/s]\n"
     ]
    },
    {
     "name": "stdout",
     "output_type": "stream",
     "text": [
      "Adjusting learning rate of group 0 to 3.4549e-04.\n"
     ]
    },
    {
     "name": "stderr",
     "output_type": "stream",
     "text": [
      "Epoch 50: Average epoch loss: 0.083 Train accuracy: 0.99 Val loss: 0.067 Val accuracy: 1.00: 100%|██████████| 96/96 [00:37<00:00,  2.54it/s]"
     ]
    },
    {
     "name": "stdout",
     "output_type": "stream",
     "text": [
      "Adjusting learning rate of group 0 to 4.2178e-04.\n"
     ]
    },
    {
     "name": "stderr",
     "output_type": "stream",
     "text": [
      "\n"
     ]
    },
    {
     "data": {
      "text/html": [
       "Waiting for W&B process to finish... <strong style=\"color:green\">(success).</strong>"
      ],
      "text/plain": [
       "<IPython.core.display.HTML object>"
      ]
     },
     "metadata": {},
     "output_type": "display_data"
    },
    {
     "data": {
      "text/html": [
       "<style>\n",
       "    table.wandb td:nth-child(1) { padding: 0 10px; text-align: left ; width: auto;} td:nth-child(2) {text-align: left ; width: 100%}\n",
       "    .wandb-row { display: flex; flex-direction: row; flex-wrap: wrap; justify-content: flex-start; width: 100% }\n",
       "    .wandb-col { display: flex; flex-direction: column; flex-basis: 100%; flex: 1; padding: 10px; }\n",
       "    </style>\n",
       "<div class=\"wandb-row\"><div class=\"wandb-col\"><h3>Run history:</h3><br/><table class=\"wandb\"><tr><td>Epoch</td><td>▁▁▁▁▂▂▂▂▂▃▃▃▃▃▃▄▄▄▄▄▅▅▅▅▅▅▆▆▆▆▆▆▇▇▇▇▇███</td></tr><tr><td>loss</td><td>█████████▇▇▇▇▇▆▆▅▅▄▄▃▂▂▂▁▁▁▁▁▁▁▁▁▁▁▁▁▁▁▁</td></tr><tr><td>train_acc</td><td>▁▁▁▁▁▁▂▂▃▄▅▆▆▇▇▇████████████████████████</td></tr><tr><td>val_acc</td><td>▁▁▁▁▁▁▁▁▁▄▅▇▇███████████████████████████</td></tr><tr><td>val_loss</td><td>█████████▇▇▇▇▇▆▆▅▄▄▃▂▂▂▂▁▂▁▂▁▁▁▁▁▁▁▁▁▁▁▁</td></tr></table><br/></div><div class=\"wandb-col\"><h3>Run summary:</h3><br/><table class=\"wandb\"><tr><td>Epoch</td><td>50</td></tr><tr><td>loss</td><td>0.08311</td></tr><tr><td>train_acc</td><td>0.99251</td></tr><tr><td>val_acc</td><td>0.99805</td></tr><tr><td>val_loss</td><td>0.06658</td></tr></table><br/></div></div>"
      ],
      "text/plain": [
       "<IPython.core.display.HTML object>"
      ]
     },
     "metadata": {},
     "output_type": "display_data"
    },
    {
     "data": {
      "text/html": [
       " View run <strong style=\"color:#cdcd00\">daily-star-82</strong> at: <a href='https://wandb.ai/darya-dare/Noise-Estimation/runs/fzmxdi5w' target=\"_blank\">https://wandb.ai/darya-dare/Noise-Estimation/runs/fzmxdi5w</a><br/>Synced 6 W&B file(s), 0 media file(s), 0 artifact file(s) and 0 other file(s)"
      ],
      "text/plain": [
       "<IPython.core.display.HTML object>"
      ]
     },
     "metadata": {},
     "output_type": "display_data"
    },
    {
     "data": {
      "text/html": [
       "Find logs at: <code>./wandb/run-20230817_140821-fzmxdi5w/logs</code>"
      ],
      "text/plain": [
       "<IPython.core.display.HTML object>"
      ]
     },
     "metadata": {},
     "output_type": "display_data"
    }
   ],
   "source": [
    "loss_history, train_history, val_history = train(model_bcrn, train_loader,\n",
    "                                                 val_loader, loss,\n",
    "                                                 optimizer, warmup_scheduler, num_epochs=50)"
   ]
  },
  {
   "cell_type": "markdown",
   "metadata": {},
   "source": [
    "### Testing and saving BCResNet scale=1, trained on the reduced dataset, optimizer=SGD"
   ]
  },
  {
   "cell_type": "code",
   "execution_count": 13,
   "metadata": {
    "tags": []
   },
   "outputs": [
    {
     "name": "stdout",
     "output_type": "stream",
     "text": [
      "BCResNet model test accuracy: 1.00\n",
      "BCResNet model test loss: 0.074\n"
     ]
    }
   ],
   "source": [
    "bcrn_test_accuracy, bcrn_test_loss = compute_acc_loss(model_bcrn, test_loader, loss)\n",
    "print(f'BCResNet model test accuracy: {bcrn_test_accuracy:.2f}')\n",
    "print(f'BCResNet model test loss: {bcrn_test_loss:.3f}')"
   ]
  },
  {
   "cell_type": "code",
   "execution_count": 14,
   "metadata": {
    "tags": []
   },
   "outputs": [],
   "source": [
    "torch.save(model_bcrn.state_dict(), 'weights_bcrn.pth')"
   ]
  },
  {
   "cell_type": "code",
   "execution_count": 15,
   "metadata": {
    "tags": []
   },
   "outputs": [],
   "source": [
    "torch.save(optimizer.state_dict(), 'optimizer_bcrn.pth')"
   ]
  },
  {
   "cell_type": "markdown",
   "metadata": {},
   "source": [
    "### Testing BCResNet scale=1 (trained on the reduced dataset, optimizer=SGD) on phone audio recordings (in Russian)"
   ]
  },
  {
   "cell_type": "code",
   "execution_count": 24,
   "metadata": {
    "tags": []
   },
   "outputs": [],
   "source": [
    "from BCResNet import BCResNet\n",
    "bcrn_model = BCResNet(num_labels=1)\n",
    "bcrn_model.load_state_dict(torch.load('./weights_bcrn.pth'))\n",
    "bcrn_model.type(torch.FloatTensor)\n",
    "bcrn_model.to(device)\n",
    "\n",
    "loss = nn.BCELoss().type(torch.FloatTensor)\n",
    "\n",
    "optimizer = optim.SGD(bcrn_model.parameters(),lr=1e-3)\n",
    "optimizer.load_state_dict(torch.load('./optimizer_bcrn.pth'))"
   ]
  },
  {
   "cell_type": "code",
   "execution_count": 25,
   "metadata": {
    "tags": []
   },
   "outputs": [
    {
     "name": "stdout",
     "output_type": "stream",
     "text": [
      "BCResNet model test accuracy: 0.50\n",
      "BCResNet model test loss: 2.398\n"
     ]
    }
   ],
   "source": [
    "bcrn_phone_test_accuracy, vgg_phone_test_loss = compute_acc_loss(bcrn_model, phone_loader, loss)\n",
    "print(f'BCResNet model test accuracy: {bcrn_phone_test_accuracy:.2f}')\n",
    "print(f'BCResNet model test loss: {vgg_phone_test_loss:.3f}')"
   ]
  },
  {
   "cell_type": "code",
   "execution_count": null,
   "metadata": {},
   "outputs": [],
   "source": []
  },
  {
   "cell_type": "markdown",
   "metadata": {},
   "source": [
    "### BCResNet: scale=8"
   ]
  },
  {
   "cell_type": "code",
   "execution_count": 12,
   "metadata": {
    "tags": []
   },
   "outputs": [
    {
     "name": "stdout",
     "output_type": "stream",
     "text": [
      "Adjusting learning rate of group 0 to 1.0000e-03.\n"
     ]
    }
   ],
   "source": [
    "from BCResNet import BCResNet\n",
    "model_bcrn = BCResNet(scale=8, num_labels=1)\n",
    "model_bcrn.type(torch.cuda.FloatTensor)\n",
    "model_bcrn.to(device)\n",
    "\n",
    "loss = nn.BCELoss().type(torch.cuda.FloatTensor)\n",
    "optimizer = optim.SGD(model_bcrn.parameters(), lr=1e-3)\n",
    "\n",
    "cosine_scheduler = optim.lr_scheduler.CosineAnnealingLR(optimizer, T_max=40, verbose=True)\n",
    "warmup_scheduler = GradualWarmupScheduler(optimizer, multiplier=1, total_epoch=40,\n",
    "                                          after_scheduler=cosine_scheduler)"
   ]
  },
  {
   "cell_type": "code",
   "execution_count": 13,
   "metadata": {
    "tags": []
   },
   "outputs": [
    {
     "data": {
      "text/html": [
       "Tracking run with wandb version 0.15.8"
      ],
      "text/plain": [
       "<IPython.core.display.HTML object>"
      ]
     },
     "metadata": {},
     "output_type": "display_data"
    },
    {
     "data": {
      "text/html": [
       "Run data is saved locally in <code>/home/jovyan/project/wandb/run-20230818_105648-3noy4fxs</code>"
      ],
      "text/plain": [
       "<IPython.core.display.HTML object>"
      ]
     },
     "metadata": {},
     "output_type": "display_data"
    },
    {
     "data": {
      "text/html": [
       "Syncing run <strong><a href='https://wandb.ai/darya-dare/Noise-Estimation/runs/3noy4fxs' target=\"_blank\">daily-jazz-92</a></strong> to <a href='https://wandb.ai/darya-dare/Noise-Estimation' target=\"_blank\">Weights & Biases</a> (<a href='https://wandb.me/run' target=\"_blank\">docs</a>)<br/>"
      ],
      "text/plain": [
       "<IPython.core.display.HTML object>"
      ]
     },
     "metadata": {},
     "output_type": "display_data"
    },
    {
     "data": {
      "text/html": [
       " View project at <a href='https://wandb.ai/darya-dare/Noise-Estimation' target=\"_blank\">https://wandb.ai/darya-dare/Noise-Estimation</a>"
      ],
      "text/plain": [
       "<IPython.core.display.HTML object>"
      ]
     },
     "metadata": {},
     "output_type": "display_data"
    },
    {
     "data": {
      "text/html": [
       " View run at <a href='https://wandb.ai/darya-dare/Noise-Estimation/runs/3noy4fxs' target=\"_blank\">https://wandb.ai/darya-dare/Noise-Estimation/runs/3noy4fxs</a>"
      ],
      "text/plain": [
       "<IPython.core.display.HTML object>"
      ]
     },
     "metadata": {},
     "output_type": "display_data"
    },
    {
     "name": "stderr",
     "output_type": "stream",
     "text": [
      "Epoch 1: Average epoch loss: 0.696 Train accuracy: 0.49 Val loss: 0.694 Val accuracy: 0.49: 100%|██████████| 154/154 [00:39<00:00,  3.91it/s]\n",
      "Epoch 2: Average epoch loss: 0.694 Train accuracy: 0.50 Val loss: 0.695 Val accuracy: 0.46: 100%|██████████| 154/154 [00:39<00:00,  3.87it/s]\n",
      "Epoch 3: Average epoch loss: 0.692 Train accuracy: 0.53 Val loss: 0.690 Val accuracy: 0.52: 100%|██████████| 154/154 [00:40<00:00,  3.79it/s]\n",
      "Epoch 4: Average epoch loss: 0.689 Train accuracy: 0.56 Val loss: 0.685 Val accuracy: 0.60: 100%|██████████| 154/154 [00:39<00:00,  3.92it/s]\n",
      "Epoch 5: Average epoch loss: 0.682 Train accuracy: 0.63 Val loss: 0.672 Val accuracy: 0.88: 100%|██████████| 154/154 [00:39<00:00,  3.89it/s]\n",
      "Epoch 6: Average epoch loss: 0.674 Train accuracy: 0.68 Val loss: 0.664 Val accuracy: 0.96: 100%|██████████| 154/154 [00:40<00:00,  3.80it/s]\n",
      "Epoch 7: Average epoch loss: 0.667 Train accuracy: 0.70 Val loss: 0.654 Val accuracy: 0.98: 100%|██████████| 154/154 [00:39<00:00,  3.86it/s]\n",
      "Epoch 8: Average epoch loss: 0.658 Train accuracy: 0.74 Val loss: 0.645 Val accuracy: 0.99: 100%|██████████| 154/154 [00:39<00:00,  3.93it/s]\n",
      "Epoch 9: Average epoch loss: 0.648 Train accuracy: 0.80 Val loss: 0.633 Val accuracy: 0.99: 100%|██████████| 154/154 [00:40<00:00,  3.82it/s]\n",
      "Epoch 10: Average epoch loss: 0.635 Train accuracy: 0.84 Val loss: 0.627 Val accuracy: 0.98: 100%|██████████| 154/154 [00:38<00:00,  3.97it/s]\n",
      "Epoch 11: Average epoch loss: 0.619 Train accuracy: 0.86 Val loss: 0.609 Val accuracy: 0.99: 100%|██████████| 154/154 [00:40<00:00,  3.84it/s]\n",
      "Epoch 12: Average epoch loss: 0.603 Train accuracy: 0.88 Val loss: 0.588 Val accuracy: 0.97: 100%|██████████| 154/154 [00:40<00:00,  3.81it/s]\n",
      "Epoch 13: Average epoch loss: 0.581 Train accuracy: 0.95 Val loss: 0.569 Val accuracy: 0.95: 100%|██████████| 154/154 [00:39<00:00,  3.86it/s]\n",
      "Epoch 14: Average epoch loss: 0.554 Train accuracy: 0.96 Val loss: 0.550 Val accuracy: 0.94: 100%|██████████| 154/154 [00:39<00:00,  3.88it/s]\n",
      "Epoch 15: Average epoch loss: 0.521 Train accuracy: 0.97 Val loss: 0.507 Val accuracy: 0.95: 100%|██████████| 154/154 [00:39<00:00,  3.91it/s]\n",
      "Epoch 16: Average epoch loss: 0.481 Train accuracy: 0.97 Val loss: 0.463 Val accuracy: 0.95: 100%|██████████| 154/154 [00:37<00:00,  4.06it/s]\n",
      "Epoch 17: Average epoch loss: 0.436 Train accuracy: 0.97 Val loss: 0.439 Val accuracy: 0.92: 100%|██████████| 154/154 [00:39<00:00,  3.91it/s]\n",
      "Epoch 18: Average epoch loss: 0.385 Train accuracy: 0.97 Val loss: 0.386 Val accuracy: 0.94: 100%|██████████| 154/154 [00:39<00:00,  3.95it/s]\n",
      "Epoch 19: Average epoch loss: 0.344 Train accuracy: 0.97 Val loss: 0.348 Val accuracy: 0.92: 100%|██████████| 154/154 [00:39<00:00,  3.88it/s]\n",
      "Epoch 20: Average epoch loss: 0.299 Train accuracy: 0.97 Val loss: 0.245 Val accuracy: 0.98: 100%|██████████| 154/154 [00:41<00:00,  3.73it/s]\n",
      "Epoch 21: Average epoch loss: 0.247 Train accuracy: 0.98 Val loss: 0.250 Val accuracy: 0.95: 100%|██████████| 154/154 [00:39<00:00,  3.90it/s]\n",
      "Epoch 22: Average epoch loss: 0.206 Train accuracy: 0.98 Val loss: 0.146 Val accuracy: 0.99: 100%|██████████| 154/154 [00:39<00:00,  3.89it/s]\n",
      "Epoch 23: Average epoch loss: 0.171 Train accuracy: 0.98 Val loss: 0.174 Val accuracy: 0.98: 100%|██████████| 154/154 [00:40<00:00,  3.85it/s]\n",
      "Epoch 24: Average epoch loss: 0.142 Train accuracy: 0.99 Val loss: 0.105 Val accuracy: 0.99: 100%|██████████| 154/154 [00:38<00:00,  3.97it/s]\n",
      "Epoch 25: Average epoch loss: 0.119 Train accuracy: 0.99 Val loss: 0.048 Val accuracy: 1.00: 100%|██████████| 154/154 [00:39<00:00,  3.91it/s]\n",
      "Epoch 26: Average epoch loss: 0.111 Train accuracy: 0.99 Val loss: 0.081 Val accuracy: 0.99: 100%|██████████| 154/154 [00:39<00:00,  3.92it/s]\n",
      "Epoch 27: Average epoch loss: 0.087 Train accuracy: 0.99 Val loss: 0.056 Val accuracy: 0.99: 100%|██████████| 154/154 [00:38<00:00,  4.01it/s]\n",
      "Epoch 28: Average epoch loss: 0.070 Train accuracy: 0.99 Val loss: 0.056 Val accuracy: 0.99: 100%|██████████| 154/154 [00:39<00:00,  3.91it/s]\n",
      "Epoch 29: Average epoch loss: 0.067 Train accuracy: 0.99 Val loss: 0.026 Val accuracy: 1.00: 100%|██████████| 154/154 [00:39<00:00,  3.88it/s]\n",
      "Epoch 30: Average epoch loss: 0.067 Train accuracy: 0.99 Val loss: 0.020 Val accuracy: 1.00: 100%|██████████| 154/154 [00:39<00:00,  3.87it/s]\n",
      "Epoch 31: Average epoch loss: 0.047 Train accuracy: 1.00 Val loss: 0.009 Val accuracy: 1.00: 100%|██████████| 154/154 [00:38<00:00,  3.95it/s]\n",
      "Epoch 32: Average epoch loss: 0.045 Train accuracy: 0.99 Val loss: 0.010 Val accuracy: 1.00: 100%|██████████| 154/154 [00:39<00:00,  3.86it/s]\n",
      "Epoch 33: Average epoch loss: 0.041 Train accuracy: 0.99 Val loss: 0.024 Val accuracy: 1.00: 100%|██████████| 154/154 [00:39<00:00,  3.88it/s]\n",
      "Epoch 34: Average epoch loss: 0.036 Train accuracy: 0.99 Val loss: 0.005 Val accuracy: 1.00: 100%|██████████| 154/154 [00:40<00:00,  3.85it/s]\n",
      "Epoch 35: Average epoch loss: 0.038 Train accuracy: 0.99 Val loss: 0.015 Val accuracy: 1.00: 100%|██████████| 154/154 [00:40<00:00,  3.79it/s]\n",
      "Epoch 36: Average epoch loss: 0.033 Train accuracy: 0.99 Val loss: 0.011 Val accuracy: 1.00: 100%|██████████| 154/154 [00:39<00:00,  3.89it/s]\n",
      "Epoch 37: Average epoch loss: 0.027 Train accuracy: 1.00 Val loss: 0.009 Val accuracy: 1.00: 100%|██████████| 154/154 [00:39<00:00,  3.91it/s]\n",
      "Epoch 38: Average epoch loss: 0.025 Train accuracy: 0.99 Val loss: 0.003 Val accuracy: 1.00: 100%|██████████| 154/154 [00:38<00:00,  3.98it/s]\n",
      "Epoch 39: Average epoch loss: 0.029 Train accuracy: 0.99 Val loss: 0.046 Val accuracy: 0.99: 100%|██████████| 154/154 [00:39<00:00,  3.91it/s]\n",
      "Epoch 40: Average epoch loss: 0.026 Train accuracy: 1.00 Val loss: 0.003 Val accuracy: 1.00: 100%|██████████| 154/154 [00:40<00:00,  3.77it/s]\n",
      "Epoch 41: Average epoch loss: 0.031 Train accuracy: 0.99 Val loss: 0.021 Val accuracy: 1.00: 100%|██████████| 154/154 [00:38<00:00,  3.97it/s]\n",
      "Epoch 42: Average epoch loss: 0.021 Train accuracy: 0.99 Val loss: 0.018 Val accuracy: 0.99: 100%|██████████| 154/154 [00:40<00:00,  3.83it/s]\n"
     ]
    },
    {
     "name": "stdout",
     "output_type": "stream",
     "text": [
      "Adjusting learning rate of group 0 to 9.9846e-04.\n"
     ]
    },
    {
     "name": "stderr",
     "output_type": "stream",
     "text": [
      "Epoch 43: Average epoch loss: 0.019 Train accuracy: 1.00 Val loss: 0.015 Val accuracy: 1.00: 100%|██████████| 154/154 [00:39<00:00,  3.88it/s]\n"
     ]
    },
    {
     "name": "stdout",
     "output_type": "stream",
     "text": [
      "Adjusting learning rate of group 0 to 9.9384e-04.\n"
     ]
    },
    {
     "name": "stderr",
     "output_type": "stream",
     "text": [
      "Epoch 44: Average epoch loss: 0.015 Train accuracy: 1.00 Val loss: 0.002 Val accuracy: 1.00: 100%|██████████| 154/154 [00:39<00:00,  3.85it/s]\n"
     ]
    },
    {
     "name": "stdout",
     "output_type": "stream",
     "text": [
      "Adjusting learning rate of group 0 to 9.8618e-04.\n"
     ]
    },
    {
     "name": "stderr",
     "output_type": "stream",
     "text": [
      "Epoch 45: Average epoch loss: 0.018 Train accuracy: 1.00 Val loss: 0.003 Val accuracy: 1.00: 100%|██████████| 154/154 [00:39<00:00,  3.86it/s]\n"
     ]
    },
    {
     "name": "stdout",
     "output_type": "stream",
     "text": [
      "Adjusting learning rate of group 0 to 9.7553e-04.\n"
     ]
    },
    {
     "name": "stderr",
     "output_type": "stream",
     "text": [
      "Epoch 46: Average epoch loss: 0.017 Train accuracy: 1.00 Val loss: 0.002 Val accuracy: 1.00: 100%|██████████| 154/154 [00:39<00:00,  3.94it/s]\n"
     ]
    },
    {
     "name": "stdout",
     "output_type": "stream",
     "text": [
      "Adjusting learning rate of group 0 to 9.6194e-04.\n"
     ]
    },
    {
     "name": "stderr",
     "output_type": "stream",
     "text": [
      "Epoch 47: Average epoch loss: 0.018 Train accuracy: 1.00 Val loss: 0.008 Val accuracy: 1.00: 100%|██████████| 154/154 [00:39<00:00,  3.87it/s]\n"
     ]
    },
    {
     "name": "stdout",
     "output_type": "stream",
     "text": [
      "Adjusting learning rate of group 0 to 9.4550e-04.\n"
     ]
    },
    {
     "name": "stderr",
     "output_type": "stream",
     "text": [
      "Epoch 48: Average epoch loss: 0.015 Train accuracy: 1.00 Val loss: 0.018 Val accuracy: 1.00: 100%|██████████| 154/154 [00:39<00:00,  3.91it/s]\n"
     ]
    },
    {
     "name": "stdout",
     "output_type": "stream",
     "text": [
      "Adjusting learning rate of group 0 to 9.2632e-04.\n"
     ]
    },
    {
     "name": "stderr",
     "output_type": "stream",
     "text": [
      "Epoch 49: Average epoch loss: 0.017 Train accuracy: 1.00 Val loss: 0.004 Val accuracy: 1.00: 100%|██████████| 154/154 [00:39<00:00,  3.93it/s]\n"
     ]
    },
    {
     "name": "stdout",
     "output_type": "stream",
     "text": [
      "Adjusting learning rate of group 0 to 9.0451e-04.\n"
     ]
    },
    {
     "name": "stderr",
     "output_type": "stream",
     "text": [
      "Epoch 50: Average epoch loss: 0.015 Train accuracy: 1.00 Val loss: 0.010 Val accuracy: 1.00: 100%|██████████| 154/154 [00:39<00:00,  3.91it/s]"
     ]
    },
    {
     "name": "stdout",
     "output_type": "stream",
     "text": [
      "Adjusting learning rate of group 0 to 8.8020e-04.\n"
     ]
    },
    {
     "name": "stderr",
     "output_type": "stream",
     "text": [
      "\n"
     ]
    },
    {
     "data": {
      "text/html": [
       "Waiting for W&B process to finish... <strong style=\"color:green\">(success).</strong>"
      ],
      "text/plain": [
       "<IPython.core.display.HTML object>"
      ]
     },
     "metadata": {},
     "output_type": "display_data"
    },
    {
     "data": {
      "application/vnd.jupyter.widget-view+json": {
       "model_id": "d6c0195154234a13a13b959f911da43a",
       "version_major": 2,
       "version_minor": 0
      },
      "text/plain": [
       "VBox(children=(Label(value='0.003 MB of 0.003 MB uploaded (0.000 MB deduped)\\r'), FloatProgress(value=1.0, max…"
      ]
     },
     "metadata": {},
     "output_type": "display_data"
    },
    {
     "data": {
      "text/html": [
       "<style>\n",
       "    table.wandb td:nth-child(1) { padding: 0 10px; text-align: left ; width: auto;} td:nth-child(2) {text-align: left ; width: 100%}\n",
       "    .wandb-row { display: flex; flex-direction: row; flex-wrap: wrap; justify-content: flex-start; width: 100% }\n",
       "    .wandb-col { display: flex; flex-direction: column; flex-basis: 100%; flex: 1; padding: 10px; }\n",
       "    </style>\n",
       "<div class=\"wandb-row\"><div class=\"wandb-col\"><h3>Run history:</h3><br/><table class=\"wandb\"><tr><td>Epoch</td><td>▁▁▁▁▂▂▂▂▂▃▃▃▃▃▃▄▄▄▄▄▅▅▅▅▅▅▆▆▆▆▆▆▇▇▇▇▇███</td></tr><tr><td>loss</td><td>████████▇▇▇▇▆▅▅▄▃▃▃▂▂▂▂▂▁▁▁▁▁▁▁▁▁▁▁▁▁▁▁▁</td></tr><tr><td>train_acc</td><td>▁▁▂▂▄▄▄▅▆▆▇▇████████████████████████████</td></tr><tr><td>val_acc</td><td>▁▁▂▃▇█████▇▇▇▇▇▇▇███████████████████████</td></tr><tr><td>val_loss</td><td>██████▇▇▇▇▇▇▆▅▅▄▄▂▃▂▂▂▂▁▁▁▁▁▁▁▁▁▁▁▁▁▁▁▁▁</td></tr></table><br/></div><div class=\"wandb-col\"><h3>Run summary:</h3><br/><table class=\"wandb\"><tr><td>Epoch</td><td>50</td></tr><tr><td>loss</td><td>0.01535</td></tr><tr><td>train_acc</td><td>0.99675</td></tr><tr><td>val_acc</td><td>0.99804</td></tr><tr><td>val_loss</td><td>0.00967</td></tr></table><br/></div></div>"
      ],
      "text/plain": [
       "<IPython.core.display.HTML object>"
      ]
     },
     "metadata": {},
     "output_type": "display_data"
    },
    {
     "data": {
      "text/html": [
       " View run <strong style=\"color:#cdcd00\">daily-jazz-92</strong> at: <a href='https://wandb.ai/darya-dare/Noise-Estimation/runs/3noy4fxs' target=\"_blank\">https://wandb.ai/darya-dare/Noise-Estimation/runs/3noy4fxs</a><br/>Synced 6 W&B file(s), 0 media file(s), 0 artifact file(s) and 0 other file(s)"
      ],
      "text/plain": [
       "<IPython.core.display.HTML object>"
      ]
     },
     "metadata": {},
     "output_type": "display_data"
    },
    {
     "data": {
      "text/html": [
       "Find logs at: <code>./wandb/run-20230818_105648-3noy4fxs/logs</code>"
      ],
      "text/plain": [
       "<IPython.core.display.HTML object>"
      ]
     },
     "metadata": {},
     "output_type": "display_data"
    }
   ],
   "source": [
    "loss_history, train_history, val_history = train(model_bcrn, train_loader,\n",
    "                                                 val_loader, loss,\n",
    "                                                 optimizer, warmup_scheduler, num_epochs=50)"
   ]
  },
  {
   "cell_type": "markdown",
   "metadata": {},
   "source": [
    "### Testing BCResNet scale=8"
   ]
  },
  {
   "cell_type": "code",
   "execution_count": 14,
   "metadata": {
    "tags": []
   },
   "outputs": [
    {
     "name": "stdout",
     "output_type": "stream",
     "text": [
      "BCResNet scale=8 model test accuracy: 1.00\n",
      "BCResNet scale=8 model test loss: 0.007\n"
     ]
    }
   ],
   "source": [
    "bcrn_test_accuracy, bcrn_test_loss = compute_acc_loss(model_bcrn, test_loader, loss)\n",
    "print(f'BCResNet scale=8 model test accuracy: {bcrn_test_accuracy:.2f}')\n",
    "print(f'BCResNet scale=8 model test loss: {bcrn_test_loss:.3f}')"
   ]
  },
  {
   "cell_type": "code",
   "execution_count": 20,
   "metadata": {
    "tags": []
   },
   "outputs": [],
   "source": [
    "torch.save(model_bcrn.state_dict(), 'weights_bcrn_scale8.pth')"
   ]
  },
  {
   "cell_type": "code",
   "execution_count": 21,
   "metadata": {
    "tags": []
   },
   "outputs": [],
   "source": [
    "torch.save(optimizer.state_dict(), 'optimizer_bcrn_scale8.pth')"
   ]
  },
  {
   "cell_type": "markdown",
   "metadata": {},
   "source": [
    "### Testing BCResNet scale=8 on the phone audio recordings (in Russian)"
   ]
  },
  {
   "cell_type": "code",
   "execution_count": 19,
   "metadata": {
    "tags": []
   },
   "outputs": [
    {
     "name": "stdout",
     "output_type": "stream",
     "text": [
      "BCResNet model test accuracy: 0.47\n",
      "BCResNet model test loss: 5.357\n"
     ]
    }
   ],
   "source": [
    "bcrn_phone_test_accuracy, bcrn_phone_test_loss = compute_acc_loss(model_bcrn, phone_loader, loss)\n",
    "print(f'BCResNet model test accuracy: {bcrn_phone_test_accuracy:.2f}')\n",
    "print(f'BCResNet model test loss: {bcrn_phone_test_loss:.3f}')"
   ]
  },
  {
   "cell_type": "code",
   "execution_count": null,
   "metadata": {},
   "outputs": [],
   "source": []
  },
  {
   "cell_type": "markdown",
   "metadata": {},
   "source": [
    "### BCResNet: scale=16"
   ]
  },
  {
   "cell_type": "code",
   "execution_count": 10,
   "metadata": {
    "tags": []
   },
   "outputs": [
    {
     "name": "stdout",
     "output_type": "stream",
     "text": [
      "Adjusting learning rate of group 0 to 1.0000e-03.\n"
     ]
    }
   ],
   "source": [
    "from BCResNet import BCResNet\n",
    "model_bcrn = BCResNet(scale=16, num_labels=1)\n",
    "model_bcrn.type(torch.cuda.FloatTensor)\n",
    "model_bcrn.to(device)\n",
    "\n",
    "loss = nn.BCELoss().type(torch.cuda.FloatTensor)\n",
    "optimizer = optim.SGD(model_bcrn.parameters(), lr=1e-3)\n",
    "\n",
    "cosine_scheduler = optim.lr_scheduler.CosineAnnealingLR(optimizer, T_max=40, verbose=True)\n",
    "warmup_scheduler = GradualWarmupScheduler(optimizer, multiplier=1, total_epoch=40,\n",
    "                                          after_scheduler=cosine_scheduler)"
   ]
  },
  {
   "cell_type": "code",
   "execution_count": 11,
   "metadata": {
    "tags": []
   },
   "outputs": [
    {
     "data": {
      "text/html": [
       "Tracking run with wandb version 0.15.8"
      ],
      "text/plain": [
       "<IPython.core.display.HTML object>"
      ]
     },
     "metadata": {},
     "output_type": "display_data"
    },
    {
     "data": {
      "text/html": [
       "Run data is saved locally in <code>/home/jovyan/project/wandb/run-20230818_113333-egtb5yn8</code>"
      ],
      "text/plain": [
       "<IPython.core.display.HTML object>"
      ]
     },
     "metadata": {},
     "output_type": "display_data"
    },
    {
     "data": {
      "text/html": [
       "Syncing run <strong><a href='https://wandb.ai/darya-dare/Noise-Estimation/runs/egtb5yn8' target=\"_blank\">glowing-leaf-93</a></strong> to <a href='https://wandb.ai/darya-dare/Noise-Estimation' target=\"_blank\">Weights & Biases</a> (<a href='https://wandb.me/run' target=\"_blank\">docs</a>)<br/>"
      ],
      "text/plain": [
       "<IPython.core.display.HTML object>"
      ]
     },
     "metadata": {},
     "output_type": "display_data"
    },
    {
     "data": {
      "text/html": [
       " View project at <a href='https://wandb.ai/darya-dare/Noise-Estimation' target=\"_blank\">https://wandb.ai/darya-dare/Noise-Estimation</a>"
      ],
      "text/plain": [
       "<IPython.core.display.HTML object>"
      ]
     },
     "metadata": {},
     "output_type": "display_data"
    },
    {
     "data": {
      "text/html": [
       " View run at <a href='https://wandb.ai/darya-dare/Noise-Estimation/runs/egtb5yn8' target=\"_blank\">https://wandb.ai/darya-dare/Noise-Estimation/runs/egtb5yn8</a>"
      ],
      "text/plain": [
       "<IPython.core.display.HTML object>"
      ]
     },
     "metadata": {},
     "output_type": "display_data"
    },
    {
     "name": "stderr",
     "output_type": "stream",
     "text": [
      "Epoch 1: Average epoch loss: 0.699 Train accuracy: 0.50 Val loss: 0.693 Val accuracy: 0.51: 100%|██████████| 154/154 [00:56<00:00,  2.74it/s]\n",
      "Epoch 2: Average epoch loss: 0.693 Train accuracy: 0.52 Val loss: 0.691 Val accuracy: 0.51: 100%|██████████| 154/154 [00:59<00:00,  2.59it/s]\n",
      "Epoch 3: Average epoch loss: 0.689 Train accuracy: 0.55 Val loss: 0.684 Val accuracy: 0.52: 100%|██████████| 154/154 [00:59<00:00,  2.57it/s]\n",
      "Epoch 4: Average epoch loss: 0.679 Train accuracy: 0.64 Val loss: 0.675 Val accuracy: 0.72: 100%|██████████| 154/154 [00:59<00:00,  2.60it/s]\n",
      "Epoch 5: Average epoch loss: 0.670 Train accuracy: 0.71 Val loss: 0.662 Val accuracy: 0.95: 100%|██████████| 154/154 [00:59<00:00,  2.60it/s]\n",
      "Epoch 6: Average epoch loss: 0.660 Train accuracy: 0.70 Val loss: 0.650 Val accuracy: 0.99: 100%|██████████| 154/154 [00:59<00:00,  2.60it/s]\n",
      "Epoch 7: Average epoch loss: 0.647 Train accuracy: 0.76 Val loss: 0.637 Val accuracy: 0.98: 100%|██████████| 154/154 [00:59<00:00,  2.60it/s]\n",
      "Epoch 8: Average epoch loss: 0.632 Train accuracy: 0.81 Val loss: 0.616 Val accuracy: 0.98: 100%|██████████| 154/154 [00:59<00:00,  2.60it/s]\n",
      "Epoch 9: Average epoch loss: 0.615 Train accuracy: 0.87 Val loss: 0.597 Val accuracy: 0.95: 100%|██████████| 154/154 [00:59<00:00,  2.59it/s]\n",
      "Epoch 10: Average epoch loss: 0.590 Train accuracy: 0.92 Val loss: 0.577 Val accuracy: 0.92: 100%|██████████| 154/154 [00:59<00:00,  2.58it/s]\n",
      "Epoch 11: Average epoch loss: 0.564 Train accuracy: 0.94 Val loss: 0.539 Val accuracy: 0.95: 100%|██████████| 154/154 [00:59<00:00,  2.59it/s]\n",
      "Epoch 12: Average epoch loss: 0.528 Train accuracy: 0.96 Val loss: 0.497 Val accuracy: 0.93: 100%|██████████| 154/154 [00:59<00:00,  2.59it/s]\n",
      "Epoch 13: Average epoch loss: 0.487 Train accuracy: 0.98 Val loss: 0.460 Val accuracy: 0.93: 100%|██████████| 154/154 [00:59<00:00,  2.59it/s]\n",
      "Epoch 14: Average epoch loss: 0.435 Train accuracy: 0.98 Val loss: 0.388 Val accuracy: 0.95: 100%|██████████| 154/154 [01:00<00:00,  2.56it/s]\n",
      "Epoch 15: Average epoch loss: 0.382 Train accuracy: 0.98 Val loss: 0.383 Val accuracy: 0.90: 100%|██████████| 154/154 [00:59<00:00,  2.57it/s]\n",
      "Epoch 16: Average epoch loss: 0.325 Train accuracy: 0.98 Val loss: 0.301 Val accuracy: 0.95: 100%|██████████| 154/154 [00:59<00:00,  2.57it/s]\n",
      "Epoch 17: Average epoch loss: 0.269 Train accuracy: 0.99 Val loss: 0.262 Val accuracy: 0.94: 100%|██████████| 154/154 [00:59<00:00,  2.58it/s]\n",
      "Epoch 18: Average epoch loss: 0.215 Train accuracy: 0.99 Val loss: 0.201 Val accuracy: 0.97: 100%|██████████| 154/154 [00:59<00:00,  2.58it/s]\n",
      "Epoch 19: Average epoch loss: 0.180 Train accuracy: 0.98 Val loss: 0.173 Val accuracy: 0.97: 100%|██████████| 154/154 [01:00<00:00,  2.56it/s]\n",
      "Epoch 20: Average epoch loss: 0.142 Train accuracy: 0.99 Val loss: 0.149 Val accuracy: 0.98: 100%|██████████| 154/154 [01:00<00:00,  2.55it/s]\n",
      "Epoch 21: Average epoch loss: 0.120 Train accuracy: 0.99 Val loss: 0.097 Val accuracy: 0.99: 100%|██████████| 154/154 [01:00<00:00,  2.55it/s]\n",
      "Epoch 22: Average epoch loss: 0.095 Train accuracy: 0.99 Val loss: 0.109 Val accuracy: 0.98: 100%|██████████| 154/154 [00:59<00:00,  2.58it/s]\n",
      "Epoch 23: Average epoch loss: 0.081 Train accuracy: 0.99 Val loss: 0.102 Val accuracy: 0.98: 100%|██████████| 154/154 [00:59<00:00,  2.58it/s]\n",
      "Epoch 24: Average epoch loss: 0.077 Train accuracy: 0.99 Val loss: 0.059 Val accuracy: 0.99: 100%|██████████| 154/154 [00:59<00:00,  2.59it/s]\n",
      "Epoch 25: Average epoch loss: 0.058 Train accuracy: 0.99 Val loss: 0.046 Val accuracy: 0.99: 100%|██████████| 154/154 [00:59<00:00,  2.60it/s]\n",
      "Epoch 26: Average epoch loss: 0.060 Train accuracy: 0.99 Val loss: 0.060 Val accuracy: 0.99: 100%|██████████| 154/154 [00:59<00:00,  2.58it/s]\n",
      "Epoch 27: Average epoch loss: 0.050 Train accuracy: 0.99 Val loss: 0.047 Val accuracy: 0.99: 100%|██████████| 154/154 [00:59<00:00,  2.58it/s]\n",
      "Epoch 28: Average epoch loss: 0.036 Train accuracy: 1.00 Val loss: 0.039 Val accuracy: 0.99: 100%|██████████| 154/154 [00:59<00:00,  2.57it/s]\n",
      "Epoch 29: Average epoch loss: 0.036 Train accuracy: 0.99 Val loss: 0.042 Val accuracy: 0.99: 100%|██████████| 154/154 [00:59<00:00,  2.58it/s]\n",
      "Epoch 30: Average epoch loss: 0.035 Train accuracy: 0.99 Val loss: 0.050 Val accuracy: 0.99: 100%|██████████| 154/154 [01:00<00:00,  2.56it/s]\n",
      "Epoch 31: Average epoch loss: 0.033 Train accuracy: 1.00 Val loss: 0.032 Val accuracy: 0.99: 100%|██████████| 154/154 [01:00<00:00,  2.54it/s]\n",
      "Epoch 32: Average epoch loss: 0.029 Train accuracy: 0.99 Val loss: 0.031 Val accuracy: 0.99: 100%|██████████| 154/154 [00:59<00:00,  2.59it/s]\n",
      "Epoch 33: Average epoch loss: 0.029 Train accuracy: 1.00 Val loss: 0.048 Val accuracy: 0.99: 100%|██████████| 154/154 [00:59<00:00,  2.60it/s]\n",
      "Epoch 34: Average epoch loss: 0.021 Train accuracy: 1.00 Val loss: 0.035 Val accuracy: 0.99: 100%|██████████| 154/154 [00:59<00:00,  2.59it/s]\n",
      "Epoch 35: Average epoch loss: 0.022 Train accuracy: 1.00 Val loss: 0.029 Val accuracy: 0.99: 100%|██████████| 154/154 [00:59<00:00,  2.57it/s]\n",
      "Epoch 36: Average epoch loss: 0.019 Train accuracy: 1.00 Val loss: 0.036 Val accuracy: 0.99: 100%|██████████| 154/154 [00:59<00:00,  2.59it/s]\n",
      "Epoch 37: Average epoch loss: 0.024 Train accuracy: 0.99 Val loss: 0.019 Val accuracy: 1.00: 100%|██████████| 154/154 [00:59<00:00,  2.60it/s]\n",
      "Epoch 38: Average epoch loss: 0.019 Train accuracy: 1.00 Val loss: 0.013 Val accuracy: 1.00: 100%|██████████| 154/154 [00:59<00:00,  2.57it/s]\n",
      "Epoch 39: Average epoch loss: 0.019 Train accuracy: 1.00 Val loss: 0.016 Val accuracy: 1.00: 100%|██████████| 154/154 [00:59<00:00,  2.58it/s]\n",
      "Epoch 40: Average epoch loss: 0.024 Train accuracy: 0.99 Val loss: 0.010 Val accuracy: 1.00: 100%|██████████| 154/154 [01:00<00:00,  2.56it/s]\n",
      "Epoch 41: Average epoch loss: 0.020 Train accuracy: 0.99 Val loss: 0.018 Val accuracy: 1.00: 100%|██████████| 154/154 [00:59<00:00,  2.57it/s]\n",
      "Epoch 42: Average epoch loss: 0.016 Train accuracy: 1.00 Val loss: 0.036 Val accuracy: 0.99: 100%|██████████| 154/154 [00:59<00:00,  2.58it/s]\n"
     ]
    },
    {
     "name": "stdout",
     "output_type": "stream",
     "text": [
      "Adjusting learning rate of group 0 to 9.9846e-04.\n"
     ]
    },
    {
     "name": "stderr",
     "output_type": "stream",
     "text": [
      "Epoch 43: Average epoch loss: 0.019 Train accuracy: 0.99 Val loss: 0.039 Val accuracy: 0.99: 100%|██████████| 154/154 [00:59<00:00,  2.59it/s]\n"
     ]
    },
    {
     "name": "stdout",
     "output_type": "stream",
     "text": [
      "Adjusting learning rate of group 0 to 9.9384e-04.\n"
     ]
    },
    {
     "name": "stderr",
     "output_type": "stream",
     "text": [
      "Epoch 44: Average epoch loss: 0.015 Train accuracy: 1.00 Val loss: 0.012 Val accuracy: 1.00: 100%|██████████| 154/154 [00:59<00:00,  2.59it/s]\n"
     ]
    },
    {
     "name": "stdout",
     "output_type": "stream",
     "text": [
      "Adjusting learning rate of group 0 to 9.8618e-04.\n"
     ]
    },
    {
     "name": "stderr",
     "output_type": "stream",
     "text": [
      "Epoch 45: Average epoch loss: 0.016 Train accuracy: 1.00 Val loss: 0.028 Val accuracy: 0.99: 100%|██████████| 154/154 [00:59<00:00,  2.57it/s]\n"
     ]
    },
    {
     "name": "stdout",
     "output_type": "stream",
     "text": [
      "Adjusting learning rate of group 0 to 9.7553e-04.\n"
     ]
    },
    {
     "name": "stderr",
     "output_type": "stream",
     "text": [
      "Epoch 46: Average epoch loss: 0.016 Train accuracy: 1.00 Val loss: 0.033 Val accuracy: 0.99: 100%|██████████| 154/154 [00:59<00:00,  2.58it/s]\n"
     ]
    },
    {
     "name": "stdout",
     "output_type": "stream",
     "text": [
      "Adjusting learning rate of group 0 to 9.6194e-04.\n"
     ]
    },
    {
     "name": "stderr",
     "output_type": "stream",
     "text": [
      "Epoch 47: Average epoch loss: 0.017 Train accuracy: 1.00 Val loss: 0.038 Val accuracy: 0.99: 100%|██████████| 154/154 [00:59<00:00,  2.58it/s]\n"
     ]
    },
    {
     "name": "stdout",
     "output_type": "stream",
     "text": [
      "Adjusting learning rate of group 0 to 9.4550e-04.\n"
     ]
    },
    {
     "name": "stderr",
     "output_type": "stream",
     "text": [
      "Epoch 48: Average epoch loss: 0.022 Train accuracy: 1.00 Val loss: 0.014 Val accuracy: 1.00: 100%|██████████| 154/154 [00:59<00:00,  2.61it/s]\n"
     ]
    },
    {
     "name": "stdout",
     "output_type": "stream",
     "text": [
      "Adjusting learning rate of group 0 to 9.2632e-04.\n"
     ]
    },
    {
     "name": "stderr",
     "output_type": "stream",
     "text": [
      "Epoch 49: Average epoch loss: 0.015 Train accuracy: 1.00 Val loss: 0.004 Val accuracy: 1.00: 100%|██████████| 154/154 [01:00<00:00,  2.56it/s]\n"
     ]
    },
    {
     "name": "stdout",
     "output_type": "stream",
     "text": [
      "Adjusting learning rate of group 0 to 9.0451e-04.\n"
     ]
    },
    {
     "name": "stderr",
     "output_type": "stream",
     "text": [
      "Epoch 50: Average epoch loss: 0.017 Train accuracy: 0.99 Val loss: 0.003 Val accuracy: 1.00: 100%|██████████| 154/154 [00:59<00:00,  2.57it/s]"
     ]
    },
    {
     "name": "stdout",
     "output_type": "stream",
     "text": [
      "Adjusting learning rate of group 0 to 8.8020e-04.\n"
     ]
    },
    {
     "name": "stderr",
     "output_type": "stream",
     "text": [
      "\n"
     ]
    },
    {
     "data": {
      "text/html": [
       "Waiting for W&B process to finish... <strong style=\"color:green\">(success).</strong>"
      ],
      "text/plain": [
       "<IPython.core.display.HTML object>"
      ]
     },
     "metadata": {},
     "output_type": "display_data"
    },
    {
     "data": {
      "application/vnd.jupyter.widget-view+json": {
       "model_id": "37fb98a21cf34919abaa599e26834d78",
       "version_major": 2,
       "version_minor": 0
      },
      "text/plain": [
       "VBox(children=(Label(value='0.003 MB of 0.003 MB uploaded (0.000 MB deduped)\\r'), FloatProgress(value=1.0, max…"
      ]
     },
     "metadata": {},
     "output_type": "display_data"
    },
    {
     "data": {
      "text/html": [
       "<style>\n",
       "    table.wandb td:nth-child(1) { padding: 0 10px; text-align: left ; width: auto;} td:nth-child(2) {text-align: left ; width: 100%}\n",
       "    .wandb-row { display: flex; flex-direction: row; flex-wrap: wrap; justify-content: flex-start; width: 100% }\n",
       "    .wandb-col { display: flex; flex-direction: column; flex-basis: 100%; flex: 1; padding: 10px; }\n",
       "    </style>\n",
       "<div class=\"wandb-row\"><div class=\"wandb-col\"><h3>Run history:</h3><br/><table class=\"wandb\"><tr><td>Epoch</td><td>▁▁▁▁▂▂▂▂▂▃▃▃▃▃▃▄▄▄▄▄▅▅▅▅▅▅▆▆▆▆▆▆▇▇▇▇▇███</td></tr><tr><td>loss</td><td>█████▇▇▇▇▆▆▅▄▄▃▃▂▂▂▂▁▁▁▁▁▁▁▁▁▁▁▁▁▁▁▁▁▁▁▁</td></tr><tr><td>train_acc</td><td>▁▁▂▃▄▅▅▆▇███████████████████████████████</td></tr><tr><td>val_acc</td><td>▁▁▁▄███▇▇▇▇▇▇▇██████████████████████████</td></tr><tr><td>val_loss</td><td>█████▇▇▇▆▆▆▅▄▄▃▃▂▂▂▂▂▁▁▁▁▁▁▁▁▁▁▁▁▁▁▁▁▁▁▁</td></tr></table><br/></div><div class=\"wandb-col\"><h3>Run summary:</h3><br/><table class=\"wandb\"><tr><td>Epoch</td><td>50</td></tr><tr><td>loss</td><td>0.01706</td></tr><tr><td>train_acc</td><td>0.99383</td></tr><tr><td>val_acc</td><td>1.0</td></tr><tr><td>val_loss</td><td>0.00295</td></tr></table><br/></div></div>"
      ],
      "text/plain": [
       "<IPython.core.display.HTML object>"
      ]
     },
     "metadata": {},
     "output_type": "display_data"
    },
    {
     "data": {
      "text/html": [
       " View run <strong style=\"color:#cdcd00\">glowing-leaf-93</strong> at: <a href='https://wandb.ai/darya-dare/Noise-Estimation/runs/egtb5yn8' target=\"_blank\">https://wandb.ai/darya-dare/Noise-Estimation/runs/egtb5yn8</a><br/>Synced 6 W&B file(s), 0 media file(s), 0 artifact file(s) and 0 other file(s)"
      ],
      "text/plain": [
       "<IPython.core.display.HTML object>"
      ]
     },
     "metadata": {},
     "output_type": "display_data"
    },
    {
     "data": {
      "text/html": [
       "Find logs at: <code>./wandb/run-20230818_113333-egtb5yn8/logs</code>"
      ],
      "text/plain": [
       "<IPython.core.display.HTML object>"
      ]
     },
     "metadata": {},
     "output_type": "display_data"
    }
   ],
   "source": [
    "loss_history, train_history, val_history = train(model_bcrn, train_loader,\n",
    "                                                 val_loader, loss,\n",
    "                                                 optimizer, warmup_scheduler, num_epochs=50)"
   ]
  },
  {
   "cell_type": "markdown",
   "metadata": {},
   "source": [
    "### Testing BCResNet scale=16"
   ]
  },
  {
   "cell_type": "code",
   "execution_count": 12,
   "metadata": {
    "tags": []
   },
   "outputs": [
    {
     "name": "stdout",
     "output_type": "stream",
     "text": [
      "BCResNet scale=8 model test accuracy: 1.00\n",
      "BCResNet scale=8 model test loss: 0.005\n"
     ]
    }
   ],
   "source": [
    "bcrn_test_accuracy, bcrn_test_loss = compute_acc_loss(model_bcrn, test_loader, loss)\n",
    "print(f'BCResNet scale=8 model test accuracy: {bcrn_test_accuracy:.2f}')\n",
    "print(f'BCResNet scale=8 model test loss: {bcrn_test_loss:.3f}')"
   ]
  },
  {
   "cell_type": "code",
   "execution_count": 17,
   "metadata": {
    "tags": []
   },
   "outputs": [],
   "source": [
    "torch.save(model_bcrn.state_dict(), 'weights_bcrn_scale16.pth')"
   ]
  },
  {
   "cell_type": "code",
   "execution_count": 18,
   "metadata": {
    "tags": []
   },
   "outputs": [],
   "source": [
    "torch.save(optimizer.state_dict(), 'optimizer_bcrn_scale16.pth')"
   ]
  },
  {
   "cell_type": "markdown",
   "metadata": {},
   "source": [
    "### Testing BCResNet scale=16 on the phone audio recordings (in Russian)"
   ]
  },
  {
   "cell_type": "code",
   "execution_count": 16,
   "metadata": {
    "tags": []
   },
   "outputs": [
    {
     "name": "stdout",
     "output_type": "stream",
     "text": [
      "BCResNet model test accuracy: 0.47\n",
      "BCResNet model test loss: 7.151\n"
     ]
    }
   ],
   "source": [
    "bcrn_phone_test_accuracy, bcrn_phone_test_loss = compute_acc_loss(model_bcrn, phone_loader, loss)\n",
    "print(f'BCResNet model test accuracy: {bcrn_phone_test_accuracy:.2f}')\n",
    "print(f'BCResNet model test loss: {bcrn_phone_test_loss:.3f}')"
   ]
  },
  {
   "cell_type": "markdown",
   "metadata": {
    "tags": []
   },
   "source": [
    "### VGG"
   ]
  },
  {
   "cell_type": "code",
   "execution_count": 5,
   "metadata": {
    "tags": []
   },
   "outputs": [
    {
     "name": "stdout",
     "output_type": "stream",
     "text": [
      "Adjusting learning rate of group 0 to 1.0000e-03.\n"
     ]
    }
   ],
   "source": [
    "from vggNet import VGGModel\n",
    "\n",
    "model_vgg = VGGModel(1, 'vgg11')\n",
    "model_vgg.to(device)\n",
    "model_vgg.type(torch.cuda.FloatTensor)\n",
    "\n",
    "loss = nn.BCELoss().type(torch.cuda.FloatTensor)\n",
    "optimizer = optim.SGD(model_vgg.parameters(), lr=1e-3)\n",
    "cosine_scheduler = optim.lr_scheduler.CosineAnnealingLR(optimizer, T_max=50, verbose=True)\n",
    "warmup_scheduler = GradualWarmupScheduler(optimizer, multiplier=1, total_epoch=25,\n",
    "                                          after_scheduler=cosine_scheduler)"
   ]
  },
  {
   "cell_type": "code",
   "execution_count": 12,
   "metadata": {
    "tags": []
   },
   "outputs": [
    {
     "name": "stderr",
     "output_type": "stream",
     "text": [
      "\u001b[34m\u001b[1mwandb\u001b[0m: Currently logged in as: \u001b[33mdarya-dare\u001b[0m. Use \u001b[1m`wandb login --relogin`\u001b[0m to force relogin\n"
     ]
    },
    {
     "data": {
      "text/html": [
       "Tracking run with wandb version 0.15.8"
      ],
      "text/plain": [
       "<IPython.core.display.HTML object>"
      ]
     },
     "metadata": {},
     "output_type": "display_data"
    },
    {
     "data": {
      "text/html": [
       "Run data is saved locally in <code>/home/jovyan/project/wandb/run-20230804_150925-d342gv3i</code>"
      ],
      "text/plain": [
       "<IPython.core.display.HTML object>"
      ]
     },
     "metadata": {},
     "output_type": "display_data"
    },
    {
     "data": {
      "text/html": [
       "Syncing run <strong><a href='https://wandb.ai/darya-dare/Noise-Estimation/runs/d342gv3i' target=\"_blank\">devoted-leaf-57</a></strong> to <a href='https://wandb.ai/darya-dare/Noise-Estimation' target=\"_blank\">Weights & Biases</a> (<a href='https://wandb.me/run' target=\"_blank\">docs</a>)<br/>"
      ],
      "text/plain": [
       "<IPython.core.display.HTML object>"
      ]
     },
     "metadata": {},
     "output_type": "display_data"
    },
    {
     "data": {
      "text/html": [
       " View project at <a href='https://wandb.ai/darya-dare/Noise-Estimation' target=\"_blank\">https://wandb.ai/darya-dare/Noise-Estimation</a>"
      ],
      "text/plain": [
       "<IPython.core.display.HTML object>"
      ]
     },
     "metadata": {},
     "output_type": "display_data"
    },
    {
     "data": {
      "text/html": [
       " View run at <a href='https://wandb.ai/darya-dare/Noise-Estimation/runs/d342gv3i' target=\"_blank\">https://wandb.ai/darya-dare/Noise-Estimation/runs/d342gv3i</a>"
      ],
      "text/plain": [
       "<IPython.core.display.HTML object>"
      ]
     },
     "metadata": {},
     "output_type": "display_data"
    },
    {
     "name": "stderr",
     "output_type": "stream",
     "text": [
      "Epoch 1: Average epoch loss: 0.743 Train accuracy: 0.52, Val accuracy: 0.49: 100%|██████████| 30/30 [00:57<00:00,  1.92s/it]\n",
      "Epoch 2: Average epoch loss: 0.714 Train accuracy: 0.51, Val accuracy: 0.51: 100%|██████████| 30/30 [00:57<00:00,  1.92s/it]\n",
      "Epoch 3: Average epoch loss: 0.695 Train accuracy: 0.51, Val accuracy: 0.50: 100%|██████████| 30/30 [00:55<00:00,  1.85s/it]\n",
      "Epoch 4: Average epoch loss: 0.682 Train accuracy: 0.53, Val accuracy: 0.50: 100%|██████████| 30/30 [00:59<00:00,  2.00s/it]\n",
      "Epoch 5: Average epoch loss: 0.679 Train accuracy: 0.52, Val accuracy: 0.48: 100%|██████████| 30/30 [00:57<00:00,  1.92s/it]\n",
      "Epoch 6: Average epoch loss: 0.678 Train accuracy: 0.52, Val accuracy: 0.51: 100%|██████████| 30/30 [00:54<00:00,  1.83s/it]\n",
      "Epoch 7: Average epoch loss: 0.658 Train accuracy: 0.54, Val accuracy: 0.50: 100%|██████████| 30/30 [00:58<00:00,  1.97s/it]\n",
      "Epoch 8: Average epoch loss: 0.659 Train accuracy: 0.54, Val accuracy: 0.51: 100%|██████████| 30/30 [00:59<00:00,  1.97s/it]\n",
      "Epoch 9: Average epoch loss: 0.650 Train accuracy: 0.55, Val accuracy: 0.44: 100%|██████████| 30/30 [00:56<00:00,  1.87s/it]\n",
      "Epoch 10: Average epoch loss: 0.640 Train accuracy: 0.56, Val accuracy: 0.51: 100%|██████████| 30/30 [00:59<00:00,  1.97s/it]\n",
      "Epoch 11: Average epoch loss: 0.627 Train accuracy: 0.58, Val accuracy: 0.51: 100%|██████████| 30/30 [00:57<00:00,  1.92s/it]\n",
      "Epoch 12: Average epoch loss: 0.617 Train accuracy: 0.59, Val accuracy: 0.51: 100%|██████████| 30/30 [00:57<00:00,  1.92s/it]\n",
      "Epoch 13: Average epoch loss: 0.606 Train accuracy: 0.62, Val accuracy: 0.51: 100%|██████████| 30/30 [00:57<00:00,  1.90s/it]\n",
      "Epoch 14: Average epoch loss: 0.589 Train accuracy: 0.64, Val accuracy: 0.58: 100%|██████████| 30/30 [00:55<00:00,  1.86s/it]\n",
      "Epoch 15: Average epoch loss: 0.566 Train accuracy: 0.68, Val accuracy: 0.82: 100%|██████████| 30/30 [00:57<00:00,  1.92s/it]\n",
      "Epoch 16: Average epoch loss: 0.541 Train accuracy: 0.72, Val accuracy: 0.85: 100%|██████████| 30/30 [00:58<00:00,  1.94s/it]\n",
      "Epoch 17: Average epoch loss: 0.507 Train accuracy: 0.78, Val accuracy: 0.76: 100%|██████████| 30/30 [00:56<00:00,  1.87s/it]\n",
      "Epoch 18: Average epoch loss: 0.467 Train accuracy: 0.80, Val accuracy: 0.92: 100%|██████████| 30/30 [00:58<00:00,  1.95s/it]\n",
      "Epoch 19: Average epoch loss: 0.437 Train accuracy: 0.83, Val accuracy: 0.92: 100%|██████████| 30/30 [00:57<00:00,  1.92s/it]\n",
      "Epoch 20: Average epoch loss: 0.422 Train accuracy: 0.81, Val accuracy: 0.93: 100%|██████████| 30/30 [01:00<00:00,  2.01s/it]\n",
      "Epoch 21: Average epoch loss: 0.403 Train accuracy: 0.84, Val accuracy: 0.93: 100%|██████████| 30/30 [00:55<00:00,  1.86s/it]\n",
      "Epoch 22: Average epoch loss: 0.393 Train accuracy: 0.83, Val accuracy: 0.86: 100%|██████████| 30/30 [00:56<00:00,  1.89s/it]\n",
      "Epoch 23: Average epoch loss: 0.363 Train accuracy: 0.84, Val accuracy: 0.56: 100%|██████████| 30/30 [00:55<00:00,  1.86s/it]\n",
      "Epoch 24: Average epoch loss: 0.350 Train accuracy: 0.84, Val accuracy: 0.73: 100%|██████████| 30/30 [00:57<00:00,  1.91s/it]\n",
      "Epoch 25: Average epoch loss: 0.343 Train accuracy: 0.83, Val accuracy: 0.94: 100%|██████████| 30/30 [00:57<00:00,  1.91s/it]\n",
      "Epoch 26: Average epoch loss: 0.313 Train accuracy: 0.86, Val accuracy: 0.97: 100%|██████████| 30/30 [00:55<00:00,  1.85s/it]\n",
      "Epoch 27: Average epoch loss: 0.247 Train accuracy: 0.91, Val accuracy: 0.97: 100%|██████████| 30/30 [00:56<00:00,  1.89s/it]\n"
     ]
    },
    {
     "name": "stdout",
     "output_type": "stream",
     "text": [
      "Adjusting learning rate of group 0 to 9.9901e-04.\n"
     ]
    },
    {
     "name": "stderr",
     "output_type": "stream",
     "text": [
      "Epoch 28: Average epoch loss: 0.201 Train accuracy: 0.94, Val accuracy: 0.98: 100%|██████████| 30/30 [00:56<00:00,  1.87s/it]\n"
     ]
    },
    {
     "name": "stdout",
     "output_type": "stream",
     "text": [
      "Adjusting learning rate of group 0 to 9.9606e-04.\n"
     ]
    },
    {
     "name": "stderr",
     "output_type": "stream",
     "text": [
      "Epoch 29: Average epoch loss: 0.197 Train accuracy: 0.93, Val accuracy: 0.98: 100%|██████████| 30/30 [00:57<00:00,  1.92s/it]\n"
     ]
    },
    {
     "name": "stdout",
     "output_type": "stream",
     "text": [
      "Adjusting learning rate of group 0 to 9.9114e-04.\n"
     ]
    },
    {
     "name": "stderr",
     "output_type": "stream",
     "text": [
      "Epoch 30: Average epoch loss: 0.232 Train accuracy: 0.92, Val accuracy: 0.98: 100%|██████████| 30/30 [00:57<00:00,  1.92s/it]\n"
     ]
    },
    {
     "name": "stdout",
     "output_type": "stream",
     "text": [
      "Adjusting learning rate of group 0 to 9.8429e-04.\n"
     ]
    },
    {
     "name": "stderr",
     "output_type": "stream",
     "text": [
      "Epoch 31: Average epoch loss: 0.092 Train accuracy: 0.98, Val accuracy: 0.99: 100%|██████████| 30/30 [00:56<00:00,  1.87s/it]\n"
     ]
    },
    {
     "name": "stdout",
     "output_type": "stream",
     "text": [
      "Adjusting learning rate of group 0 to 9.7553e-04.\n"
     ]
    },
    {
     "name": "stderr",
     "output_type": "stream",
     "text": [
      "Epoch 32: Average epoch loss: 0.078 Train accuracy: 0.98, Val accuracy: 0.99: 100%|██████████| 30/30 [00:57<00:00,  1.93s/it]\n"
     ]
    },
    {
     "name": "stdout",
     "output_type": "stream",
     "text": [
      "Adjusting learning rate of group 0 to 9.6489e-04.\n"
     ]
    },
    {
     "name": "stderr",
     "output_type": "stream",
     "text": [
      "Epoch 33: Average epoch loss: 0.402 Train accuracy: 0.84, Val accuracy: 0.99: 100%|██████████| 30/30 [00:56<00:00,  1.89s/it]\n"
     ]
    },
    {
     "name": "stdout",
     "output_type": "stream",
     "text": [
      "Adjusting learning rate of group 0 to 9.5241e-04.\n"
     ]
    },
    {
     "name": "stderr",
     "output_type": "stream",
     "text": [
      "Epoch 34: Average epoch loss: 0.093 Train accuracy: 0.98, Val accuracy: 0.99: 100%|██████████| 30/30 [00:59<00:00,  1.99s/it]\n"
     ]
    },
    {
     "name": "stdout",
     "output_type": "stream",
     "text": [
      "Adjusting learning rate of group 0 to 9.3815e-04.\n"
     ]
    },
    {
     "name": "stderr",
     "output_type": "stream",
     "text": [
      "Epoch 35: Average epoch loss: 0.054 Train accuracy: 0.99, Val accuracy: 0.99: 100%|██████████| 30/30 [00:57<00:00,  1.92s/it]\n"
     ]
    },
    {
     "name": "stdout",
     "output_type": "stream",
     "text": [
      "Adjusting learning rate of group 0 to 9.2216e-04.\n"
     ]
    },
    {
     "name": "stderr",
     "output_type": "stream",
     "text": [
      "Epoch 36: Average epoch loss: 0.051 Train accuracy: 0.99, Val accuracy: 0.99: 100%|██████████| 30/30 [00:56<00:00,  1.87s/it]\n"
     ]
    },
    {
     "name": "stdout",
     "output_type": "stream",
     "text": [
      "Adjusting learning rate of group 0 to 9.0451e-04.\n"
     ]
    },
    {
     "name": "stderr",
     "output_type": "stream",
     "text": [
      "Epoch 37: Average epoch loss: 0.042 Train accuracy: 0.99, Val accuracy: 0.99: 100%|██████████| 30/30 [00:57<00:00,  1.92s/it]\n"
     ]
    },
    {
     "name": "stdout",
     "output_type": "stream",
     "text": [
      "Adjusting learning rate of group 0 to 8.8526e-04.\n"
     ]
    },
    {
     "name": "stderr",
     "output_type": "stream",
     "text": [
      "Epoch 38: Average epoch loss: 0.037 Train accuracy: 0.99, Val accuracy: 0.99: 100%|██████████| 30/30 [00:59<00:00,  1.97s/it]\n"
     ]
    },
    {
     "name": "stdout",
     "output_type": "stream",
     "text": [
      "Adjusting learning rate of group 0 to 8.6448e-04.\n"
     ]
    },
    {
     "name": "stderr",
     "output_type": "stream",
     "text": [
      "Epoch 39: Average epoch loss: 0.035 Train accuracy: 0.99, Val accuracy: 0.99: 100%|██████████| 30/30 [00:55<00:00,  1.85s/it]\n"
     ]
    },
    {
     "name": "stdout",
     "output_type": "stream",
     "text": [
      "Adjusting learning rate of group 0 to 8.4227e-04.\n"
     ]
    },
    {
     "name": "stderr",
     "output_type": "stream",
     "text": [
      "Epoch 40: Average epoch loss: 0.031 Train accuracy: 0.99, Val accuracy: 1.00: 100%|██████████| 30/30 [00:56<00:00,  1.88s/it]\n"
     ]
    },
    {
     "name": "stdout",
     "output_type": "stream",
     "text": [
      "Adjusting learning rate of group 0 to 8.1871e-04.\n"
     ]
    },
    {
     "name": "stderr",
     "output_type": "stream",
     "text": [
      "Epoch 41: Average epoch loss: 0.029 Train accuracy: 0.99, Val accuracy: 0.99: 100%|██████████| 30/30 [00:57<00:00,  1.92s/it]\n"
     ]
    },
    {
     "name": "stdout",
     "output_type": "stream",
     "text": [
      "Adjusting learning rate of group 0 to 7.9389e-04.\n"
     ]
    },
    {
     "name": "stderr",
     "output_type": "stream",
     "text": [
      "Epoch 42: Average epoch loss: 0.027 Train accuracy: 1.00, Val accuracy: 0.99: 100%|██████████| 30/30 [00:55<00:00,  1.85s/it]\n"
     ]
    },
    {
     "name": "stdout",
     "output_type": "stream",
     "text": [
      "Adjusting learning rate of group 0 to 7.6791e-04.\n"
     ]
    },
    {
     "name": "stderr",
     "output_type": "stream",
     "text": [
      "Epoch 43: Average epoch loss: 0.024 Train accuracy: 1.00, Val accuracy: 0.99: 100%|██████████| 30/30 [00:58<00:00,  1.94s/it]\n"
     ]
    },
    {
     "name": "stdout",
     "output_type": "stream",
     "text": [
      "Adjusting learning rate of group 0 to 7.4088e-04.\n"
     ]
    },
    {
     "name": "stderr",
     "output_type": "stream",
     "text": [
      "Epoch 44: Average epoch loss: 0.024 Train accuracy: 0.99, Val accuracy: 1.00: 100%|██████████| 30/30 [00:57<00:00,  1.93s/it]\n"
     ]
    },
    {
     "name": "stdout",
     "output_type": "stream",
     "text": [
      "Adjusting learning rate of group 0 to 7.1289e-04.\n"
     ]
    },
    {
     "name": "stderr",
     "output_type": "stream",
     "text": [
      "Epoch 45: Average epoch loss: 0.019 Train accuracy: 1.00, Val accuracy: 1.00: 100%|██████████| 30/30 [00:57<00:00,  1.92s/it]\n"
     ]
    },
    {
     "name": "stdout",
     "output_type": "stream",
     "text": [
      "Adjusting learning rate of group 0 to 6.8406e-04.\n"
     ]
    },
    {
     "name": "stderr",
     "output_type": "stream",
     "text": [
      "Epoch 46: Average epoch loss: 0.018 Train accuracy: 1.00, Val accuracy: 1.00: 100%|██████████| 30/30 [00:56<00:00,  1.88s/it]\n"
     ]
    },
    {
     "name": "stdout",
     "output_type": "stream",
     "text": [
      "Adjusting learning rate of group 0 to 6.5451e-04.\n"
     ]
    },
    {
     "name": "stderr",
     "output_type": "stream",
     "text": [
      "Epoch 47: Average epoch loss: 0.022 Train accuracy: 0.99, Val accuracy: 1.00: 100%|██████████| 30/30 [00:57<00:00,  1.92s/it]\n"
     ]
    },
    {
     "name": "stdout",
     "output_type": "stream",
     "text": [
      "Adjusting learning rate of group 0 to 6.2434e-04.\n"
     ]
    },
    {
     "name": "stderr",
     "output_type": "stream",
     "text": [
      "Epoch 48: Average epoch loss: 0.020 Train accuracy: 0.99, Val accuracy: 1.00: 100%|██████████| 30/30 [00:57<00:00,  1.92s/it]\n"
     ]
    },
    {
     "name": "stdout",
     "output_type": "stream",
     "text": [
      "Adjusting learning rate of group 0 to 5.9369e-04.\n"
     ]
    },
    {
     "name": "stderr",
     "output_type": "stream",
     "text": [
      "Epoch 49: Average epoch loss: 0.017 Train accuracy: 1.00, Val accuracy: 1.00: 100%|██████████| 30/30 [00:57<00:00,  1.93s/it]\n"
     ]
    },
    {
     "name": "stdout",
     "output_type": "stream",
     "text": [
      "Adjusting learning rate of group 0 to 5.6267e-04.\n"
     ]
    },
    {
     "name": "stderr",
     "output_type": "stream",
     "text": [
      "Epoch 50: Average epoch loss: 0.021 Train accuracy: 0.99, Val accuracy: 1.00: 100%|██████████| 30/30 [00:55<00:00,  1.84s/it]\n"
     ]
    },
    {
     "name": "stdout",
     "output_type": "stream",
     "text": [
      "Adjusting learning rate of group 0 to 5.3140e-04.\n"
     ]
    },
    {
     "name": "stderr",
     "output_type": "stream",
     "text": [
      "Epoch 51: Average epoch loss: 0.019 Train accuracy: 1.00, Val accuracy: 1.00: 100%|██████████| 30/30 [00:58<00:00,  1.94s/it]\n"
     ]
    },
    {
     "name": "stdout",
     "output_type": "stream",
     "text": [
      "Adjusting learning rate of group 0 to 5.0000e-04.\n"
     ]
    },
    {
     "name": "stderr",
     "output_type": "stream",
     "text": [
      "Epoch 52: Average epoch loss: 0.017 Train accuracy: 1.00, Val accuracy: 1.00: 100%|██████████| 30/30 [00:57<00:00,  1.91s/it]\n"
     ]
    },
    {
     "name": "stdout",
     "output_type": "stream",
     "text": [
      "Adjusting learning rate of group 0 to 4.6860e-04.\n"
     ]
    },
    {
     "name": "stderr",
     "output_type": "stream",
     "text": [
      "Epoch 53: Average epoch loss: 0.016 Train accuracy: 1.00, Val accuracy: 1.00: 100%|██████████| 30/30 [00:58<00:00,  1.94s/it]\n"
     ]
    },
    {
     "name": "stdout",
     "output_type": "stream",
     "text": [
      "Adjusting learning rate of group 0 to 4.3733e-04.\n"
     ]
    },
    {
     "name": "stderr",
     "output_type": "stream",
     "text": [
      "Epoch 54: Average epoch loss: 0.014 Train accuracy: 1.00, Val accuracy: 1.00: 100%|██████████| 30/30 [00:56<00:00,  1.89s/it]\n"
     ]
    },
    {
     "name": "stdout",
     "output_type": "stream",
     "text": [
      "Adjusting learning rate of group 0 to 4.0631e-04.\n"
     ]
    },
    {
     "name": "stderr",
     "output_type": "stream",
     "text": [
      "Epoch 55: Average epoch loss: 0.013 Train accuracy: 1.00, Val accuracy: 1.00: 100%|██████████| 30/30 [00:54<00:00,  1.83s/it]\n"
     ]
    },
    {
     "name": "stdout",
     "output_type": "stream",
     "text": [
      "Adjusting learning rate of group 0 to 3.7566e-04.\n"
     ]
    },
    {
     "name": "stderr",
     "output_type": "stream",
     "text": [
      "Epoch 56: Average epoch loss: 0.013 Train accuracy: 1.00, Val accuracy: 1.00: 100%|██████████| 30/30 [00:58<00:00,  1.95s/it]\n"
     ]
    },
    {
     "name": "stdout",
     "output_type": "stream",
     "text": [
      "Adjusting learning rate of group 0 to 3.4549e-04.\n"
     ]
    },
    {
     "name": "stderr",
     "output_type": "stream",
     "text": [
      "Epoch 57: Average epoch loss: 0.016 Train accuracy: 1.00, Val accuracy: 1.00: 100%|██████████| 30/30 [00:58<00:00,  1.95s/it]\n"
     ]
    },
    {
     "name": "stdout",
     "output_type": "stream",
     "text": [
      "Adjusting learning rate of group 0 to 3.1594e-04.\n"
     ]
    },
    {
     "name": "stderr",
     "output_type": "stream",
     "text": [
      "Epoch 58: Average epoch loss: 0.015 Train accuracy: 1.00, Val accuracy: 1.00: 100%|██████████| 30/30 [00:59<00:00,  1.97s/it]\n"
     ]
    },
    {
     "name": "stdout",
     "output_type": "stream",
     "text": [
      "Adjusting learning rate of group 0 to 2.8711e-04.\n"
     ]
    },
    {
     "name": "stderr",
     "output_type": "stream",
     "text": [
      "Epoch 59: Average epoch loss: 0.015 Train accuracy: 1.00, Val accuracy: 1.00: 100%|██████████| 30/30 [00:57<00:00,  1.92s/it]\n"
     ]
    },
    {
     "name": "stdout",
     "output_type": "stream",
     "text": [
      "Adjusting learning rate of group 0 to 2.5912e-04.\n"
     ]
    },
    {
     "name": "stderr",
     "output_type": "stream",
     "text": [
      "Epoch 60: Average epoch loss: 0.012 Train accuracy: 1.00, Val accuracy: 1.00: 100%|██████████| 30/30 [00:58<00:00,  1.95s/it]\n"
     ]
    },
    {
     "name": "stdout",
     "output_type": "stream",
     "text": [
      "Adjusting learning rate of group 0 to 2.3209e-04.\n"
     ]
    },
    {
     "name": "stderr",
     "output_type": "stream",
     "text": [
      "Epoch 61: Average epoch loss: 0.016 Train accuracy: 1.00, Val accuracy: 1.00: 100%|██████████| 30/30 [00:58<00:00,  1.95s/it]\n"
     ]
    },
    {
     "name": "stdout",
     "output_type": "stream",
     "text": [
      "Adjusting learning rate of group 0 to 2.0611e-04.\n"
     ]
    },
    {
     "name": "stderr",
     "output_type": "stream",
     "text": [
      "Epoch 62: Average epoch loss: 0.013 Train accuracy: 1.00, Val accuracy: 1.00: 100%|██████████| 30/30 [00:54<00:00,  1.83s/it]\n"
     ]
    },
    {
     "name": "stdout",
     "output_type": "stream",
     "text": [
      "Adjusting learning rate of group 0 to 1.8129e-04.\n"
     ]
    },
    {
     "name": "stderr",
     "output_type": "stream",
     "text": [
      "Epoch 63: Average epoch loss: 0.015 Train accuracy: 1.00, Val accuracy: 1.00: 100%|██████████| 30/30 [00:58<00:00,  1.97s/it]\n"
     ]
    },
    {
     "name": "stdout",
     "output_type": "stream",
     "text": [
      "Adjusting learning rate of group 0 to 1.5773e-04.\n"
     ]
    },
    {
     "name": "stderr",
     "output_type": "stream",
     "text": [
      "Epoch 64: Average epoch loss: 0.013 Train accuracy: 1.00, Val accuracy: 1.00: 100%|██████████| 30/30 [00:57<00:00,  1.93s/it]\n"
     ]
    },
    {
     "name": "stdout",
     "output_type": "stream",
     "text": [
      "Adjusting learning rate of group 0 to 1.3552e-04.\n"
     ]
    },
    {
     "name": "stderr",
     "output_type": "stream",
     "text": [
      "Epoch 65: Average epoch loss: 0.013 Train accuracy: 1.00, Val accuracy: 1.00: 100%|██████████| 30/30 [00:56<00:00,  1.90s/it]\n"
     ]
    },
    {
     "name": "stdout",
     "output_type": "stream",
     "text": [
      "Adjusting learning rate of group 0 to 1.1474e-04.\n"
     ]
    },
    {
     "name": "stderr",
     "output_type": "stream",
     "text": [
      "Epoch 66: Average epoch loss: 0.013 Train accuracy: 1.00, Val accuracy: 1.00: 100%|██████████| 30/30 [00:55<00:00,  1.85s/it]\n"
     ]
    },
    {
     "name": "stdout",
     "output_type": "stream",
     "text": [
      "Adjusting learning rate of group 0 to 9.5492e-05.\n"
     ]
    },
    {
     "name": "stderr",
     "output_type": "stream",
     "text": [
      "Epoch 67: Average epoch loss: 0.012 Train accuracy: 1.00, Val accuracy: 1.00: 100%|██████████| 30/30 [00:58<00:00,  1.94s/it]\n"
     ]
    },
    {
     "name": "stdout",
     "output_type": "stream",
     "text": [
      "Adjusting learning rate of group 0 to 7.7836e-05.\n"
     ]
    },
    {
     "name": "stderr",
     "output_type": "stream",
     "text": [
      "Epoch 68: Average epoch loss: 0.014 Train accuracy: 1.00, Val accuracy: 1.00: 100%|██████████| 30/30 [00:57<00:00,  1.90s/it]\n"
     ]
    },
    {
     "name": "stdout",
     "output_type": "stream",
     "text": [
      "Adjusting learning rate of group 0 to 6.1847e-05.\n"
     ]
    },
    {
     "name": "stderr",
     "output_type": "stream",
     "text": [
      "Epoch 69: Average epoch loss: 0.011 Train accuracy: 1.00, Val accuracy: 1.00: 100%|██████████| 30/30 [00:56<00:00,  1.88s/it]\n"
     ]
    },
    {
     "name": "stdout",
     "output_type": "stream",
     "text": [
      "Adjusting learning rate of group 0 to 4.7586e-05.\n"
     ]
    },
    {
     "name": "stderr",
     "output_type": "stream",
     "text": [
      "Epoch 70: Average epoch loss: 0.012 Train accuracy: 1.00, Val accuracy: 1.00: 100%|██████████| 30/30 [00:56<00:00,  1.90s/it]\n"
     ]
    },
    {
     "name": "stdout",
     "output_type": "stream",
     "text": [
      "Adjusting learning rate of group 0 to 3.5112e-05.\n"
     ]
    },
    {
     "name": "stderr",
     "output_type": "stream",
     "text": [
      "Epoch 71: Average epoch loss: 0.013 Train accuracy: 1.00, Val accuracy: 0.99: 100%|██████████| 30/30 [00:57<00:00,  1.92s/it]\n"
     ]
    },
    {
     "name": "stdout",
     "output_type": "stream",
     "text": [
      "Adjusting learning rate of group 0 to 2.4472e-05.\n"
     ]
    },
    {
     "name": "stderr",
     "output_type": "stream",
     "text": [
      "Epoch 72: Average epoch loss: 0.013 Train accuracy: 1.00, Val accuracy: 1.00: 100%|██████████| 30/30 [00:57<00:00,  1.90s/it]\n"
     ]
    },
    {
     "name": "stdout",
     "output_type": "stream",
     "text": [
      "Adjusting learning rate of group 0 to 1.5708e-05.\n"
     ]
    },
    {
     "name": "stderr",
     "output_type": "stream",
     "text": [
      "Epoch 73: Average epoch loss: 0.014 Train accuracy: 1.00, Val accuracy: 1.00: 100%|██████████| 30/30 [00:57<00:00,  1.91s/it]\n"
     ]
    },
    {
     "name": "stdout",
     "output_type": "stream",
     "text": [
      "Adjusting learning rate of group 0 to 8.8564e-06.\n"
     ]
    },
    {
     "name": "stderr",
     "output_type": "stream",
     "text": [
      "Epoch 74: Average epoch loss: 0.012 Train accuracy: 1.00, Val accuracy: 1.00: 100%|██████████| 30/30 [00:59<00:00,  1.98s/it]\n"
     ]
    },
    {
     "name": "stdout",
     "output_type": "stream",
     "text": [
      "Adjusting learning rate of group 0 to 3.9426e-06.\n"
     ]
    },
    {
     "name": "stderr",
     "output_type": "stream",
     "text": [
      "Epoch 75: Average epoch loss: 0.013 Train accuracy: 1.00, Val accuracy: 1.00: 100%|██████████| 30/30 [00:57<00:00,  1.93s/it]\n"
     ]
    },
    {
     "name": "stdout",
     "output_type": "stream",
     "text": [
      "Adjusting learning rate of group 0 to 9.8664e-07.\n"
     ]
    },
    {
     "name": "stderr",
     "output_type": "stream",
     "text": [
      "Epoch 76: Average epoch loss: 0.012 Train accuracy: 1.00, Val accuracy: 1.00: 100%|██████████| 30/30 [00:56<00:00,  1.87s/it]\n"
     ]
    },
    {
     "name": "stdout",
     "output_type": "stream",
     "text": [
      "Adjusting learning rate of group 0 to 0.0000e+00.\n"
     ]
    },
    {
     "name": "stderr",
     "output_type": "stream",
     "text": [
      "Epoch 77: Average epoch loss: 0.012 Train accuracy: 1.00, Val accuracy: 1.00: 100%|██████████| 30/30 [00:56<00:00,  1.88s/it]\n"
     ]
    },
    {
     "name": "stdout",
     "output_type": "stream",
     "text": [
      "Adjusting learning rate of group 0 to 9.8664e-07.\n"
     ]
    },
    {
     "name": "stderr",
     "output_type": "stream",
     "text": [
      "Epoch 78: Average epoch loss: 0.011 Train accuracy: 1.00, Val accuracy: 1.00: 100%|██████████| 30/30 [00:56<00:00,  1.88s/it]\n"
     ]
    },
    {
     "name": "stdout",
     "output_type": "stream",
     "text": [
      "Adjusting learning rate of group 0 to 3.9426e-06.\n"
     ]
    },
    {
     "name": "stderr",
     "output_type": "stream",
     "text": [
      "Epoch 79: Average epoch loss: 0.012 Train accuracy: 1.00, Val accuracy: 1.00: 100%|██████████| 30/30 [00:58<00:00,  1.95s/it]\n"
     ]
    },
    {
     "name": "stdout",
     "output_type": "stream",
     "text": [
      "Adjusting learning rate of group 0 to 8.8564e-06.\n"
     ]
    },
    {
     "name": "stderr",
     "output_type": "stream",
     "text": [
      "Epoch 80: Average epoch loss: 0.012 Train accuracy: 1.00, Val accuracy: 1.00: 100%|██████████| 30/30 [00:55<00:00,  1.86s/it]"
     ]
    },
    {
     "name": "stdout",
     "output_type": "stream",
     "text": [
      "Adjusting learning rate of group 0 to 1.5708e-05.\n"
     ]
    },
    {
     "name": "stderr",
     "output_type": "stream",
     "text": [
      "\n"
     ]
    },
    {
     "data": {
      "text/html": [
       "Waiting for W&B process to finish... <strong style=\"color:green\">(success).</strong>"
      ],
      "text/plain": [
       "<IPython.core.display.HTML object>"
      ]
     },
     "metadata": {},
     "output_type": "display_data"
    },
    {
     "data": {
      "text/html": [
       "<style>\n",
       "    table.wandb td:nth-child(1) { padding: 0 10px; text-align: left ; width: auto;} td:nth-child(2) {text-align: left ; width: 100%}\n",
       "    .wandb-row { display: flex; flex-direction: row; flex-wrap: wrap; justify-content: flex-start; width: 100% }\n",
       "    .wandb-col { display: flex; flex-direction: column; flex-basis: 100%; flex: 1; padding: 10px; }\n",
       "    </style>\n",
       "<div class=\"wandb-row\"><div class=\"wandb-col\"><h3>Run history:</h3><br/><table class=\"wandb\"><tr><td>Epoch</td><td>▁▁▁▂▂▂▂▂▂▃▃▃▃▃▃▄▄▄▄▄▅▅▅▅▅▅▆▆▆▆▆▆▇▇▇▇▇███</td></tr><tr><td>loss</td><td>██▇▇▇▇▇▆▆▅▅▄▄▃▃▂▅▁▁▁▁▁▁▁▁▁▁▁▁▁▁▁▁▁▁▁▁▁▁▁</td></tr><tr><td>train_acc</td><td>▁▁▁▁▂▂▂▃▅▆▆▆▆▇▇█▆███████████████████████</td></tr><tr><td>val_acc</td><td>▂▂▁▂▁▂▂▆▅▇▇▂▇███████████████████████████</td></tr></table><br/></div><div class=\"wandb-col\"><h3>Run summary:</h3><br/><table class=\"wandb\"><tr><td>Epoch</td><td>80</td></tr><tr><td>loss</td><td>0.01185</td></tr><tr><td>train_acc</td><td>0.998</td></tr><tr><td>val_acc</td><td>0.999</td></tr></table><br/></div></div>"
      ],
      "text/plain": [
       "<IPython.core.display.HTML object>"
      ]
     },
     "metadata": {},
     "output_type": "display_data"
    },
    {
     "data": {
      "text/html": [
       " View run <strong style=\"color:#cdcd00\">devoted-leaf-57</strong> at: <a href='https://wandb.ai/darya-dare/Noise-Estimation/runs/d342gv3i' target=\"_blank\">https://wandb.ai/darya-dare/Noise-Estimation/runs/d342gv3i</a><br/>Synced 6 W&B file(s), 0 media file(s), 0 artifact file(s) and 0 other file(s)"
      ],
      "text/plain": [
       "<IPython.core.display.HTML object>"
      ]
     },
     "metadata": {},
     "output_type": "display_data"
    },
    {
     "data": {
      "text/html": [
       "Find logs at: <code>./wandb/run-20230804_150925-d342gv3i/logs</code>"
      ],
      "text/plain": [
       "<IPython.core.display.HTML object>"
      ]
     },
     "metadata": {},
     "output_type": "display_data"
    }
   ],
   "source": [
    "loss_history, train_history, val_history = train(model_vgg, train_loader,\n",
    "                                                 val_loader, loss,\n",
    "                                                 optimizer, warmup_scheduler,\n",
    "                                                 num_epochs=80)"
   ]
  },
  {
   "cell_type": "code",
   "execution_count": 13,
   "metadata": {
    "tags": []
   },
   "outputs": [],
   "source": [
    "torch.save(model_vgg.state_dict(), 'weights_vgg1.pth')"
   ]
  },
  {
   "cell_type": "code",
   "execution_count": 14,
   "metadata": {
    "tags": []
   },
   "outputs": [],
   "source": [
    "torch.save(optimizer.state_dict(), 'optimizer_vgg1.pth')"
   ]
  },
  {
   "cell_type": "markdown",
   "metadata": {
    "tags": []
   },
   "source": [
    "### Testing VGG"
   ]
  },
  {
   "cell_type": "code",
   "execution_count": 15,
   "metadata": {
    "tags": []
   },
   "outputs": [
    {
     "name": "stdout",
     "output_type": "stream",
     "text": [
      "VGG model test accuracy: 1.00\n"
     ]
    }
   ],
   "source": [
    "vgg_test_accuracy = compute_acc_loss(model_vgg, test_loader)\n",
    "print(f'VGG model test accuracy: {vgg_test_accuracy:.2f}')"
   ]
  },
  {
   "cell_type": "code",
   "execution_count": 9,
   "metadata": {
    "tags": []
   },
   "outputs": [],
   "source": [
    "from vggNet import VGGModel\n",
    "\n",
    "vgg_model = VGGModel(1, 'vgg11')\n",
    "vgg_model.load_state_dict(torch.load('./weights_vgg1.pth'))\n",
    "vgg_model.type(torch.FloatTensor)\n",
    "\n",
    "loss = nn.BCELoss().type(torch.FloatTensor)\n",
    "\n",
    "optimizer = optim.SGD(vgg_model.parameters(), lr=1e-3)\n",
    "optimizer.load_state_dict(torch.load('./optimizer_vgg1.pth'))"
   ]
  },
  {
   "cell_type": "code",
   "execution_count": 10,
   "metadata": {
    "tags": []
   },
   "outputs": [
    {
     "name": "stdout",
     "output_type": "stream",
     "text": [
      "VGG model test accuracy: 0.99\n",
      "VGG model test loss: 0.011\n"
     ]
    }
   ],
   "source": [
    "vgg_loaded_test_accuracy, vgg_loaded_test_loss = compute_acc_loss(vgg_model, test_loader, loss)\n",
    "print(f'VGG model test accuracy: {vgg_loaded_test_accuracy:.2f}')\n",
    "print(f'VGG model test loss: {vgg_loaded_test_loss:.3f}')"
   ]
  },
  {
   "cell_type": "markdown",
   "metadata": {},
   "source": [
    "### Custom Test (in English) vor VGG Model"
   ]
  },
  {
   "cell_type": "code",
   "execution_count": 15,
   "metadata": {
    "tags": []
   },
   "outputs": [],
   "source": [
    "class TestDataset(Dataset):\n",
    "\n",
    "    def __init__(self, path_speech, path_noise, eps_value=1e-6,\\\n",
    "                 mel_nframes=300, sample_rate=16000, n_fft=480,\\\n",
    "                 hop_length=160, n_mels=40):\n",
    "\n",
    "        self.speech = pd.read_csv(path_speech)\n",
    "        self.noise = pd.read_csv(path_noise)\n",
    "        self.eps_value = eps_value\n",
    "        self.mel_nframes = mel_nframes\n",
    "        self.sample_rate = sample_rate\n",
    "        self.n_fft = n_fft\n",
    "        self.hop_length = hop_length\n",
    "        self.n_mels = n_mels\n",
    "        self.mel_spectrogram = T.MelSpectrogram(sample_rate=self.sample_rate,\n",
    "                                                n_fft=self.n_fft,\n",
    "                                                hop_length=self.hop_length,\n",
    "                                                center=True,\n",
    "                                                pad_mode=\"reflect\",\n",
    "                                                power=2.0,\n",
    "                                                norm='slaney',\n",
    "                                                n_mels=self.n_mels)\n",
    "\n",
    "    def __len__(self):\n",
    "\n",
    "        return len(self.speech)\n",
    "\n",
    "    def get_same_shape(self, waveform):\n",
    "\n",
    "        melsp = torch.log(self.mel_spectrogram(waveform) + self.eps_value)\n",
    "        has_mel_nframes = melsp.size(2) if melsp.size(2) < self.mel_nframes\\\n",
    "         else self.mel_nframes\n",
    "\n",
    "        image_tens = torch.full((1, self.n_mels, self.mel_nframes), melsp.min())\n",
    "        image_tens[0, :, :has_mel_nframes] = melsp[:, :, :has_mel_nframes]\n",
    "\n",
    "        return image_tens\n",
    "\n",
    "    def load_item(self, df, idx, w_type):\n",
    "\n",
    "        sample_wav_file = df['filename'][idx]\n",
    "        wave, _ = torchaudio.load(sample_wav_file)\n",
    "        wave = wave.float()\n",
    "\n",
    "        if w_type==1:\n",
    "            wave_noise = wave.numpy()\n",
    "            wave_noise_no_silence = [float(el) for el in wave_noise[0] if abs(el) >= 0.001]\n",
    "            wave = torch.tensor([wave_noise_no_silence])\n",
    "\n",
    "        wave_melsp = self.get_same_shape(wave)\n",
    "\n",
    "        return wave_melsp\n",
    "\n",
    "    def __getitem__(self, idx):\n",
    "\n",
    "        wave_speech = self.load_item(self.speech, idx, w_type=0)\n",
    "\n",
    "        luck = random.random()\n",
    "        if luck > 0.5:\n",
    "            wave_noise = self.load_item(self.noise, idx, w_type=1)\n",
    "\n",
    "            wave_out = wave_speech + wave_noise\n",
    "            label = 1\n",
    "\n",
    "        else:\n",
    "            wave_out = wave_speech\n",
    "            label = 0\n",
    "\n",
    "        return wave_out, torch.tensor(label)"
   ]
  },
  {
   "cell_type": "code",
   "execution_count": 16,
   "metadata": {
    "tags": []
   },
   "outputs": [],
   "source": [
    "test_dataset = TestDataset('./CleanSpeechCustomTest.csv',\n",
    "                            './NoiseTest.csv')"
   ]
  },
  {
   "cell_type": "code",
   "execution_count": 17,
   "metadata": {
    "tags": []
   },
   "outputs": [],
   "source": [
    "test_loader = DataLoader(dataset=test_dataset, batch_size=4, \n",
    "                         drop_last=True)"
   ]
  },
  {
   "cell_type": "code",
   "execution_count": 53,
   "metadata": {
    "tags": []
   },
   "outputs": [
    {
     "name": "stdout",
     "output_type": "stream",
     "text": [
      "VGG model test accuracy: 0.82\n",
      "VGG model test loss: 0.359\n"
     ]
    }
   ],
   "source": [
    "vgg_loaded_test_accuracy, vgg_loaded_test_loss = compute_acc_loss(vgg_model, test_loader, loss)\n",
    "print(f'VGG model test accuracy: {vgg_loaded_test_accuracy:.2f}')\n",
    "print(f'VGG model test loss: {vgg_loaded_test_loss:.3f}')"
   ]
  },
  {
   "cell_type": "markdown",
   "metadata": {
    "tags": []
   },
   "source": [
    "### Custom Test (in Russian) vor VGG Model"
   ]
  },
  {
   "cell_type": "code",
   "execution_count": 19,
   "metadata": {
    "tags": []
   },
   "outputs": [],
   "source": [
    "class RTestDataset(Dataset):\n",
    "\n",
    "    def __init__(self, path_speech, path_noise, eps_value=1e-6,\\\n",
    "                 mel_nframes=300, sample_rate=16000, n_fft=480,\\\n",
    "                 hop_length=160, n_mels=40):\n",
    "\n",
    "        self.speech = pd.read_csv(path_speech)\n",
    "        self.noise = pd.read_csv(path_noise)\n",
    "        self.eps_value = eps_value\n",
    "        self.mel_nframes = mel_nframes\n",
    "        self.sample_rate = sample_rate\n",
    "        self.n_fft = n_fft\n",
    "        self.hop_length = hop_length\n",
    "        self.n_mels = n_mels\n",
    "        self.mel_spectrogram = T.MelSpectrogram(sample_rate=self.sample_rate,\n",
    "                                                n_fft=self.n_fft,\n",
    "                                                hop_length=self.hop_length,\n",
    "                                                center=True,\n",
    "                                                pad_mode=\"reflect\",\n",
    "                                                power=2.0,\n",
    "                                                norm='slaney',\n",
    "                                                n_mels=self.n_mels)\n",
    "\n",
    "    def __len__(self):\n",
    "\n",
    "        return len(self.speech)\n",
    "\n",
    "    def get_same_shape(self, waveform):\n",
    "\n",
    "        melsp = torch.log(self.mel_spectrogram(waveform) + self.eps_value)\n",
    "        has_mel_nframes = melsp.size(2) if melsp.size(2) < self.mel_nframes\\\n",
    "         else self.mel_nframes\n",
    "\n",
    "        image_tens = torch.full((1, self.n_mels, self.mel_nframes), melsp.min())\n",
    "        image_tens[0, :, :has_mel_nframes] = melsp[:, :, :has_mel_nframes]\n",
    "\n",
    "        return image_tens\n",
    "\n",
    "    def load_item(self, df, idx, w_type):\n",
    "\n",
    "        sample_wav_file = df['filename'][idx]\n",
    "        wave, _ = torchaudio.load(sample_wav_file)\n",
    "        wave = wave.float()\n",
    "\n",
    "        if w_type==1:\n",
    "            wave_noise = wave.numpy()\n",
    "            wave_noise_no_silence = [float(el) for el in wave_noise[0] if abs(el) >= 0.001]\n",
    "            wave = torch.tensor([wave_noise_no_silence])\n",
    "\n",
    "        wave_melsp = self.get_same_shape(wave)\n",
    "\n",
    "        return wave_melsp\n",
    "\n",
    "    def __getitem__(self, idx):\n",
    "\n",
    "        wave_speech = self.load_item(self.speech, idx, w_type=0)\n",
    "\n",
    "        luck = random.random()\n",
    "        if luck > 0.5:\n",
    "            wave_noise = self.load_item(self.noise, idx, w_type=1)\n",
    "\n",
    "            wave_out = wave_speech + wave_noise\n",
    "            label = 1\n",
    "\n",
    "        else:\n",
    "            wave_out = wave_speech\n",
    "            label = 0\n",
    "\n",
    "        return wave_out, torch.tensor(label)"
   ]
  },
  {
   "cell_type": "code",
   "execution_count": 20,
   "metadata": {
    "tags": []
   },
   "outputs": [],
   "source": [
    "rtest_dataset = RTestDataset('./CleanSpeechCustomTestRus.csv',\n",
    "                             './NoiseTest.csv')"
   ]
  },
  {
   "cell_type": "code",
   "execution_count": 21,
   "metadata": {
    "tags": []
   },
   "outputs": [],
   "source": [
    "rtest_loader = DataLoader(dataset=rtest_dataset, batch_size=2, \n",
    "                          drop_last=True)"
   ]
  },
  {
   "cell_type": "code",
   "execution_count": 58,
   "metadata": {
    "tags": []
   },
   "outputs": [
    {
     "name": "stdout",
     "output_type": "stream",
     "text": [
      "VGG model test accuracy: 0.90\n",
      "VGG model test loss: 0.443\n"
     ]
    }
   ],
   "source": [
    "vgg_loaded_test_accuracy, vgg_loaded_test_loss = compute_acc_loss(vgg_model, rtest_loader, loss)\n",
    "print(f'VGG model test accuracy: {vgg_loaded_test_accuracy:.2f}')\n",
    "print(f'VGG model test loss: {vgg_loaded_test_loss:.3f}')"
   ]
  },
  {
   "cell_type": "markdown",
   "metadata": {},
   "source": [
    "### Testing VGG model on phone recordings (in Russian)"
   ]
  },
  {
   "cell_type": "code",
   "execution_count": 15,
   "metadata": {
    "tags": []
   },
   "outputs": [],
   "source": [
    "phone_dataset = PhoneDataset('./CleanSpeechCustomTest.csv',\n",
    "                            './NoiseTest.csv')"
   ]
  },
  {
   "cell_type": "code",
   "execution_count": 16,
   "metadata": {
    "tags": []
   },
   "outputs": [],
   "source": [
    "phone_loader = DataLoader(dataset=phone_dataset, batch_size=4, \n",
    "                          drop_last=True)"
   ]
  },
  {
   "cell_type": "code",
   "execution_count": 17,
   "metadata": {
    "tags": []
   },
   "outputs": [],
   "source": [
    "from vggNet import VGGModel\n",
    "\n",
    "vgg_model = VGGModel(1, 'vgg11')\n",
    "vgg_model.load_state_dict(torch.load('./weights_vgg1.pth'))\n",
    "vgg_model.type(torch.FloatTensor)\n",
    "\n",
    "loss = nn.BCELoss().type(torch.FloatTensor)\n",
    "\n",
    "optimizer = optim.SGD(vgg_model.parameters(), lr=1e-3)\n",
    "optimizer.load_state_dict(torch.load('./optimizer_vgg1.pth'))"
   ]
  },
  {
   "cell_type": "code",
   "execution_count": 18,
   "metadata": {
    "tags": []
   },
   "outputs": [
    {
     "name": "stdout",
     "output_type": "stream",
     "text": [
      "VGG model test accuracy: 0.89\n",
      "VGG model test loss: 0.150\n"
     ]
    }
   ],
   "source": [
    "vgg_phone_test_accuracy, vgg_phone_test_loss = compute_acc_loss(vgg_model, phone_loader, loss)\n",
    "print(f'VGG model test accuracy: {vgg_phone_test_accuracy:.2f}')\n",
    "print(f'VGG model test loss: {vgg_phone_test_loss:.3f}')"
   ]
  },
  {
   "cell_type": "code",
   "execution_count": null,
   "metadata": {},
   "outputs": [],
   "source": []
  },
  {
   "cell_type": "markdown",
   "metadata": {},
   "source": [
    "### ResNet50"
   ]
  },
  {
   "cell_type": "code",
   "execution_count": 10,
   "metadata": {
    "tags": []
   },
   "outputs": [
    {
     "name": "stderr",
     "output_type": "stream",
     "text": [
      "/opt/conda/lib/python3.10/site-packages/torchvision/models/_utils.py:135: UserWarning: Using 'weights' as positional parameter(s) is deprecated since 0.13 and may be removed in the future. Please use keyword parameter(s) instead.\n",
      "  warnings.warn(\n",
      "/opt/conda/lib/python3.10/site-packages/torchvision/models/_utils.py:223: UserWarning: Arguments other than a weight enum or `None` for 'weights' are deprecated since 0.13 and may be removed in the future. The current behavior is equivalent to passing `weights=ResNet50_Weights.IMAGENET1K_V1`. You can also use `weights=ResNet50_Weights.DEFAULT` to get the most up-to-date weights.\n",
      "  warnings.warn(msg)\n"
     ]
    },
    {
     "name": "stdout",
     "output_type": "stream",
     "text": [
      "Adjusting learning rate of group 0 to 1.0000e-03.\n"
     ]
    }
   ],
   "source": [
    "from ResNet import ResNet50\n",
    "\n",
    "model_rn = ResNet50(num_classes=1, device=device)\n",
    "model_rn.type(torch.cuda.FloatTensor)\n",
    "model_rn.to(device)\n",
    "\n",
    "loss = nn.BCELoss().type(torch.cuda.FloatTensor)\n",
    "optimizer = optim.SGD(model_rn.parameters(), lr=1e-3)\n",
    "\n",
    "cosine_scheduler = optim.lr_scheduler.CosineAnnealingLR(optimizer, T_max=20, verbose=True)\n",
    "warmup_scheduler = GradualWarmupScheduler(optimizer, multiplier=1, total_epoch=20,\n",
    "                                          after_scheduler=cosine_scheduler)"
   ]
  },
  {
   "cell_type": "code",
   "execution_count": 11,
   "metadata": {
    "tags": []
   },
   "outputs": [
    {
     "data": {
      "text/html": [
       "Tracking run with wandb version 0.15.8"
      ],
      "text/plain": [
       "<IPython.core.display.HTML object>"
      ]
     },
     "metadata": {},
     "output_type": "display_data"
    },
    {
     "data": {
      "text/html": [
       "Run data is saved locally in <code>/home/jovyan/project/wandb/run-20230818_134756-eb868ytv</code>"
      ],
      "text/plain": [
       "<IPython.core.display.HTML object>"
      ]
     },
     "metadata": {},
     "output_type": "display_data"
    },
    {
     "data": {
      "text/html": [
       "Syncing run <strong><a href='https://wandb.ai/darya-dare/Noise-Estimation/runs/eb868ytv' target=\"_blank\">solar-pond-107</a></strong> to <a href='https://wandb.ai/darya-dare/Noise-Estimation' target=\"_blank\">Weights & Biases</a> (<a href='https://wandb.me/run' target=\"_blank\">docs</a>)<br/>"
      ],
      "text/plain": [
       "<IPython.core.display.HTML object>"
      ]
     },
     "metadata": {},
     "output_type": "display_data"
    },
    {
     "data": {
      "text/html": [
       " View project at <a href='https://wandb.ai/darya-dare/Noise-Estimation' target=\"_blank\">https://wandb.ai/darya-dare/Noise-Estimation</a>"
      ],
      "text/plain": [
       "<IPython.core.display.HTML object>"
      ]
     },
     "metadata": {},
     "output_type": "display_data"
    },
    {
     "data": {
      "text/html": [
       " View run at <a href='https://wandb.ai/darya-dare/Noise-Estimation/runs/eb868ytv' target=\"_blank\">https://wandb.ai/darya-dare/Noise-Estimation/runs/eb868ytv</a>"
      ],
      "text/plain": [
       "<IPython.core.display.HTML object>"
      ]
     },
     "metadata": {},
     "output_type": "display_data"
    },
    {
     "name": "stderr",
     "output_type": "stream",
     "text": [
      "Epoch 1:   0%|          | 0/48 [00:08<?, ?it/s]\n"
     ]
    },
    {
     "ename": "AttributeError",
     "evalue": "'ResNet50' object has no attribute 'num_labels'",
     "output_type": "error",
     "traceback": [
      "\u001b[0;31m---------------------------------------------------------------------------\u001b[0m",
      "\u001b[0;31mAttributeError\u001b[0m                            Traceback (most recent call last)",
      "Cell \u001b[0;32mIn[11], line 1\u001b[0m\n\u001b[0;32m----> 1\u001b[0m loss_history, train_history, val_history \u001b[38;5;241m=\u001b[39m \u001b[43mtrain\u001b[49m\u001b[43m(\u001b[49m\u001b[43mmodel_rn\u001b[49m\u001b[43m,\u001b[49m\u001b[43m \u001b[49m\u001b[43mtrain_loader\u001b[49m\u001b[43m,\u001b[49m\n\u001b[1;32m      2\u001b[0m \u001b[43m                                                 \u001b[49m\u001b[43mval_loader\u001b[49m\u001b[43m,\u001b[49m\u001b[43m \u001b[49m\u001b[43mloss\u001b[49m\u001b[43m,\u001b[49m\n\u001b[1;32m      3\u001b[0m \u001b[43m                                                 \u001b[49m\u001b[43moptimizer\u001b[49m\u001b[43m,\u001b[49m\u001b[43m \u001b[49m\u001b[43mwarmup_scheduler\u001b[49m\u001b[43m,\u001b[49m\n\u001b[1;32m      4\u001b[0m \u001b[43m                                                 \u001b[49m\u001b[43mnum_epochs\u001b[49m\u001b[38;5;241;43m=\u001b[39;49m\u001b[38;5;241;43m50\u001b[39;49m\u001b[43m)\u001b[49m\n",
      "Cell \u001b[0;32mIn[9], line 40\u001b[0m, in \u001b[0;36mtrain\u001b[0;34m(model, train_loader, val_loader, loss, optimizer, warmup_scheduler, num_epochs)\u001b[0m\n\u001b[1;32m     37\u001b[0m y_gpu \u001b[38;5;241m=\u001b[39m y\u001b[38;5;241m.\u001b[39mto(device)\n\u001b[1;32m     39\u001b[0m optimizer\u001b[38;5;241m.\u001b[39mzero_grad()\n\u001b[0;32m---> 40\u001b[0m prediction \u001b[38;5;241m=\u001b[39m \u001b[43mmodel\u001b[49m\u001b[43m(\u001b[49m\u001b[43mx_gpu\u001b[49m\u001b[43m)\u001b[49m\u001b[38;5;241m.\u001b[39msqueeze(\u001b[38;5;241m1\u001b[39m)\n\u001b[1;32m     42\u001b[0m loss_value \u001b[38;5;241m=\u001b[39m loss(prediction, y_gpu\u001b[38;5;241m.\u001b[39mfloat())\n\u001b[1;32m     43\u001b[0m loss_value\u001b[38;5;241m.\u001b[39mbackward()\n",
      "File \u001b[0;32m/opt/conda/lib/python3.10/site-packages/torch/nn/modules/module.py:1194\u001b[0m, in \u001b[0;36mModule._call_impl\u001b[0;34m(self, *input, **kwargs)\u001b[0m\n\u001b[1;32m   1190\u001b[0m \u001b[38;5;66;03m# If we don't have any hooks, we want to skip the rest of the logic in\u001b[39;00m\n\u001b[1;32m   1191\u001b[0m \u001b[38;5;66;03m# this function, and just call forward.\u001b[39;00m\n\u001b[1;32m   1192\u001b[0m \u001b[38;5;28;01mif\u001b[39;00m \u001b[38;5;129;01mnot\u001b[39;00m (\u001b[38;5;28mself\u001b[39m\u001b[38;5;241m.\u001b[39m_backward_hooks \u001b[38;5;129;01mor\u001b[39;00m \u001b[38;5;28mself\u001b[39m\u001b[38;5;241m.\u001b[39m_forward_hooks \u001b[38;5;129;01mor\u001b[39;00m \u001b[38;5;28mself\u001b[39m\u001b[38;5;241m.\u001b[39m_forward_pre_hooks \u001b[38;5;129;01mor\u001b[39;00m _global_backward_hooks\n\u001b[1;32m   1193\u001b[0m         \u001b[38;5;129;01mor\u001b[39;00m _global_forward_hooks \u001b[38;5;129;01mor\u001b[39;00m _global_forward_pre_hooks):\n\u001b[0;32m-> 1194\u001b[0m     \u001b[38;5;28;01mreturn\u001b[39;00m \u001b[43mforward_call\u001b[49m\u001b[43m(\u001b[49m\u001b[38;5;241;43m*\u001b[39;49m\u001b[38;5;28;43minput\u001b[39;49m\u001b[43m,\u001b[49m\u001b[43m \u001b[49m\u001b[38;5;241;43m*\u001b[39;49m\u001b[38;5;241;43m*\u001b[39;49m\u001b[43mkwargs\u001b[49m\u001b[43m)\u001b[49m\n\u001b[1;32m   1195\u001b[0m \u001b[38;5;66;03m# Do not call functions when jit is used\u001b[39;00m\n\u001b[1;32m   1196\u001b[0m full_backward_hooks, non_full_backward_hooks \u001b[38;5;241m=\u001b[39m [], []\n",
      "File \u001b[0;32m~/project/ResNet.py:23\u001b[0m, in \u001b[0;36mResNet50.forward\u001b[0;34m(self, x)\u001b[0m\n\u001b[1;32m     19\u001b[0m     inp \u001b[38;5;241m=\u001b[39m x\n\u001b[1;32m     21\u001b[0m res \u001b[38;5;241m=\u001b[39m \u001b[38;5;28mself\u001b[39m\u001b[38;5;241m.\u001b[39mmodel(inp)\n\u001b[0;32m---> 23\u001b[0m \u001b[38;5;28;01mif\u001b[39;00m \u001b[38;5;28;43mself\u001b[39;49m\u001b[38;5;241;43m.\u001b[39;49m\u001b[43mnum_labels\u001b[49m \u001b[38;5;241m==\u001b[39m \u001b[38;5;241m1\u001b[39m:\n\u001b[1;32m     24\u001b[0m     out \u001b[38;5;241m=\u001b[39m torch\u001b[38;5;241m.\u001b[39msigmoid(res)\n\u001b[1;32m     25\u001b[0m \u001b[38;5;28;01melse\u001b[39;00m:\n",
      "File \u001b[0;32m/opt/conda/lib/python3.10/site-packages/torch/nn/modules/module.py:1269\u001b[0m, in \u001b[0;36mModule.__getattr__\u001b[0;34m(self, name)\u001b[0m\n\u001b[1;32m   1267\u001b[0m     \u001b[38;5;28;01mif\u001b[39;00m name \u001b[38;5;129;01min\u001b[39;00m modules:\n\u001b[1;32m   1268\u001b[0m         \u001b[38;5;28;01mreturn\u001b[39;00m modules[name]\n\u001b[0;32m-> 1269\u001b[0m \u001b[38;5;28;01mraise\u001b[39;00m \u001b[38;5;167;01mAttributeError\u001b[39;00m(\u001b[38;5;124m\"\u001b[39m\u001b[38;5;124m'\u001b[39m\u001b[38;5;132;01m{}\u001b[39;00m\u001b[38;5;124m'\u001b[39m\u001b[38;5;124m object has no attribute \u001b[39m\u001b[38;5;124m'\u001b[39m\u001b[38;5;132;01m{}\u001b[39;00m\u001b[38;5;124m'\u001b[39m\u001b[38;5;124m\"\u001b[39m\u001b[38;5;241m.\u001b[39mformat(\n\u001b[1;32m   1270\u001b[0m     \u001b[38;5;28mtype\u001b[39m(\u001b[38;5;28mself\u001b[39m)\u001b[38;5;241m.\u001b[39m\u001b[38;5;18m__name__\u001b[39m, name))\n",
      "\u001b[0;31mAttributeError\u001b[0m: 'ResNet50' object has no attribute 'num_labels'"
     ]
    }
   ],
   "source": [
    "loss_history, train_history, val_history = train(model_rn, train_loader,\n",
    "                                                 val_loader, loss,\n",
    "                                                 optimizer, warmup_scheduler,\n",
    "                                                 num_epochs=50)"
   ]
  },
  {
   "cell_type": "code",
   "execution_count": null,
   "metadata": {},
   "outputs": [],
   "source": []
  },
  {
   "cell_type": "code",
   "execution_count": null,
   "metadata": {},
   "outputs": [],
   "source": []
  },
  {
   "cell_type": "code",
   "execution_count": null,
   "metadata": {},
   "outputs": [],
   "source": []
  },
  {
   "cell_type": "code",
   "execution_count": null,
   "metadata": {},
   "outputs": [],
   "source": []
  }
 ],
 "metadata": {
  "kernelspec": {
   "display_name": "Python 3 (ipykernel)",
   "language": "python",
   "name": "python3"
  },
  "language_info": {
   "codemirror_mode": {
    "name": "ipython",
    "version": 3
   },
   "file_extension": ".py",
   "mimetype": "text/x-python",
   "name": "python",
   "nbconvert_exporter": "python",
   "pygments_lexer": "ipython3",
   "version": "3.10.10"
  }
 },
 "nbformat": 4,
 "nbformat_minor": 4
}
