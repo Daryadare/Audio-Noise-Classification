{
 "cells": [
  {
   "cell_type": "code",
   "execution_count": 1,
   "metadata": {
    "collapsed": false,
    "jupyter": {
     "outputs_hidden": false
    },
    "tags": []
   },
   "outputs": [
    {
     "name": "stdout",
     "output_type": "stream",
     "text": [
      "Requirement already satisfied: wandb in /opt/conda/lib/python3.10/site-packages (0.15.5)\n",
      "Requirement already satisfied: GitPython!=3.1.29,>=1.0.0 in /opt/conda/lib/python3.10/site-packages (from wandb) (3.1.31)\n",
      "Requirement already satisfied: setproctitle in /opt/conda/lib/python3.10/site-packages (from wandb) (1.3.2)\n",
      "Requirement already satisfied: protobuf!=4.21.0,<5,>=3.19.0 in /opt/conda/lib/python3.10/site-packages (from wandb) (3.19.6)\n",
      "Requirement already satisfied: PyYAML in /opt/conda/lib/python3.10/site-packages (from wandb) (6.0)\n",
      "Requirement already satisfied: psutil>=5.0.0 in /opt/conda/lib/python3.10/site-packages (from wandb) (5.9.4)\n",
      "Requirement already satisfied: pathtools in /opt/conda/lib/python3.10/site-packages (from wandb) (0.1.2)\n",
      "Requirement already satisfied: appdirs>=1.4.3 in /opt/conda/lib/python3.10/site-packages (from wandb) (1.4.4)\n",
      "Requirement already satisfied: sentry-sdk>=1.0.0 in /opt/conda/lib/python3.10/site-packages (from wandb) (1.28.1)\n",
      "Requirement already satisfied: setuptools in /opt/conda/lib/python3.10/site-packages (from wandb) (67.6.1)\n",
      "Requirement already satisfied: docker-pycreds>=0.4.0 in /opt/conda/lib/python3.10/site-packages (from wandb) (0.4.0)\n",
      "Requirement already satisfied: Click!=8.0.0,>=7.1 in /opt/conda/lib/python3.10/site-packages (from wandb) (8.1.3)\n",
      "Requirement already satisfied: requests<3,>=2.0.0 in /opt/conda/lib/python3.10/site-packages (from wandb) (2.28.2)\n",
      "Requirement already satisfied: six>=1.4.0 in /opt/conda/lib/python3.10/site-packages (from docker-pycreds>=0.4.0->wandb) (1.16.0)\n",
      "Requirement already satisfied: gitdb<5,>=4.0.1 in /opt/conda/lib/python3.10/site-packages (from GitPython!=3.1.29,>=1.0.0->wandb) (4.0.10)\n",
      "Requirement already satisfied: idna<4,>=2.5 in /opt/conda/lib/python3.10/site-packages (from requests<3,>=2.0.0->wandb) (3.4)\n",
      "Requirement already satisfied: urllib3<1.27,>=1.21.1 in /opt/conda/lib/python3.10/site-packages (from requests<3,>=2.0.0->wandb) (1.26.15)\n",
      "Requirement already satisfied: certifi>=2017.4.17 in /opt/conda/lib/python3.10/site-packages (from requests<3,>=2.0.0->wandb) (2022.12.7)\n",
      "Requirement already satisfied: charset-normalizer<4,>=2 in /opt/conda/lib/python3.10/site-packages (from requests<3,>=2.0.0->wandb) (3.1.0)\n",
      "Requirement already satisfied: smmap<6,>=3.0.1 in /opt/conda/lib/python3.10/site-packages (from gitdb<5,>=4.0.1->GitPython!=3.1.29,>=1.0.0->wandb) (5.0.0)\n"
     ]
    }
   ],
   "source": [
    "!pip install wandb"
   ]
  },
  {
   "cell_type": "code",
   "execution_count": 2,
   "metadata": {
    "ExecuteTime": {
     "end_time": "2023-07-21T12:18:30.759697600Z",
     "start_time": "2023-07-21T12:18:26.611326600Z"
    },
    "collapsed": false,
    "jupyter": {
     "outputs_hidden": false
    },
    "tags": []
   },
   "outputs": [],
   "source": [
    "import pandas as pd\n",
    "import numpy as np\n",
    "import random\n",
    "\n",
    "import wandb\n",
    "from tqdm import tqdm\n",
    "\n",
    "import torch\n",
    "import torch.nn as nn\n",
    "import torch.nn.functional as F\n",
    "from torch.utils.data import Dataset, DataLoader\n",
    "import torch.optim as optim\n",
    "from torch.optim.lr_scheduler import StepLR, CosineAnnealingLR\n",
    "\n",
    "import torchaudio\n",
    "import torchaudio.transforms as T\n",
    "from torchaudio.transforms import AmplitudeToDB, Vol\n",
    "\n",
    "device = torch.device(\"cuda:0\")"
   ]
  },
  {
   "cell_type": "code",
   "execution_count": 3,
   "metadata": {
    "ExecuteTime": {
     "end_time": "2023-07-21T10:29:57.808377200Z",
     "start_time": "2023-07-21T10:29:53.438631300Z"
    },
    "collapsed": false,
    "jupyter": {
     "outputs_hidden": false
    },
    "tags": []
   },
   "outputs": [
    {
     "name": "stderr",
     "output_type": "stream",
     "text": [
      "\u001b[34m\u001b[1mwandb\u001b[0m: Currently logged in as: \u001b[33mdarya-dare\u001b[0m. Use \u001b[1m`wandb login --relogin`\u001b[0m to force relogin\n"
     ]
    },
    {
     "data": {
      "text/plain": [
       "True"
      ]
     },
     "execution_count": 3,
     "metadata": {},
     "output_type": "execute_result"
    }
   ],
   "source": [
    "wandb.login()"
   ]
  },
  {
   "cell_type": "markdown",
   "metadata": {},
   "source": [
    "### Custom Dataset"
   ]
  },
  {
   "cell_type": "code",
   "execution_count": 4,
   "metadata": {
    "ExecuteTime": {
     "end_time": "2023-07-21T12:18:34.545339Z",
     "start_time": "2023-07-21T12:18:34.525573800Z"
    },
    "collapsed": false,
    "jupyter": {
     "outputs_hidden": false
    },
    "tags": []
   },
   "outputs": [],
   "source": [
    "class AudioDataset(Dataset):\n",
    "\n",
    "    def __init__(self, path_speech, path_noise, eps_value=1e-6,\\\n",
    "                 mel_nframes=300, sample_rate=16000, n_fft=480,\\\n",
    "                 hop_length=160, n_mels=40):\n",
    "\n",
    "        self.speech = pd.read_csv(path_speech)\n",
    "        self.noise = pd.read_csv(path_noise)\n",
    "        self.eps_value = eps_value\n",
    "        self.mel_nframes = mel_nframes\n",
    "        self.sample_rate = sample_rate\n",
    "        self.n_fft = n_fft\n",
    "        self.hop_length = hop_length\n",
    "        self.n_mels = n_mels\n",
    "        self.mel_spectrogram = T.MelSpectrogram(sample_rate=self.sample_rate,\n",
    "                                                n_fft=self.n_fft,\n",
    "                                                hop_length=self.hop_length,\n",
    "                                                center=True,\n",
    "                                                pad_mode=\"reflect\",\n",
    "                                                power=2.0,\n",
    "                                                norm='slaney',\n",
    "                                                n_mels=self.n_mels)\n",
    "\n",
    "    def __len__(self):\n",
    "\n",
    "        return len(self.noise)\n",
    "\n",
    "    def get_same_shape(self, waveform, w_type):\n",
    "\n",
    "        melsp = torch.log(self.mel_spectrogram(waveform) + self.eps_value)\n",
    "        has_mel_nframes = melsp.size(2) if melsp.size(2) < self.mel_nframes\\\n",
    "         else self.mel_nframes\n",
    "\n",
    "        image_tens = torch.full((1, self.n_mels, self.mel_nframes), melsp.min())\n",
    "        image_tens[0, :, :has_mel_nframes] = melsp[:, :, :has_mel_nframes]\n",
    "\n",
    "        return image_tens/255\n",
    "\n",
    "    def load_item(self, df, idx, w_type):\n",
    "\n",
    "        sample_wav_file = df['filename'][idx]\n",
    "        wave, _ = torchaudio.load(sample_wav_file)\n",
    "        wave = wave.float()\n",
    "\n",
    "        if w_type==1:\n",
    "            wave_noise = wave.numpy()\n",
    "            wave_noise_no_silence = [float(el) for el in wave_noise[0] if abs(el) >= 0.001]\n",
    "            wave = torch.tensor([wave_noise_no_silence])\n",
    "\n",
    "        wave_melsp = self.get_same_shape(wave, w_type)\n",
    "\n",
    "        return wave_melsp\n",
    "\n",
    "    def __getitem__(self, idx):\n",
    "\n",
    "        wave_speech = self.load_item(self.speech, idx, w_type=0)\n",
    "\n",
    "        luck = random.random()\n",
    "        if luck > 0.5:\n",
    "            wave_noise = self.load_item(self.noise, idx, w_type=1)\n",
    "\n",
    "            wave_out = wave_speech + wave_noise\n",
    "            label = 1\n",
    "\n",
    "        else:\n",
    "            wave_out = wave_speech\n",
    "            label = 0\n",
    "\n",
    "        return wave_out, torch.tensor(label)"
   ]
  },
  {
   "cell_type": "code",
   "execution_count": 5,
   "metadata": {
    "ExecuteTime": {
     "end_time": "2023-07-21T10:30:00.869003500Z",
     "start_time": "2023-07-21T10:30:00.638750700Z"
    },
    "collapsed": false,
    "jupyter": {
     "outputs_hidden": false
    },
    "tags": []
   },
   "outputs": [],
   "source": [
    "audio_dataset_train = AudioDataset('./CleanSpeechTrain.csv',\n",
    "                                   './NoiseTrain.csv')\n",
    "\n",
    "audio_dataset_val = AudioDataset('./CleanSpeechVal.csv',\n",
    "                                   './NoiseVal.csv')\n",
    "\n",
    "audio_dataset_test = AudioDataset('./CleanSpeechTest.csv',\n",
    "                                   './NoiseTest.csv')"
   ]
  },
  {
   "cell_type": "markdown",
   "metadata": {},
   "source": [
    "### Data Loader"
   ]
  },
  {
   "cell_type": "code",
   "execution_count": 6,
   "metadata": {
    "ExecuteTime": {
     "end_time": "2023-07-21T10:30:02.467908200Z",
     "start_time": "2023-07-21T10:30:02.417128300Z"
    },
    "collapsed": false,
    "jupyter": {
     "outputs_hidden": false
    },
    "tags": []
   },
   "outputs": [],
   "source": [
    "train_loader = DataLoader(dataset=audio_dataset_train,\n",
    "                          batch_size=32, drop_last=True)\n",
    "\n",
    "val_loader = DataLoader(dataset=audio_dataset_val,\n",
    "                        batch_size=32, drop_last=True)\n",
    "\n",
    "test_loader = DataLoader(dataset=audio_dataset_test,\n",
    "                         batch_size=32, drop_last=True)"
   ]
  },
  {
   "cell_type": "markdown",
   "metadata": {},
   "source": [
    "### Train functions"
   ]
  },
  {
   "cell_type": "code",
   "execution_count": 7,
   "metadata": {
    "ExecuteTime": {
     "end_time": "2023-07-21T10:30:05.909594300Z",
     "start_time": "2023-07-21T10:30:05.878809600Z"
    },
    "collapsed": false,
    "jupyter": {
     "outputs_hidden": false
    },
    "tags": []
   },
   "outputs": [],
   "source": [
    "def train(model, train_loader, val_loader, loss,\n",
    "          optimizer, scheduler, num_epochs):\n",
    "\n",
    "    wandb.init(\n",
    "        project='Noise-Estimation',\n",
    "        config={'learning_rate': 1e-1,\n",
    "                'model': 'vgg',\n",
    "                'loss': 'BCEWithLogitsLoss',\n",
    "                'optimizer': 'SGD',\n",
    "                'scheduler': 'CosineAnnealing',\n",
    "                'epochs': 3}\n",
    "    )\n",
    "\n",
    "    loss_history = []\n",
    "    train_history = []\n",
    "    val_history = []\n",
    "\n",
    "    for epoch in range(num_epochs):\n",
    "\n",
    "        model.train()\n",
    "\n",
    "        loss_accum = 0\n",
    "        correct_samples = 0\n",
    "        total_samples = 0\n",
    "\n",
    "        with tqdm(total=len(train_loader),\n",
    "                  desc=f'Epoch {epoch+1}',\n",
    "                  leave=True) as pb:\n",
    "\n",
    "            for i, (x, y) in enumerate(train_loader):\n",
    "\n",
    "                x_gpu = x.to(device)\n",
    "                y_gpu = y.to(device)\n",
    "\n",
    "                prediction = model(x_gpu)\n",
    "                value, indices = torch.max(prediction, 1)\n",
    "\n",
    "                loss_value = loss(value, y_gpu.float())\n",
    "                optimizer.zero_grad()\n",
    "                loss_value.backward()\n",
    "                optimizer.step()\n",
    "\n",
    "                correct_samples += torch.sum(indices==y_gpu)\n",
    "                total_samples += y.size(0)\n",
    "                loss_accum += loss_value\n",
    "\n",
    "                pb.update()\n",
    "                pb.set_description( f'Epoch {epoch+1}:'\n",
    "                                    f' Average loss: {loss_value:.3f},'\n",
    "                                    f' Train accuracy:'\n",
    "                                    f' {correct_samples/total_samples:.2f},'\n",
    "                                    )\n",
    "\n",
    "            ave_loss = loss_accum / epoch+1\n",
    "            train_accuracy = float(correct_samples) / total_samples\n",
    "            val_accuracy = compute_accuracy(model, val_loader)\n",
    "\n",
    "            scheduler.step()\n",
    "\n",
    "            loss_history.append(float(ave_loss))\n",
    "            train_history.append(train_accuracy)\n",
    "            val_history.append(val_accuracy)\n",
    "\n",
    "            wandb.log({'Epoch': epoch+1, 'loss': ave_loss,\n",
    "                       'train_acc': train_accuracy,\n",
    "                       'val_acc': val_accuracy})\n",
    "\n",
    "            pb.set_description( f'Epoch {epoch+1}:'\n",
    "                                f' Average loss: {ave_loss:.3f},'\n",
    "                                f' Train accuracy: {train_accuracy:.2f},'\n",
    "                                f' Val accuracy: {val_accuracy:.2f}'\n",
    "                                )\n",
    "\n",
    "    wandb.finish()\n",
    "    return loss_history, train_history, val_history\n",
    "\n",
    "\n",
    "def compute_accuracy(model, loader):\n",
    "\n",
    "    model.eval()\n",
    "\n",
    "    correct_samples = 0\n",
    "    total_samples = 0\n",
    "\n",
    "    for i, (x, y) in enumerate(loader):\n",
    "\n",
    "        x_gpu = x.to(device)\n",
    "        y_gpu = y.to(device)\n",
    "\n",
    "        prediction = model(x_gpu)\n",
    "        indices = torch.argmax(prediction, 1)\n",
    "        correct_samples += torch.sum(indices==y_gpu)\n",
    "        total_samples += y_gpu.size(0)\n",
    "\n",
    "    return float(correct_samples) / total_samples"
   ]
  },
  {
   "cell_type": "markdown",
   "metadata": {},
   "source": [
    "### MHAttKWS"
   ]
  },
  {
   "cell_type": "code",
   "execution_count": 8,
   "metadata": {
    "tags": []
   },
   "outputs": [],
   "source": [
    "from BCResNet import BCResNet, MHAttKWS"
   ]
  },
  {
   "cell_type": "code",
   "execution_count": 20,
   "metadata": {
    "ExecuteTime": {
     "end_time": "2023-07-21T10:30:08.149914400Z",
     "start_time": "2023-07-21T10:30:08.089023900Z"
    },
    "collapsed": false,
    "jupyter": {
     "outputs_hidden": false
    },
    "tags": []
   },
   "outputs": [
    {
     "data": {
      "text/plain": [
       "MHAttKWS(\n",
       "  (cnn_extractor): Sequential(\n",
       "    (0): Conv2d(1, 10, kernel_size=(5, 1), stride=(1, 1))\n",
       "    (1): BatchNorm2d(10, eps=1e-05, momentum=0.1, affine=True, track_running_stats=True)\n",
       "    (2): ReLU(inplace=True)\n",
       "    (3): Conv2d(10, 1, kernel_size=(5, 1), stride=(1, 1))\n",
       "    (4): BatchNorm2d(1, eps=1e-05, momentum=0.1, affine=True, track_running_stats=True)\n",
       "    (5): ReLU(inplace=True)\n",
       "    (6): AvgPool2d(kernel_size=2, stride=2, padding=0)\n",
       "  )\n",
       "  (rnn): LSTM(1, 128, num_layers=2, batch_first=True, bidirectional=True)\n",
       "  (q_emb): Linear(in_features=256, out_features=1024, bias=True)\n",
       "  (dropout): Dropout(p=0.1, inplace=False)\n",
       "  (fc): Sequential(\n",
       "    (0): Linear(in_features=1024, out_features=64, bias=True)\n",
       "    (1): ReLU(inplace=True)\n",
       "    (2): Linear(in_features=64, out_features=32, bias=True)\n",
       "    (3): Linear(in_features=32, out_features=2, bias=True)\n",
       "  )\n",
       ")"
      ]
     },
     "execution_count": 20,
     "metadata": {},
     "output_type": "execute_result"
    }
   ],
   "source": [
    "model_mhat = MHAttKWS(num_classes=2)\n",
    "model_mhat.type(torch.FloatTensor)\n",
    "model_mhat.to(device)"
   ]
  },
  {
   "cell_type": "code",
   "execution_count": 21,
   "metadata": {
    "ExecuteTime": {
     "end_time": "2023-07-21T10:30:10.548611100Z",
     "start_time": "2023-07-21T10:30:10.498046600Z"
    },
    "collapsed": false,
    "jupyter": {
     "outputs_hidden": false
    },
    "tags": []
   },
   "outputs": [],
   "source": [
    "loss = nn.BCEWithLogitsLoss().type(torch.FloatTensor)\n",
    "\n",
    "optimizer = optim.SGD(model_mhat.parameters(),\n",
    "                       lr=1e-1,\n",
    "                       weight_decay=1e-1)\n",
    "\n",
    "scheduler = optim.lr_scheduler.StepLR(optimizer, step_size=1, gamma=0.3)"
   ]
  },
  {
   "cell_type": "code",
   "execution_count": 22,
   "metadata": {
    "ExecuteTime": {
     "end_time": "2023-07-21T10:39:56.639791700Z",
     "start_time": "2023-07-21T10:30:11.929000800Z"
    },
    "collapsed": false,
    "jupyter": {
     "outputs_hidden": false
    },
    "tags": []
   },
   "outputs": [
    {
     "data": {
      "text/html": [
       "Finishing last run (ID:3gr1tnk7) before initializing another..."
      ],
      "text/plain": [
       "<IPython.core.display.HTML object>"
      ]
     },
     "metadata": {},
     "output_type": "display_data"
    },
    {
     "data": {
      "text/html": [
       "Waiting for W&B process to finish... <strong style=\"color:green\">(success).</strong>"
      ],
      "text/plain": [
       "<IPython.core.display.HTML object>"
      ]
     },
     "metadata": {},
     "output_type": "display_data"
    },
    {
     "data": {
      "application/vnd.jupyter.widget-view+json": {
       "model_id": "f46d5ffab69f475292308c3e7697ae70",
       "version_major": 2,
       "version_minor": 0
      },
      "text/plain": [
       "VBox(children=(Label(value='0.003 MB of 0.003 MB uploaded (0.000 MB deduped)\\r'), FloatProgress(value=1.0, max…"
      ]
     },
     "metadata": {},
     "output_type": "display_data"
    },
    {
     "data": {
      "text/html": [
       "<style>\n",
       "    table.wandb td:nth-child(1) { padding: 0 10px; text-align: left ; width: auto;} td:nth-child(2) {text-align: left ; width: 100%}\n",
       "    .wandb-row { display: flex; flex-direction: row; flex-wrap: wrap; justify-content: flex-start; width: 100% }\n",
       "    .wandb-col { display: flex; flex-direction: column; flex-basis: 100%; flex: 1; padding: 10px; }\n",
       "    </style>\n",
       "<div class=\"wandb-row\"><div class=\"wandb-col\"><h3>Run history:</h3><br/><table class=\"wandb\"><tr><td>Epoch</td><td>▁▂▃▄▅▆▇█</td></tr><tr><td>loss</td><td> █▄▃▂▁▁▁</td></tr><tr><td>train_acc</td><td>▄▄█▆▆█▁▄</td></tr><tr><td>val_acc</td><td>▁▂▅▄█▅▅▂</td></tr></table><br/></div><div class=\"wandb-col\"><h3>Run summary:</h3><br/><table class=\"wandb\"><tr><td>Epoch</td><td>8</td></tr><tr><td>loss</td><td>7.03907</td></tr><tr><td>train_acc</td><td>0.49016</td></tr><tr><td>val_acc</td><td>0.488</td></tr></table><br/></div></div>"
      ],
      "text/plain": [
       "<IPython.core.display.HTML object>"
      ]
     },
     "metadata": {},
     "output_type": "display_data"
    },
    {
     "data": {
      "text/html": [
       " View run <strong style=\"color:#cdcd00\">firm-sea-41</strong> at: <a href='https://wandb.ai/darya-dare/my-project/runs/3gr1tnk7' target=\"_blank\">https://wandb.ai/darya-dare/my-project/runs/3gr1tnk7</a><br/>Synced 6 W&B file(s), 0 media file(s), 0 artifact file(s) and 0 other file(s)"
      ],
      "text/plain": [
       "<IPython.core.display.HTML object>"
      ]
     },
     "metadata": {},
     "output_type": "display_data"
    },
    {
     "data": {
      "text/html": [
       "Find logs at: <code>./wandb/run-20230724_095925-3gr1tnk7/logs</code>"
      ],
      "text/plain": [
       "<IPython.core.display.HTML object>"
      ]
     },
     "metadata": {},
     "output_type": "display_data"
    },
    {
     "data": {
      "text/html": [
       "Successfully finished last run (ID:3gr1tnk7). Initializing new run:<br/>"
      ],
      "text/plain": [
       "<IPython.core.display.HTML object>"
      ]
     },
     "metadata": {},
     "output_type": "display_data"
    },
    {
     "data": {
      "application/vnd.jupyter.widget-view+json": {
       "model_id": "0d0fdaddca0d40ab8d92d2bd89c25f23",
       "version_major": 2,
       "version_minor": 0
      },
      "text/plain": [
       "VBox(children=(Label(value='Waiting for wandb.init()...\\r'), FloatProgress(value=0.016669120016740636, max=1.0…"
      ]
     },
     "metadata": {},
     "output_type": "display_data"
    },
    {
     "data": {
      "text/html": [
       "Tracking run with wandb version 0.15.5"
      ],
      "text/plain": [
       "<IPython.core.display.HTML object>"
      ]
     },
     "metadata": {},
     "output_type": "display_data"
    },
    {
     "data": {
      "text/html": [
       "Run data is saved locally in <code>/home/jovyan/project/wandb/run-20230724_102835-dpao21ao</code>"
      ],
      "text/plain": [
       "<IPython.core.display.HTML object>"
      ]
     },
     "metadata": {},
     "output_type": "display_data"
    },
    {
     "data": {
      "text/html": [
       "Syncing run <strong><a href='https://wandb.ai/darya-dare/my-project/runs/dpao21ao' target=\"_blank\">vital-puddle-47</a></strong> to <a href='https://wandb.ai/darya-dare/my-project' target=\"_blank\">Weights & Biases</a> (<a href='https://wandb.me/run' target=\"_blank\">docs</a>)<br/>"
      ],
      "text/plain": [
       "<IPython.core.display.HTML object>"
      ]
     },
     "metadata": {},
     "output_type": "display_data"
    },
    {
     "data": {
      "text/html": [
       " View project at <a href='https://wandb.ai/darya-dare/my-project' target=\"_blank\">https://wandb.ai/darya-dare/my-project</a>"
      ],
      "text/plain": [
       "<IPython.core.display.HTML object>"
      ]
     },
     "metadata": {},
     "output_type": "display_data"
    },
    {
     "data": {
      "text/html": [
       " View run at <a href='https://wandb.ai/darya-dare/my-project/runs/dpao21ao' target=\"_blank\">https://wandb.ai/darya-dare/my-project/runs/dpao21ao</a>"
      ],
      "text/plain": [
       "<IPython.core.display.HTML object>"
      ]
     },
     "metadata": {},
     "output_type": "display_data"
    },
    {
     "name": "stderr",
     "output_type": "stream",
     "text": [
      "Epoch 1: Average loss: inf, Train accuracy: 0.50, Val accuracy: 0.49: 100%|██████████| 96/96 [03:31<00:00,  2.20s/it]\n",
      "Epoch 2: Average loss: 67.551, Train accuracy: 0.51, Val accuracy: 0.52: 100%|██████████| 96/96 [03:32<00:00,  2.22s/it]\n",
      "Epoch 3: Average loss: 34.277, Train accuracy: 0.49, Val accuracy: 0.51: 100%|██████████| 96/96 [03:26<00:00,  2.16s/it]\n",
      "Epoch 4: Average loss: 23.180, Train accuracy: 0.51, Val accuracy: 0.51: 100%|██████████| 96/96 [03:33<00:00,  2.22s/it]\n",
      "Epoch 5: Average loss: 17.636, Train accuracy: 0.50, Val accuracy: 0.52: 100%|██████████| 96/96 [03:33<00:00,  2.22s/it]\n",
      "Epoch 6: Average loss: 14.309, Train accuracy: 0.49, Val accuracy: 0.49: 100%|██████████| 96/96 [03:27<00:00,  2.16s/it]\n",
      "Epoch 7: Average loss: 12.090, Train accuracy: 0.50, Val accuracy: 0.52: 100%|██████████| 96/96 [03:32<00:00,  2.21s/it]\n",
      "Epoch 8: Average loss: 10.506, Train accuracy: 0.51, Val accuracy: 0.50: 100%|██████████| 96/96 [03:32<00:00,  2.21s/it]\n",
      "Epoch 9: Average loss: 9.318, Train accuracy: 0.50, Val accuracy: 0.47: 100%|██████████| 96/96 [03:27<00:00,  2.16s/it]\n",
      "Epoch 10: Average loss: 8.393, Train accuracy: 0.51, Val accuracy: 0.48: 100%|██████████| 96/96 [03:30<00:00,  2.19s/it]\n",
      "Epoch 11: Average loss: 7.654, Train accuracy: 0.50, Val accuracy: 0.49: 100%|██████████| 96/96 [03:30<00:00,  2.19s/it]\n",
      "Epoch 12: Average loss: 7.049, Train accuracy: 0.50, Val accuracy: 0.53: 100%|██████████| 96/96 [03:34<00:00,  2.23s/it]\n",
      "Epoch 13: Average loss: 6.546, Train accuracy: 0.48, Val accuracy: 0.52: 100%|██████████| 96/96 [03:27<00:00,  2.16s/it]\n",
      "Epoch 14: Average loss: 6.119, Train accuracy: 0.50, Val accuracy: 0.50: 100%|██████████| 96/96 [03:30<00:00,  2.19s/it]\n",
      "Epoch 15: Average loss: 5.753, Train accuracy: 0.49, Val accuracy: 0.50: 100%|██████████| 96/96 [03:29<00:00,  2.19s/it]\n",
      "Epoch 16: Average loss: 5.437, Train accuracy: 0.49, Val accuracy: 0.47: 100%|██████████| 96/96 [03:24<00:00,  2.13s/it]\n",
      "Epoch 17: Average loss: 5.159, Train accuracy: 0.50, Val accuracy: 0.50: 100%|██████████| 96/96 [03:32<00:00,  2.21s/it]\n",
      "Epoch 18: Average loss: 4.914, Train accuracy: 0.51, Val accuracy: 0.48: 100%|██████████| 96/96 [03:36<00:00,  2.25s/it]\n",
      "Epoch 19: Average loss: 4.697, Train accuracy: 0.50, Val accuracy: 0.54: 100%|██████████| 96/96 [03:37<00:00,  2.27s/it]\n",
      "Epoch 20: Average loss: 4.502, Train accuracy: 0.50, Val accuracy: 0.50: 100%|██████████| 96/96 [03:32<00:00,  2.21s/it]\n"
     ]
    },
    {
     "data": {
      "text/html": [
       "Waiting for W&B process to finish... <strong style=\"color:green\">(success).</strong>"
      ],
      "text/plain": [
       "<IPython.core.display.HTML object>"
      ]
     },
     "metadata": {},
     "output_type": "display_data"
    },
    {
     "data": {
      "application/vnd.jupyter.widget-view+json": {
       "model_id": "63b2033cd0c0489ea566f649abe920e1",
       "version_major": 2,
       "version_minor": 0
      },
      "text/plain": [
       "VBox(children=(Label(value='0.007 MB of 0.033 MB uploaded (0.000 MB deduped)\\r'), FloatProgress(value=0.211148…"
      ]
     },
     "metadata": {},
     "output_type": "display_data"
    },
    {
     "data": {
      "text/html": [
       "<style>\n",
       "    table.wandb td:nth-child(1) { padding: 0 10px; text-align: left ; width: auto;} td:nth-child(2) {text-align: left ; width: 100%}\n",
       "    .wandb-row { display: flex; flex-direction: row; flex-wrap: wrap; justify-content: flex-start; width: 100% }\n",
       "    .wandb-col { display: flex; flex-direction: column; flex-basis: 100%; flex: 1; padding: 10px; }\n",
       "    </style>\n",
       "<div class=\"wandb-row\"><div class=\"wandb-col\"><h3>Run history:</h3><br/><table class=\"wandb\"><tr><td>Epoch</td><td>▁▁▂▂▂▃▃▄▄▄▅▅▅▆▆▇▇▇██</td></tr><tr><td>loss</td><td> █▄▃▂▂▂▂▂▁▁▁▁▁▁▁▁▁▁▁</td></tr><tr><td>train_acc</td><td>▅▇▂▆▅▂▅▆▄▇▆▄▁▄▃▁▅█▅▅</td></tr><tr><td>val_acc</td><td>▃▆▅▅▆▃▆▄▁▂▃▇▆▃▄▁▄▂█▃</td></tr></table><br/></div><div class=\"wandb-col\"><h3>Run summary:</h3><br/><table class=\"wandb\"><tr><td>Epoch</td><td>20</td></tr><tr><td>loss</td><td>4.50223</td></tr><tr><td>train_acc</td><td>0.5</td></tr><tr><td>val_acc</td><td>0.49707</td></tr></table><br/></div></div>"
      ],
      "text/plain": [
       "<IPython.core.display.HTML object>"
      ]
     },
     "metadata": {},
     "output_type": "display_data"
    },
    {
     "data": {
      "text/html": [
       " View run <strong style=\"color:#cdcd00\">vital-puddle-47</strong> at: <a href='https://wandb.ai/darya-dare/my-project/runs/dpao21ao' target=\"_blank\">https://wandb.ai/darya-dare/my-project/runs/dpao21ao</a><br/>Synced 6 W&B file(s), 0 media file(s), 0 artifact file(s) and 0 other file(s)"
      ],
      "text/plain": [
       "<IPython.core.display.HTML object>"
      ]
     },
     "metadata": {},
     "output_type": "display_data"
    },
    {
     "data": {
      "text/html": [
       "Find logs at: <code>./wandb/run-20230724_102835-dpao21ao/logs</code>"
      ],
      "text/plain": [
       "<IPython.core.display.HTML object>"
      ]
     },
     "metadata": {},
     "output_type": "display_data"
    }
   ],
   "source": [
    "loss_history, train_history, val_history = train(model_mhat, train_loader,\n",
    "                                                 val_loader, loss,\n",
    "                                                 optimizer, scheduler,\n",
    "                                                 num_epochs=20)"
   ]
  },
  {
   "cell_type": "markdown",
   "metadata": {
    "jupyter": {
     "outputs_hidden": false
    }
   },
   "source": [
    "### BCResNet"
   ]
  },
  {
   "cell_type": "code",
   "execution_count": 68,
   "metadata": {
    "tags": []
   },
   "outputs": [
    {
     "data": {
      "text/plain": [
       "BCResNet(\n",
       "  (conv1): Conv2d(1, 16, kernel_size=(5, 5), stride=(2, 1), padding=(2, 2))\n",
       "  (block1_1): TransitionBlock(\n",
       "    (freq_dw_conv): Conv2d(8, 8, kernel_size=(3, 1), stride=(1, 1), padding=(1, 0), groups=8, bias=False)\n",
       "    (ssn): SubSpectralNorm(\n",
       "      (bn): BatchNorm2d(40, eps=1e-05, momentum=0.1, affine=True, track_running_stats=True)\n",
       "    )\n",
       "    (temp_dw_conv): Conv2d(8, 8, kernel_size=(1, 3), stride=(1, 1), padding=(0, 1), groups=8, bias=False)\n",
       "    (bn1): BatchNorm2d(8, eps=1e-05, momentum=0.1, affine=True, track_running_stats=True)\n",
       "    (bn2): BatchNorm2d(8, eps=1e-05, momentum=0.1, affine=True, track_running_stats=True)\n",
       "    (relu): ReLU()\n",
       "    (channel_drop): Dropout2d(p=0.5, inplace=False)\n",
       "    (swish): SiLU()\n",
       "    (conv1x1_1): Conv2d(16, 8, kernel_size=(1, 1), stride=(1, 1), bias=False)\n",
       "    (conv1x1_2): Conv2d(8, 8, kernel_size=(1, 1), stride=(1, 1), bias=False)\n",
       "  )\n",
       "  (block1_2): BroadcastedBlock(\n",
       "    (freq_dw_conv): Conv2d(8, 8, kernel_size=(3, 1), stride=(1, 1), padding=(1, 0), groups=8, bias=False)\n",
       "    (ssn1): SubSpectralNorm(\n",
       "      (bn): BatchNorm2d(40, eps=1e-05, momentum=0.1, affine=True, track_running_stats=True)\n",
       "    )\n",
       "    (temp_dw_conv): Conv2d(8, 8, kernel_size=(1, 3), stride=(1, 1), padding=(0, 1), groups=8, bias=False)\n",
       "    (bn): BatchNorm2d(8, eps=1e-05, momentum=0.1, affine=True, track_running_stats=True)\n",
       "    (relu): ReLU()\n",
       "    (channel_drop): Dropout2d(p=0.5, inplace=False)\n",
       "    (swish): SiLU()\n",
       "    (conv1x1): Conv2d(8, 8, kernel_size=(1, 1), stride=(1, 1), bias=False)\n",
       "  )\n",
       "  (block2_1): TransitionBlock(\n",
       "    (freq_dw_conv): Conv2d(12, 12, kernel_size=(3, 1), stride=(2, 1), padding=(1, 0), dilation=(1, 2), groups=12, bias=False)\n",
       "    (ssn): SubSpectralNorm(\n",
       "      (bn): BatchNorm2d(60, eps=1e-05, momentum=0.1, affine=True, track_running_stats=True)\n",
       "    )\n",
       "    (temp_dw_conv): Conv2d(12, 12, kernel_size=(1, 3), stride=(2, 1), padding=(0, 2), dilation=(1, 2), groups=12, bias=False)\n",
       "    (bn1): BatchNorm2d(12, eps=1e-05, momentum=0.1, affine=True, track_running_stats=True)\n",
       "    (bn2): BatchNorm2d(12, eps=1e-05, momentum=0.1, affine=True, track_running_stats=True)\n",
       "    (relu): ReLU()\n",
       "    (channel_drop): Dropout2d(p=0.5, inplace=False)\n",
       "    (swish): SiLU()\n",
       "    (conv1x1_1): Conv2d(8, 12, kernel_size=(1, 1), stride=(1, 1), bias=False)\n",
       "    (conv1x1_2): Conv2d(12, 12, kernel_size=(1, 1), stride=(1, 1), bias=False)\n",
       "  )\n",
       "  (block2_2): BroadcastedBlock(\n",
       "    (freq_dw_conv): Conv2d(12, 12, kernel_size=(3, 1), stride=(1, 1), padding=(1, 0), dilation=(1, 2), groups=12, bias=False)\n",
       "    (ssn1): SubSpectralNorm(\n",
       "      (bn): BatchNorm2d(60, eps=1e-05, momentum=0.1, affine=True, track_running_stats=True)\n",
       "    )\n",
       "    (temp_dw_conv): Conv2d(12, 12, kernel_size=(1, 3), stride=(1, 1), padding=(0, 2), dilation=(1, 2), groups=12, bias=False)\n",
       "    (bn): BatchNorm2d(12, eps=1e-05, momentum=0.1, affine=True, track_running_stats=True)\n",
       "    (relu): ReLU()\n",
       "    (channel_drop): Dropout2d(p=0.5, inplace=False)\n",
       "    (swish): SiLU()\n",
       "    (conv1x1): Conv2d(12, 12, kernel_size=(1, 1), stride=(1, 1), bias=False)\n",
       "  )\n",
       "  (block3_1): TransitionBlock(\n",
       "    (freq_dw_conv): Conv2d(16, 16, kernel_size=(3, 1), stride=(2, 1), padding=(1, 0), dilation=(1, 4), groups=16, bias=False)\n",
       "    (ssn): SubSpectralNorm(\n",
       "      (bn): BatchNorm2d(80, eps=1e-05, momentum=0.1, affine=True, track_running_stats=True)\n",
       "    )\n",
       "    (temp_dw_conv): Conv2d(16, 16, kernel_size=(1, 3), stride=(2, 1), padding=(0, 4), dilation=(1, 4), groups=16, bias=False)\n",
       "    (bn1): BatchNorm2d(16, eps=1e-05, momentum=0.1, affine=True, track_running_stats=True)\n",
       "    (bn2): BatchNorm2d(16, eps=1e-05, momentum=0.1, affine=True, track_running_stats=True)\n",
       "    (relu): ReLU()\n",
       "    (channel_drop): Dropout2d(p=0.5, inplace=False)\n",
       "    (swish): SiLU()\n",
       "    (conv1x1_1): Conv2d(12, 16, kernel_size=(1, 1), stride=(1, 1), bias=False)\n",
       "    (conv1x1_2): Conv2d(16, 16, kernel_size=(1, 1), stride=(1, 1), bias=False)\n",
       "  )\n",
       "  (block3_2): BroadcastedBlock(\n",
       "    (freq_dw_conv): Conv2d(16, 16, kernel_size=(3, 1), stride=(1, 1), padding=(1, 0), dilation=(1, 4), groups=16, bias=False)\n",
       "    (ssn1): SubSpectralNorm(\n",
       "      (bn): BatchNorm2d(80, eps=1e-05, momentum=0.1, affine=True, track_running_stats=True)\n",
       "    )\n",
       "    (temp_dw_conv): Conv2d(16, 16, kernel_size=(1, 3), stride=(1, 1), padding=(0, 4), dilation=(1, 4), groups=16, bias=False)\n",
       "    (bn): BatchNorm2d(16, eps=1e-05, momentum=0.1, affine=True, track_running_stats=True)\n",
       "    (relu): ReLU()\n",
       "    (channel_drop): Dropout2d(p=0.5, inplace=False)\n",
       "    (swish): SiLU()\n",
       "    (conv1x1): Conv2d(16, 16, kernel_size=(1, 1), stride=(1, 1), bias=False)\n",
       "  )\n",
       "  (block3_3): BroadcastedBlock(\n",
       "    (freq_dw_conv): Conv2d(16, 16, kernel_size=(3, 1), stride=(1, 1), padding=(1, 0), dilation=(1, 4), groups=16, bias=False)\n",
       "    (ssn1): SubSpectralNorm(\n",
       "      (bn): BatchNorm2d(80, eps=1e-05, momentum=0.1, affine=True, track_running_stats=True)\n",
       "    )\n",
       "    (temp_dw_conv): Conv2d(16, 16, kernel_size=(1, 3), stride=(1, 1), padding=(0, 4), dilation=(1, 4), groups=16, bias=False)\n",
       "    (bn): BatchNorm2d(16, eps=1e-05, momentum=0.1, affine=True, track_running_stats=True)\n",
       "    (relu): ReLU()\n",
       "    (channel_drop): Dropout2d(p=0.5, inplace=False)\n",
       "    (swish): SiLU()\n",
       "    (conv1x1): Conv2d(16, 16, kernel_size=(1, 1), stride=(1, 1), bias=False)\n",
       "  )\n",
       "  (block3_4): BroadcastedBlock(\n",
       "    (freq_dw_conv): Conv2d(16, 16, kernel_size=(3, 1), stride=(1, 1), padding=(1, 0), dilation=(1, 4), groups=16, bias=False)\n",
       "    (ssn1): SubSpectralNorm(\n",
       "      (bn): BatchNorm2d(80, eps=1e-05, momentum=0.1, affine=True, track_running_stats=True)\n",
       "    )\n",
       "    (temp_dw_conv): Conv2d(16, 16, kernel_size=(1, 3), stride=(1, 1), padding=(0, 4), dilation=(1, 4), groups=16, bias=False)\n",
       "    (bn): BatchNorm2d(16, eps=1e-05, momentum=0.1, affine=True, track_running_stats=True)\n",
       "    (relu): ReLU()\n",
       "    (channel_drop): Dropout2d(p=0.5, inplace=False)\n",
       "    (swish): SiLU()\n",
       "    (conv1x1): Conv2d(16, 16, kernel_size=(1, 1), stride=(1, 1), bias=False)\n",
       "  )\n",
       "  (block4_1): TransitionBlock(\n",
       "    (freq_dw_conv): Conv2d(20, 20, kernel_size=(3, 1), stride=(1, 1), padding=(1, 0), dilation=(1, 8), groups=20, bias=False)\n",
       "    (ssn): SubSpectralNorm(\n",
       "      (bn): BatchNorm2d(100, eps=1e-05, momentum=0.1, affine=True, track_running_stats=True)\n",
       "    )\n",
       "    (temp_dw_conv): Conv2d(20, 20, kernel_size=(1, 3), stride=(1, 1), padding=(0, 8), dilation=(1, 8), groups=20, bias=False)\n",
       "    (bn1): BatchNorm2d(20, eps=1e-05, momentum=0.1, affine=True, track_running_stats=True)\n",
       "    (bn2): BatchNorm2d(20, eps=1e-05, momentum=0.1, affine=True, track_running_stats=True)\n",
       "    (relu): ReLU()\n",
       "    (channel_drop): Dropout2d(p=0.5, inplace=False)\n",
       "    (swish): SiLU()\n",
       "    (conv1x1_1): Conv2d(16, 20, kernel_size=(1, 1), stride=(1, 1), bias=False)\n",
       "    (conv1x1_2): Conv2d(20, 20, kernel_size=(1, 1), stride=(1, 1), bias=False)\n",
       "  )\n",
       "  (block4_2): BroadcastedBlock(\n",
       "    (freq_dw_conv): Conv2d(20, 20, kernel_size=(3, 1), stride=(1, 1), padding=(1, 0), dilation=(1, 8), groups=20, bias=False)\n",
       "    (ssn1): SubSpectralNorm(\n",
       "      (bn): BatchNorm2d(100, eps=1e-05, momentum=0.1, affine=True, track_running_stats=True)\n",
       "    )\n",
       "    (temp_dw_conv): Conv2d(20, 20, kernel_size=(1, 3), stride=(1, 1), padding=(0, 8), dilation=(1, 8), groups=20, bias=False)\n",
       "    (bn): BatchNorm2d(20, eps=1e-05, momentum=0.1, affine=True, track_running_stats=True)\n",
       "    (relu): ReLU()\n",
       "    (channel_drop): Dropout2d(p=0.5, inplace=False)\n",
       "    (swish): SiLU()\n",
       "    (conv1x1): Conv2d(20, 20, kernel_size=(1, 1), stride=(1, 1), bias=False)\n",
       "  )\n",
       "  (block4_3): BroadcastedBlock(\n",
       "    (freq_dw_conv): Conv2d(20, 20, kernel_size=(3, 1), stride=(1, 1), padding=(1, 0), dilation=(1, 8), groups=20, bias=False)\n",
       "    (ssn1): SubSpectralNorm(\n",
       "      (bn): BatchNorm2d(100, eps=1e-05, momentum=0.1, affine=True, track_running_stats=True)\n",
       "    )\n",
       "    (temp_dw_conv): Conv2d(20, 20, kernel_size=(1, 3), stride=(1, 1), padding=(0, 8), dilation=(1, 8), groups=20, bias=False)\n",
       "    (bn): BatchNorm2d(20, eps=1e-05, momentum=0.1, affine=True, track_running_stats=True)\n",
       "    (relu): ReLU()\n",
       "    (channel_drop): Dropout2d(p=0.5, inplace=False)\n",
       "    (swish): SiLU()\n",
       "    (conv1x1): Conv2d(20, 20, kernel_size=(1, 1), stride=(1, 1), bias=False)\n",
       "  )\n",
       "  (block4_4): BroadcastedBlock(\n",
       "    (freq_dw_conv): Conv2d(20, 20, kernel_size=(3, 1), stride=(1, 1), padding=(1, 0), dilation=(1, 8), groups=20, bias=False)\n",
       "    (ssn1): SubSpectralNorm(\n",
       "      (bn): BatchNorm2d(100, eps=1e-05, momentum=0.1, affine=True, track_running_stats=True)\n",
       "    )\n",
       "    (temp_dw_conv): Conv2d(20, 20, kernel_size=(1, 3), stride=(1, 1), padding=(0, 8), dilation=(1, 8), groups=20, bias=False)\n",
       "    (bn): BatchNorm2d(20, eps=1e-05, momentum=0.1, affine=True, track_running_stats=True)\n",
       "    (relu): ReLU()\n",
       "    (channel_drop): Dropout2d(p=0.5, inplace=False)\n",
       "    (swish): SiLU()\n",
       "    (conv1x1): Conv2d(20, 20, kernel_size=(1, 1), stride=(1, 1), bias=False)\n",
       "  )\n",
       "  (conv2): Conv2d(20, 20, kernel_size=(5, 5), stride=(1, 1), padding=(0, 2), groups=20)\n",
       "  (conv3): Conv2d(20, 32, kernel_size=(1, 1), stride=(1, 1), bias=False)\n",
       "  (conv4): Conv2d(32, 1, kernel_size=(1, 1), stride=(1, 1), bias=False)\n",
       ")"
      ]
     },
     "execution_count": 68,
     "metadata": {},
     "output_type": "execute_result"
    }
   ],
   "source": [
    "model_bcrn = BCResNet(num_labels=2)\n",
    "model_bcrn.type(torch.FloatTensor)\n",
    "model_bcrn.to(device)"
   ]
  },
  {
   "cell_type": "code",
   "execution_count": 69,
   "metadata": {
    "tags": []
   },
   "outputs": [
    {
     "name": "stdout",
     "output_type": "stream",
     "text": [
      "Adjusting learning rate of group 0 to 1.0000e-03.\n"
     ]
    }
   ],
   "source": [
    "loss = nn.BCEWithLogitsLoss()\n",
    "\n",
    "optimizer = optim.SGD(model_bcrn.parameters(),\n",
    "                       lr=1e-3,\n",
    "                       weight_decay=0)\n",
    "\n",
    "scheduler = optim.lr_scheduler.CosineAnnealingLR(optimizer, T_max=15, verbose=True)"
   ]
  },
  {
   "cell_type": "code",
   "execution_count": 71,
   "metadata": {
    "tags": []
   },
   "outputs": [],
   "source": [
    "loss_history, train_history, val_history = train(model_bcrn, train_loader,\n",
    "                                    val_loader, loss,\n",
    "                                    optimizer, scheduler,\n",
    "                                    num_epochs=1)"
   ]
  },
  {
   "cell_type": "markdown",
   "metadata": {},
   "source": [
    "### VGG"
   ]
  },
  {
   "cell_type": "code",
   "execution_count": 9,
   "metadata": {
    "tags": []
   },
   "outputs": [],
   "source": [
    "from vggNet import VGGModel"
   ]
  },
  {
   "cell_type": "code",
   "execution_count": 10,
   "metadata": {},
   "outputs": [
    {
     "data": {
      "text/plain": [
       "VGGModel(\n",
       "  (model): VGG(\n",
       "    (features): Sequential(\n",
       "      (0): Conv2d(3, 64, kernel_size=(3, 3), stride=(1, 1), padding=(1, 1))\n",
       "      (1): ReLU(inplace=True)\n",
       "      (2): MaxPool2d(kernel_size=2, stride=2, padding=0, dilation=1, ceil_mode=False)\n",
       "      (3): Conv2d(64, 128, kernel_size=(3, 3), stride=(1, 1), padding=(1, 1))\n",
       "      (4): ReLU(inplace=True)\n",
       "      (5): MaxPool2d(kernel_size=2, stride=2, padding=0, dilation=1, ceil_mode=False)\n",
       "      (6): Conv2d(128, 256, kernel_size=(3, 3), stride=(1, 1), padding=(1, 1))\n",
       "      (7): ReLU(inplace=True)\n",
       "      (8): Conv2d(256, 256, kernel_size=(3, 3), stride=(1, 1), padding=(1, 1))\n",
       "      (9): ReLU(inplace=True)\n",
       "      (10): MaxPool2d(kernel_size=2, stride=2, padding=0, dilation=1, ceil_mode=False)\n",
       "      (11): Conv2d(256, 512, kernel_size=(3, 3), stride=(1, 1), padding=(1, 1))\n",
       "      (12): ReLU(inplace=True)\n",
       "      (13): Conv2d(512, 512, kernel_size=(3, 3), stride=(1, 1), padding=(1, 1))\n",
       "      (14): ReLU(inplace=True)\n",
       "      (15): MaxPool2d(kernel_size=2, stride=2, padding=0, dilation=1, ceil_mode=False)\n",
       "      (16): Conv2d(512, 512, kernel_size=(3, 3), stride=(1, 1), padding=(1, 1))\n",
       "      (17): ReLU(inplace=True)\n",
       "      (18): Conv2d(512, 512, kernel_size=(3, 3), stride=(1, 1), padding=(1, 1))\n",
       "      (19): ReLU(inplace=True)\n",
       "      (20): MaxPool2d(kernel_size=2, stride=2, padding=0, dilation=1, ceil_mode=False)\n",
       "    )\n",
       "    (avgpool): AdaptiveAvgPool2d(output_size=(7, 7))\n",
       "    (classifier): Sequential(\n",
       "      (0): Linear(in_features=25088, out_features=4096, bias=True)\n",
       "      (1): ReLU(inplace=True)\n",
       "      (2): Dropout(p=0.5, inplace=False)\n",
       "      (3): Linear(in_features=4096, out_features=4096, bias=True)\n",
       "      (4): ReLU(inplace=True)\n",
       "      (5): Dropout(p=0.5, inplace=False)\n",
       "      (6): Linear(in_features=4096, out_features=2, bias=True)\n",
       "    )\n",
       "  )\n",
       ")"
      ]
     },
     "execution_count": 10,
     "metadata": {},
     "output_type": "execute_result"
    }
   ],
   "source": [
    "model_vgg = VGGModel(2, 'vgg11')\n",
    "model_vgg.type(torch.FloatTensor)\n",
    "model_vgg.to(device)"
   ]
  },
  {
   "cell_type": "code",
   "execution_count": 11,
   "metadata": {
    "tags": []
   },
   "outputs": [
    {
     "name": "stdout",
     "output_type": "stream",
     "text": [
      "Adjusting learning rate of group 0 to 1.0000e-03.\n"
     ]
    }
   ],
   "source": [
    "loss = nn.BCEWithLogitsLoss().type(torch.FloatTensor)\n",
    "\n",
    "optimizer = optim.SGD(model_vgg.parameters(), lr=1e-3)\n",
    "\n",
    "scheduler = optim.lr_scheduler.CosineAnnealingLR(optimizer, T_max=3, verbose=True)"
   ]
  },
  {
   "cell_type": "code",
   "execution_count": 12,
   "metadata": {
    "tags": []
   },
   "outputs": [
    {
     "data": {
      "text/html": [
       "Tracking run with wandb version 0.15.5"
      ],
      "text/plain": [
       "<IPython.core.display.HTML object>"
      ]
     },
     "metadata": {},
     "output_type": "display_data"
    },
    {
     "data": {
      "text/html": [
       "Run data is saved locally in <code>/home/jovyan/project/wandb/run-20230724_144350-44nt88n3</code>"
      ],
      "text/plain": [
       "<IPython.core.display.HTML object>"
      ]
     },
     "metadata": {},
     "output_type": "display_data"
    },
    {
     "data": {
      "text/html": [
       "Syncing run <strong><a href='https://wandb.ai/darya-dare/Noise-Estimation/runs/44nt88n3' target=\"_blank\">sage-dust-9</a></strong> to <a href='https://wandb.ai/darya-dare/Noise-Estimation' target=\"_blank\">Weights & Biases</a> (<a href='https://wandb.me/run' target=\"_blank\">docs</a>)<br/>"
      ],
      "text/plain": [
       "<IPython.core.display.HTML object>"
      ]
     },
     "metadata": {},
     "output_type": "display_data"
    },
    {
     "data": {
      "text/html": [
       " View project at <a href='https://wandb.ai/darya-dare/Noise-Estimation' target=\"_blank\">https://wandb.ai/darya-dare/Noise-Estimation</a>"
      ],
      "text/plain": [
       "<IPython.core.display.HTML object>"
      ]
     },
     "metadata": {},
     "output_type": "display_data"
    },
    {
     "data": {
      "text/html": [
       " View run at <a href='https://wandb.ai/darya-dare/Noise-Estimation/runs/44nt88n3' target=\"_blank\">https://wandb.ai/darya-dare/Noise-Estimation/runs/44nt88n3</a>"
      ],
      "text/plain": [
       "<IPython.core.display.HTML object>"
      ]
     },
     "metadata": {},
     "output_type": "display_data"
    },
    {
     "name": "stderr",
     "output_type": "stream",
     "text": [
      "Epoch 1: Average loss: inf, Train accuracy: 0.50, Val accuracy: 0.49: 100%|██████████| 96/96 [03:16<00:00,  2.05s/it]\n"
     ]
    },
    {
     "name": "stdout",
     "output_type": "stream",
     "text": [
      "Adjusting learning rate of group 0 to 7.5000e-04.\n"
     ]
    },
    {
     "name": "stderr",
     "output_type": "stream",
     "text": [
      "Epoch 2: Average loss: 67.515, Train accuracy: 0.50, Val accuracy: 0.52: 100%|██████████| 96/96 [03:16<00:00,  2.05s/it]\n"
     ]
    },
    {
     "name": "stdout",
     "output_type": "stream",
     "text": [
      "Adjusting learning rate of group 0 to 2.5000e-04.\n"
     ]
    },
    {
     "name": "stderr",
     "output_type": "stream",
     "text": [
      "Epoch 3: Average loss: 34.256, Train accuracy: 0.51, Val accuracy: 0.51: 100%|██████████| 96/96 [03:13<00:00,  2.02s/it]"
     ]
    },
    {
     "name": "stdout",
     "output_type": "stream",
     "text": [
      "Adjusting learning rate of group 0 to 0.0000e+00.\n"
     ]
    },
    {
     "name": "stderr",
     "output_type": "stream",
     "text": [
      "\n"
     ]
    },
    {
     "data": {
      "text/html": [
       "Waiting for W&B process to finish... <strong style=\"color:green\">(success).</strong>"
      ],
      "text/plain": [
       "<IPython.core.display.HTML object>"
      ]
     },
     "metadata": {},
     "output_type": "display_data"
    },
    {
     "data": {
      "text/html": [
       "<style>\n",
       "    table.wandb td:nth-child(1) { padding: 0 10px; text-align: left ; width: auto;} td:nth-child(2) {text-align: left ; width: 100%}\n",
       "    .wandb-row { display: flex; flex-direction: row; flex-wrap: wrap; justify-content: flex-start; width: 100% }\n",
       "    .wandb-col { display: flex; flex-direction: column; flex-basis: 100%; flex: 1; padding: 10px; }\n",
       "    </style>\n",
       "<div class=\"wandb-row\"><div class=\"wandb-col\"><h3>Run history:</h3><br/><table class=\"wandb\"><tr><td>Epoch</td><td>▁▅█</td></tr><tr><td>loss</td><td> █▁</td></tr><tr><td>train_acc</td><td>▆▁█</td></tr><tr><td>val_acc</td><td>▁█▇</td></tr></table><br/></div><div class=\"wandb-col\"><h3>Run summary:</h3><br/><table class=\"wandb\"><tr><td>Epoch</td><td>3</td></tr><tr><td>loss</td><td>34.2556</td></tr><tr><td>train_acc</td><td>0.50684</td></tr><tr><td>val_acc</td><td>0.51367</td></tr></table><br/></div></div>"
      ],
      "text/plain": [
       "<IPython.core.display.HTML object>"
      ]
     },
     "metadata": {},
     "output_type": "display_data"
    },
    {
     "data": {
      "text/html": [
       " View run <strong style=\"color:#cdcd00\">sage-dust-9</strong> at: <a href='https://wandb.ai/darya-dare/Noise-Estimation/runs/44nt88n3' target=\"_blank\">https://wandb.ai/darya-dare/Noise-Estimation/runs/44nt88n3</a><br/>Synced 6 W&B file(s), 0 media file(s), 0 artifact file(s) and 0 other file(s)"
      ],
      "text/plain": [
       "<IPython.core.display.HTML object>"
      ]
     },
     "metadata": {},
     "output_type": "display_data"
    },
    {
     "data": {
      "text/html": [
       "Find logs at: <code>./wandb/run-20230724_144350-44nt88n3/logs</code>"
      ],
      "text/plain": [
       "<IPython.core.display.HTML object>"
      ]
     },
     "metadata": {},
     "output_type": "display_data"
    }
   ],
   "source": [
    "loss_history, train_history, val_history = train(model_vgg, train_loader,\n",
    "                                                 val_loader, loss,\n",
    "                                                 optimizer, scheduler,\n",
    "                                                 num_epochs=3)"
   ]
  },
  {
   "cell_type": "code",
   "execution_count": null,
   "metadata": {},
   "outputs": [],
   "source": []
  }
 ],
 "metadata": {
  "kernelspec": {
   "display_name": "Python 3 (ipykernel)",
   "language": "python",
   "name": "python3"
  },
  "language_info": {
   "codemirror_mode": {
    "name": "ipython",
    "version": 3
   },
   "file_extension": ".py",
   "mimetype": "text/x-python",
   "name": "python",
   "nbconvert_exporter": "python",
   "pygments_lexer": "ipython3",
   "version": "3.10.10"
  }
 },
 "nbformat": 4,
 "nbformat_minor": 4
}
