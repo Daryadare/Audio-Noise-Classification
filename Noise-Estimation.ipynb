{
 "cells": [
  {
   "cell_type": "code",
   "execution_count": 1,
   "metadata": {
    "collapsed": false,
    "jupyter": {
     "outputs_hidden": false
    },
    "tags": []
   },
   "outputs": [
    {
     "name": "stdout",
     "output_type": "stream",
     "text": [
      "Collecting wandb\n",
      "  Downloading wandb-0.15.8-py3-none-any.whl (2.1 MB)\n",
      "\u001b[2K     \u001b[90m━━━━━━━━━━━━━━━━━━━━━━━━━━━━━━━━━━━━━━━━\u001b[0m \u001b[32m2.1/2.1 MB\u001b[0m \u001b[31m8.7 MB/s\u001b[0m eta \u001b[36m0:00:00\u001b[0ma \u001b[36m0:00:01\u001b[0m\n",
      "\u001b[?25hRequirement already satisfied: Click!=8.0.0,>=7.1 in /opt/conda/lib/python3.10/site-packages (from wandb) (8.1.3)\n",
      "Collecting pathtools\n",
      "  Downloading pathtools-0.1.2.tar.gz (11 kB)\n",
      "  Preparing metadata (setup.py) ... \u001b[?25ldone\n",
      "\u001b[?25hCollecting docker-pycreds>=0.4.0\n",
      "  Downloading docker_pycreds-0.4.0-py2.py3-none-any.whl (9.0 kB)\n",
      "Collecting sentry-sdk>=1.0.0\n",
      "  Downloading sentry_sdk-1.29.2-py2.py3-none-any.whl (215 kB)\n",
      "\u001b[2K     \u001b[90m━━━━━━━━━━━━━━━━━━━━━━━━━━━━━━━━━━━━━━\u001b[0m \u001b[32m215.6/215.6 kB\u001b[0m \u001b[31m11.0 MB/s\u001b[0m eta \u001b[36m0:00:00\u001b[0m\n",
      "\u001b[?25hRequirement already satisfied: protobuf!=4.21.0,<5,>=3.19.0 in /opt/conda/lib/python3.10/site-packages (from wandb) (3.19.6)\n",
      "Requirement already satisfied: requests<3,>=2.0.0 in /opt/conda/lib/python3.10/site-packages (from wandb) (2.28.2)\n",
      "Requirement already satisfied: psutil>=5.0.0 in /opt/conda/lib/python3.10/site-packages (from wandb) (5.9.4)\n",
      "Requirement already satisfied: GitPython!=3.1.29,>=1.0.0 in /opt/conda/lib/python3.10/site-packages (from wandb) (3.1.31)\n",
      "Requirement already satisfied: setuptools in /opt/conda/lib/python3.10/site-packages (from wandb) (67.6.1)\n",
      "Collecting appdirs>=1.4.3\n",
      "  Downloading appdirs-1.4.4-py2.py3-none-any.whl (9.6 kB)\n",
      "Collecting setproctitle\n",
      "  Downloading setproctitle-1.3.2-cp310-cp310-manylinux_2_5_x86_64.manylinux1_x86_64.manylinux_2_17_x86_64.manylinux2014_x86_64.whl (30 kB)\n",
      "Requirement already satisfied: PyYAML in /opt/conda/lib/python3.10/site-packages (from wandb) (6.0)\n",
      "Requirement already satisfied: six>=1.4.0 in /opt/conda/lib/python3.10/site-packages (from docker-pycreds>=0.4.0->wandb) (1.16.0)\n",
      "Requirement already satisfied: gitdb<5,>=4.0.1 in /opt/conda/lib/python3.10/site-packages (from GitPython!=3.1.29,>=1.0.0->wandb) (4.0.10)\n",
      "Requirement already satisfied: certifi>=2017.4.17 in /opt/conda/lib/python3.10/site-packages (from requests<3,>=2.0.0->wandb) (2022.12.7)\n",
      "Requirement already satisfied: idna<4,>=2.5 in /opt/conda/lib/python3.10/site-packages (from requests<3,>=2.0.0->wandb) (3.4)\n",
      "Requirement already satisfied: urllib3<1.27,>=1.21.1 in /opt/conda/lib/python3.10/site-packages (from requests<3,>=2.0.0->wandb) (1.26.15)\n",
      "Requirement already satisfied: charset-normalizer<4,>=2 in /opt/conda/lib/python3.10/site-packages (from requests<3,>=2.0.0->wandb) (3.1.0)\n",
      "Requirement already satisfied: smmap<6,>=3.0.1 in /opt/conda/lib/python3.10/site-packages (from gitdb<5,>=4.0.1->GitPython!=3.1.29,>=1.0.0->wandb) (5.0.0)\n",
      "Building wheels for collected packages: pathtools\n",
      "  Building wheel for pathtools (setup.py) ... \u001b[?25ldone\n",
      "\u001b[?25h  Created wheel for pathtools: filename=pathtools-0.1.2-py3-none-any.whl size=8791 sha256=c2e7ebe069e7d5d9610242a1122247b03c51df5ccb26bebf37403de1e43d00d9\n",
      "  Stored in directory: /home/jovyan/.cache/pip/wheels/e7/f3/22/152153d6eb222ee7a56ff8617d80ee5207207a8c00a7aab794\n",
      "Successfully built pathtools\n",
      "Installing collected packages: pathtools, appdirs, setproctitle, sentry-sdk, docker-pycreds, wandb\n",
      "Successfully installed appdirs-1.4.4 docker-pycreds-0.4.0 pathtools-0.1.2 sentry-sdk-1.29.2 setproctitle-1.3.2 wandb-0.15.8\n"
     ]
    }
   ],
   "source": [
    "!pip install wandb"
   ]
  },
  {
   "cell_type": "code",
   "execution_count": 2,
   "metadata": {
    "tags": []
   },
   "outputs": [
    {
     "name": "stdout",
     "output_type": "stream",
     "text": [
      "Collecting git+https://github.com/ildoonet/pytorch-gradual-warmup-lr.git\n",
      "  Cloning https://github.com/ildoonet/pytorch-gradual-warmup-lr.git to /tmp/pip-req-build-f3mk8p_6\n",
      "  Running command git clone --filter=blob:none --quiet https://github.com/ildoonet/pytorch-gradual-warmup-lr.git /tmp/pip-req-build-f3mk8p_6\n",
      "  Resolved https://github.com/ildoonet/pytorch-gradual-warmup-lr.git to commit 6b5e8953a80aef5b324104dc0c2e9b8c34d622bd\n",
      "  Preparing metadata (setup.py) ... \u001b[?25ldone\n",
      "\u001b[?25hBuilding wheels for collected packages: warmup-scheduler\n",
      "  Building wheel for warmup-scheduler (setup.py) ... \u001b[?25ldone\n",
      "\u001b[?25h  Created wheel for warmup-scheduler: filename=warmup_scheduler-0.3.2-py3-none-any.whl size=3863 sha256=2b176c6b9bebb773f05dde5c689f3b8ef9dce04601fb01cbb39755c46df47bb1\n",
      "  Stored in directory: /tmp/pip-ephem-wheel-cache-v_8i0elm/wheels/49/78/e6/9168d5844935482a171c7880a0626fa1c6c412b55666635f59\n",
      "Successfully built warmup-scheduler\n",
      "Installing collected packages: warmup-scheduler\n",
      "Successfully installed warmup-scheduler-0.3.2\n"
     ]
    }
   ],
   "source": [
    "!pip install git+https://github.com/ildoonet/pytorch-gradual-warmup-lr.git"
   ]
  },
  {
   "cell_type": "code",
   "execution_count": 3,
   "metadata": {
    "ExecuteTime": {
     "end_time": "2023-07-21T12:18:30.759697600Z",
     "start_time": "2023-07-21T12:18:26.611326600Z"
    },
    "collapsed": false,
    "jupyter": {
     "outputs_hidden": false
    },
    "tags": []
   },
   "outputs": [],
   "source": [
    "import pandas as pd\n",
    "import numpy as np\n",
    "import random\n",
    "\n",
    "from tqdm import tqdm\n",
    "import wandb\n",
    "\n",
    "import torch\n",
    "import torch.nn as nn\n",
    "import torch.nn.functional as F\n",
    "from torch.utils.data import Dataset, DataLoader\n",
    "import torch.optim as optim\n",
    "from torch.optim.lr_scheduler import StepLR, CosineAnnealingLR\n",
    "from warmup_scheduler import GradualWarmupScheduler\n",
    "\n",
    "import torchaudio\n",
    "import torchaudio.transforms as T\n",
    "from torchaudio.transforms import AmplitudeToDB, Vol\n",
    "\n",
    "device = torch.device(\"cuda:0\")"
   ]
  },
  {
   "cell_type": "code",
   "execution_count": 4,
   "metadata": {
    "ExecuteTime": {
     "end_time": "2023-07-21T10:29:57.808377200Z",
     "start_time": "2023-07-21T10:29:53.438631300Z"
    },
    "collapsed": false,
    "jupyter": {
     "outputs_hidden": false
    },
    "tags": []
   },
   "outputs": [
    {
     "name": "stderr",
     "output_type": "stream",
     "text": [
      "\u001b[34m\u001b[1mwandb\u001b[0m: Logging into wandb.ai. (Learn how to deploy a W&B server locally: https://wandb.me/wandb-server)\n",
      "\u001b[34m\u001b[1mwandb\u001b[0m: You can find your API key in your browser here: https://wandb.ai/authorize\n",
      "\u001b[34m\u001b[1mwandb\u001b[0m: Paste an API key from your profile and hit enter, or press ctrl+c to quit:"
     ]
    },
    {
     "name": "stdin",
     "output_type": "stream",
     "text": [
      "  ········\n"
     ]
    },
    {
     "name": "stderr",
     "output_type": "stream",
     "text": [
      "\u001b[34m\u001b[1mwandb\u001b[0m: Appending key for api.wandb.ai to your netrc file: /home/jovyan/.netrc\n"
     ]
    },
    {
     "data": {
      "text/plain": [
       "True"
      ]
     },
     "execution_count": 4,
     "metadata": {},
     "output_type": "execute_result"
    }
   ],
   "source": [
    "wandb.login()"
   ]
  },
  {
   "cell_type": "markdown",
   "metadata": {},
   "source": [
    "### Custom Dataset"
   ]
  },
  {
   "cell_type": "code",
   "execution_count": 16,
   "metadata": {
    "ExecuteTime": {
     "end_time": "2023-07-21T12:18:34.545339Z",
     "start_time": "2023-07-21T12:18:34.525573800Z"
    },
    "tags": []
   },
   "outputs": [],
   "source": [
    "class AudioDataset(Dataset):\n",
    "\n",
    "    def __init__(self, path_speech, path_noise, eps_value=1e-6,\\\n",
    "                 mel_nframes=300, sample_rate=16000, n_fft=480,\\\n",
    "                 hop_length=160, n_mels=40):\n",
    "\n",
    "        self.speech = pd.read_csv(path_speech)\n",
    "        self.noise = pd.read_csv(path_noise)\n",
    "        self.eps_value = eps_value\n",
    "        self.mel_nframes = mel_nframes\n",
    "        self.sample_rate = sample_rate\n",
    "        self.n_fft = n_fft\n",
    "        self.hop_length = hop_length\n",
    "        self.n_mels = n_mels\n",
    "        self.mel_spectrogram = T.MelSpectrogram(sample_rate=self.sample_rate,\n",
    "                                                n_fft=self.n_fft,\n",
    "                                                hop_length=self.hop_length,\n",
    "                                                center=True,\n",
    "                                                pad_mode=\"reflect\",\n",
    "                                                power=2.0,\n",
    "                                                norm='slaney',\n",
    "                                                n_mels=self.n_mels)\n",
    "\n",
    "    def __len__(self):\n",
    "\n",
    "        return len(self.noise)\n",
    "\n",
    "    def get_same_shape(self, waveform, w_type):\n",
    "\n",
    "        melsp = torch.log(self.mel_spectrogram(waveform) + self.eps_value)\n",
    "        has_mel_nframes = melsp.size(2) if melsp.size(2) < self.mel_nframes\\\n",
    "         else self.mel_nframes\n",
    "\n",
    "        image_tens = torch.full((1, self.n_mels, self.mel_nframes), melsp.min())\n",
    "        image_tens[0, :, :has_mel_nframes] = melsp[:, :, :has_mel_nframes]\n",
    "\n",
    "        return image_tens\n",
    "\n",
    "    def load_item(self, df, idx, w_type):\n",
    "\n",
    "        sample_wav_file = df['filename'][idx]\n",
    "        wave, _ = torchaudio.load(sample_wav_file)\n",
    "        wave = wave.float()\n",
    "\n",
    "        if w_type==1:\n",
    "            wave_noise = wave.numpy()\n",
    "            wave_noise_no_silence = [float(el) for el in wave_noise[0] if abs(el) >= 0.001]\n",
    "            wave = torch.tensor([wave_noise_no_silence])\n",
    "\n",
    "        wave_melsp = self.get_same_shape(wave, w_type)\n",
    "\n",
    "        return wave_melsp\n",
    "\n",
    "    def __getitem__(self, idx):\n",
    "\n",
    "        wave_speech = self.load_item(self.speech, idx, w_type=0)\n",
    "\n",
    "        luck = random.random()\n",
    "        if luck > 0.5:\n",
    "            wave_noise = self.load_item(self.noise, idx, w_type=1)\n",
    "\n",
    "            wave_out = wave_speech + wave_noise\n",
    "            label = 1\n",
    "\n",
    "        else:\n",
    "            wave_out = wave_speech\n",
    "            label = 0\n",
    "\n",
    "        return wave_out, torch.tensor(label)"
   ]
  },
  {
   "cell_type": "code",
   "execution_count": 17,
   "metadata": {
    "ExecuteTime": {
     "end_time": "2023-07-21T10:30:00.869003500Z",
     "start_time": "2023-07-21T10:30:00.638750700Z"
    },
    "collapsed": false,
    "jupyter": {
     "outputs_hidden": false
    },
    "tags": []
   },
   "outputs": [],
   "source": [
    "audio_dataset_train = AudioDataset('./CleanSpeechTrain.csv',\n",
    "                                   './NoiseTrain.csv')\n",
    "\n",
    "audio_dataset_val = AudioDataset('./CleanSpeechVal.csv',\n",
    "                                   './NoiseVal.csv')\n",
    "\n",
    "audio_dataset_test = AudioDataset('./CleanSpeechTest.csv',\n",
    "                                   './NoiseTest.csv')"
   ]
  },
  {
   "cell_type": "markdown",
   "metadata": {},
   "source": [
    "### Data Loader"
   ]
  },
  {
   "cell_type": "code",
   "execution_count": 18,
   "metadata": {
    "ExecuteTime": {
     "end_time": "2023-07-21T10:30:02.467908200Z",
     "start_time": "2023-07-21T10:30:02.417128300Z"
    },
    "collapsed": false,
    "jupyter": {
     "outputs_hidden": false
    },
    "tags": []
   },
   "outputs": [],
   "source": [
    "train_loader = DataLoader(dataset=audio_dataset_train,\n",
    "                          batch_size=100, drop_last=True, num_workers=4)\n",
    "\n",
    "val_loader = DataLoader(dataset=audio_dataset_val,\n",
    "                        batch_size=100, drop_last=True, num_workers=4)\n",
    "\n",
    "test_loader = DataLoader(dataset=audio_dataset_test,\n",
    "                         batch_size=100, drop_last=True, num_workers=4)"
   ]
  },
  {
   "cell_type": "markdown",
   "metadata": {},
   "source": [
    "### Train functions"
   ]
  },
  {
   "cell_type": "code",
   "execution_count": 19,
   "metadata": {
    "tags": []
   },
   "outputs": [],
   "source": [
    "def compute_accuracy(model, loader):\n",
    "\n",
    "    model.eval()\n",
    "\n",
    "    correct_samples = 0\n",
    "    total_samples = 0\n",
    "\n",
    "    for i, (x, y) in enumerate(loader):\n",
    "\n",
    "        x_gpu = x.to(device)\n",
    "        y_gpu = y.to(device)\n",
    "\n",
    "        prediction = model(x_gpu).squeeze(1)\n",
    "        correct_samples += torch.sum(prediction.round()==y_gpu)\n",
    "        total_samples += y_gpu.size(0)\n",
    "\n",
    "    return float(correct_samples) / total_samples"
   ]
  },
  {
   "cell_type": "code",
   "execution_count": 20,
   "metadata": {
    "ExecuteTime": {
     "end_time": "2023-07-21T10:30:05.909594300Z",
     "start_time": "2023-07-21T10:30:05.878809600Z"
    },
    "collapsed": false,
    "jupyter": {
     "outputs_hidden": false
    },
    "tags": []
   },
   "outputs": [],
   "source": [
    "def train(model, train_loader, val_loader, loss,\n",
    "          optimizer, warmup_scheduler, num_epochs):\n",
    "\n",
    "    wandb.init(\n",
    "        project='Noise-Estimation',\n",
    "        config={'learning_rate': 1e-3,\n",
    "                'model': 'BCResNet',\n",
    "                'loss': 'BCELoss',\n",
    "                'optimizer': 'Adam',\n",
    "                'scheduler': 'WarmUp and CosineAnnealing',\n",
    "                'T_max': 20,\n",
    "                'total_epochs': 30,\n",
    "                'epochs': 50,\n",
    "                'batch_size': 100}\n",
    "    )\n",
    "\n",
    "    loss_history = []\n",
    "    train_history = []\n",
    "    val_history = []\n",
    "\n",
    "    for epoch in range(num_epochs):\n",
    "        model.train()\n",
    "\n",
    "        loss_accum = 0\n",
    "        correct_samples = 0\n",
    "        total_samples = 0\n",
    "        num_batches = 0\n",
    "\n",
    "        with tqdm(total=len(train_loader),\n",
    "                  desc=f'Epoch {epoch+1}',\n",
    "                  leave=True) as pb:\n",
    "\n",
    "            for i, (x, y) in enumerate(train_loader):\n",
    "\n",
    "                x_gpu = x.to(device)\n",
    "                y_gpu = y.to(device)\n",
    "\n",
    "                optimizer.zero_grad()\n",
    "                prediction = model(x_gpu).squeeze(1)\n",
    "\n",
    "                loss_value = loss(prediction, y_gpu.float())\n",
    "                loss_value.backward()\n",
    "                optimizer.step()\n",
    "\n",
    "                correct_samples += torch.sum(prediction.round()==y_gpu)\n",
    "                total_samples += y.size(0)\n",
    "                loss_accum += loss_value\n",
    "\n",
    "                pb.update()\n",
    "                pb.set_description( f'Epoch {epoch+1}:'\n",
    "                                    f' Average epoch loss: {loss_accum / num_batches:.3f}'\n",
    "                                    f' Train accuracy:'\n",
    "                                    f' {correct_samples/total_samples:.2f},'\n",
    "                                    )\n",
    "                num_batches += 1\n",
    "\n",
    "            ave_loss = loss_accum / num_batches\n",
    "            train_accuracy = float(correct_samples) / total_samples\n",
    "            val_accuracy = compute_accuracy(model, val_loader)\n",
    "\n",
    "            if warmup_scheduler:\n",
    "                warmup_scheduler.step()\n",
    "\n",
    "            loss_history.append(float(ave_loss))\n",
    "            train_history.append(train_accuracy)\n",
    "            val_history.append(val_accuracy)\n",
    "\n",
    "            wandb.log({'Epoch': epoch+1, 'loss': ave_loss,\n",
    "                       'train_acc': train_accuracy,\n",
    "                       'val_acc': val_accuracy})\n",
    "\n",
    "            pb.set_description( f'Epoch {epoch+1}:'\n",
    "                                f' Average epoch loss: {ave_loss:.3f}'\n",
    "                                f' Train accuracy: {train_accuracy:.2f},'\n",
    "                                f' Val accuracy: {val_accuracy:.2f}'\n",
    "                                )\n",
    "\n",
    "    wandb.finish()\n",
    "    return loss_history, train_history, val_history"
   ]
  },
  {
   "cell_type": "markdown",
   "metadata": {
    "tags": []
   },
   "source": [
    "### MHAttKWS"
   ]
  },
  {
   "cell_type": "code",
   "execution_count": 17,
   "metadata": {
    "ExecuteTime": {
     "end_time": "2023-07-21T10:30:10.548611100Z",
     "start_time": "2023-07-21T10:30:10.498046600Z"
    },
    "collapsed": false,
    "jupyter": {
     "outputs_hidden": false
    },
    "tags": []
   },
   "outputs": [
    {
     "name": "stdout",
     "output_type": "stream",
     "text": [
      "Adjusting learning rate of group 0 to 1.0000e-02.\n"
     ]
    }
   ],
   "source": [
    "from BCResNet import MHAttKWS\n",
    "model_mhat = MHAttKWS(num_classes=1)\n",
    "model_mhat.type(torch.cuda.FloatTensor)\n",
    "model_mhat.to(device)\n",
    "\n",
    "loss = nn.BCEWithLogitsLoss().type(torch.cuda.FloatTensor)\n",
    "optimizer = optim.SGD(model_mhat.parameters(), lr=1e-2)\n",
    "cosine_scheduler = optim.lr_scheduler.CosineAnnealingLR(optimizer, T_max=40, verbose=True)\n",
    "warmup_scheduler = GradualWarmupScheduler(optimizer, multiplier=1, total_epoch=40,\n",
    "                                          after_scheduler=cosine_scheduler)"
   ]
  },
  {
   "cell_type": "code",
   "execution_count": 18,
   "metadata": {
    "ExecuteTime": {
     "end_time": "2023-07-21T10:39:56.639791700Z",
     "start_time": "2023-07-21T10:30:11.929000800Z"
    },
    "collapsed": false,
    "jupyter": {
     "outputs_hidden": false
    },
    "tags": []
   },
   "outputs": [
    {
     "data": {
      "text/html": [
       "Finishing last run (ID:bhga0x1j) before initializing another..."
      ],
      "text/plain": [
       "<IPython.core.display.HTML object>"
      ]
     },
     "metadata": {},
     "output_type": "display_data"
    },
    {
     "data": {
      "text/html": [
       "Waiting for W&B process to finish... <strong style=\"color:green\">(success).</strong>"
      ],
      "text/plain": [
       "<IPython.core.display.HTML object>"
      ]
     },
     "metadata": {},
     "output_type": "display_data"
    },
    {
     "data": {
      "application/vnd.jupyter.widget-view+json": {
       "model_id": "747477f35cdb43738da100d5b7c7cc96",
       "version_major": 2,
       "version_minor": 0
      },
      "text/plain": [
       "VBox(children=(Label(value='0.003 MB of 0.003 MB uploaded (0.000 MB deduped)\\r'), FloatProgress(value=1.0, max…"
      ]
     },
     "metadata": {},
     "output_type": "display_data"
    },
    {
     "data": {
      "text/html": [
       "<style>\n",
       "    table.wandb td:nth-child(1) { padding: 0 10px; text-align: left ; width: auto;} td:nth-child(2) {text-align: left ; width: 100%}\n",
       "    .wandb-row { display: flex; flex-direction: row; flex-wrap: wrap; justify-content: flex-start; width: 100% }\n",
       "    .wandb-col { display: flex; flex-direction: column; flex-basis: 100%; flex: 1; padding: 10px; }\n",
       "    </style>\n",
       "<div class=\"wandb-row\"><div class=\"wandb-col\"><h3>Run history:</h3><br/><table class=\"wandb\"><tr><td>Epoch</td><td>▁▂▃▄▅▆▇█</td></tr><tr><td>loss</td><td>█▄▄▃▂▁▁▁</td></tr><tr><td>train_acc</td><td>█▃▄▅▄▂▇▁</td></tr><tr><td>val_acc</td><td>█▁▁▄▅▅▃▃</td></tr></table><br/></div><div class=\"wandb-col\"><h3>Run summary:</h3><br/><table class=\"wandb\"><tr><td>Epoch</td><td>8</td></tr><tr><td>loss</td><td>0.69293</td></tr><tr><td>train_acc</td><td>0.49574</td></tr><tr><td>val_acc</td><td>0.499</td></tr></table><br/></div></div>"
      ],
      "text/plain": [
       "<IPython.core.display.HTML object>"
      ]
     },
     "metadata": {},
     "output_type": "display_data"
    },
    {
     "data": {
      "text/html": [
       " View run <strong style=\"color:#cdcd00\">morning-fire-55</strong> at: <a href='https://wandb.ai/darya-dare/Noise-Estimation/runs/bhga0x1j' target=\"_blank\">https://wandb.ai/darya-dare/Noise-Estimation/runs/bhga0x1j</a><br/>Synced 6 W&B file(s), 0 media file(s), 0 artifact file(s) and 0 other file(s)"
      ],
      "text/plain": [
       "<IPython.core.display.HTML object>"
      ]
     },
     "metadata": {},
     "output_type": "display_data"
    },
    {
     "data": {
      "text/html": [
       "Find logs at: <code>./wandb/run-20230803_090921-bhga0x1j/logs</code>"
      ],
      "text/plain": [
       "<IPython.core.display.HTML object>"
      ]
     },
     "metadata": {},
     "output_type": "display_data"
    },
    {
     "data": {
      "text/html": [
       "Successfully finished last run (ID:bhga0x1j). Initializing new run:<br/>"
      ],
      "text/plain": [
       "<IPython.core.display.HTML object>"
      ]
     },
     "metadata": {},
     "output_type": "display_data"
    },
    {
     "data": {
      "application/vnd.jupyter.widget-view+json": {
       "model_id": "a61da269f441455bb27b71f8d763473f",
       "version_major": 2,
       "version_minor": 0
      },
      "text/plain": [
       "VBox(children=(Label(value='Waiting for wandb.init()...\\r'), FloatProgress(value=0.016669311265771588, max=1.0…"
      ]
     },
     "metadata": {},
     "output_type": "display_data"
    },
    {
     "data": {
      "text/html": [
       "wandb version 0.15.8 is available!  To upgrade, please run:\n",
       " $ pip install wandb --upgrade"
      ],
      "text/plain": [
       "<IPython.core.display.HTML object>"
      ]
     },
     "metadata": {},
     "output_type": "display_data"
    },
    {
     "data": {
      "text/html": [
       "Tracking run with wandb version 0.15.7"
      ],
      "text/plain": [
       "<IPython.core.display.HTML object>"
      ]
     },
     "metadata": {},
     "output_type": "display_data"
    },
    {
     "data": {
      "text/html": [
       "Run data is saved locally in <code>/home/jovyan/project/wandb/run-20230803_091820-b8v7ct87</code>"
      ],
      "text/plain": [
       "<IPython.core.display.HTML object>"
      ]
     },
     "metadata": {},
     "output_type": "display_data"
    },
    {
     "data": {
      "text/html": [
       "Syncing run <strong><a href='https://wandb.ai/darya-dare/Noise-Estimation/runs/b8v7ct87' target=\"_blank\">resilient-valley-56</a></strong> to <a href='https://wandb.ai/darya-dare/Noise-Estimation' target=\"_blank\">Weights & Biases</a> (<a href='https://wandb.me/run' target=\"_blank\">docs</a>)<br/>"
      ],
      "text/plain": [
       "<IPython.core.display.HTML object>"
      ]
     },
     "metadata": {},
     "output_type": "display_data"
    },
    {
     "data": {
      "text/html": [
       " View project at <a href='https://wandb.ai/darya-dare/Noise-Estimation' target=\"_blank\">https://wandb.ai/darya-dare/Noise-Estimation</a>"
      ],
      "text/plain": [
       "<IPython.core.display.HTML object>"
      ]
     },
     "metadata": {},
     "output_type": "display_data"
    },
    {
     "data": {
      "text/html": [
       " View run at <a href='https://wandb.ai/darya-dare/Noise-Estimation/runs/b8v7ct87' target=\"_blank\">https://wandb.ai/darya-dare/Noise-Estimation/runs/b8v7ct87</a>"
      ],
      "text/plain": [
       "<IPython.core.display.HTML object>"
      ]
     },
     "metadata": {},
     "output_type": "display_data"
    },
    {
     "name": "stderr",
     "output_type": "stream",
     "text": [
      "Epoch 1: Average epoch loss: 0.693 Train accuracy: 0.49, Val accuracy: 0.50: 100%|██████████| 61/61 [00:54<00:00,  1.12it/s]\n",
      "Epoch 2: Average epoch loss: 0.693 Train accuracy: 0.49, Val accuracy: 0.51: 100%|██████████| 61/61 [00:52<00:00,  1.16it/s]\n",
      "Epoch 3: Average epoch loss: 0.695 Train accuracy: 0.52, Val accuracy: 0.50: 100%|██████████| 61/61 [00:53<00:00,  1.13it/s]\n",
      "Epoch 4: Average epoch loss: 0.694 Train accuracy: 0.51, Val accuracy: 0.52: 100%|██████████| 61/61 [00:52<00:00,  1.15it/s]\n",
      "Epoch 5: Average epoch loss: 0.694 Train accuracy: 0.50, Val accuracy: 0.47: 100%|██████████| 61/61 [00:54<00:00,  1.13it/s]\n",
      "Epoch 6: Average epoch loss: 0.693 Train accuracy: 0.49, Val accuracy: 0.51: 100%|██████████| 61/61 [00:54<00:00,  1.12it/s]\n",
      "Epoch 7: Average epoch loss: 0.694 Train accuracy: 0.50, Val accuracy: 0.53: 100%|██████████| 61/61 [00:52<00:00,  1.16it/s]\n",
      "Epoch 8: Average epoch loss: 0.693 Train accuracy: 0.49, Val accuracy: 0.49: 100%|██████████| 61/61 [00:55<00:00,  1.11it/s]\n",
      "Epoch 9: Average epoch loss: 0.694 Train accuracy: 0.50, Val accuracy: 0.48: 100%|██████████| 61/61 [00:53<00:00,  1.14it/s]\n",
      "Epoch 10: Average epoch loss: 0.694 Train accuracy: 0.51, Val accuracy: 0.48: 100%|██████████| 61/61 [00:54<00:00,  1.13it/s]\n",
      "Epoch 11: Average epoch loss: 0.693 Train accuracy: 0.50, Val accuracy: 0.52: 100%|██████████| 61/61 [00:52<00:00,  1.16it/s]\n",
      "Epoch 12: Average epoch loss: 0.694 Train accuracy: 0.51, Val accuracy: 0.50: 100%|██████████| 61/61 [00:53<00:00,  1.14it/s]\n",
      "Epoch 13: Average epoch loss: 0.694 Train accuracy: 0.51, Val accuracy: 0.53: 100%|██████████| 61/61 [00:52<00:00,  1.16it/s]\n",
      "Epoch 14: Average epoch loss: 0.693 Train accuracy: 0.50, Val accuracy: 0.49: 100%|██████████| 61/61 [00:53<00:00,  1.14it/s]\n",
      "Epoch 15: Average epoch loss: 0.693 Train accuracy: 0.49, Val accuracy: 0.52: 100%|██████████| 61/61 [00:54<00:00,  1.12it/s]\n",
      "Epoch 16: Average epoch loss: 0.693 Train accuracy: 0.50, Val accuracy: 0.47: 100%|██████████| 61/61 [00:54<00:00,  1.12it/s]\n",
      "Epoch 17: Average epoch loss: 0.693 Train accuracy: 0.49, Val accuracy: 0.48: 100%|██████████| 61/61 [00:56<00:00,  1.08it/s]\n",
      "Epoch 18: Average epoch loss: 0.693 Train accuracy: 0.49, Val accuracy: 0.49: 100%|██████████| 61/61 [00:55<00:00,  1.11it/s]\n",
      "Epoch 19: Average epoch loss: 0.692 Train accuracy: 0.49, Val accuracy: 0.49: 100%|██████████| 61/61 [00:54<00:00,  1.13it/s]\n",
      "Epoch 20: Average epoch loss: 0.693 Train accuracy: 0.51, Val accuracy: 0.48: 100%|██████████| 61/61 [00:54<00:00,  1.12it/s]\n",
      "Epoch 21: Average epoch loss: 0.693 Train accuracy: 0.50, Val accuracy: 0.51: 100%|██████████| 61/61 [00:52<00:00,  1.15it/s]\n",
      "Epoch 22: Average epoch loss: 0.693 Train accuracy: 0.50, Val accuracy: 0.51: 100%|██████████| 61/61 [00:53<00:00,  1.14it/s]\n",
      "Epoch 23: Average epoch loss: 0.693 Train accuracy: 0.50, Val accuracy: 0.51: 100%|██████████| 61/61 [00:53<00:00,  1.13it/s]\n",
      "Epoch 24: Average epoch loss: 0.693 Train accuracy: 0.51, Val accuracy: 0.49: 100%|██████████| 61/61 [00:52<00:00,  1.16it/s]\n",
      "Epoch 25: Average epoch loss: 0.693 Train accuracy: 0.51, Val accuracy: 0.50: 100%|██████████| 61/61 [00:53<00:00,  1.15it/s]\n",
      "Epoch 26: Average epoch loss: 0.693 Train accuracy: 0.51, Val accuracy: 0.50: 100%|██████████| 61/61 [00:52<00:00,  1.16it/s]\n",
      "Epoch 27: Average epoch loss: 0.692 Train accuracy: 0.51, Val accuracy: 0.49: 100%|██████████| 61/61 [00:52<00:00,  1.17it/s]\n",
      "Epoch 28: Average epoch loss: 0.692 Train accuracy: 0.50, Val accuracy: 0.50: 100%|██████████| 61/61 [00:53<00:00,  1.14it/s]\n",
      "Epoch 29: Average epoch loss: 0.692 Train accuracy: 0.49, Val accuracy: 0.52: 100%|██████████| 61/61 [00:53<00:00,  1.15it/s]\n",
      "Epoch 30: Average epoch loss: 0.692 Train accuracy: 0.51, Val accuracy: 0.49: 100%|██████████| 61/61 [00:52<00:00,  1.15it/s]\n",
      "Epoch 31: Average epoch loss: 0.692 Train accuracy: 0.50, Val accuracy: 0.51: 100%|██████████| 61/61 [00:52<00:00,  1.16it/s]\n",
      "Epoch 32: Average epoch loss: 0.692 Train accuracy: 0.51, Val accuracy: 0.50: 100%|██████████| 61/61 [00:51<00:00,  1.18it/s]\n",
      "Epoch 33: Average epoch loss: 0.692 Train accuracy: 0.50, Val accuracy: 0.49: 100%|██████████| 61/61 [00:52<00:00,  1.16it/s]\n",
      "Epoch 34: Average epoch loss: 0.692 Train accuracy: 0.51, Val accuracy: 0.51: 100%|██████████| 61/61 [00:52<00:00,  1.16it/s]\n",
      "Epoch 35: Average epoch loss: 0.692 Train accuracy: 0.50, Val accuracy: 0.52: 100%|██████████| 61/61 [00:51<00:00,  1.18it/s]\n",
      "Epoch 36: Average epoch loss: 0.691 Train accuracy: 0.51, Val accuracy: 0.48: 100%|██████████| 61/61 [00:52<00:00,  1.17it/s]\n",
      "Epoch 37: Average epoch loss: 0.691 Train accuracy: 0.51, Val accuracy: 0.50: 100%|██████████| 61/61 [00:54<00:00,  1.12it/s]\n",
      "Epoch 38: Average epoch loss: 0.692 Train accuracy: 0.47, Val accuracy: 0.48: 100%|██████████| 61/61 [00:55<00:00,  1.10it/s]\n",
      "Epoch 39: Average epoch loss: 0.691 Train accuracy: 0.49, Val accuracy: 0.50: 100%|██████████| 61/61 [00:53<00:00,  1.14it/s]\n",
      "Epoch 40: Average epoch loss: 0.691 Train accuracy: 0.50, Val accuracy: 0.50: 100%|██████████| 61/61 [00:53<00:00,  1.14it/s]\n",
      "Epoch 41: Average epoch loss: 0.690 Train accuracy: 0.51, Val accuracy: 0.50: 100%|██████████| 61/61 [00:52<00:00,  1.16it/s]\n",
      "Epoch 42: Average epoch loss: 0.690 Train accuracy: 0.48, Val accuracy: 0.49: 100%|██████████| 61/61 [00:55<00:00,  1.10it/s]\n"
     ]
    },
    {
     "name": "stdout",
     "output_type": "stream",
     "text": [
      "Adjusting learning rate of group 0 to 9.9846e-03.\n"
     ]
    },
    {
     "name": "stderr",
     "output_type": "stream",
     "text": [
      "Epoch 43: Average epoch loss: 0.690 Train accuracy: 0.50, Val accuracy: 0.51: 100%|██████████| 61/61 [00:52<00:00,  1.15it/s]\n"
     ]
    },
    {
     "name": "stdout",
     "output_type": "stream",
     "text": [
      "Adjusting learning rate of group 0 to 9.9384e-03.\n"
     ]
    },
    {
     "name": "stderr",
     "output_type": "stream",
     "text": [
      "Epoch 44: Average epoch loss: 0.690 Train accuracy: 0.51, Val accuracy: 0.49: 100%|██████████| 61/61 [00:54<00:00,  1.13it/s]\n"
     ]
    },
    {
     "name": "stdout",
     "output_type": "stream",
     "text": [
      "Adjusting learning rate of group 0 to 9.8618e-03.\n"
     ]
    },
    {
     "name": "stderr",
     "output_type": "stream",
     "text": [
      "Epoch 45: Average epoch loss: 0.689 Train accuracy: 0.49, Val accuracy: 0.50: 100%|██████████| 61/61 [00:53<00:00,  1.13it/s]\n"
     ]
    },
    {
     "name": "stdout",
     "output_type": "stream",
     "text": [
      "Adjusting learning rate of group 0 to 9.7553e-03.\n"
     ]
    },
    {
     "name": "stderr",
     "output_type": "stream",
     "text": [
      "Epoch 46: Average epoch loss: 0.689 Train accuracy: 0.50, Val accuracy: 0.51: 100%|██████████| 61/61 [00:52<00:00,  1.16it/s]\n"
     ]
    },
    {
     "name": "stdout",
     "output_type": "stream",
     "text": [
      "Adjusting learning rate of group 0 to 9.6194e-03.\n"
     ]
    },
    {
     "name": "stderr",
     "output_type": "stream",
     "text": [
      "Epoch 47: Average epoch loss: 0.688 Train accuracy: 0.50, Val accuracy: 0.48: 100%|██████████| 61/61 [00:54<00:00,  1.13it/s]\n"
     ]
    },
    {
     "name": "stdout",
     "output_type": "stream",
     "text": [
      "Adjusting learning rate of group 0 to 9.4550e-03.\n"
     ]
    },
    {
     "name": "stderr",
     "output_type": "stream",
     "text": [
      "Epoch 48: Average epoch loss: 0.688 Train accuracy: 0.50, Val accuracy: 0.50: 100%|██████████| 61/61 [00:54<00:00,  1.11it/s]\n"
     ]
    },
    {
     "name": "stdout",
     "output_type": "stream",
     "text": [
      "Adjusting learning rate of group 0 to 9.2632e-03.\n"
     ]
    },
    {
     "name": "stderr",
     "output_type": "stream",
     "text": [
      "Epoch 49: Average epoch loss: 0.687 Train accuracy: 0.49, Val accuracy: 0.51: 100%|██████████| 61/61 [00:54<00:00,  1.11it/s]\n"
     ]
    },
    {
     "name": "stdout",
     "output_type": "stream",
     "text": [
      "Adjusting learning rate of group 0 to 9.0451e-03.\n"
     ]
    },
    {
     "name": "stderr",
     "output_type": "stream",
     "text": [
      "Epoch 50: Average epoch loss: 0.687 Train accuracy: 0.50, Val accuracy: 0.49: 100%|██████████| 61/61 [00:53<00:00,  1.14it/s]"
     ]
    },
    {
     "name": "stdout",
     "output_type": "stream",
     "text": [
      "Adjusting learning rate of group 0 to 8.8020e-03.\n"
     ]
    },
    {
     "name": "stderr",
     "output_type": "stream",
     "text": [
      "\n"
     ]
    },
    {
     "data": {
      "text/html": [
       "Waiting for W&B process to finish... <strong style=\"color:green\">(success).</strong>"
      ],
      "text/plain": [
       "<IPython.core.display.HTML object>"
      ]
     },
     "metadata": {},
     "output_type": "display_data"
    },
    {
     "data": {
      "application/vnd.jupyter.widget-view+json": {
       "model_id": "418944c090594459b0e5288fc48f70eb",
       "version_major": 2,
       "version_minor": 0
      },
      "text/plain": [
       "VBox(children=(Label(value='0.003 MB of 0.003 MB uploaded (0.000 MB deduped)\\r'), FloatProgress(value=1.0, max…"
      ]
     },
     "metadata": {},
     "output_type": "display_data"
    },
    {
     "data": {
      "text/html": [
       "<style>\n",
       "    table.wandb td:nth-child(1) { padding: 0 10px; text-align: left ; width: auto;} td:nth-child(2) {text-align: left ; width: 100%}\n",
       "    .wandb-row { display: flex; flex-direction: row; flex-wrap: wrap; justify-content: flex-start; width: 100% }\n",
       "    .wandb-col { display: flex; flex-direction: column; flex-basis: 100%; flex: 1; padding: 10px; }\n",
       "    </style>\n",
       "<div class=\"wandb-row\"><div class=\"wandb-col\"><h3>Run history:</h3><br/><table class=\"wandb\"><tr><td>Epoch</td><td>▁▁▁▁▂▂▂▂▂▃▃▃▃▃▃▄▄▄▄▄▅▅▅▅▅▅▆▆▆▆▆▆▇▇▇▇▇███</td></tr><tr><td>loss</td><td>▇▇█▇▆▇▆▇▇▇▇▆▆▆▆▆▆▆▆▆▆▆▆▆▆▆▆▅▅▅▅▅▄▄▄▄▃▂▂▁</td></tr><tr><td>train_acc</td><td>▄▄█▆▄▅▄▆▅▇▇▅▅▃▄▃▆▆▆▇▇▆▅▄▆▇▆▇▇▇▁▄█▃▆▇▆▅▆▅</td></tr><tr><td>val_acc</td><td>▅▆▅▇▅█▄▂█▅█▄▁▂▃▄▆▆▆▄▅▃▅█▅▅▄▆▃▄▂▅▅▃▅▃▅▂▅▃</td></tr></table><br/></div><div class=\"wandb-col\"><h3>Run summary:</h3><br/><table class=\"wandb\"><tr><td>Epoch</td><td>50</td></tr><tr><td>loss</td><td>0.68664</td></tr><tr><td>train_acc</td><td>0.49902</td></tr><tr><td>val_acc</td><td>0.488</td></tr></table><br/></div></div>"
      ],
      "text/plain": [
       "<IPython.core.display.HTML object>"
      ]
     },
     "metadata": {},
     "output_type": "display_data"
    },
    {
     "data": {
      "text/html": [
       " View run <strong style=\"color:#cdcd00\">resilient-valley-56</strong> at: <a href='https://wandb.ai/darya-dare/Noise-Estimation/runs/b8v7ct87' target=\"_blank\">https://wandb.ai/darya-dare/Noise-Estimation/runs/b8v7ct87</a><br/>Synced 6 W&B file(s), 0 media file(s), 0 artifact file(s) and 0 other file(s)"
      ],
      "text/plain": [
       "<IPython.core.display.HTML object>"
      ]
     },
     "metadata": {},
     "output_type": "display_data"
    },
    {
     "data": {
      "text/html": [
       "Find logs at: <code>./wandb/run-20230803_091820-b8v7ct87/logs</code>"
      ],
      "text/plain": [
       "<IPython.core.display.HTML object>"
      ]
     },
     "metadata": {},
     "output_type": "display_data"
    }
   ],
   "source": [
    "loss_history, train_history, val_history = train(model_mhat, train_loader,\n",
    "                                                 val_loader, loss,\n",
    "                                                 optimizer, warmup_scheduler,\n",
    "                                                 num_epochs=50)"
   ]
  },
  {
   "cell_type": "code",
   "execution_count": 13,
   "metadata": {
    "tags": []
   },
   "outputs": [],
   "source": [
    "# torch.cuda.empty_cache()"
   ]
  },
  {
   "cell_type": "code",
   "execution_count": 10,
   "metadata": {
    "tags": []
   },
   "outputs": [
    {
     "name": "stdout",
     "output_type": "stream",
     "text": [
      "Failed to initialize NVML: Unknown Error\n"
     ]
    }
   ],
   "source": [
    "!nvidia-smi"
   ]
  },
  {
   "cell_type": "markdown",
   "metadata": {
    "jupyter": {
     "outputs_hidden": false
    }
   },
   "source": [
    "### BCResNet"
   ]
  },
  {
   "cell_type": "code",
   "execution_count": 21,
   "metadata": {
    "tags": []
   },
   "outputs": [
    {
     "name": "stdout",
     "output_type": "stream",
     "text": [
      "Adjusting learning rate of group 0 to 1.0000e-03.\n"
     ]
    }
   ],
   "source": [
    "from BCResNet import BCResNet\n",
    "model_bcrn = BCResNet(num_labels=1)\n",
    "model_bcrn.type(torch.cuda.FloatTensor)\n",
    "model_bcrn.to(device)\n",
    "\n",
    "loss = nn.BCELoss().type(torch.cuda.FloatTensor)\n",
    "optimizer = optim.Adam(model_bcrn.parameters(),\n",
    "                       lr=1e-3)\n",
    "cosine_scheduler = optim.lr_scheduler.CosineAnnealingLR(optimizer, T_max=20, verbose=True)\n",
    "warmup_scheduler = GradualWarmupScheduler(optimizer, multiplier=1, total_epoch=30,\n",
    "                                          after_scheduler=cosine_scheduler)"
   ]
  },
  {
   "cell_type": "code",
   "execution_count": 22,
   "metadata": {
    "tags": []
   },
   "outputs": [
    {
     "data": {
      "text/html": [
       "Tracking run with wandb version 0.15.8"
      ],
      "text/plain": [
       "<IPython.core.display.HTML object>"
      ]
     },
     "metadata": {},
     "output_type": "display_data"
    },
    {
     "data": {
      "text/html": [
       "Run data is saved locally in <code>/home/jovyan/project/wandb/run-20230804_170738-20yhghov</code>"
      ],
      "text/plain": [
       "<IPython.core.display.HTML object>"
      ]
     },
     "metadata": {},
     "output_type": "display_data"
    },
    {
     "data": {
      "text/html": [
       "Syncing run <strong><a href='https://wandb.ai/darya-dare/Noise-Estimation/runs/20yhghov' target=\"_blank\">wise-smoke-58</a></strong> to <a href='https://wandb.ai/darya-dare/Noise-Estimation' target=\"_blank\">Weights & Biases</a> (<a href='https://wandb.me/run' target=\"_blank\">docs</a>)<br/>"
      ],
      "text/plain": [
       "<IPython.core.display.HTML object>"
      ]
     },
     "metadata": {},
     "output_type": "display_data"
    },
    {
     "data": {
      "text/html": [
       " View project at <a href='https://wandb.ai/darya-dare/Noise-Estimation' target=\"_blank\">https://wandb.ai/darya-dare/Noise-Estimation</a>"
      ],
      "text/plain": [
       "<IPython.core.display.HTML object>"
      ]
     },
     "metadata": {},
     "output_type": "display_data"
    },
    {
     "data": {
      "text/html": [
       " View run at <a href='https://wandb.ai/darya-dare/Noise-Estimation/runs/20yhghov' target=\"_blank\">https://wandb.ai/darya-dare/Noise-Estimation/runs/20yhghov</a>"
      ],
      "text/plain": [
       "<IPython.core.display.HTML object>"
      ]
     },
     "metadata": {},
     "output_type": "display_data"
    },
    {
     "name": "stderr",
     "output_type": "stream",
     "text": [
      "Epoch 1: Average epoch loss: 0.691 Train accuracy: 0.53, Val accuracy: 0.50: 100%|██████████| 30/30 [00:56<00:00,  1.87s/it]\n",
      "Epoch 2: Average epoch loss: 0.690 Train accuracy: 0.55, Val accuracy: 0.74: 100%|██████████| 30/30 [00:54<00:00,  1.83s/it]\n",
      "Epoch 3: Average epoch loss: 0.683 Train accuracy: 0.62, Val accuracy: 0.71: 100%|██████████| 30/30 [00:54<00:00,  1.83s/it]\n",
      "Epoch 4: Average epoch loss: 0.670 Train accuracy: 0.64, Val accuracy: 0.89: 100%|██████████| 30/30 [00:56<00:00,  1.87s/it]\n",
      "Epoch 5: Average epoch loss: 0.644 Train accuracy: 0.67, Val accuracy: 0.99: 100%|██████████| 30/30 [00:55<00:00,  1.86s/it]\n",
      "Epoch 6: Average epoch loss: 0.558 Train accuracy: 0.93, Val accuracy: 1.00: 100%|██████████| 30/30 [00:56<00:00,  1.88s/it]\n",
      "Epoch 7: Average epoch loss: 0.364 Train accuracy: 0.99, Val accuracy: 1.00: 100%|██████████| 30/30 [00:53<00:00,  1.78s/it]\n",
      "Epoch 8: Average epoch loss: 0.147 Train accuracy: 1.00, Val accuracy: 1.00: 100%|██████████| 30/30 [00:56<00:00,  1.89s/it]\n",
      "Epoch 9: Average epoch loss: 0.045 Train accuracy: 1.00, Val accuracy: 1.00: 100%|██████████| 30/30 [00:56<00:00,  1.89s/it]\n",
      "Epoch 10: Average epoch loss: 0.018 Train accuracy: 1.00, Val accuracy: 1.00: 100%|██████████| 30/30 [00:55<00:00,  1.84s/it]\n",
      "Epoch 11: Average epoch loss: 0.011 Train accuracy: 1.00, Val accuracy: 1.00: 100%|██████████| 30/30 [00:56<00:00,  1.89s/it]\n",
      "Epoch 12: Average epoch loss: 0.007 Train accuracy: 1.00, Val accuracy: 1.00: 100%|██████████| 30/30 [00:56<00:00,  1.88s/it]\n",
      "Epoch 13: Average epoch loss: 0.004 Train accuracy: 1.00, Val accuracy: 1.00: 100%|██████████| 30/30 [00:55<00:00,  1.87s/it]\n",
      "Epoch 14: Average epoch loss: 0.004 Train accuracy: 1.00, Val accuracy: 0.99: 100%|██████████| 30/30 [00:56<00:00,  1.89s/it]\n",
      "Epoch 15: Average epoch loss: 0.005 Train accuracy: 1.00, Val accuracy: 1.00: 100%|██████████| 30/30 [00:55<00:00,  1.85s/it]\n",
      "Epoch 16: Average epoch loss: 0.002 Train accuracy: 1.00, Val accuracy: 1.00: 100%|██████████| 30/30 [00:57<00:00,  1.93s/it]\n",
      "Epoch 17: Average epoch loss: 0.003 Train accuracy: 1.00, Val accuracy: 1.00: 100%|██████████| 30/30 [00:56<00:00,  1.89s/it]\n",
      "Epoch 18: Average epoch loss: 0.002 Train accuracy: 1.00, Val accuracy: 1.00: 100%|██████████| 30/30 [00:54<00:00,  1.81s/it]\n",
      "Epoch 19: Average epoch loss: 0.002 Train accuracy: 1.00, Val accuracy: 1.00: 100%|██████████| 30/30 [00:54<00:00,  1.81s/it]\n",
      "Epoch 20: Average epoch loss: 0.001 Train accuracy: 1.00, Val accuracy: 1.00: 100%|██████████| 30/30 [00:57<00:00,  1.91s/it]\n",
      "Epoch 21: Average epoch loss: 0.001 Train accuracy: 1.00, Val accuracy: 1.00: 100%|██████████| 30/30 [00:56<00:00,  1.87s/it]\n",
      "Epoch 22: Average epoch loss: 0.001 Train accuracy: 1.00, Val accuracy: 1.00: 100%|██████████| 30/30 [00:56<00:00,  1.88s/it]\n",
      "Epoch 23: Average epoch loss: 0.000 Train accuracy: 1.00, Val accuracy: 1.00: 100%|██████████| 30/30 [00:56<00:00,  1.89s/it]\n",
      "Epoch 24: Average epoch loss: 0.001 Train accuracy: 1.00, Val accuracy: 1.00: 100%|██████████| 30/30 [00:53<00:00,  1.79s/it]\n",
      "Epoch 25: Average epoch loss: 0.001 Train accuracy: 1.00, Val accuracy: 1.00: 100%|██████████| 30/30 [00:58<00:00,  1.95s/it]\n",
      "Epoch 26: Average epoch loss: 0.000 Train accuracy: 1.00, Val accuracy: 1.00: 100%|██████████| 30/30 [00:57<00:00,  1.92s/it]\n",
      "Epoch 27: Average epoch loss: 0.009 Train accuracy: 1.00, Val accuracy: 1.00: 100%|██████████| 30/30 [00:54<00:00,  1.83s/it]\n",
      "Epoch 28: Average epoch loss: 0.000 Train accuracy: 1.00, Val accuracy: 1.00: 100%|██████████| 30/30 [00:55<00:00,  1.84s/it]\n",
      "Epoch 29: Average epoch loss: 0.000 Train accuracy: 1.00, Val accuracy: 1.00: 100%|██████████| 30/30 [00:54<00:00,  1.82s/it]\n",
      "Epoch 30: Average epoch loss: 0.000 Train accuracy: 1.00, Val accuracy: 1.00: 100%|██████████| 30/30 [00:54<00:00,  1.82s/it]\n",
      "Epoch 31: Average epoch loss: 0.000 Train accuracy: 1.00, Val accuracy: 1.00: 100%|██████████| 30/30 [00:54<00:00,  1.83s/it]\n",
      "Epoch 32: Average epoch loss: 0.000 Train accuracy: 1.00, Val accuracy: 1.00: 100%|██████████| 30/30 [00:55<00:00,  1.86s/it]\n"
     ]
    },
    {
     "name": "stdout",
     "output_type": "stream",
     "text": [
      "Adjusting learning rate of group 0 to 9.9384e-04.\n"
     ]
    },
    {
     "name": "stderr",
     "output_type": "stream",
     "text": [
      "Epoch 33: Average epoch loss: 0.000 Train accuracy: 1.00, Val accuracy: 1.00: 100%|██████████| 30/30 [00:56<00:00,  1.88s/it]\n"
     ]
    },
    {
     "name": "stdout",
     "output_type": "stream",
     "text": [
      "Adjusting learning rate of group 0 to 9.7553e-04.\n"
     ]
    },
    {
     "name": "stderr",
     "output_type": "stream",
     "text": [
      "Epoch 34: Average epoch loss: 0.000 Train accuracy: 1.00, Val accuracy: 1.00: 100%|██████████| 30/30 [00:53<00:00,  1.79s/it]\n"
     ]
    },
    {
     "name": "stdout",
     "output_type": "stream",
     "text": [
      "Adjusting learning rate of group 0 to 9.4550e-04.\n"
     ]
    },
    {
     "name": "stderr",
     "output_type": "stream",
     "text": [
      "Epoch 35: Average epoch loss: 0.000 Train accuracy: 1.00, Val accuracy: 1.00: 100%|██████████| 30/30 [00:57<00:00,  1.93s/it]\n"
     ]
    },
    {
     "name": "stdout",
     "output_type": "stream",
     "text": [
      "Adjusting learning rate of group 0 to 9.0451e-04.\n"
     ]
    },
    {
     "name": "stderr",
     "output_type": "stream",
     "text": [
      "Epoch 36: Average epoch loss: 0.000 Train accuracy: 1.00, Val accuracy: 1.00: 100%|██████████| 30/30 [00:55<00:00,  1.84s/it]\n"
     ]
    },
    {
     "name": "stdout",
     "output_type": "stream",
     "text": [
      "Adjusting learning rate of group 0 to 8.5355e-04.\n"
     ]
    },
    {
     "name": "stderr",
     "output_type": "stream",
     "text": [
      "Epoch 37: Average epoch loss: 0.000 Train accuracy: 1.00, Val accuracy: 1.00: 100%|██████████| 30/30 [00:54<00:00,  1.81s/it]\n"
     ]
    },
    {
     "name": "stdout",
     "output_type": "stream",
     "text": [
      "Adjusting learning rate of group 0 to 7.9389e-04.\n"
     ]
    },
    {
     "name": "stderr",
     "output_type": "stream",
     "text": [
      "Epoch 38: Average epoch loss: 0.000 Train accuracy: 1.00, Val accuracy: 1.00: 100%|██████████| 30/30 [00:55<00:00,  1.84s/it]\n"
     ]
    },
    {
     "name": "stdout",
     "output_type": "stream",
     "text": [
      "Adjusting learning rate of group 0 to 7.2700e-04.\n"
     ]
    },
    {
     "name": "stderr",
     "output_type": "stream",
     "text": [
      "Epoch 39: Average epoch loss: 0.000 Train accuracy: 1.00, Val accuracy: 1.00: 100%|██████████| 30/30 [00:57<00:00,  1.90s/it]\n"
     ]
    },
    {
     "name": "stdout",
     "output_type": "stream",
     "text": [
      "Adjusting learning rate of group 0 to 6.5451e-04.\n"
     ]
    },
    {
     "name": "stderr",
     "output_type": "stream",
     "text": [
      "Epoch 40: Average epoch loss: 0.000 Train accuracy: 1.00, Val accuracy: 1.00: 100%|██████████| 30/30 [00:58<00:00,  1.94s/it]\n"
     ]
    },
    {
     "name": "stdout",
     "output_type": "stream",
     "text": [
      "Adjusting learning rate of group 0 to 5.7822e-04.\n"
     ]
    },
    {
     "name": "stderr",
     "output_type": "stream",
     "text": [
      "Epoch 41: Average epoch loss: 0.000 Train accuracy: 1.00, Val accuracy: 1.00: 100%|██████████| 30/30 [00:55<00:00,  1.87s/it]\n"
     ]
    },
    {
     "name": "stdout",
     "output_type": "stream",
     "text": [
      "Adjusting learning rate of group 0 to 5.0000e-04.\n"
     ]
    },
    {
     "name": "stderr",
     "output_type": "stream",
     "text": [
      "Epoch 42: Average epoch loss: 0.000 Train accuracy: 1.00, Val accuracy: 1.00: 100%|██████████| 30/30 [00:56<00:00,  1.90s/it]\n"
     ]
    },
    {
     "name": "stdout",
     "output_type": "stream",
     "text": [
      "Adjusting learning rate of group 0 to 4.2178e-04.\n"
     ]
    },
    {
     "name": "stderr",
     "output_type": "stream",
     "text": [
      "Epoch 43: Average epoch loss: 0.000 Train accuracy: 1.00, Val accuracy: 1.00: 100%|██████████| 30/30 [00:56<00:00,  1.90s/it]\n"
     ]
    },
    {
     "name": "stdout",
     "output_type": "stream",
     "text": [
      "Adjusting learning rate of group 0 to 3.4549e-04.\n"
     ]
    },
    {
     "name": "stderr",
     "output_type": "stream",
     "text": [
      "Epoch 44: Average epoch loss: 0.000 Train accuracy: 1.00, Val accuracy: 1.00: 100%|██████████| 30/30 [00:55<00:00,  1.85s/it]\n"
     ]
    },
    {
     "name": "stdout",
     "output_type": "stream",
     "text": [
      "Adjusting learning rate of group 0 to 2.7300e-04.\n"
     ]
    },
    {
     "name": "stderr",
     "output_type": "stream",
     "text": [
      "Epoch 45: Average epoch loss: 0.000 Train accuracy: 1.00, Val accuracy: 1.00: 100%|██████████| 30/30 [00:54<00:00,  1.80s/it]\n"
     ]
    },
    {
     "name": "stdout",
     "output_type": "stream",
     "text": [
      "Adjusting learning rate of group 0 to 2.0611e-04.\n"
     ]
    },
    {
     "name": "stderr",
     "output_type": "stream",
     "text": [
      "Epoch 46: Average epoch loss: 0.000 Train accuracy: 1.00, Val accuracy: 1.00: 100%|██████████| 30/30 [00:55<00:00,  1.85s/it]\n"
     ]
    },
    {
     "name": "stdout",
     "output_type": "stream",
     "text": [
      "Adjusting learning rate of group 0 to 1.4645e-04.\n"
     ]
    },
    {
     "name": "stderr",
     "output_type": "stream",
     "text": [
      "Epoch 47: Average epoch loss: 0.001 Train accuracy: 1.00, Val accuracy: 1.00: 100%|██████████| 30/30 [00:54<00:00,  1.81s/it]\n"
     ]
    },
    {
     "name": "stdout",
     "output_type": "stream",
     "text": [
      "Adjusting learning rate of group 0 to 9.5492e-05.\n"
     ]
    },
    {
     "name": "stderr",
     "output_type": "stream",
     "text": [
      "Epoch 48: Average epoch loss: 0.000 Train accuracy: 1.00, Val accuracy: 1.00: 100%|██████████| 30/30 [00:58<00:00,  1.96s/it]\n"
     ]
    },
    {
     "name": "stdout",
     "output_type": "stream",
     "text": [
      "Adjusting learning rate of group 0 to 5.4497e-05.\n"
     ]
    },
    {
     "name": "stderr",
     "output_type": "stream",
     "text": [
      "Epoch 49: Average epoch loss: 0.000 Train accuracy: 1.00, Val accuracy: 1.00: 100%|██████████| 30/30 [00:57<00:00,  1.91s/it]\n"
     ]
    },
    {
     "name": "stdout",
     "output_type": "stream",
     "text": [
      "Adjusting learning rate of group 0 to 2.4472e-05.\n"
     ]
    },
    {
     "name": "stderr",
     "output_type": "stream",
     "text": [
      "Epoch 50: Average epoch loss: 0.000 Train accuracy: 1.00, Val accuracy: 1.00: 100%|██████████| 30/30 [00:56<00:00,  1.88s/it]"
     ]
    },
    {
     "name": "stdout",
     "output_type": "stream",
     "text": [
      "Adjusting learning rate of group 0 to 6.1558e-06.\n"
     ]
    },
    {
     "name": "stderr",
     "output_type": "stream",
     "text": [
      "\n"
     ]
    },
    {
     "data": {
      "text/html": [
       "Waiting for W&B process to finish... <strong style=\"color:green\">(success).</strong>"
      ],
      "text/plain": [
       "<IPython.core.display.HTML object>"
      ]
     },
     "metadata": {},
     "output_type": "display_data"
    },
    {
     "data": {
      "application/vnd.jupyter.widget-view+json": {
       "model_id": "09c9dfe30f0845e19fc61613c2bfb31c",
       "version_major": 2,
       "version_minor": 0
      },
      "text/plain": [
       "VBox(children=(Label(value='0.003 MB of 0.003 MB uploaded (0.000 MB deduped)\\r'), FloatProgress(value=1.0, max…"
      ]
     },
     "metadata": {},
     "output_type": "display_data"
    },
    {
     "data": {
      "text/html": [
       "<style>\n",
       "    table.wandb td:nth-child(1) { padding: 0 10px; text-align: left ; width: auto;} td:nth-child(2) {text-align: left ; width: 100%}\n",
       "    .wandb-row { display: flex; flex-direction: row; flex-wrap: wrap; justify-content: flex-start; width: 100% }\n",
       "    .wandb-col { display: flex; flex-direction: column; flex-basis: 100%; flex: 1; padding: 10px; }\n",
       "    </style>\n",
       "<div class=\"wandb-row\"><div class=\"wandb-col\"><h3>Run history:</h3><br/><table class=\"wandb\"><tr><td>Epoch</td><td>▁▁▁▁▂▂▂▂▂▃▃▃▃▃▃▄▄▄▄▄▅▅▅▅▅▅▆▆▆▆▆▆▇▇▇▇▇███</td></tr><tr><td>loss</td><td>████▇▅▂▁▁▁▁▁▁▁▁▁▁▁▁▁▁▁▁▁▁▁▁▁▁▁▁▁▁▁▁▁▁▁▁▁</td></tr><tr><td>train_acc</td><td>▁▁▂▃▇███████████████████████████████████</td></tr><tr><td>val_acc</td><td>▁▄▄▆████████████████████████████████████</td></tr></table><br/></div><div class=\"wandb-col\"><h3>Run summary:</h3><br/><table class=\"wandb\"><tr><td>Epoch</td><td>50</td></tr><tr><td>loss</td><td>0.00043</td></tr><tr><td>train_acc</td><td>0.99967</td></tr><tr><td>val_acc</td><td>1.0</td></tr></table><br/></div></div>"
      ],
      "text/plain": [
       "<IPython.core.display.HTML object>"
      ]
     },
     "metadata": {},
     "output_type": "display_data"
    },
    {
     "data": {
      "text/html": [
       " View run <strong style=\"color:#cdcd00\">wise-smoke-58</strong> at: <a href='https://wandb.ai/darya-dare/Noise-Estimation/runs/20yhghov' target=\"_blank\">https://wandb.ai/darya-dare/Noise-Estimation/runs/20yhghov</a><br/>Synced 6 W&B file(s), 0 media file(s), 0 artifact file(s) and 0 other file(s)"
      ],
      "text/plain": [
       "<IPython.core.display.HTML object>"
      ]
     },
     "metadata": {},
     "output_type": "display_data"
    },
    {
     "data": {
      "text/html": [
       "Find logs at: <code>./wandb/run-20230804_170738-20yhghov/logs</code>"
      ],
      "text/plain": [
       "<IPython.core.display.HTML object>"
      ]
     },
     "metadata": {},
     "output_type": "display_data"
    }
   ],
   "source": [
    "loss_history, train_history, val_history = train(model_bcrn, train_loader,\n",
    "                                                 val_loader, loss,\n",
    "                                                 optimizer, warmup_scheduler, num_epochs=50)"
   ]
  },
  {
   "cell_type": "code",
   "execution_count": 23,
   "metadata": {
    "tags": []
   },
   "outputs": [],
   "source": [
    "torch.save(model_bcrn.state_dict(), 'weights_bcrn1.pth')"
   ]
  },
  {
   "cell_type": "code",
   "execution_count": 24,
   "metadata": {
    "tags": []
   },
   "outputs": [],
   "source": [
    "torch.save(optimizer.state_dict(), 'optimizer_bcrn1.pth')"
   ]
  },
  {
   "cell_type": "code",
   "execution_count": 25,
   "metadata": {
    "tags": []
   },
   "outputs": [
    {
     "name": "stdout",
     "output_type": "stream",
     "text": [
      "VGG model test accuracy: 1.00\n"
     ]
    }
   ],
   "source": [
    "bcrn_test_accuracy = compute_accuracy(model_bcrn, test_loader)\n",
    "print(f'VGG model test accuracy: {bcrn_test_accuracy:.2f}')"
   ]
  },
  {
   "cell_type": "markdown",
   "metadata": {
    "tags": []
   },
   "source": [
    "### VGG"
   ]
  },
  {
   "cell_type": "code",
   "execution_count": 11,
   "metadata": {
    "tags": []
   },
   "outputs": [
    {
     "name": "stdout",
     "output_type": "stream",
     "text": [
      "Adjusting learning rate of group 0 to 1.0000e-03.\n"
     ]
    }
   ],
   "source": [
    "from vggNet import VGGModel\n",
    "\n",
    "model_vgg = VGGModel(1, 'vgg11')\n",
    "model_vgg.to(device)\n",
    "model_vgg.type(torch.cuda.FloatTensor)\n",
    "\n",
    "loss = nn.BCELoss().type(torch.cuda.FloatTensor)\n",
    "optimizer = optim.SGD(model_vgg.parameters(), lr=1e-3)\n",
    "cosine_scheduler = optim.lr_scheduler.CosineAnnealingLR(optimizer, T_max=50, verbose=True)\n",
    "warmup_scheduler = GradualWarmupScheduler(optimizer, multiplier=1, total_epoch=25,\n",
    "                                          after_scheduler=cosine_scheduler)"
   ]
  },
  {
   "cell_type": "code",
   "execution_count": 12,
   "metadata": {
    "tags": []
   },
   "outputs": [
    {
     "name": "stderr",
     "output_type": "stream",
     "text": [
      "\u001b[34m\u001b[1mwandb\u001b[0m: Currently logged in as: \u001b[33mdarya-dare\u001b[0m. Use \u001b[1m`wandb login --relogin`\u001b[0m to force relogin\n"
     ]
    },
    {
     "data": {
      "text/html": [
       "Tracking run with wandb version 0.15.8"
      ],
      "text/plain": [
       "<IPython.core.display.HTML object>"
      ]
     },
     "metadata": {},
     "output_type": "display_data"
    },
    {
     "data": {
      "text/html": [
       "Run data is saved locally in <code>/home/jovyan/project/wandb/run-20230804_150925-d342gv3i</code>"
      ],
      "text/plain": [
       "<IPython.core.display.HTML object>"
      ]
     },
     "metadata": {},
     "output_type": "display_data"
    },
    {
     "data": {
      "text/html": [
       "Syncing run <strong><a href='https://wandb.ai/darya-dare/Noise-Estimation/runs/d342gv3i' target=\"_blank\">devoted-leaf-57</a></strong> to <a href='https://wandb.ai/darya-dare/Noise-Estimation' target=\"_blank\">Weights & Biases</a> (<a href='https://wandb.me/run' target=\"_blank\">docs</a>)<br/>"
      ],
      "text/plain": [
       "<IPython.core.display.HTML object>"
      ]
     },
     "metadata": {},
     "output_type": "display_data"
    },
    {
     "data": {
      "text/html": [
       " View project at <a href='https://wandb.ai/darya-dare/Noise-Estimation' target=\"_blank\">https://wandb.ai/darya-dare/Noise-Estimation</a>"
      ],
      "text/plain": [
       "<IPython.core.display.HTML object>"
      ]
     },
     "metadata": {},
     "output_type": "display_data"
    },
    {
     "data": {
      "text/html": [
       " View run at <a href='https://wandb.ai/darya-dare/Noise-Estimation/runs/d342gv3i' target=\"_blank\">https://wandb.ai/darya-dare/Noise-Estimation/runs/d342gv3i</a>"
      ],
      "text/plain": [
       "<IPython.core.display.HTML object>"
      ]
     },
     "metadata": {},
     "output_type": "display_data"
    },
    {
     "name": "stderr",
     "output_type": "stream",
     "text": [
      "Epoch 1: Average epoch loss: 0.743 Train accuracy: 0.52, Val accuracy: 0.49: 100%|██████████| 30/30 [00:57<00:00,  1.92s/it]\n",
      "Epoch 2: Average epoch loss: 0.714 Train accuracy: 0.51, Val accuracy: 0.51: 100%|██████████| 30/30 [00:57<00:00,  1.92s/it]\n",
      "Epoch 3: Average epoch loss: 0.695 Train accuracy: 0.51, Val accuracy: 0.50: 100%|██████████| 30/30 [00:55<00:00,  1.85s/it]\n",
      "Epoch 4: Average epoch loss: 0.682 Train accuracy: 0.53, Val accuracy: 0.50: 100%|██████████| 30/30 [00:59<00:00,  2.00s/it]\n",
      "Epoch 5: Average epoch loss: 0.679 Train accuracy: 0.52, Val accuracy: 0.48: 100%|██████████| 30/30 [00:57<00:00,  1.92s/it]\n",
      "Epoch 6: Average epoch loss: 0.678 Train accuracy: 0.52, Val accuracy: 0.51: 100%|██████████| 30/30 [00:54<00:00,  1.83s/it]\n",
      "Epoch 7: Average epoch loss: 0.658 Train accuracy: 0.54, Val accuracy: 0.50: 100%|██████████| 30/30 [00:58<00:00,  1.97s/it]\n",
      "Epoch 8: Average epoch loss: 0.659 Train accuracy: 0.54, Val accuracy: 0.51: 100%|██████████| 30/30 [00:59<00:00,  1.97s/it]\n",
      "Epoch 9: Average epoch loss: 0.650 Train accuracy: 0.55, Val accuracy: 0.44: 100%|██████████| 30/30 [00:56<00:00,  1.87s/it]\n",
      "Epoch 10: Average epoch loss: 0.640 Train accuracy: 0.56, Val accuracy: 0.51: 100%|██████████| 30/30 [00:59<00:00,  1.97s/it]\n",
      "Epoch 11: Average epoch loss: 0.627 Train accuracy: 0.58, Val accuracy: 0.51: 100%|██████████| 30/30 [00:57<00:00,  1.92s/it]\n",
      "Epoch 12: Average epoch loss: 0.617 Train accuracy: 0.59, Val accuracy: 0.51: 100%|██████████| 30/30 [00:57<00:00,  1.92s/it]\n",
      "Epoch 13: Average epoch loss: 0.606 Train accuracy: 0.62, Val accuracy: 0.51: 100%|██████████| 30/30 [00:57<00:00,  1.90s/it]\n",
      "Epoch 14: Average epoch loss: 0.589 Train accuracy: 0.64, Val accuracy: 0.58: 100%|██████████| 30/30 [00:55<00:00,  1.86s/it]\n",
      "Epoch 15: Average epoch loss: 0.566 Train accuracy: 0.68, Val accuracy: 0.82: 100%|██████████| 30/30 [00:57<00:00,  1.92s/it]\n",
      "Epoch 16: Average epoch loss: 0.541 Train accuracy: 0.72, Val accuracy: 0.85: 100%|██████████| 30/30 [00:58<00:00,  1.94s/it]\n",
      "Epoch 17: Average epoch loss: 0.507 Train accuracy: 0.78, Val accuracy: 0.76: 100%|██████████| 30/30 [00:56<00:00,  1.87s/it]\n",
      "Epoch 18: Average epoch loss: 0.467 Train accuracy: 0.80, Val accuracy: 0.92: 100%|██████████| 30/30 [00:58<00:00,  1.95s/it]\n",
      "Epoch 19: Average epoch loss: 0.437 Train accuracy: 0.83, Val accuracy: 0.92: 100%|██████████| 30/30 [00:57<00:00,  1.92s/it]\n",
      "Epoch 20: Average epoch loss: 0.422 Train accuracy: 0.81, Val accuracy: 0.93: 100%|██████████| 30/30 [01:00<00:00,  2.01s/it]\n",
      "Epoch 21: Average epoch loss: 0.403 Train accuracy: 0.84, Val accuracy: 0.93: 100%|██████████| 30/30 [00:55<00:00,  1.86s/it]\n",
      "Epoch 22: Average epoch loss: 0.393 Train accuracy: 0.83, Val accuracy: 0.86: 100%|██████████| 30/30 [00:56<00:00,  1.89s/it]\n",
      "Epoch 23: Average epoch loss: 0.363 Train accuracy: 0.84, Val accuracy: 0.56: 100%|██████████| 30/30 [00:55<00:00,  1.86s/it]\n",
      "Epoch 24: Average epoch loss: 0.350 Train accuracy: 0.84, Val accuracy: 0.73: 100%|██████████| 30/30 [00:57<00:00,  1.91s/it]\n",
      "Epoch 25: Average epoch loss: 0.343 Train accuracy: 0.83, Val accuracy: 0.94: 100%|██████████| 30/30 [00:57<00:00,  1.91s/it]\n",
      "Epoch 26: Average epoch loss: 0.313 Train accuracy: 0.86, Val accuracy: 0.97: 100%|██████████| 30/30 [00:55<00:00,  1.85s/it]\n",
      "Epoch 27: Average epoch loss: 0.247 Train accuracy: 0.91, Val accuracy: 0.97: 100%|██████████| 30/30 [00:56<00:00,  1.89s/it]\n"
     ]
    },
    {
     "name": "stdout",
     "output_type": "stream",
     "text": [
      "Adjusting learning rate of group 0 to 9.9901e-04.\n"
     ]
    },
    {
     "name": "stderr",
     "output_type": "stream",
     "text": [
      "Epoch 28: Average epoch loss: 0.201 Train accuracy: 0.94, Val accuracy: 0.98: 100%|██████████| 30/30 [00:56<00:00,  1.87s/it]\n"
     ]
    },
    {
     "name": "stdout",
     "output_type": "stream",
     "text": [
      "Adjusting learning rate of group 0 to 9.9606e-04.\n"
     ]
    },
    {
     "name": "stderr",
     "output_type": "stream",
     "text": [
      "Epoch 29: Average epoch loss: 0.197 Train accuracy: 0.93, Val accuracy: 0.98: 100%|██████████| 30/30 [00:57<00:00,  1.92s/it]\n"
     ]
    },
    {
     "name": "stdout",
     "output_type": "stream",
     "text": [
      "Adjusting learning rate of group 0 to 9.9114e-04.\n"
     ]
    },
    {
     "name": "stderr",
     "output_type": "stream",
     "text": [
      "Epoch 30: Average epoch loss: 0.232 Train accuracy: 0.92, Val accuracy: 0.98: 100%|██████████| 30/30 [00:57<00:00,  1.92s/it]\n"
     ]
    },
    {
     "name": "stdout",
     "output_type": "stream",
     "text": [
      "Adjusting learning rate of group 0 to 9.8429e-04.\n"
     ]
    },
    {
     "name": "stderr",
     "output_type": "stream",
     "text": [
      "Epoch 31: Average epoch loss: 0.092 Train accuracy: 0.98, Val accuracy: 0.99: 100%|██████████| 30/30 [00:56<00:00,  1.87s/it]\n"
     ]
    },
    {
     "name": "stdout",
     "output_type": "stream",
     "text": [
      "Adjusting learning rate of group 0 to 9.7553e-04.\n"
     ]
    },
    {
     "name": "stderr",
     "output_type": "stream",
     "text": [
      "Epoch 32: Average epoch loss: 0.078 Train accuracy: 0.98, Val accuracy: 0.99: 100%|██████████| 30/30 [00:57<00:00,  1.93s/it]\n"
     ]
    },
    {
     "name": "stdout",
     "output_type": "stream",
     "text": [
      "Adjusting learning rate of group 0 to 9.6489e-04.\n"
     ]
    },
    {
     "name": "stderr",
     "output_type": "stream",
     "text": [
      "Epoch 33: Average epoch loss: 0.402 Train accuracy: 0.84, Val accuracy: 0.99: 100%|██████████| 30/30 [00:56<00:00,  1.89s/it]\n"
     ]
    },
    {
     "name": "stdout",
     "output_type": "stream",
     "text": [
      "Adjusting learning rate of group 0 to 9.5241e-04.\n"
     ]
    },
    {
     "name": "stderr",
     "output_type": "stream",
     "text": [
      "Epoch 34: Average epoch loss: 0.093 Train accuracy: 0.98, Val accuracy: 0.99: 100%|██████████| 30/30 [00:59<00:00,  1.99s/it]\n"
     ]
    },
    {
     "name": "stdout",
     "output_type": "stream",
     "text": [
      "Adjusting learning rate of group 0 to 9.3815e-04.\n"
     ]
    },
    {
     "name": "stderr",
     "output_type": "stream",
     "text": [
      "Epoch 35: Average epoch loss: 0.054 Train accuracy: 0.99, Val accuracy: 0.99: 100%|██████████| 30/30 [00:57<00:00,  1.92s/it]\n"
     ]
    },
    {
     "name": "stdout",
     "output_type": "stream",
     "text": [
      "Adjusting learning rate of group 0 to 9.2216e-04.\n"
     ]
    },
    {
     "name": "stderr",
     "output_type": "stream",
     "text": [
      "Epoch 36: Average epoch loss: 0.051 Train accuracy: 0.99, Val accuracy: 0.99: 100%|██████████| 30/30 [00:56<00:00,  1.87s/it]\n"
     ]
    },
    {
     "name": "stdout",
     "output_type": "stream",
     "text": [
      "Adjusting learning rate of group 0 to 9.0451e-04.\n"
     ]
    },
    {
     "name": "stderr",
     "output_type": "stream",
     "text": [
      "Epoch 37: Average epoch loss: 0.042 Train accuracy: 0.99, Val accuracy: 0.99: 100%|██████████| 30/30 [00:57<00:00,  1.92s/it]\n"
     ]
    },
    {
     "name": "stdout",
     "output_type": "stream",
     "text": [
      "Adjusting learning rate of group 0 to 8.8526e-04.\n"
     ]
    },
    {
     "name": "stderr",
     "output_type": "stream",
     "text": [
      "Epoch 38: Average epoch loss: 0.037 Train accuracy: 0.99, Val accuracy: 0.99: 100%|██████████| 30/30 [00:59<00:00,  1.97s/it]\n"
     ]
    },
    {
     "name": "stdout",
     "output_type": "stream",
     "text": [
      "Adjusting learning rate of group 0 to 8.6448e-04.\n"
     ]
    },
    {
     "name": "stderr",
     "output_type": "stream",
     "text": [
      "Epoch 39: Average epoch loss: 0.035 Train accuracy: 0.99, Val accuracy: 0.99: 100%|██████████| 30/30 [00:55<00:00,  1.85s/it]\n"
     ]
    },
    {
     "name": "stdout",
     "output_type": "stream",
     "text": [
      "Adjusting learning rate of group 0 to 8.4227e-04.\n"
     ]
    },
    {
     "name": "stderr",
     "output_type": "stream",
     "text": [
      "Epoch 40: Average epoch loss: 0.031 Train accuracy: 0.99, Val accuracy: 1.00: 100%|██████████| 30/30 [00:56<00:00,  1.88s/it]\n"
     ]
    },
    {
     "name": "stdout",
     "output_type": "stream",
     "text": [
      "Adjusting learning rate of group 0 to 8.1871e-04.\n"
     ]
    },
    {
     "name": "stderr",
     "output_type": "stream",
     "text": [
      "Epoch 41: Average epoch loss: 0.029 Train accuracy: 0.99, Val accuracy: 0.99: 100%|██████████| 30/30 [00:57<00:00,  1.92s/it]\n"
     ]
    },
    {
     "name": "stdout",
     "output_type": "stream",
     "text": [
      "Adjusting learning rate of group 0 to 7.9389e-04.\n"
     ]
    },
    {
     "name": "stderr",
     "output_type": "stream",
     "text": [
      "Epoch 42: Average epoch loss: 0.027 Train accuracy: 1.00, Val accuracy: 0.99: 100%|██████████| 30/30 [00:55<00:00,  1.85s/it]\n"
     ]
    },
    {
     "name": "stdout",
     "output_type": "stream",
     "text": [
      "Adjusting learning rate of group 0 to 7.6791e-04.\n"
     ]
    },
    {
     "name": "stderr",
     "output_type": "stream",
     "text": [
      "Epoch 43: Average epoch loss: 0.024 Train accuracy: 1.00, Val accuracy: 0.99: 100%|██████████| 30/30 [00:58<00:00,  1.94s/it]\n"
     ]
    },
    {
     "name": "stdout",
     "output_type": "stream",
     "text": [
      "Adjusting learning rate of group 0 to 7.4088e-04.\n"
     ]
    },
    {
     "name": "stderr",
     "output_type": "stream",
     "text": [
      "Epoch 44: Average epoch loss: 0.024 Train accuracy: 0.99, Val accuracy: 1.00: 100%|██████████| 30/30 [00:57<00:00,  1.93s/it]\n"
     ]
    },
    {
     "name": "stdout",
     "output_type": "stream",
     "text": [
      "Adjusting learning rate of group 0 to 7.1289e-04.\n"
     ]
    },
    {
     "name": "stderr",
     "output_type": "stream",
     "text": [
      "Epoch 45: Average epoch loss: 0.019 Train accuracy: 1.00, Val accuracy: 1.00: 100%|██████████| 30/30 [00:57<00:00,  1.92s/it]\n"
     ]
    },
    {
     "name": "stdout",
     "output_type": "stream",
     "text": [
      "Adjusting learning rate of group 0 to 6.8406e-04.\n"
     ]
    },
    {
     "name": "stderr",
     "output_type": "stream",
     "text": [
      "Epoch 46: Average epoch loss: 0.018 Train accuracy: 1.00, Val accuracy: 1.00: 100%|██████████| 30/30 [00:56<00:00,  1.88s/it]\n"
     ]
    },
    {
     "name": "stdout",
     "output_type": "stream",
     "text": [
      "Adjusting learning rate of group 0 to 6.5451e-04.\n"
     ]
    },
    {
     "name": "stderr",
     "output_type": "stream",
     "text": [
      "Epoch 47: Average epoch loss: 0.022 Train accuracy: 0.99, Val accuracy: 1.00: 100%|██████████| 30/30 [00:57<00:00,  1.92s/it]\n"
     ]
    },
    {
     "name": "stdout",
     "output_type": "stream",
     "text": [
      "Adjusting learning rate of group 0 to 6.2434e-04.\n"
     ]
    },
    {
     "name": "stderr",
     "output_type": "stream",
     "text": [
      "Epoch 48: Average epoch loss: 0.020 Train accuracy: 0.99, Val accuracy: 1.00: 100%|██████████| 30/30 [00:57<00:00,  1.92s/it]\n"
     ]
    },
    {
     "name": "stdout",
     "output_type": "stream",
     "text": [
      "Adjusting learning rate of group 0 to 5.9369e-04.\n"
     ]
    },
    {
     "name": "stderr",
     "output_type": "stream",
     "text": [
      "Epoch 49: Average epoch loss: 0.017 Train accuracy: 1.00, Val accuracy: 1.00: 100%|██████████| 30/30 [00:57<00:00,  1.93s/it]\n"
     ]
    },
    {
     "name": "stdout",
     "output_type": "stream",
     "text": [
      "Adjusting learning rate of group 0 to 5.6267e-04.\n"
     ]
    },
    {
     "name": "stderr",
     "output_type": "stream",
     "text": [
      "Epoch 50: Average epoch loss: 0.021 Train accuracy: 0.99, Val accuracy: 1.00: 100%|██████████| 30/30 [00:55<00:00,  1.84s/it]\n"
     ]
    },
    {
     "name": "stdout",
     "output_type": "stream",
     "text": [
      "Adjusting learning rate of group 0 to 5.3140e-04.\n"
     ]
    },
    {
     "name": "stderr",
     "output_type": "stream",
     "text": [
      "Epoch 51: Average epoch loss: 0.019 Train accuracy: 1.00, Val accuracy: 1.00: 100%|██████████| 30/30 [00:58<00:00,  1.94s/it]\n"
     ]
    },
    {
     "name": "stdout",
     "output_type": "stream",
     "text": [
      "Adjusting learning rate of group 0 to 5.0000e-04.\n"
     ]
    },
    {
     "name": "stderr",
     "output_type": "stream",
     "text": [
      "Epoch 52: Average epoch loss: 0.017 Train accuracy: 1.00, Val accuracy: 1.00: 100%|██████████| 30/30 [00:57<00:00,  1.91s/it]\n"
     ]
    },
    {
     "name": "stdout",
     "output_type": "stream",
     "text": [
      "Adjusting learning rate of group 0 to 4.6860e-04.\n"
     ]
    },
    {
     "name": "stderr",
     "output_type": "stream",
     "text": [
      "Epoch 53: Average epoch loss: 0.016 Train accuracy: 1.00, Val accuracy: 1.00: 100%|██████████| 30/30 [00:58<00:00,  1.94s/it]\n"
     ]
    },
    {
     "name": "stdout",
     "output_type": "stream",
     "text": [
      "Adjusting learning rate of group 0 to 4.3733e-04.\n"
     ]
    },
    {
     "name": "stderr",
     "output_type": "stream",
     "text": [
      "Epoch 54: Average epoch loss: 0.014 Train accuracy: 1.00, Val accuracy: 1.00: 100%|██████████| 30/30 [00:56<00:00,  1.89s/it]\n"
     ]
    },
    {
     "name": "stdout",
     "output_type": "stream",
     "text": [
      "Adjusting learning rate of group 0 to 4.0631e-04.\n"
     ]
    },
    {
     "name": "stderr",
     "output_type": "stream",
     "text": [
      "Epoch 55: Average epoch loss: 0.013 Train accuracy: 1.00, Val accuracy: 1.00: 100%|██████████| 30/30 [00:54<00:00,  1.83s/it]\n"
     ]
    },
    {
     "name": "stdout",
     "output_type": "stream",
     "text": [
      "Adjusting learning rate of group 0 to 3.7566e-04.\n"
     ]
    },
    {
     "name": "stderr",
     "output_type": "stream",
     "text": [
      "Epoch 56: Average epoch loss: 0.013 Train accuracy: 1.00, Val accuracy: 1.00: 100%|██████████| 30/30 [00:58<00:00,  1.95s/it]\n"
     ]
    },
    {
     "name": "stdout",
     "output_type": "stream",
     "text": [
      "Adjusting learning rate of group 0 to 3.4549e-04.\n"
     ]
    },
    {
     "name": "stderr",
     "output_type": "stream",
     "text": [
      "Epoch 57: Average epoch loss: 0.016 Train accuracy: 1.00, Val accuracy: 1.00: 100%|██████████| 30/30 [00:58<00:00,  1.95s/it]\n"
     ]
    },
    {
     "name": "stdout",
     "output_type": "stream",
     "text": [
      "Adjusting learning rate of group 0 to 3.1594e-04.\n"
     ]
    },
    {
     "name": "stderr",
     "output_type": "stream",
     "text": [
      "Epoch 58: Average epoch loss: 0.015 Train accuracy: 1.00, Val accuracy: 1.00: 100%|██████████| 30/30 [00:59<00:00,  1.97s/it]\n"
     ]
    },
    {
     "name": "stdout",
     "output_type": "stream",
     "text": [
      "Adjusting learning rate of group 0 to 2.8711e-04.\n"
     ]
    },
    {
     "name": "stderr",
     "output_type": "stream",
     "text": [
      "Epoch 59: Average epoch loss: 0.015 Train accuracy: 1.00, Val accuracy: 1.00: 100%|██████████| 30/30 [00:57<00:00,  1.92s/it]\n"
     ]
    },
    {
     "name": "stdout",
     "output_type": "stream",
     "text": [
      "Adjusting learning rate of group 0 to 2.5912e-04.\n"
     ]
    },
    {
     "name": "stderr",
     "output_type": "stream",
     "text": [
      "Epoch 60: Average epoch loss: 0.012 Train accuracy: 1.00, Val accuracy: 1.00: 100%|██████████| 30/30 [00:58<00:00,  1.95s/it]\n"
     ]
    },
    {
     "name": "stdout",
     "output_type": "stream",
     "text": [
      "Adjusting learning rate of group 0 to 2.3209e-04.\n"
     ]
    },
    {
     "name": "stderr",
     "output_type": "stream",
     "text": [
      "Epoch 61: Average epoch loss: 0.016 Train accuracy: 1.00, Val accuracy: 1.00: 100%|██████████| 30/30 [00:58<00:00,  1.95s/it]\n"
     ]
    },
    {
     "name": "stdout",
     "output_type": "stream",
     "text": [
      "Adjusting learning rate of group 0 to 2.0611e-04.\n"
     ]
    },
    {
     "name": "stderr",
     "output_type": "stream",
     "text": [
      "Epoch 62: Average epoch loss: 0.013 Train accuracy: 1.00, Val accuracy: 1.00: 100%|██████████| 30/30 [00:54<00:00,  1.83s/it]\n"
     ]
    },
    {
     "name": "stdout",
     "output_type": "stream",
     "text": [
      "Adjusting learning rate of group 0 to 1.8129e-04.\n"
     ]
    },
    {
     "name": "stderr",
     "output_type": "stream",
     "text": [
      "Epoch 63: Average epoch loss: 0.015 Train accuracy: 1.00, Val accuracy: 1.00: 100%|██████████| 30/30 [00:58<00:00,  1.97s/it]\n"
     ]
    },
    {
     "name": "stdout",
     "output_type": "stream",
     "text": [
      "Adjusting learning rate of group 0 to 1.5773e-04.\n"
     ]
    },
    {
     "name": "stderr",
     "output_type": "stream",
     "text": [
      "Epoch 64: Average epoch loss: 0.013 Train accuracy: 1.00, Val accuracy: 1.00: 100%|██████████| 30/30 [00:57<00:00,  1.93s/it]\n"
     ]
    },
    {
     "name": "stdout",
     "output_type": "stream",
     "text": [
      "Adjusting learning rate of group 0 to 1.3552e-04.\n"
     ]
    },
    {
     "name": "stderr",
     "output_type": "stream",
     "text": [
      "Epoch 65: Average epoch loss: 0.013 Train accuracy: 1.00, Val accuracy: 1.00: 100%|██████████| 30/30 [00:56<00:00,  1.90s/it]\n"
     ]
    },
    {
     "name": "stdout",
     "output_type": "stream",
     "text": [
      "Adjusting learning rate of group 0 to 1.1474e-04.\n"
     ]
    },
    {
     "name": "stderr",
     "output_type": "stream",
     "text": [
      "Epoch 66: Average epoch loss: 0.013 Train accuracy: 1.00, Val accuracy: 1.00: 100%|██████████| 30/30 [00:55<00:00,  1.85s/it]\n"
     ]
    },
    {
     "name": "stdout",
     "output_type": "stream",
     "text": [
      "Adjusting learning rate of group 0 to 9.5492e-05.\n"
     ]
    },
    {
     "name": "stderr",
     "output_type": "stream",
     "text": [
      "Epoch 67: Average epoch loss: 0.012 Train accuracy: 1.00, Val accuracy: 1.00: 100%|██████████| 30/30 [00:58<00:00,  1.94s/it]\n"
     ]
    },
    {
     "name": "stdout",
     "output_type": "stream",
     "text": [
      "Adjusting learning rate of group 0 to 7.7836e-05.\n"
     ]
    },
    {
     "name": "stderr",
     "output_type": "stream",
     "text": [
      "Epoch 68: Average epoch loss: 0.014 Train accuracy: 1.00, Val accuracy: 1.00: 100%|██████████| 30/30 [00:57<00:00,  1.90s/it]\n"
     ]
    },
    {
     "name": "stdout",
     "output_type": "stream",
     "text": [
      "Adjusting learning rate of group 0 to 6.1847e-05.\n"
     ]
    },
    {
     "name": "stderr",
     "output_type": "stream",
     "text": [
      "Epoch 69: Average epoch loss: 0.011 Train accuracy: 1.00, Val accuracy: 1.00: 100%|██████████| 30/30 [00:56<00:00,  1.88s/it]\n"
     ]
    },
    {
     "name": "stdout",
     "output_type": "stream",
     "text": [
      "Adjusting learning rate of group 0 to 4.7586e-05.\n"
     ]
    },
    {
     "name": "stderr",
     "output_type": "stream",
     "text": [
      "Epoch 70: Average epoch loss: 0.012 Train accuracy: 1.00, Val accuracy: 1.00: 100%|██████████| 30/30 [00:56<00:00,  1.90s/it]\n"
     ]
    },
    {
     "name": "stdout",
     "output_type": "stream",
     "text": [
      "Adjusting learning rate of group 0 to 3.5112e-05.\n"
     ]
    },
    {
     "name": "stderr",
     "output_type": "stream",
     "text": [
      "Epoch 71: Average epoch loss: 0.013 Train accuracy: 1.00, Val accuracy: 0.99: 100%|██████████| 30/30 [00:57<00:00,  1.92s/it]\n"
     ]
    },
    {
     "name": "stdout",
     "output_type": "stream",
     "text": [
      "Adjusting learning rate of group 0 to 2.4472e-05.\n"
     ]
    },
    {
     "name": "stderr",
     "output_type": "stream",
     "text": [
      "Epoch 72: Average epoch loss: 0.013 Train accuracy: 1.00, Val accuracy: 1.00: 100%|██████████| 30/30 [00:57<00:00,  1.90s/it]\n"
     ]
    },
    {
     "name": "stdout",
     "output_type": "stream",
     "text": [
      "Adjusting learning rate of group 0 to 1.5708e-05.\n"
     ]
    },
    {
     "name": "stderr",
     "output_type": "stream",
     "text": [
      "Epoch 73: Average epoch loss: 0.014 Train accuracy: 1.00, Val accuracy: 1.00: 100%|██████████| 30/30 [00:57<00:00,  1.91s/it]\n"
     ]
    },
    {
     "name": "stdout",
     "output_type": "stream",
     "text": [
      "Adjusting learning rate of group 0 to 8.8564e-06.\n"
     ]
    },
    {
     "name": "stderr",
     "output_type": "stream",
     "text": [
      "Epoch 74: Average epoch loss: 0.012 Train accuracy: 1.00, Val accuracy: 1.00: 100%|██████████| 30/30 [00:59<00:00,  1.98s/it]\n"
     ]
    },
    {
     "name": "stdout",
     "output_type": "stream",
     "text": [
      "Adjusting learning rate of group 0 to 3.9426e-06.\n"
     ]
    },
    {
     "name": "stderr",
     "output_type": "stream",
     "text": [
      "Epoch 75: Average epoch loss: 0.013 Train accuracy: 1.00, Val accuracy: 1.00: 100%|██████████| 30/30 [00:57<00:00,  1.93s/it]\n"
     ]
    },
    {
     "name": "stdout",
     "output_type": "stream",
     "text": [
      "Adjusting learning rate of group 0 to 9.8664e-07.\n"
     ]
    },
    {
     "name": "stderr",
     "output_type": "stream",
     "text": [
      "Epoch 76: Average epoch loss: 0.012 Train accuracy: 1.00, Val accuracy: 1.00: 100%|██████████| 30/30 [00:56<00:00,  1.87s/it]\n"
     ]
    },
    {
     "name": "stdout",
     "output_type": "stream",
     "text": [
      "Adjusting learning rate of group 0 to 0.0000e+00.\n"
     ]
    },
    {
     "name": "stderr",
     "output_type": "stream",
     "text": [
      "Epoch 77: Average epoch loss: 0.012 Train accuracy: 1.00, Val accuracy: 1.00: 100%|██████████| 30/30 [00:56<00:00,  1.88s/it]\n"
     ]
    },
    {
     "name": "stdout",
     "output_type": "stream",
     "text": [
      "Adjusting learning rate of group 0 to 9.8664e-07.\n"
     ]
    },
    {
     "name": "stderr",
     "output_type": "stream",
     "text": [
      "Epoch 78: Average epoch loss: 0.011 Train accuracy: 1.00, Val accuracy: 1.00: 100%|██████████| 30/30 [00:56<00:00,  1.88s/it]\n"
     ]
    },
    {
     "name": "stdout",
     "output_type": "stream",
     "text": [
      "Adjusting learning rate of group 0 to 3.9426e-06.\n"
     ]
    },
    {
     "name": "stderr",
     "output_type": "stream",
     "text": [
      "Epoch 79: Average epoch loss: 0.012 Train accuracy: 1.00, Val accuracy: 1.00: 100%|██████████| 30/30 [00:58<00:00,  1.95s/it]\n"
     ]
    },
    {
     "name": "stdout",
     "output_type": "stream",
     "text": [
      "Adjusting learning rate of group 0 to 8.8564e-06.\n"
     ]
    },
    {
     "name": "stderr",
     "output_type": "stream",
     "text": [
      "Epoch 80: Average epoch loss: 0.012 Train accuracy: 1.00, Val accuracy: 1.00: 100%|██████████| 30/30 [00:55<00:00,  1.86s/it]"
     ]
    },
    {
     "name": "stdout",
     "output_type": "stream",
     "text": [
      "Adjusting learning rate of group 0 to 1.5708e-05.\n"
     ]
    },
    {
     "name": "stderr",
     "output_type": "stream",
     "text": [
      "\n"
     ]
    },
    {
     "data": {
      "text/html": [
       "Waiting for W&B process to finish... <strong style=\"color:green\">(success).</strong>"
      ],
      "text/plain": [
       "<IPython.core.display.HTML object>"
      ]
     },
     "metadata": {},
     "output_type": "display_data"
    },
    {
     "data": {
      "text/html": [
       "<style>\n",
       "    table.wandb td:nth-child(1) { padding: 0 10px; text-align: left ; width: auto;} td:nth-child(2) {text-align: left ; width: 100%}\n",
       "    .wandb-row { display: flex; flex-direction: row; flex-wrap: wrap; justify-content: flex-start; width: 100% }\n",
       "    .wandb-col { display: flex; flex-direction: column; flex-basis: 100%; flex: 1; padding: 10px; }\n",
       "    </style>\n",
       "<div class=\"wandb-row\"><div class=\"wandb-col\"><h3>Run history:</h3><br/><table class=\"wandb\"><tr><td>Epoch</td><td>▁▁▁▂▂▂▂▂▂▃▃▃▃▃▃▄▄▄▄▄▅▅▅▅▅▅▆▆▆▆▆▆▇▇▇▇▇███</td></tr><tr><td>loss</td><td>██▇▇▇▇▇▆▆▅▅▄▄▃▃▂▅▁▁▁▁▁▁▁▁▁▁▁▁▁▁▁▁▁▁▁▁▁▁▁</td></tr><tr><td>train_acc</td><td>▁▁▁▁▂▂▂▃▅▆▆▆▆▇▇█▆███████████████████████</td></tr><tr><td>val_acc</td><td>▂▂▁▂▁▂▂▆▅▇▇▂▇███████████████████████████</td></tr></table><br/></div><div class=\"wandb-col\"><h3>Run summary:</h3><br/><table class=\"wandb\"><tr><td>Epoch</td><td>80</td></tr><tr><td>loss</td><td>0.01185</td></tr><tr><td>train_acc</td><td>0.998</td></tr><tr><td>val_acc</td><td>0.999</td></tr></table><br/></div></div>"
      ],
      "text/plain": [
       "<IPython.core.display.HTML object>"
      ]
     },
     "metadata": {},
     "output_type": "display_data"
    },
    {
     "data": {
      "text/html": [
       " View run <strong style=\"color:#cdcd00\">devoted-leaf-57</strong> at: <a href='https://wandb.ai/darya-dare/Noise-Estimation/runs/d342gv3i' target=\"_blank\">https://wandb.ai/darya-dare/Noise-Estimation/runs/d342gv3i</a><br/>Synced 6 W&B file(s), 0 media file(s), 0 artifact file(s) and 0 other file(s)"
      ],
      "text/plain": [
       "<IPython.core.display.HTML object>"
      ]
     },
     "metadata": {},
     "output_type": "display_data"
    },
    {
     "data": {
      "text/html": [
       "Find logs at: <code>./wandb/run-20230804_150925-d342gv3i/logs</code>"
      ],
      "text/plain": [
       "<IPython.core.display.HTML object>"
      ]
     },
     "metadata": {},
     "output_type": "display_data"
    }
   ],
   "source": [
    "loss_history, train_history, val_history = train(model_vgg, train_loader,\n",
    "                                                 val_loader, loss,\n",
    "                                                 optimizer, warmup_scheduler,\n",
    "                                                 num_epochs=80)"
   ]
  },
  {
   "cell_type": "code",
   "execution_count": 13,
   "metadata": {
    "tags": []
   },
   "outputs": [],
   "source": [
    "torch.save(model_vgg.state_dict(), 'weights_vgg1.pth')"
   ]
  },
  {
   "cell_type": "code",
   "execution_count": 14,
   "metadata": {
    "tags": []
   },
   "outputs": [],
   "source": [
    "torch.save(optimizer.state_dict(), 'optimizer_vgg1.pth')"
   ]
  },
  {
   "cell_type": "code",
   "execution_count": 15,
   "metadata": {
    "tags": []
   },
   "outputs": [
    {
     "name": "stdout",
     "output_type": "stream",
     "text": [
      "VGG model test accuracy: 1.00\n"
     ]
    }
   ],
   "source": [
    "vgg_test_accuracy = compute_accuracy(model_vgg, test_loader)\n",
    "print(f'VGG model test accuracy: {vgg_test_accuracy:.2f}')"
   ]
  },
  {
   "cell_type": "markdown",
   "metadata": {},
   "source": [
    "### Trial Dataset"
   ]
  },
  {
   "cell_type": "code",
   "execution_count": 15,
   "metadata": {
    "tags": []
   },
   "outputs": [],
   "source": [
    "class TrialDataset(Dataset):\n",
    "\n",
    "    def __init__(self, path_noise, eps_value=1e-6,\\\n",
    "                 mel_nframes=300, sample_rate=16000, n_fft=480,\\\n",
    "                 hop_length=160, n_mels=40):\n",
    "\n",
    "        self.noise = pd.read_csv(path_noise)\n",
    "        self.wave_still = torch.empty(1, 40, 300)\n",
    "        self.eps_value = eps_value\n",
    "        self.mel_nframes = mel_nframes\n",
    "        self.sample_rate = sample_rate\n",
    "        self.n_fft = n_fft\n",
    "        self.hop_length = hop_length\n",
    "        self.n_mels = n_mels\n",
    "        self.mel_spectrogram = T.MelSpectrogram(sample_rate=self.sample_rate,\n",
    "                                                n_fft=self.n_fft,\n",
    "                                                hop_length=self.hop_length,\n",
    "                                                center=True,\n",
    "                                                pad_mode=\"reflect\",\n",
    "                                                power=2.0,\n",
    "                                                norm='slaney',\n",
    "                                                n_mels=self.n_mels)\n",
    "\n",
    "    def __len__(self):\n",
    "\n",
    "        return len(self.noise)\n",
    "\n",
    "    def get_same_shape(self, waveform):\n",
    "\n",
    "        # melsp = torch.log(self.mel_spectrogram(waveform) + self.eps_value)\n",
    "        melsp = self.mel_spectrogram(waveform)\n",
    "        has_mel_nframes = melsp.size(2) if melsp.size(2) < self.mel_nframes\\\n",
    "         else self.mel_nframes\n",
    "\n",
    "        image_tens = torch.full((1, self.n_mels, self.mel_nframes), melsp.min())\n",
    "        image_tens[0, :, :has_mel_nframes] = melsp[:, :, :has_mel_nframes]\n",
    "\n",
    "        return image_tens\n",
    "\n",
    "    def load_item(self, df, idx):\n",
    "\n",
    "        sample_wav_file = df['filename'][idx]\n",
    "        wave, _ = torchaudio.load(sample_wav_file)\n",
    "        wave = wave.float()\n",
    "\n",
    "        wave_melsp = self.get_same_shape(wave)\n",
    "\n",
    "        return wave_melsp\n",
    "\n",
    "    def __getitem__(self, idx):\n",
    "\n",
    "        luck = random.random()\n",
    "        if luck >= 0.5:\n",
    "            wave_out = self.load_item(self.noise, idx)\n",
    "            label = 1\n",
    "\n",
    "        else:\n",
    "            wave_out = torch.fill(self.wave_still, -1)\n",
    "            label = 0\n",
    "\n",
    "        return wave_out, torch.tensor(label).type(torch.cuda.FloatTensor)"
   ]
  },
  {
   "cell_type": "code",
   "execution_count": 16,
   "metadata": {
    "tags": []
   },
   "outputs": [],
   "source": [
    "trial_dataset_train = TrialDataset('./NoiseTrain.csv')\n",
    "\n",
    "trial_dataset_val = TrialDataset('./NoiseVal.csv')"
   ]
  },
  {
   "cell_type": "code",
   "execution_count": 6,
   "metadata": {
    "tags": []
   },
   "outputs": [
    {
     "name": "stdout",
     "output_type": "stream",
     "text": [
      "1.0\n"
     ]
    },
    {
     "data": {
      "image/png": "[encoded data removed]",
      "text/plain": [
       "<Figure size 640x480 with 1 Axes>"
      ]
     },
     "metadata": {},
     "output_type": "display_data"
    }
   ],
   "source": [
    "melspec,label = trial_dataset_train[5]\n",
    "print(label.item())\n",
    "import matplotlib.pyplot as plt\n",
    "plt.imshow(melspec.squeeze(0))\n",
    "plt.show()"
   ]
  },
  {
   "cell_type": "markdown",
   "metadata": {},
   "source": [
    "### Data Loader"
   ]
  },
  {
   "cell_type": "code",
   "execution_count": 17,
   "metadata": {
    "tags": []
   },
   "outputs": [],
   "source": [
    "train_loader = DataLoader(dataset=trial_dataset_train,\n",
    "                          batch_size=64, drop_last=True)\n",
    "\n",
    "val_loader = DataLoader(dataset=trial_dataset_val,\n",
    "                        batch_size=64, drop_last=True)"
   ]
  },
  {
   "cell_type": "markdown",
   "metadata": {},
   "source": [
    "### Train function"
   ]
  },
  {
   "cell_type": "code",
   "execution_count": 8,
   "metadata": {
    "tags": []
   },
   "outputs": [],
   "source": [
    "# def get_preds_for_bce(prediction, target):\n",
    "#     correct_preds = []\n",
    "    \n",
    "#     for i in range(len(target)):\n",
    "#         if target[i] == 0:\n",
    "#             correct_preds.append(prediction[i][0])\n",
    "#         else:\n",
    "#             correct_preds.append(prediction[i][1])\n",
    "    \n",
    "#     return torch.tensor(correct_preds).type(torch.cuda.FloatTensor)"
   ]
  },
  {
   "cell_type": "code",
   "execution_count": 18,
   "metadata": {
    "tags": []
   },
   "outputs": [],
   "source": [
    "def get_lr(optimizer):\n",
    "    for param_group in optimizer.param_groups:\n",
    "        return param_group['lr']"
   ]
  },
  {
   "cell_type": "code",
   "execution_count": 19,
   "metadata": {
    "tags": []
   },
   "outputs": [],
   "source": [
    "def compute_accuracy(model, loader):\n",
    "\n",
    "    model.eval()\n",
    "\n",
    "    correct_samples = 0\n",
    "    total_samples = 0\n",
    "\n",
    "    for i, (x, y) in enumerate(loader):\n",
    "        \n",
    "        x_gpu = x.to(device)\n",
    "        y_gpu = y.to(device)\n",
    "\n",
    "        prediction = model(x_gpu)\n",
    "        indices = torch.argmax(prediction, 1)\n",
    "        correct_samples += torch.sum(indices==y_gpu)\n",
    "        total_samples += y.size(0)\n",
    "\n",
    "    return float(correct_samples) / total_samples"
   ]
  },
  {
   "cell_type": "code",
   "execution_count": 23,
   "metadata": {
    "tags": []
   },
   "outputs": [],
   "source": [
    "def train_trial(model, train_loader, val_loader, loss,\n",
    "          optimizer, warmup_scheduler, num_epochs):\n",
    "\n",
    "    wandb.init(\n",
    "        project='Silence-Noise',\n",
    "        config={'learning_rate': 1e-3,\n",
    "                'model': 'VGG',\n",
    "                'loss': 'BCELoss',\n",
    "                'optimizer': 'SGD',\n",
    "                'scheduler': 'None',\n",
    "                'epochs': num_epochs}\n",
    "    )\n",
    "\n",
    "    loss_history = []\n",
    "    train_history = []\n",
    "    val_history = []\n",
    "\n",
    "    for epoch in range(num_epochs):\n",
    "        model.train()\n",
    "\n",
    "        loss_accum = 0\n",
    "        correct_samples = 0\n",
    "        total_samples = 0\n",
    "        num_batches = 0\n",
    "        print(f\"Epoch # {epoch+1} - LR: {get_lr(optimizer)}\")\n",
    "        \n",
    "        with tqdm(total=len(train_loader),\n",
    "                  desc=f'Epoch {epoch+1}',\n",
    "                  leave=True) as pb:\n",
    "\n",
    "            for i, (x, y) in enumerate(train_loader):\n",
    "\n",
    "                x_gpu = x.to(device)\n",
    "                y_gpu = y.to(device)\n",
    "\n",
    "                optimizer.zero_grad()\n",
    "                prediction = model(x_gpu).squeeze(1)\n",
    "                \n",
    "                # preds = get_preds_for_bce(prediction, y_gpu)\n",
    "                # preds.requires_grad_()\n",
    "                # preds_gpu = preds.to(device)\n",
    "                \n",
    "                \n",
    "                # BUG: Considering all other changes, we don't need that\n",
    "                #values, indices = torch.max(prediction, 1)\n",
    "                \n",
    "                # BUG: we put prediction to loss function, not inference results\n",
    "                # loss_value = loss(values, y_gpu.float())\n",
    "                loss_value = loss(prediction, y_gpu.float())\n",
    "                loss_value.backward()\n",
    "                optimizer.step()\n",
    "\n",
    "                correct_samples += torch.sum(prediction.round()==y_gpu)\n",
    "                total_samples += y.size(0)\n",
    "                loss_accum += loss_value\n",
    "\n",
    "                pb.update()\n",
    "                # BUG: Average loss should be loss_accum/num_batches\n",
    "                pb.set_description( f'Epoch {epoch+1}:' \n",
    "                                    f' LR: {get_lr(optimizer)}'\n",
    "                                    f' Average epoch loss: {loss_accum/num_batches:.3f}'\n",
    "                                    f' Train accuracy:'\n",
    "                                    f' {correct_samples/total_samples:.2f},'\n",
    "                                    )\n",
    "                num_batches += 1\n",
    "            \n",
    "            # BUG: was /epoch+1, needs to be /num_batches\n",
    "            # ave_loss = loss_accum / /epoch+1\n",
    "            ave_loss = loss_accum / num_batches\n",
    "            train_accuracy = float(correct_samples) / total_samples\n",
    "            val_accuracy = compute_accuracy(model, val_loader)\n",
    "            \n",
    "            if warmup_scheduler:\n",
    "                warmup_scheduler.step()\n",
    "\n",
    "            loss_history.append(float(ave_loss))\n",
    "            train_history.append(train_accuracy)\n",
    "            val_history.append(val_accuracy)\n",
    "\n",
    "            wandb.log({'Epoch': epoch+1, 'loss': ave_loss,\n",
    "                       'train_acc': train_accuracy,\n",
    "                       'val_acc': val_accuracy})\n",
    "            pb.set_description( f'Epoch {epoch+1}:'\n",
    "                                f' Average epoch loss: {loss_accum/num_batches:.3f}'\n",
    "                                f' Train accuracy: {train_accuracy:.2f},'\n",
    "                                f' Val accuracy: {val_accuracy:.2f}'\n",
    "                                )\n",
    "\n",
    "    wandb.finish()\n",
    "    return loss_history, train_history, val_history"
   ]
  },
  {
   "cell_type": "markdown",
   "metadata": {},
   "source": [
    "### VGG"
   ]
  },
  {
   "cell_type": "code",
   "execution_count": 24,
   "metadata": {
    "tags": []
   },
   "outputs": [],
   "source": [
    "# BUG: more like a suggestion, but model should be recreated with each run, so I'd put it here\n",
    "# BUG: model should have 1 as first argument, not 2, because essentially we can use 1 output from the model with threshold in case of binary classification in spite of having 2 labels\n",
    "from vggNet import VGGModel\n",
    "model_vgg = VGGModel(1, 'vgg11')\n",
    "model_vgg.to(device)\n",
    "model_vgg.type(torch.cuda.FloatTensor)\n",
    "\n",
    "loss = nn.BCELoss().type(torch.cuda.FloatTensor)\n",
    "\n",
    "optimizer = optim.SGD(model_vgg.parameters(), lr=1e-3)\n",
    "\n",
    "# cosine_scheduler = optim.lr_scheduler.CosineAnnealingLR(optimizer, T_max=50, verbose=True)\n",
    "\n",
    "#warmup_scheduler = GradualWarmupScheduler(optimizer, multiplier=1, total_epoch=50,\n",
    "#                                          after_scheduler=cosine_scheduler)"
   ]
  },
  {
   "cell_type": "code",
   "execution_count": 25,
   "metadata": {
    "tags": []
   },
   "outputs": [
    {
     "data": {
      "text/html": [
       "Finishing last run (ID:e2vs2gyq) before initializing another..."
      ],
      "text/plain": [
       "<IPython.core.display.HTML object>"
      ]
     },
     "metadata": {},
     "output_type": "display_data"
    },
    {
     "data": {
      "text/html": [
       "Waiting for W&B process to finish... <strong style=\"color:green\">(success).</strong>"
      ],
      "text/plain": [
       "<IPython.core.display.HTML object>"
      ]
     },
     "metadata": {},
     "output_type": "display_data"
    },
    {
     "data": {
      "application/vnd.jupyter.widget-view+json": {
       "model_id": "93fce475416d487f9eecf80f6aa9eb34",
       "version_major": 2,
       "version_minor": 0
      },
      "text/plain": [
       "VBox(children=(Label(value='0.003 MB of 0.029 MB uploaded (0.000 MB deduped)\\r'), FloatProgress(value=0.091581…"
      ]
     },
     "metadata": {},
     "output_type": "display_data"
    },
    {
     "data": {
      "text/html": [
       "<style>\n",
       "    table.wandb td:nth-child(1) { padding: 0 10px; text-align: left ; width: auto;} td:nth-child(2) {text-align: left ; width: 100%}\n",
       "    .wandb-row { display: flex; flex-direction: row; flex-wrap: wrap; justify-content: flex-start; width: 100% }\n",
       "    .wandb-col { display: flex; flex-direction: column; flex-basis: 100%; flex: 1; padding: 10px; }\n",
       "    </style>\n",
       "<div class=\"wandb-row\"><div class=\"wandb-col\"><h3>Run history:</h3><br/><table class=\"wandb\"><tr><td>Epoch</td><td>▁</td></tr><tr><td>loss</td><td>▁</td></tr><tr><td>train_acc</td><td>▁</td></tr><tr><td>val_acc</td><td>▁</td></tr></table><br/></div><div class=\"wandb-col\"><h3>Run summary:</h3><br/><table class=\"wandb\"><tr><td>Epoch</td><td>1</td></tr><tr><td>loss</td><td>0.68452</td></tr><tr><td>train_acc</td><td>0.62142</td></tr><tr><td>val_acc</td><td>0.5166</td></tr></table><br/></div></div>"
      ],
      "text/plain": [
       "<IPython.core.display.HTML object>"
      ]
     },
     "metadata": {},
     "output_type": "display_data"
    },
    {
     "data": {
      "text/html": [
       " View run <strong style=\"color:#cdcd00\">decent-butterfly-34</strong> at: <a href='https://wandb.ai/darya-dare/Silence-Noise/runs/e2vs2gyq' target=\"_blank\">https://wandb.ai/darya-dare/Silence-Noise/runs/e2vs2gyq</a><br/>Synced 6 W&B file(s), 0 media file(s), 0 artifact file(s) and 0 other file(s)"
      ],
      "text/plain": [
       "<IPython.core.display.HTML object>"
      ]
     },
     "metadata": {},
     "output_type": "display_data"
    },
    {
     "data": {
      "text/html": [
       "Find logs at: <code>./wandb/run-20230801_154651-e2vs2gyq/logs</code>"
      ],
      "text/plain": [
       "<IPython.core.display.HTML object>"
      ]
     },
     "metadata": {},
     "output_type": "display_data"
    },
    {
     "data": {
      "text/html": [
       "Successfully finished last run (ID:e2vs2gyq). Initializing new run:<br/>"
      ],
      "text/plain": [
       "<IPython.core.display.HTML object>"
      ]
     },
     "metadata": {},
     "output_type": "display_data"
    },
    {
     "data": {
      "application/vnd.jupyter.widget-view+json": {
       "model_id": "5644822a166549a8b161224b3010e073",
       "version_major": 2,
       "version_minor": 0
      },
      "text/plain": [
       "VBox(children=(Label(value='Waiting for wandb.init()...\\r'), FloatProgress(value=0.01666929225126902, max=1.0)…"
      ]
     },
     "metadata": {},
     "output_type": "display_data"
    },
    {
     "data": {
      "text/html": [
       "Tracking run with wandb version 0.15.7"
      ],
      "text/plain": [
       "<IPython.core.display.HTML object>"
      ]
     },
     "metadata": {},
     "output_type": "display_data"
    },
    {
     "data": {
      "text/html": [
       "Run data is saved locally in <code>/home/jovyan/project/wandb/run-20230801_154757-7h7n3r7d</code>"
      ],
      "text/plain": [
       "<IPython.core.display.HTML object>"
      ]
     },
     "metadata": {},
     "output_type": "display_data"
    },
    {
     "data": {
      "text/html": [
       "Syncing run <strong><a href='https://wandb.ai/darya-dare/Silence-Noise/runs/7h7n3r7d' target=\"_blank\">floral-glade-35</a></strong> to <a href='https://wandb.ai/darya-dare/Silence-Noise' target=\"_blank\">Weights & Biases</a> (<a href='https://wandb.me/run' target=\"_blank\">docs</a>)<br/>"
      ],
      "text/plain": [
       "<IPython.core.display.HTML object>"
      ]
     },
     "metadata": {},
     "output_type": "display_data"
    },
    {
     "data": {
      "text/html": [
       " View project at <a href='https://wandb.ai/darya-dare/Silence-Noise' target=\"_blank\">https://wandb.ai/darya-dare/Silence-Noise</a>"
      ],
      "text/plain": [
       "<IPython.core.display.HTML object>"
      ]
     },
     "metadata": {},
     "output_type": "display_data"
    },
    {
     "data": {
      "text/html": [
       " View run at <a href='https://wandb.ai/darya-dare/Silence-Noise/runs/7h7n3r7d' target=\"_blank\">https://wandb.ai/darya-dare/Silence-Noise/runs/7h7n3r7d</a>"
      ],
      "text/plain": [
       "<IPython.core.display.HTML object>"
      ]
     },
     "metadata": {},
     "output_type": "display_data"
    },
    {
     "name": "stdout",
     "output_type": "stream",
     "text": [
      "Epoch # 1 - LR: 0.001\n"
     ]
    },
    {
     "name": "stderr",
     "output_type": "stream",
     "text": [
      "Epoch 1: Average epoch loss: 0.682 Train accuracy: 0.62, Val accuracy: 0.50: 100%|██████████| 48/48 [00:15<00:00,  3.08it/s]\n"
     ]
    },
    {
     "name": "stdout",
     "output_type": "stream",
     "text": [
      "Epoch # 2 - LR: 0.001\n"
     ]
    },
    {
     "name": "stderr",
     "output_type": "stream",
     "text": [
      "Epoch 2: Average epoch loss: 0.665 Train accuracy: 0.67, Val accuracy: 0.51: 100%|██████████| 48/48 [00:14<00:00,  3.32it/s]\n"
     ]
    },
    {
     "name": "stdout",
     "output_type": "stream",
     "text": [
      "Epoch # 3 - LR: 0.001\n"
     ]
    },
    {
     "name": "stderr",
     "output_type": "stream",
     "text": [
      "Epoch 3: Average epoch loss: 0.642 Train accuracy: 0.59, Val accuracy: 0.48: 100%|██████████| 48/48 [00:14<00:00,  3.30it/s]\n"
     ]
    },
    {
     "name": "stdout",
     "output_type": "stream",
     "text": [
      "Epoch # 4 - LR: 0.001\n"
     ]
    },
    {
     "name": "stderr",
     "output_type": "stream",
     "text": [
      "Epoch 4: Average epoch loss: 0.598 Train accuracy: 0.54, Val accuracy: 0.50: 100%|██████████| 48/48 [00:14<00:00,  3.30it/s]\n"
     ]
    },
    {
     "name": "stdout",
     "output_type": "stream",
     "text": [
      "Epoch # 5 - LR: 0.001\n"
     ]
    },
    {
     "name": "stderr",
     "output_type": "stream",
     "text": [
      "Epoch 5: Average epoch loss: 0.527 Train accuracy: 0.51, Val accuracy: 0.48: 100%|██████████| 48/48 [00:14<00:00,  3.30it/s]\n"
     ]
    },
    {
     "name": "stdout",
     "output_type": "stream",
     "text": [
      "Epoch # 6 - LR: 0.001\n"
     ]
    },
    {
     "name": "stderr",
     "output_type": "stream",
     "text": [
      "Epoch 6: Average epoch loss: 0.453 Train accuracy: 0.53, Val accuracy: 0.49: 100%|██████████| 48/48 [00:14<00:00,  3.29it/s]\n"
     ]
    },
    {
     "name": "stdout",
     "output_type": "stream",
     "text": [
      "Epoch # 7 - LR: 0.001\n"
     ]
    },
    {
     "name": "stderr",
     "output_type": "stream",
     "text": [
      "Epoch 7: Average epoch loss: 0.406 Train accuracy: 0.70, Val accuracy: 0.51: 100%|██████████| 48/48 [00:14<00:00,  3.29it/s]\n"
     ]
    },
    {
     "name": "stdout",
     "output_type": "stream",
     "text": [
      "Epoch # 8 - LR: 0.001\n"
     ]
    },
    {
     "name": "stderr",
     "output_type": "stream",
     "text": [
      "Epoch 8: Average epoch loss: 0.366 Train accuracy: 0.91, Val accuracy: 0.51: 100%|██████████| 48/48 [00:14<00:00,  3.28it/s]\n"
     ]
    },
    {
     "name": "stdout",
     "output_type": "stream",
     "text": [
      "Epoch # 9 - LR: 0.001\n"
     ]
    },
    {
     "name": "stderr",
     "output_type": "stream",
     "text": [
      "Epoch 9: Average epoch loss: 0.326 Train accuracy: 0.99, Val accuracy: 0.49: 100%|██████████| 48/48 [00:14<00:00,  3.30it/s]\n"
     ]
    },
    {
     "name": "stdout",
     "output_type": "stream",
     "text": [
      "Epoch # 10 - LR: 0.001\n"
     ]
    },
    {
     "name": "stderr",
     "output_type": "stream",
     "text": [
      "Epoch 10: Average epoch loss: 0.291 Train accuracy: 1.00, Val accuracy: 0.50: 100%|██████████| 48/48 [00:14<00:00,  3.29it/s]\n"
     ]
    },
    {
     "name": "stdout",
     "output_type": "stream",
     "text": [
      "Epoch # 11 - LR: 0.001\n"
     ]
    },
    {
     "name": "stderr",
     "output_type": "stream",
     "text": [
      "Epoch 11: Average epoch loss: 0.263 Train accuracy: 1.00, Val accuracy: 0.50: 100%|██████████| 48/48 [00:14<00:00,  3.28it/s]\n"
     ]
    },
    {
     "name": "stdout",
     "output_type": "stream",
     "text": [
      "Epoch # 12 - LR: 0.001\n"
     ]
    },
    {
     "name": "stderr",
     "output_type": "stream",
     "text": [
      "Epoch 12: Average epoch loss: 0.219 Train accuracy: 1.00, Val accuracy: 0.50: 100%|██████████| 48/48 [00:14<00:00,  3.29it/s]\n"
     ]
    },
    {
     "name": "stdout",
     "output_type": "stream",
     "text": [
      "Epoch # 13 - LR: 0.001\n"
     ]
    },
    {
     "name": "stderr",
     "output_type": "stream",
     "text": [
      "Epoch 13: Average epoch loss: 0.184 Train accuracy: 1.00, Val accuracy: 0.50: 100%|██████████| 48/48 [00:14<00:00,  3.30it/s]\n"
     ]
    },
    {
     "name": "stdout",
     "output_type": "stream",
     "text": [
      "Epoch # 14 - LR: 0.001\n"
     ]
    },
    {
     "name": "stderr",
     "output_type": "stream",
     "text": [
      "Epoch 14: Average epoch loss: 0.146 Train accuracy: 1.00, Val accuracy: 0.50: 100%|██████████| 48/48 [00:14<00:00,  3.22it/s]\n"
     ]
    },
    {
     "name": "stdout",
     "output_type": "stream",
     "text": [
      "Epoch # 15 - LR: 0.001\n"
     ]
    },
    {
     "name": "stderr",
     "output_type": "stream",
     "text": [
      "Epoch 15: Average epoch loss: 0.116 Train accuracy: 1.00, Val accuracy: 0.49: 100%|██████████| 48/48 [00:14<00:00,  3.29it/s]\n"
     ]
    },
    {
     "name": "stdout",
     "output_type": "stream",
     "text": [
      "Epoch # 16 - LR: 0.001\n"
     ]
    },
    {
     "name": "stderr",
     "output_type": "stream",
     "text": [
      "Epoch 16: Average epoch loss: 0.086 Train accuracy: 1.00, Val accuracy: 0.50: 100%|██████████| 48/48 [00:14<00:00,  3.29it/s]\n"
     ]
    },
    {
     "name": "stdout",
     "output_type": "stream",
     "text": [
      "Epoch # 17 - LR: 0.001\n"
     ]
    },
    {
     "name": "stderr",
     "output_type": "stream",
     "text": [
      "Epoch 17: Average epoch loss: 0.066 Train accuracy: 1.00, Val accuracy: 0.50: 100%|██████████| 48/48 [00:14<00:00,  3.30it/s]\n"
     ]
    },
    {
     "name": "stdout",
     "output_type": "stream",
     "text": [
      "Epoch # 18 - LR: 0.001\n"
     ]
    },
    {
     "name": "stderr",
     "output_type": "stream",
     "text": [
      "Epoch 18: Average epoch loss: 0.050 Train accuracy: 1.00, Val accuracy: 0.53: 100%|██████████| 48/48 [00:14<00:00,  3.30it/s]\n"
     ]
    },
    {
     "name": "stdout",
     "output_type": "stream",
     "text": [
      "Epoch # 19 - LR: 0.001\n"
     ]
    },
    {
     "name": "stderr",
     "output_type": "stream",
     "text": [
      "Epoch 19: Average epoch loss: 0.040 Train accuracy: 1.00, Val accuracy: 0.50: 100%|██████████| 48/48 [00:14<00:00,  3.29it/s]\n"
     ]
    },
    {
     "name": "stdout",
     "output_type": "stream",
     "text": [
      "Epoch # 20 - LR: 0.001\n"
     ]
    },
    {
     "name": "stderr",
     "output_type": "stream",
     "text": [
      "Epoch 20: Average epoch loss: 0.034 Train accuracy: 1.00, Val accuracy: 0.51: 100%|██████████| 48/48 [00:14<00:00,  3.26it/s]\n"
     ]
    },
    {
     "name": "stdout",
     "output_type": "stream",
     "text": [
      "Epoch # 21 - LR: 0.001\n"
     ]
    },
    {
     "name": "stderr",
     "output_type": "stream",
     "text": [
      "Epoch 21: Average epoch loss: 0.026 Train accuracy: 1.00, Val accuracy: 0.53: 100%|██████████| 48/48 [00:14<00:00,  3.29it/s]\n"
     ]
    },
    {
     "name": "stdout",
     "output_type": "stream",
     "text": [
      "Epoch # 22 - LR: 0.001\n"
     ]
    },
    {
     "name": "stderr",
     "output_type": "stream",
     "text": [
      "Epoch 22: Average epoch loss: 0.021 Train accuracy: 1.00, Val accuracy: 0.50: 100%|██████████| 48/48 [00:14<00:00,  3.29it/s]\n"
     ]
    },
    {
     "name": "stdout",
     "output_type": "stream",
     "text": [
      "Epoch # 23 - LR: 0.001\n"
     ]
    },
    {
     "name": "stderr",
     "output_type": "stream",
     "text": [
      "Epoch 23: Average epoch loss: 0.018 Train accuracy: 1.00, Val accuracy: 0.51: 100%|██████████| 48/48 [00:14<00:00,  3.29it/s]\n"
     ]
    },
    {
     "name": "stdout",
     "output_type": "stream",
     "text": [
      "Epoch # 24 - LR: 0.001\n"
     ]
    },
    {
     "name": "stderr",
     "output_type": "stream",
     "text": [
      "Epoch 24: Average epoch loss: 0.015 Train accuracy: 1.00, Val accuracy: 0.49: 100%|██████████| 48/48 [00:14<00:00,  3.28it/s]\n"
     ]
    },
    {
     "name": "stdout",
     "output_type": "stream",
     "text": [
      "Epoch # 25 - LR: 0.001\n"
     ]
    },
    {
     "name": "stderr",
     "output_type": "stream",
     "text": [
      "Epoch 25: Average epoch loss: 0.013 Train accuracy: 1.00, Val accuracy: 0.49: 100%|██████████| 48/48 [00:14<00:00,  3.28it/s]\n"
     ]
    },
    {
     "name": "stdout",
     "output_type": "stream",
     "text": [
      "Epoch # 26 - LR: 0.001\n"
     ]
    },
    {
     "name": "stderr",
     "output_type": "stream",
     "text": [
      "Epoch 26: Average epoch loss: 0.011 Train accuracy: 1.00, Val accuracy: 0.50: 100%|██████████| 48/48 [00:14<00:00,  3.32it/s]\n"
     ]
    },
    {
     "name": "stdout",
     "output_type": "stream",
     "text": [
      "Epoch # 27 - LR: 0.001\n"
     ]
    },
    {
     "name": "stderr",
     "output_type": "stream",
     "text": [
      "Epoch 27: Average epoch loss: 0.009 Train accuracy: 1.00, Val accuracy: 0.46: 100%|██████████| 48/48 [00:14<00:00,  3.29it/s]\n"
     ]
    },
    {
     "name": "stdout",
     "output_type": "stream",
     "text": [
      "Epoch # 28 - LR: 0.001\n"
     ]
    },
    {
     "name": "stderr",
     "output_type": "stream",
     "text": [
      "Epoch 28: Average epoch loss: 0.009 Train accuracy: 1.00, Val accuracy: 0.49: 100%|██████████| 48/48 [00:14<00:00,  3.29it/s]\n"
     ]
    },
    {
     "name": "stdout",
     "output_type": "stream",
     "text": [
      "Epoch # 29 - LR: 0.001\n"
     ]
    },
    {
     "name": "stderr",
     "output_type": "stream",
     "text": [
      "Epoch 29: Average epoch loss: 0.008 Train accuracy: 1.00, Val accuracy: 0.51: 100%|██████████| 48/48 [00:14<00:00,  3.27it/s]\n"
     ]
    },
    {
     "name": "stdout",
     "output_type": "stream",
     "text": [
      "Epoch # 30 - LR: 0.001\n"
     ]
    },
    {
     "name": "stderr",
     "output_type": "stream",
     "text": [
      "Epoch 30: Average epoch loss: 0.007 Train accuracy: 1.00, Val accuracy: 0.51: 100%|██████████| 48/48 [00:14<00:00,  3.30it/s]\n"
     ]
    },
    {
     "name": "stdout",
     "output_type": "stream",
     "text": [
      "Epoch # 31 - LR: 0.001\n"
     ]
    },
    {
     "name": "stderr",
     "output_type": "stream",
     "text": [
      "Epoch 31: Average epoch loss: 0.006 Train accuracy: 1.00, Val accuracy: 0.48: 100%|██████████| 48/48 [00:14<00:00,  3.27it/s]\n"
     ]
    },
    {
     "name": "stdout",
     "output_type": "stream",
     "text": [
      "Epoch # 32 - LR: 0.001\n"
     ]
    },
    {
     "name": "stderr",
     "output_type": "stream",
     "text": [
      "Epoch 32: Average epoch loss: 0.006 Train accuracy: 1.00, Val accuracy: 0.49: 100%|██████████| 48/48 [00:14<00:00,  3.29it/s]\n"
     ]
    },
    {
     "name": "stdout",
     "output_type": "stream",
     "text": [
      "Epoch # 33 - LR: 0.001\n"
     ]
    },
    {
     "name": "stderr",
     "output_type": "stream",
     "text": [
      "Epoch 33: Average epoch loss: 0.005 Train accuracy: 1.00, Val accuracy: 0.51: 100%|██████████| 48/48 [00:14<00:00,  3.28it/s]\n"
     ]
    },
    {
     "name": "stdout",
     "output_type": "stream",
     "text": [
      "Epoch # 34 - LR: 0.001\n"
     ]
    },
    {
     "name": "stderr",
     "output_type": "stream",
     "text": [
      "Epoch 34: Average epoch loss: 0.005 Train accuracy: 1.00, Val accuracy: 0.49: 100%|██████████| 48/48 [00:14<00:00,  3.28it/s]\n"
     ]
    },
    {
     "name": "stdout",
     "output_type": "stream",
     "text": [
      "Epoch # 35 - LR: 0.001\n"
     ]
    },
    {
     "name": "stderr",
     "output_type": "stream",
     "text": [
      "Epoch 35: Average epoch loss: 0.004 Train accuracy: 1.00, Val accuracy: 0.51: 100%|██████████| 48/48 [00:14<00:00,  3.24it/s]\n"
     ]
    },
    {
     "name": "stdout",
     "output_type": "stream",
     "text": [
      "Epoch # 36 - LR: 0.001\n"
     ]
    },
    {
     "name": "stderr",
     "output_type": "stream",
     "text": [
      "Epoch 36: Average epoch loss: 0.004 Train accuracy: 1.00, Val accuracy: 0.50: 100%|██████████| 48/48 [00:14<00:00,  3.27it/s]\n"
     ]
    },
    {
     "name": "stdout",
     "output_type": "stream",
     "text": [
      "Epoch # 37 - LR: 0.001\n"
     ]
    },
    {
     "name": "stderr",
     "output_type": "stream",
     "text": [
      "Epoch 37: Average epoch loss: 0.004 Train accuracy: 1.00, Val accuracy: 0.54: 100%|██████████| 48/48 [00:14<00:00,  3.29it/s]\n"
     ]
    },
    {
     "name": "stdout",
     "output_type": "stream",
     "text": [
      "Epoch # 38 - LR: 0.001\n"
     ]
    },
    {
     "name": "stderr",
     "output_type": "stream",
     "text": [
      "Epoch 38: Average epoch loss: 0.003 Train accuracy: 1.00, Val accuracy: 0.50: 100%|██████████| 48/48 [00:14<00:00,  3.30it/s]\n"
     ]
    },
    {
     "name": "stdout",
     "output_type": "stream",
     "text": [
      "Epoch # 39 - LR: 0.001\n"
     ]
    },
    {
     "name": "stderr",
     "output_type": "stream",
     "text": [
      "Epoch 39: Average epoch loss: 0.003 Train accuracy: 1.00, Val accuracy: 0.51: 100%|██████████| 48/48 [00:14<00:00,  3.29it/s]\n"
     ]
    },
    {
     "name": "stdout",
     "output_type": "stream",
     "text": [
      "Epoch # 40 - LR: 0.001\n"
     ]
    },
    {
     "name": "stderr",
     "output_type": "stream",
     "text": [
      "Epoch 40: Average epoch loss: 0.003 Train accuracy: 1.00, Val accuracy: 0.50: 100%|██████████| 48/48 [00:14<00:00,  3.29it/s]\n"
     ]
    },
    {
     "name": "stdout",
     "output_type": "stream",
     "text": [
      "Epoch # 41 - LR: 0.001\n"
     ]
    },
    {
     "name": "stderr",
     "output_type": "stream",
     "text": [
      "Epoch 41: Average epoch loss: 0.003 Train accuracy: 1.00, Val accuracy: 0.50: 100%|██████████| 48/48 [00:14<00:00,  3.29it/s]\n"
     ]
    },
    {
     "name": "stdout",
     "output_type": "stream",
     "text": [
      "Epoch # 42 - LR: 0.001\n"
     ]
    },
    {
     "name": "stderr",
     "output_type": "stream",
     "text": [
      "Epoch 42: Average epoch loss: 0.003 Train accuracy: 1.00, Val accuracy: 0.48: 100%|██████████| 48/48 [00:14<00:00,  3.29it/s]\n"
     ]
    },
    {
     "name": "stdout",
     "output_type": "stream",
     "text": [
      "Epoch # 43 - LR: 0.001\n"
     ]
    },
    {
     "name": "stderr",
     "output_type": "stream",
     "text": [
      "Epoch 43: Average epoch loss: 0.003 Train accuracy: 1.00, Val accuracy: 0.53: 100%|██████████| 48/48 [00:14<00:00,  3.29it/s]\n"
     ]
    },
    {
     "name": "stdout",
     "output_type": "stream",
     "text": [
      "Epoch # 44 - LR: 0.001\n"
     ]
    },
    {
     "name": "stderr",
     "output_type": "stream",
     "text": [
      "Epoch 44: Average epoch loss: 0.003 Train accuracy: 1.00, Val accuracy: 0.50: 100%|██████████| 48/48 [00:14<00:00,  3.29it/s]\n"
     ]
    },
    {
     "name": "stdout",
     "output_type": "stream",
     "text": [
      "Epoch # 45 - LR: 0.001\n"
     ]
    },
    {
     "name": "stderr",
     "output_type": "stream",
     "text": [
      "Epoch 45: Average epoch loss: 0.002 Train accuracy: 1.00, Val accuracy: 0.48: 100%|██████████| 48/48 [00:14<00:00,  3.28it/s]\n"
     ]
    },
    {
     "name": "stdout",
     "output_type": "stream",
     "text": [
      "Epoch # 46 - LR: 0.001\n"
     ]
    },
    {
     "name": "stderr",
     "output_type": "stream",
     "text": [
      "Epoch 46: Average epoch loss: 0.002 Train accuracy: 1.00, Val accuracy: 0.47: 100%|██████████| 48/48 [00:14<00:00,  3.29it/s]\n"
     ]
    },
    {
     "name": "stdout",
     "output_type": "stream",
     "text": [
      "Epoch # 47 - LR: 0.001\n"
     ]
    },
    {
     "name": "stderr",
     "output_type": "stream",
     "text": [
      "Epoch 47: Average epoch loss: 0.002 Train accuracy: 1.00, Val accuracy: 0.49: 100%|██████████| 48/48 [00:14<00:00,  3.29it/s]\n"
     ]
    },
    {
     "name": "stdout",
     "output_type": "stream",
     "text": [
      "Epoch # 48 - LR: 0.001\n"
     ]
    },
    {
     "name": "stderr",
     "output_type": "stream",
     "text": [
      "Epoch 48: Average epoch loss: 0.002 Train accuracy: 1.00, Val accuracy: 0.53: 100%|██████████| 48/48 [00:14<00:00,  3.30it/s]\n"
     ]
    },
    {
     "name": "stdout",
     "output_type": "stream",
     "text": [
      "Epoch # 49 - LR: 0.001\n"
     ]
    },
    {
     "name": "stderr",
     "output_type": "stream",
     "text": [
      "Epoch 49: Average epoch loss: 0.002 Train accuracy: 1.00, Val accuracy: 0.50: 100%|██████████| 48/48 [00:14<00:00,  3.26it/s]\n"
     ]
    },
    {
     "name": "stdout",
     "output_type": "stream",
     "text": [
      "Epoch # 50 - LR: 0.001\n"
     ]
    },
    {
     "name": "stderr",
     "output_type": "stream",
     "text": [
      "Epoch 50: Average epoch loss: 0.002 Train accuracy: 1.00, Val accuracy: 0.51: 100%|██████████| 48/48 [00:14<00:00,  3.20it/s]\n"
     ]
    },
    {
     "data": {
      "text/html": [
       "Waiting for W&B process to finish... <strong style=\"color:green\">(success).</strong>"
      ],
      "text/plain": [
       "<IPython.core.display.HTML object>"
      ]
     },
     "metadata": {},
     "output_type": "display_data"
    },
    {
     "data": {
      "application/vnd.jupyter.widget-view+json": {
       "model_id": "df4512058985439e8d8d77282b3fb379",
       "version_major": 2,
       "version_minor": 0
      },
      "text/plain": [
       "VBox(children=(Label(value='0.003 MB of 0.003 MB uploaded (0.000 MB deduped)\\r'), FloatProgress(value=1.0, max…"
      ]
     },
     "metadata": {},
     "output_type": "display_data"
    },
    {
     "data": {
      "text/html": [
       "<style>\n",
       "    table.wandb td:nth-child(1) { padding: 0 10px; text-align: left ; width: auto;} td:nth-child(2) {text-align: left ; width: 100%}\n",
       "    .wandb-row { display: flex; flex-direction: row; flex-wrap: wrap; justify-content: flex-start; width: 100% }\n",
       "    .wandb-col { display: flex; flex-direction: column; flex-basis: 100%; flex: 1; padding: 10px; }\n",
       "    </style>\n",
       "<div class=\"wandb-row\"><div class=\"wandb-col\"><h3>Run history:</h3><br/><table class=\"wandb\"><tr><td>Epoch</td><td>▁▁▁▁▂▂▂▂▂▃▃▃▃▃▃▄▄▄▄▄▅▅▅▅▅▅▆▆▆▆▆▆▇▇▇▇▇███</td></tr><tr><td>loss</td><td>███▇▆▅▅▄▄▃▃▂▂▂▁▁▁▁▁▁▁▁▁▁▁▁▁▁▁▁▁▁▁▁▁▁▁▁▁▁</td></tr><tr><td>train_acc</td><td>▂▃▂▁▁▄▇█████████████████████████████████</td></tr><tr><td>val_acc</td><td>▄▅▃▄▃▅▅▃▄▅▅▄▅▅▇▄▇▄▅▄▅▁▄▅▂▄▅▃▅█▄▅▅▃▇▅▂▄▇▅</td></tr></table><br/></div><div class=\"wandb-col\"><h3>Run summary:</h3><br/><table class=\"wandb\"><tr><td>Epoch</td><td>50</td></tr><tr><td>loss</td><td>0.00186</td></tr><tr><td>train_acc</td><td>1.0</td></tr><tr><td>val_acc</td><td>0.51172</td></tr></table><br/></div></div>"
      ],
      "text/plain": [
       "<IPython.core.display.HTML object>"
      ]
     },
     "metadata": {},
     "output_type": "display_data"
    },
    {
     "data": {
      "text/html": [
       " View run <strong style=\"color:#cdcd00\">floral-glade-35</strong> at: <a href='https://wandb.ai/darya-dare/Silence-Noise/runs/7h7n3r7d' target=\"_blank\">https://wandb.ai/darya-dare/Silence-Noise/runs/7h7n3r7d</a><br/>Synced 6 W&B file(s), 0 media file(s), 0 artifact file(s) and 0 other file(s)"
      ],
      "text/plain": [
       "<IPython.core.display.HTML object>"
      ]
     },
     "metadata": {},
     "output_type": "display_data"
    },
    {
     "data": {
      "text/html": [
       "Find logs at: <code>./wandb/run-20230801_154757-7h7n3r7d/logs</code>"
      ],
      "text/plain": [
       "<IPython.core.display.HTML object>"
      ]
     },
     "metadata": {},
     "output_type": "display_data"
    }
   ],
   "source": [
    "loss_history, train_history, val_history = train_trial(\n",
    "    model_vgg, train_loader, val_loader, loss, \n",
    "    optimizer, None, num_epochs=50)"
   ]
  },
  {
   "cell_type": "code",
   "execution_count": null,
   "metadata": {},
   "outputs": [],
   "source": []
  },
  {
   "cell_type": "code",
   "execution_count": null,
   "metadata": {},
   "outputs": [],
   "source": []
  }
 ],
 "metadata": {
  "kernelspec": {
   "display_name": "Python 3 (ipykernel)",
   "language": "python",
   "name": "python3"
  },
  "language_info": {
   "codemirror_mode": {
    "name": "ipython",
    "version": 3
   },
   "file_extension": ".py",
   "mimetype": "text/x-python",
   "name": "python",
   "nbconvert_exporter": "python",
   "pygments_lexer": "ipython3",
   "version": "3.10.10"
  }
 },
 "nbformat": 4,
 "nbformat_minor": 4
}
